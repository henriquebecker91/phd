{
 "cells": [
  {
   "cell_type": "code",
   "execution_count": 1,
   "metadata": {
    "scrolled": true
   },
   "outputs": [
    {
     "data": {
      "text/html": [
       "<script>\n",
       "// Immediately-invoked-function-expression to avoid global variables.\n",
       "(function() {\n",
       "    var warning_div = document.getElementById(\"webio-warning-1451584982111981205\");\n",
       "    var hide = function () {\n",
       "        var script = document.getElementById(\"webio-setup-2307205004421446846\");\n",
       "        var parent = script && script.parentElement;\n",
       "        var grandparent = parent && parent.parentElement;\n",
       "        if (grandparent) {\n",
       "            grandparent.style.display = \"none\";\n",
       "        }\n",
       "        warning_div.style.display = \"none\";\n",
       "    };\n",
       "    if (typeof Jupyter !== \"undefined\") {\n",
       "        console.log(\"WebIO detected Jupyter notebook environment.\");\n",
       "        // Jupyter notebook.\n",
       "        var extensions = (\n",
       "            Jupyter\n",
       "            && Jupyter.notebook.config.data\n",
       "            && Jupyter.notebook.config.data.load_extensions\n",
       "        );\n",
       "        if (extensions && extensions[\"webio-jupyter-notebook\"]) {\n",
       "            // Extension already loaded.\n",
       "            console.log(\"Jupyter WebIO nbextension detected; not loading ad-hoc.\");\n",
       "            hide();\n",
       "            return;\n",
       "        }\n",
       "    } else if (window.location.pathname.includes(\"/lab\")) {\n",
       "        // Guessing JupyterLa\n",
       "        console.log(\"Jupyter Lab detected; make sure the @webio/jupyter-lab-provider labextension is installed.\");\n",
       "        hide();\n",
       "        return;\n",
       "    }\n",
       "})();\n",
       "\n",
       "</script>\n",
       "<p\n",
       "    id=\"webio-warning-1451584982111981205\"\n",
       "    class=\"output_text output_stderr\"\n",
       "    style=\"padding: 1em; font-weight: bold;\"\n",
       ">\n",
       "    Unable to load WebIO. Please make sure WebIO works for your Jupyter client.\n",
       "    For troubleshooting, please see <a href=\"https://juliagizmos.github.io/WebIO.jl/latest/providers/ijulia/\">\n",
       "    the WebIO/IJulia documentation</a>.\n",
       "    <!-- TODO: link to installation docs. -->\n",
       "</p>\n"
      ],
      "text/plain": [
       "HTML{String}(\"<script>\\n// Immediately-invoked-function-expression to avoid global variables.\\n(function() {\\n    var warning_div = document.getElementById(\\\"webio-warning-1451584982111981205\\\");\\n    var hide = function () {\\n        var script = document.getElementById(\\\"webio-setup-2307205004421446846\\\");\\n        var parent = script && script.parentElement;\\n        var grandparent = parent && parent.parentElement;\\n        if (grandparent) {\\n            grandparent.style.display = \\\"none\\\";\\n        }\\n        warning_div.style.display = \\\"none\\\";\\n    };\\n    if (typeof Jupyter !== \\\"undefined\\\") {\\n        console.log(\\\"WebIO detected Jupyter notebook environment.\\\");\\n        // Jupyter notebook.\\n        var extensions = (\\n            Jupyter\\n            && Jupyter.notebook.config.data\\n            && Jupyter.notebook.config.data.load_extensions\\n        );\\n        if (extensions && extensions[\\\"webio-jupyter-notebook\\\"]) {\\n            // Extension already loaded.\\n            console.log(\\\"Jupyter WebIO nbextension detected; not loading ad-hoc.\\\");\\n            hide();\\n            return;\\n        }\\n    } else if (window.location.pathname.includes(\\\"/lab\\\")) {\\n        // Guessing JupyterLa\\n        console.log(\\\"Jupyter Lab detected; make sure the @webio/jupyter-lab-provider labextension is installed.\\\");\\n        hide();\\n        return;\\n    }\\n})();\\n\\n</script>\\n<p\\n    id=\\\"webio-warning-1451584982111981205\\\"\\n    class=\\\"output_text output_stderr\\\"\\n    style=\\\"padding: 1em; font-weight: bold;\\\"\\n>\\n    Unable to load WebIO. Please make sure WebIO works for your Jupyter client.\\n    For troubleshooting, please see <a href=\\\"https://juliagizmos.github.io/WebIO.jl/latest/providers/ijulia/\\\">\\n    the WebIO/IJulia documentation</a>.\\n    <!-- TODO: link to installation docs. -->\\n</p>\\n\")"
      ]
     },
     "metadata": {},
     "output_type": "display_data"
    },
    {
     "name": "stderr",
     "output_type": "stream",
     "text": [
      "\u001b[32m\u001b[1m Activating\u001b[22m\u001b[39m environment at `~/Aulas/doutorado/phd/latex/revised_PPG2KP/Project.toml`\n",
      "┌ Info: Installing Jupyter WebIO extension...\n",
      "│   cmd = `\u001b[4m/usr/bin/jupyter\u001b[24m \u001b[4mnbextension\u001b[24m \u001b[4minstall\u001b[24m \u001b[4m--user\u001b[24m \u001b[4m/home/henrique/.julia/packages/WebIO/nTMDV/deps/bundles/webio-jupyter-notebook.js\u001b[24m`\n",
      "└ @ WebIO /home/henrique/.julia/packages/WebIO/nTMDV/deps/jupyter.jl:237\n",
      "Up to date: /home/henrique/.local/share/jupyter/nbextensions/webio-jupyter-notebook.js\n",
      "\n",
      "    To initialize this nbextension in the browser every time the notebook (or other app) loads:\n",
      "    \n",
      "          jupyter nbextension enable <the entry point> --user\n",
      "    \n",
      "┌ Info: Enabling Jupyter WebIO extension...\n",
      "│   cmd = `\u001b[4m/usr/bin/jupyter\u001b[24m \u001b[4mnbextension\u001b[24m \u001b[4menable\u001b[24m \u001b[4m--user\u001b[24m \u001b[4mwebio-jupyter-notebook\u001b[24m`\n",
      "└ @ WebIO /home/henrique/.julia/packages/WebIO/nTMDV/deps/jupyter.jl:241\n",
      "Enabling notebook extension webio-jupyter-notebook...\n",
      "      - Validating: \u001b[32mOK\u001b[0m\n"
     ]
    }
   ],
   "source": [
    "# Ensure your working directory is: https://github.com/henriquebecker91/phd/tree/master/latex/revised_PPG2KP\n",
    "import Pkg\n",
    "Pkg.activate(\".\")\n",
    "Pkg.instantiate()\n",
    "using WebIO\n",
    "WebIO.install_jupyter_nbextension()\n",
    "using DataFrames\n",
    "using DataFramesMeta\n",
    "using Gadfly\n",
    "using IJulia\n",
    "using Weave\n",
    "using CSV\n",
    "using Revise\n",
    "using TableView\n",
    "using Printf\n",
    "using PrettyTables"
   ]
  },
  {
   "cell_type": "code",
   "execution_count": 2,
   "metadata": {},
   "outputs": [],
   "source": [
    "# Read the data, show nothing.\n",
    "lp_method_csv_path = \"./data/lp_method.csv\"\n",
    "lp_method_df = DataFrame(CSV.File(lp_method_csv_path))\n",
    "#showtable(lp_method_df)\n",
    "nothing"
   ]
  },
  {
   "cell_type": "code",
   "execution_count": 3,
   "metadata": {},
   "outputs": [],
   "source": [
    "# Clean the data a little. Try to keep this safe to re-apply to a cleaned dataframe, if possible.\n",
    "lp_method_df = let\n",
    "    # Keep only the instance name (not the path).\n",
    "    @with(lp_method_df, :instance_name .= basename.(:instance_name))\n",
    "    @with(lp_method_df, :datafile .= basename.(:datafile))\n",
    "    # Replace parameter numeric values with more descriptive strings.\n",
    "    lp_method_code2name = Dict{Int, String}(1 => \"simplex\", 2 => \"barrier\")\n",
    "    lp_switch_code2name = Dict{Int, String}(-2 => \"only\", 1 => \"switch\")\n",
    "    if eltype(lp_method_df.lp_method) == Int\n",
    "        lp_method_df.lp_method = getindex.((lp_method_code2name,), lp_method_df.lp_method)\n",
    "    end\n",
    "    if eltype(lp_method_df.lp_method_switch) == Int\n",
    "        lp_method_df.lp_method_switch = getindex.((lp_switch_code2name,), lp_method_df.lp_method_switch)\n",
    "    end\n",
    "    # Change the not-a-number values in final_root_time to zero. They happen  \n",
    "    lp_method_df\n",
    "end\n",
    "nothing"
   ]
  },
  {
   "cell_type": "code",
   "execution_count": 4,
   "metadata": {},
   "outputs": [
    {
     "name": "stdout",
     "output_type": "stream",
     "text": [
      "[:instance_name, :lp_method, :lp_method_switch, :pricing_method, :restricted_root_time, :final_root_time, :build_and_solve_time, :total_instance_time, :final_pricing_time, :iterated_pricing_time, :restricted_pricing_time, :total_pricing_time, :finished, :datafile]\n"
     ]
    },
    {
     "data": {
      "application/vnd.webio.node+json": {
       "children": [
        {
         "children": [
          {
           "children": [
            ""
           ],
           "instanceArgs": {
            "namespace": "html",
            "tag": "div"
           },
           "nodeType": "DOM",
           "props": {
            "style": {
             "background-color": "#F5F7F7",
             "color": "#1c1f20",
             "font-family": "-apple-system, BlinkMacSystemFont, \"Segoe UI\", Roboto, Oxygen-Sans, Ubuntu, Cantarell, \"Helvetica Neue\", sans-serif",
             "height": "0",
             "padding": "0"
            }
           },
           "type": "node"
          },
          {
           "children": [],
           "instanceArgs": {
            "namespace": "html",
            "tag": "div"
           },
           "nodeType": "DOM",
           "props": {
            "className": "ag-theme-balham",
            "id": "grid-0f3a79de",
            "style": {
             "height": "500px",
             "width": "100%"
            }
           },
           "type": "node"
          }
         ],
         "instanceArgs": {
          "namespace": "html",
          "tag": "div"
         },
         "nodeType": "DOM",
         "props": {},
         "type": "node"
        }
       ],
       "instanceArgs": {
        "handlers": {},
        "id": "4350808324289968833",
        "imports": {
         "data": [
          {
           "name": null,
           "type": "js",
           "url": "/assetserver/0590277e57f9dce38c944f556c3d3f3537505baf-rowNumberRenderer.js"
          },
          {
           "name": null,
           "type": "js",
           "url": "/assetserver/4c1301a0647c04ca15698ec91c7948d0d808ae4e-ag-grid.js"
          },
          {
           "name": null,
           "type": "css",
           "url": "/assetserver/2fc78d8695c17bdfaf311ef6969766c669cc3259-ag-grid.css"
          },
          {
           "name": null,
           "type": "css",
           "url": "/assetserver/5fc5fa256baa60ef6cfb2f781fbe8b1e3528c443-ag-grid-light.css"
          },
          {
           "name": null,
           "type": "css",
           "url": "/assetserver/885a5d8cdc6d7b90593d781d742de9279d70e324-ag-grid-dark.css"
          }
         ],
         "type": "async_block"
        },
        "mount_callbacks": [
         "function () {\n    var handler = ((function (RowNumberRenderer,agGrid){var gridOptions={\"onCellFocused\":(function (ev){var x={}; (ev.rowIndex!==undefined) ? (x[\"rowIndex\"]=(ev.rowIndex+1)) : undefined; (ev.colDef!==undefined) ? (x[\"column\"]=ev.colDef.headerName) : undefined; return WebIO.setval({\"name\":\"onCellFocused\",\"scope\":\"4350808324289968833\",\"id\":\"ob_04\",\"type\":\"observable\"},x)}),\"onCellValueChanged\":(function (){return }),\"onCellDoubleClicked\":(function (ev){var x={}; (ev.rowIndex!==undefined) ? (x[\"rowIndex\"]=(ev.rowIndex+1)) : undefined; (ev.colDef!==undefined) ? (x[\"column\"]=ev.colDef.headerName) : undefined; return WebIO.setval({\"name\":\"onCellDoubleClicked\",\"scope\":\"4350808324289968833\",\"id\":\"ob_02\",\"type\":\"observable\"},x)}),\"multiSortKey\":\"ctrl\",\"columnDefs\":[{\"filter\":false,\"editable\":false,\"headerTooltip\":\"\",\"field\":\"__row__\",\"headerName\":\"Row\",\"sortable\":true,\"type\":\"numericColumn\",\"cellRenderer\":\"rowNumberRenderer\",\"resizable\":true},{\"filter\":true,\"editable\":false,\"headerTooltip\":\"String\",\"field\":\"instance_name\",\"headerName\":\"instance_name\",\"sortable\":true,\"type\":null,\"resizable\":true},{\"filter\":true,\"editable\":false,\"headerTooltip\":\"String\",\"field\":\"lp_method\",\"headerName\":\"lp_method\",\"sortable\":true,\"type\":null,\"resizable\":true},{\"filter\":true,\"editable\":false,\"headerTooltip\":\"String\",\"field\":\"lp_method_switch\",\"headerName\":\"lp_method_switch\",\"sortable\":true,\"type\":null,\"resizable\":true},{\"filter\":true,\"editable\":false,\"headerTooltip\":\"String\",\"field\":\"pricing_method\",\"headerName\":\"pricing_method\",\"sortable\":true,\"type\":null,\"resizable\":true},{\"filter\":\"agNumberColumnFilter\",\"editable\":false,\"headerTooltip\":\"Float64\",\"field\":\"restricted_root_time\",\"headerName\":\"restricted_root_time\",\"sortable\":true,\"type\":\"numericColumn\",\"resizable\":true},{\"filter\":\"agNumberColumnFilter\",\"editable\":false,\"headerTooltip\":\"Float64\",\"field\":\"final_root_time\",\"headerName\":\"final_root_time\",\"sortable\":true,\"type\":\"numericColumn\",\"resizable\":true},{\"filter\":\"agNumberColumnFilter\",\"editable\":false,\"headerTooltip\":\"Float64\",\"field\":\"build_and_solve_time\",\"headerName\":\"build_and_solve_time\",\"sortable\":true,\"type\":\"numericColumn\",\"resizable\":true},{\"filter\":\"agNumberColumnFilter\",\"editable\":false,\"headerTooltip\":\"Float64\",\"field\":\"total_instance_time\",\"headerName\":\"total_instance_time\",\"sortable\":true,\"type\":\"numericColumn\",\"resizable\":true},{\"filter\":\"agNumberColumnFilter\",\"editable\":false,\"headerTooltip\":\"Float64\",\"field\":\"final_pricing_time\",\"headerName\":\"final_pricing_time\",\"sortable\":true,\"type\":\"numericColumn\",\"resizable\":true},{\"filter\":\"agNumberColumnFilter\",\"editable\":false,\"headerTooltip\":\"Float64\",\"field\":\"iterated_pricing_time\",\"headerName\":\"iterated_pricing_time\",\"sortable\":true,\"type\":\"numericColumn\",\"resizable\":true},{\"filter\":\"agNumberColumnFilter\",\"editable\":false,\"headerTooltip\":\"Float64\",\"field\":\"restricted_pricing_time\",\"headerName\":\"restricted_pricing_time\",\"sortable\":true,\"type\":\"numericColumn\",\"resizable\":true},{\"filter\":\"agNumberColumnFilter\",\"editable\":false,\"headerTooltip\":\"Float64\",\"field\":\"total_pricing_time\",\"headerName\":\"total_pricing_time\",\"sortable\":true,\"type\":\"numericColumn\",\"resizable\":true},{\"filter\":\"agNumberColumnFilter\",\"editable\":false,\"headerTooltip\":\"Bool\",\"field\":\"finished\",\"headerName\":\"finished\",\"sortable\":true,\"type\":\"numericColumn\",\"resizable\":true},{\"filter\":true,\"editable\":false,\"headerTooltip\":\"String\",\"field\":\"datafile\",\"headerName\":\"datafile\",\"sortable\":true,\"type\":null,\"resizable\":true}],\"onRowClicked\":(function (ev){var x={}; (ev.rowIndex!==undefined) ? (x[\"rowIndex\"]=(ev.rowIndex+1)) : undefined; (ev.colDef!==undefined) ? (x[\"column\"]=ev.colDef.headerName) : undefined; return WebIO.setval({\"name\":\"onRowClicked\",\"scope\":\"4350808324289968833\",\"id\":\"ob_03\",\"type\":\"observable\"},x)}),\"onCellKeyDown\":(function (ev){var x={}; (ev.rowIndex!==undefined) ? (x[\"rowIndex\"]=(ev.rowIndex+1)) : undefined; (ev.colDef!==undefined) ? (x[\"column\"]=ev.colDef.headerName) : undefined; return WebIO.setval({\"name\":\"onCellKeyDown\",\"scope\":\"4350808324289968833\",\"id\":\"ob_05\",\"type\":\"observable\"},x)}),\"rowData\":[{\"instance_name\":\"okp5\",\"lp_method\":\"barrier\",\"lp_method_switch\":\"only\",\"pricing_method\":\"none\",\"restricted_root_time\":\"NaN\",\"final_root_time\":67.48,\"build_and_solve_time\":81.63336110115051,\"total_instance_time\":81.866979826,\"final_pricing_time\":\"NaN\",\"iterated_pricing_time\":\"NaN\",\"restricted_pricing_time\":\"NaN\",\"total_pricing_time\":\"NaN\",\"finished\":true,\"datafile\":\"jl_1K6VVe\"},{\"instance_name\":\"STS4\",\"lp_method\":\"barrier\",\"lp_method_switch\":\"switch\",\"pricing_method\":\"furini\",\"restricted_root_time\":19.02,\"final_root_time\":0.53,\"build_and_solve_time\":97.23640704154968,\"total_instance_time\":97.243934477,\"final_pricing_time\":0.67294279,\"iterated_pricing_time\":59.682019119,\"restricted_pricing_time\":35.018324066000005,\"total_pricing_time\":95.427058086,\"finished\":true,\"datafile\":\"jl_2IXqgf\"},{\"instance_name\":\"okp1\",\"lp_method\":\"simplex\",\"lp_method_switch\":\"only\",\"pricing_method\":\"furini\",\"restricted_root_time\":13.47,\"final_root_time\":1.22,\"build_and_solve_time\":54.78092098236084,\"total_instance_time\":54.803795417,\"final_pricing_time\":0.5962882300000001,\"iterated_pricing_time\":19.118948867,\"restricted_pricing_time\":31.266999062000004,\"total_pricing_time\":51.110226212,\"finished\":true,\"datafile\":\"jl_34hN2d\"},{\"instance_name\":\"STS4\",\"lp_method\":\"barrier\",\"lp_method_switch\":\"only\",\"pricing_method\":\"furini\",\"restricted_root_time\":8.05,\"final_root_time\":\"NaN\",\"build_and_solve_time\":\"NaN\",\"total_instance_time\":\"NaN\",\"final_pricing_time\":\"NaN\",\"iterated_pricing_time\":\"NaN\",\"restricted_pricing_time\":20.110524515,\"total_pricing_time\":\"NaN\",\"finished\":false,\"datafile\":\"jl_60Oond\"},{\"instance_name\":\"CU1\",\"lp_method\":\"barrier\",\"lp_method_switch\":\"switch\",\"pricing_method\":\"furini\",\"restricted_root_time\":0.01,\"final_root_time\":0.0,\"build_and_solve_time\":77.96736001968384,\"total_instance_time\":77.968223289,\"final_pricing_time\":0.466175243,\"iterated_pricing_time\":73.523568208,\"restricted_pricing_time\":3.0075112390000003,\"total_pricing_time\":77.013286179,\"finished\":true,\"datafile\":\"jl_63MpMg\"},{\"instance_name\":\"STS4s\",\"lp_method\":\"simplex\",\"lp_method_switch\":\"only\",\"pricing_method\":\"none\",\"restricted_root_time\":\"NaN\",\"final_root_time\":132.95,\"build_and_solve_time\":139.07853603363037,\"total_instance_time\":139.399420118,\"final_pricing_time\":\"NaN\",\"iterated_pricing_time\":\"NaN\",\"restricted_pricing_time\":\"NaN\",\"total_pricing_time\":\"NaN\",\"finished\":true,\"datafile\":\"jl_6Z6MDc\"},{\"instance_name\":\"A5\",\"lp_method\":\"simplex\",\"lp_method_switch\":\"only\",\"pricing_method\":\"furini\",\"restricted_root_time\":26.32,\"final_root_time\":34.54,\"build_and_solve_time\":296.41612005233765,\"total_instance_time\":296.489144629,\"final_pricing_time\":1.6159454210000002,\"iterated_pricing_time\":186.02735452800002,\"restricted_pricing_time\":63.469719778000005,\"total_pricing_time\":251.30753167300003,\"finished\":true,\"datafile\":\"jl_7fHIZG\"},{\"instance_name\":\"A5\",\"lp_method\":\"barrier\",\"lp_method_switch\":\"only\",\"pricing_method\":\"none\",\"restricted_root_time\":\"NaN\",\"final_root_time\":122.32,\"build_and_solve_time\":259.7174708843231,\"total_instance_time\":260.131248918,\"final_pricing_time\":\"NaN\",\"iterated_pricing_time\":\"NaN\",\"restricted_pricing_time\":\"NaN\",\"total_pricing_time\":\"NaN\",\"finished\":true,\"datafile\":\"jl_7futhJ\"},{\"instance_name\":\"CU1\",\"lp_method\":\"barrier\",\"lp_method_switch\":\"only\",\"pricing_method\":\"none\",\"restricted_root_time\":\"NaN\",\"final_root_time\":24.5,\"build_and_solve_time\":26.04724097251892,\"total_instance_time\":26.205211373,\"final_pricing_time\":\"NaN\",\"iterated_pricing_time\":\"NaN\",\"restricted_pricing_time\":\"NaN\",\"total_pricing_time\":\"NaN\",\"finished\":true,\"datafile\":\"jl_83ry2e\"},{\"instance_name\":\"gcut9\",\"lp_method\":\"barrier\",\"lp_method_switch\":\"only\",\"pricing_method\":\"furini\",\"restricted_root_time\":0.43,\"final_root_time\":2.08,\"build_and_solve_time\":2958.120416879654,\"total_instance_time\":2958.143454547,\"final_pricing_time\":0.608954989,\"iterated_pricing_time\":2952.096695267,\"restricted_pricing_time\":1.45486665,\"total_pricing_time\":2954.2928370460004,\"finished\":true,\"datafile\":\"jl_JKCz0e\"},{\"instance_name\":\"okp4\",\"lp_method\":\"barrier\",\"lp_method_switch\":\"only\",\"pricing_method\":\"furini\",\"restricted_root_time\":77.52,\"final_root_time\":\"NaN\",\"build_and_solve_time\":\"NaN\",\"total_instance_time\":\"NaN\",\"final_pricing_time\":\"NaN\",\"iterated_pricing_time\":\"NaN\",\"restricted_pricing_time\":148.83753199400002,\"total_pricing_time\":\"NaN\",\"finished\":false,\"datafile\":\"jl_K2pAtg\"},{\"instance_name\":\"STS4\",\"lp_method\":\"barrier\",\"lp_method_switch\":\"only\",\"pricing_method\":\"none\",\"restricted_root_time\":\"NaN\",\"final_root_time\":44.78,\"build_and_solve_time\":58.81835603713989,\"total_instance_time\":59.019811323,\"final_pricing_time\":\"NaN\",\"iterated_pricing_time\":\"NaN\",\"restricted_pricing_time\":\"NaN\",\"total_pricing_time\":\"NaN\",\"finished\":true,\"datafile\":\"jl_PGXXvg\"},{\"instance_name\":\"okp4\",\"lp_method\":\"barrier\",\"lp_method_switch\":\"switch\",\"pricing_method\":\"furini\",\"restricted_root_time\":57.34,\"final_root_time\":0.08,\"build_and_solve_time\":219.4500880241394,\"total_instance_time\":219.452517589,\"final_pricing_time\":0.559741033,\"iterated_pricing_time\":75.896876184,\"restricted_pricing_time\":141.81748354500002,\"total_pricing_time\":218.308601879,\"finished\":true,\"datafile\":\"jl_PjCByc\"},{\"instance_name\":\"CU1\",\"lp_method\":\"simplex\",\"lp_method_switch\":\"only\",\"pricing_method\":\"furini\",\"restricted_root_time\":0.02,\"final_root_time\":0.0,\"build_and_solve_time\":83.15805697441101,\"total_instance_time\":83.158991638,\"final_pricing_time\":0.49642613500000005,\"iterated_pricing_time\":78.514196291,\"restricted_pricing_time\":3.131369089,\"total_pricing_time\":82.159259562,\"finished\":true,\"datafile\":\"jl_PnAH4g\"},{\"instance_name\":\"STS4\",\"lp_method\":\"simplex\",\"lp_method_switch\":\"only\",\"pricing_method\":\"none\",\"restricted_root_time\":\"NaN\",\"final_root_time\":120.36,\"build_and_solve_time\":131.79284811019897,\"total_instance_time\":132.012471442,\"final_pricing_time\":\"NaN\",\"iterated_pricing_time\":\"NaN\",\"restricted_pricing_time\":\"NaN\",\"total_pricing_time\":\"NaN\",\"finished\":true,\"datafile\":\"jl_Q8j4Mg\"},{\"instance_name\":\"okp1\",\"lp_method\":\"barrier\",\"lp_method_switch\":\"switch\",\"pricing_method\":\"furini\",\"restricted_root_time\":12.79,\"final_root_time\":0.87,\"build_and_solve_time\":53.72082495689392,\"total_instance_time\":53.754857833,\"final_pricing_time\":0.552366156,\"iterated_pricing_time\":17.990774878,\"restricted_pricing_time\":29.692220711,\"total_pricing_time\":48.373948639000005,\"finished\":true,\"datafile\":\"jl_RZQ9Vg\"},{\"instance_name\":\"okp1\",\"lp_method\":\"barrier\",\"lp_method_switch\":\"only\",\"pricing_method\":\"none\",\"restricted_root_time\":\"NaN\",\"final_root_time\":24.31,\"build_and_solve_time\":37.10814094543457,\"total_instance_time\":37.252553932,\"final_pricing_time\":\"NaN\",\"iterated_pricing_time\":\"NaN\",\"restricted_pricing_time\":\"NaN\",\"total_pricing_time\":\"NaN\",\"finished\":true,\"datafile\":\"jl_TFXAve\"},{\"instance_name\":\"A5\",\"lp_method\":\"barrier\",\"lp_method_switch\":\"only\",\"pricing_method\":\"furini\",\"restricted_root_time\":16.08,\"final_root_time\":\"NaN\",\"build_and_solve_time\":\"NaN\",\"total_instance_time\":\"NaN\",\"final_pricing_time\":\"NaN\",\"iterated_pricing_time\":\"NaN\",\"restricted_pricing_time\":40.454124651,\"total_pricing_time\":\"NaN\",\"finished\":false,\"datafile\":\"jl_UXpmeI\"},{\"instance_name\":\"CU1\",\"lp_method\":\"simplex\",\"lp_method_switch\":\"only\",\"pricing_method\":\"none\",\"restricted_root_time\":\"NaN\",\"final_root_time\":38.9,\"build_and_solve_time\":41.38890504837036,\"total_instance_time\":41.559736888,\"final_pricing_time\":\"NaN\",\"iterated_pricing_time\":\"NaN\",\"restricted_pricing_time\":\"NaN\",\"total_pricing_time\":\"NaN\",\"finished\":true,\"datafile\":\"jl_XOraHd\"},{\"instance_name\":\"gcut9\",\"lp_method\":\"simplex\",\"lp_method_switch\":\"only\",\"pricing_method\":\"furini\",\"restricted_root_time\":0.01,\"final_root_time\":0.29,\"build_and_solve_time\":21.338239908218384,\"total_instance_time\":21.347778379,\"final_pricing_time\":0.790987717,\"iterated_pricing_time\":16.069484401,\"restricted_pricing_time\":1.623962197,\"total_pricing_time\":18.691565584000003,\"finished\":true,\"datafile\":\"jl_XZ3pTe\"},{\"instance_name\":\"okp5\",\"lp_method\":\"simplex\",\"lp_method_switch\":\"only\",\"pricing_method\":\"furini\",\"restricted_root_time\":87.01,\"final_root_time\":0.02,\"build_and_solve_time\":439.6897430419922,\"total_instance_time\":439.695742099,\"final_pricing_time\":0.8645583160000001,\"iterated_pricing_time\":245.830847067,\"restricted_pricing_time\":191.50711463500002,\"total_pricing_time\":438.27373937500005,\"finished\":true,\"datafile\":\"jl_XhYjBf\"},{\"instance_name\":\"okp5\",\"lp_method\":\"barrier\",\"lp_method_switch\":\"only\",\"pricing_method\":\"furini\",\"restricted_root_time\":43.97,\"final_root_time\":\"NaN\",\"build_and_solve_time\":\"NaN\",\"total_instance_time\":\"NaN\",\"final_pricing_time\":\"NaN\",\"iterated_pricing_time\":\"NaN\",\"restricted_pricing_time\":90.878244769,\"total_pricing_time\":\"NaN\",\"finished\":false,\"datafile\":\"jl_Y5Zghf\"},{\"instance_name\":\"CU1\",\"lp_method\":\"barrier\",\"lp_method_switch\":\"only\",\"pricing_method\":\"furini\",\"restricted_root_time\":0.63,\"final_root_time\":0.0,\"build_and_solve_time\":3130.7250089645386,\"total_instance_time\":3130.726005667,\"final_pricing_time\":0.48618548,\"iterated_pricing_time\":3126.0051824,\"restricted_pricing_time\":3.260951513,\"total_pricing_time\":3129.776960603,\"finished\":true,\"datafile\":\"jl_agMjtg\"},{\"instance_name\":\"A5\",\"lp_method\":\"simplex\",\"lp_method_switch\":\"only\",\"pricing_method\":\"none\",\"restricted_root_time\":\"NaN\",\"final_root_time\":434.45,\"build_and_solve_time\":488.50833201408386,\"total_instance_time\":488.969924985,\"final_pricing_time\":\"NaN\",\"iterated_pricing_time\":\"NaN\",\"restricted_pricing_time\":\"NaN\",\"total_pricing_time\":\"NaN\",\"finished\":true,\"datafile\":\"jl_dUfmII\"},{\"instance_name\":\"okp1\",\"lp_method\":\"barrier\",\"lp_method_switch\":\"only\",\"pricing_method\":\"furini\",\"restricted_root_time\":15.97,\"final_root_time\":\"NaN\",\"build_and_solve_time\":\"NaN\",\"total_instance_time\":\"NaN\",\"final_pricing_time\":\"NaN\",\"iterated_pricing_time\":\"NaN\",\"restricted_pricing_time\":40.159267296,\"total_pricing_time\":\"NaN\",\"finished\":false,\"datafile\":\"jl_fv3uCe\"},{\"instance_name\":\"STS4s\",\"lp_method\":\"barrier\",\"lp_method_switch\":\"only\",\"pricing_method\":\"furini\",\"restricted_root_time\":7.91,\"final_root_time\":\"NaN\",\"build_and_solve_time\":\"NaN\",\"total_instance_time\":\"NaN\",\"final_pricing_time\":\"NaN\",\"iterated_pricing_time\":\"NaN\",\"restricted_pricing_time\":19.281534637,\"total_pricing_time\":\"NaN\",\"finished\":false,\"datafile\":\"jl_gSdxJc\"},{\"instance_name\":\"gcut9\",\"lp_method\":\"barrier\",\"lp_method_switch\":\"switch\",\"pricing_method\":\"furini\",\"restricted_root_time\":0.01,\"final_root_time\":0.74,\"build_and_solve_time\":18.087675094604492,\"total_instance_time\":18.096798787,\"final_pricing_time\":0.6466350350000001,\"iterated_pricing_time\":13.524293625,\"restricted_pricing_time\":1.533558417,\"total_pricing_time\":15.889065446000002,\"finished\":true,\"datafile\":\"jl_h1B3Ag\"},{\"instance_name\":\"gcut9\",\"lp_method\":\"barrier\",\"lp_method_switch\":\"only\",\"pricing_method\":\"none\",\"restricted_root_time\":\"NaN\",\"final_root_time\":42.6,\"build_and_solve_time\":51.6284818649292,\"total_instance_time\":51.814342033,\"final_pricing_time\":\"NaN\",\"iterated_pricing_time\":\"NaN\",\"restricted_pricing_time\":\"NaN\",\"total_pricing_time\":\"NaN\",\"finished\":true,\"datafile\":\"jl_hnnMZg\"},{\"instance_name\":\"okp4\",\"lp_method\":\"barrier\",\"lp_method_switch\":\"only\",\"pricing_method\":\"none\",\"restricted_root_time\":\"NaN\",\"final_root_time\":75.66,\"build_and_solve_time\":82.43107914924622,\"total_instance_time\":82.608981685,\"final_pricing_time\":\"NaN\",\"iterated_pricing_time\":\"NaN\",\"restricted_pricing_time\":\"NaN\",\"total_pricing_time\":\"NaN\",\"finished\":true,\"datafile\":\"jl_i9jllf\"},{\"instance_name\":\"okp5\",\"lp_method\":\"simplex\",\"lp_method_switch\":\"only\",\"pricing_method\":\"none\",\"restricted_root_time\":\"NaN\",\"final_root_time\":264.11,\"build_and_solve_time\":319.0115897655487,\"total_instance_time\":319.24853378,\"final_pricing_time\":\"NaN\",\"iterated_pricing_time\":\"NaN\",\"restricted_pricing_time\":\"NaN\",\"total_pricing_time\":\"NaN\",\"finished\":true,\"datafile\":\"jl_iLEnig\"},{\"instance_name\":\"STS4s\",\"lp_method\":\"simplex\",\"lp_method_switch\":\"only\",\"pricing_method\":\"furini\",\"restricted_root_time\":16.83,\"final_root_time\":0.0,\"build_and_solve_time\":110.62064695358276,\"total_instance_time\":110.622899546,\"final_pricing_time\":0.647201142,\"iterated_pricing_time\":67.453341604,\"restricted_pricing_time\":41.13986018,\"total_pricing_time\":109.267101283,\"finished\":true,\"datafile\":\"jl_lOoVOf\"},{\"instance_name\":\"STS4s\",\"lp_method\":\"barrier\",\"lp_method_switch\":\"switch\",\"pricing_method\":\"furini\",\"restricted_root_time\":15.56,\"final_root_time\":0.0,\"build_and_solve_time\":101.67762303352356,\"total_instance_time\":101.679829014,\"final_pricing_time\":0.6361518500000001,\"iterated_pricing_time\":61.914525960000006,\"restricted_pricing_time\":37.800186319000005,\"total_pricing_time\":100.376524472,\"finished\":true,\"datafile\":\"jl_m4tKLf\"},{\"instance_name\":\"okp4\",\"lp_method\":\"simplex\",\"lp_method_switch\":\"only\",\"pricing_method\":\"none\",\"restricted_root_time\":\"NaN\",\"final_root_time\":139.75,\"build_and_solve_time\":152.11415600776672,\"total_instance_time\":152.274576987,\"final_pricing_time\":\"NaN\",\"iterated_pricing_time\":\"NaN\",\"restricted_pricing_time\":\"NaN\",\"total_pricing_time\":\"NaN\",\"finished\":true,\"datafile\":\"jl_m4uKwc\"},{\"instance_name\":\"STS4\",\"lp_method\":\"simplex\",\"lp_method_switch\":\"only\",\"pricing_method\":\"furini\",\"restricted_root_time\":21.26,\"final_root_time\":0.32,\"build_and_solve_time\":106.7533130645752,\"total_instance_time\":106.761000566,\"final_pricing_time\":0.737674296,\"iterated_pricing_time\":65.602615333,\"restricted_pricing_time\":38.536990483000004,\"total_pricing_time\":104.93807025800001,\"finished\":true,\"datafile\":\"jl_pGyXuf\"},{\"instance_name\":\"gcut9\",\"lp_method\":\"simplex\",\"lp_method_switch\":\"only\",\"pricing_method\":\"none\",\"restricted_root_time\":\"NaN\",\"final_root_time\":205.28,\"build_and_solve_time\":253.4776451587677,\"total_instance_time\":253.672820233,\"final_pricing_time\":\"NaN\",\"iterated_pricing_time\":\"NaN\",\"restricted_pricing_time\":\"NaN\",\"total_pricing_time\":\"NaN\",\"finished\":true,\"datafile\":\"jl_q6LgQe\"},{\"instance_name\":\"okp1\",\"lp_method\":\"simplex\",\"lp_method_switch\":\"only\",\"pricing_method\":\"none\",\"restricted_root_time\":\"NaN\",\"final_root_time\":62.01,\"build_and_solve_time\":71.76519393920898,\"total_instance_time\":71.947082035,\"final_pricing_time\":\"NaN\",\"iterated_pricing_time\":\"NaN\",\"restricted_pricing_time\":\"NaN\",\"total_pricing_time\":\"NaN\",\"finished\":true,\"datafile\":\"jl_r0cTQe\"},{\"instance_name\":\"STS4s\",\"lp_method\":\"barrier\",\"lp_method_switch\":\"only\",\"pricing_method\":\"none\",\"restricted_root_time\":\"NaN\",\"final_root_time\":42.22,\"build_and_solve_time\":49.41793990135193,\"total_instance_time\":49.613297357,\"final_pricing_time\":\"NaN\",\"iterated_pricing_time\":\"NaN\",\"restricted_pricing_time\":\"NaN\",\"total_pricing_time\":\"NaN\",\"finished\":true,\"datafile\":\"jl_sU0xSf\"},{\"instance_name\":\"A5\",\"lp_method\":\"barrier\",\"lp_method_switch\":\"switch\",\"pricing_method\":\"furini\",\"restricted_root_time\":23.64,\"final_root_time\":21.44,\"build_and_solve_time\":260.5032629966736,\"total_instance_time\":260.573072126,\"final_pricing_time\":1.482969251,\"iterated_pricing_time\":168.57567028100001,\"restricted_pricing_time\":57.590112439,\"total_pricing_time\":227.84336852200002,\"finished\":true,\"datafile\":\"jl_vzwrkK\"},{\"instance_name\":\"okp5\",\"lp_method\":\"barrier\",\"lp_method_switch\":\"switch\",\"pricing_method\":\"furini\",\"restricted_root_time\":81.87,\"final_root_time\":0.09,\"build_and_solve_time\":414.4075779914856,\"total_instance_time\":414.410032608,\"final_pricing_time\":0.8263597960000001,\"iterated_pricing_time\":232.079308604,\"restricted_pricing_time\":180.023592154,\"total_pricing_time\":412.998264065,\"finished\":true,\"datafile\":\"jl_wSIcmf\"},{\"instance_name\":\"okp4\",\"lp_method\":\"simplex\",\"lp_method_switch\":\"only\",\"pricing_method\":\"furini\",\"restricted_root_time\":61.3,\"final_root_time\":0.01,\"build_and_solve_time\":231.17898893356323,\"total_instance_time\":231.181829671,\"final_pricing_time\":0.601121715,\"iterated_pricing_time\":79.735008707,\"restricted_pricing_time\":149.662026685,\"total_pricing_time\":230.03435190300002,\"finished\":true,\"datafile\":\"jl_yxJXgg\"}],\"onCellClicked\":(function (ev){var x={}; (ev.rowIndex!==undefined) ? (x[\"rowIndex\"]=(ev.rowIndex+1)) : undefined; (ev.colDef!==undefined) ? (x[\"column\"]=ev.colDef.headerName) : undefined; return WebIO.setval({\"name\":\"onCellClicked\",\"scope\":\"4350808324289968833\",\"id\":\"ob_01\",\"type\":\"observable\"},x)})}; var el=document.getElementById(\"grid-0f3a79de\"); gridOptions.components={\"rowNumberRenderer\":RowNumberRenderer}; this.table=new agGrid.Grid(el,gridOptions); gridOptions.columnApi.autoSizeColumn(\"__row__\"); return gridOptions.columnApi.autoSizeColumns([\"instance_name\",\"lp_method\",\"lp_method_switch\",\"pricing_method\",\"restricted_root_time\",\"final_root_time\",\"build_and_solve_time\",\"total_instance_time\",\"final_pricing_time\",\"iterated_pricing_time\",\"restricted_pricing_time\",\"total_pricing_time\",\"finished\",\"datafile\"])}));\n    (WebIO.importBlock({\"data\":[{\"name\":null,\"type\":\"js\",\"url\":\"/assetserver/0590277e57f9dce38c944f556c3d3f3537505baf-rowNumberRenderer.js\"},{\"name\":null,\"type\":\"js\",\"url\":\"/assetserver/4c1301a0647c04ca15698ec91c7948d0d808ae4e-ag-grid.js\"},{\"name\":null,\"type\":\"css\",\"url\":\"/assetserver/2fc78d8695c17bdfaf311ef6969766c669cc3259-ag-grid.css\"},{\"name\":null,\"type\":\"css\",\"url\":\"/assetserver/5fc5fa256baa60ef6cfb2f781fbe8b1e3528c443-ag-grid-light.css\"},{\"name\":null,\"type\":\"css\",\"url\":\"/assetserver/885a5d8cdc6d7b90593d781d742de9279d70e324-ag-grid-dark.css\"}],\"type\":\"async_block\"})).then((imports) => handler.apply(this, imports));\n}\n"
        ],
        "observables": {
         "onCellClicked": {
          "id": "ob_01",
          "sync": false,
          "value": null
         },
         "onCellDoubleClicked": {
          "id": "ob_02",
          "sync": false,
          "value": null
         },
         "onCellFocused": {
          "id": "ob_04",
          "sync": false,
          "value": null
         },
         "onCellKeyDown": {
          "id": "ob_05",
          "sync": false,
          "value": null
         },
         "onRowClicked": {
          "id": "ob_03",
          "sync": false,
          "value": null
         }
        },
        "systemjs_options": null
       },
       "nodeType": "Scope",
       "props": {},
       "type": "node"
      },
      "text/html": [
       "<div\n",
       "    class=\"webio-mountpoint\"\n",
       "    data-webio-mountpoint=\"11403388904858628288\"\n",
       ">\n",
       "    <script>\n",
       "    if (window.require && require.defined && require.defined(\"nbextensions/webio-jupyter-notebook\")) {\n",
       "        console.log(\"Jupyter WebIO extension detected, not mounting.\");\n",
       "    } else if (window.WebIO) {\n",
       "        WebIO.mount(\n",
       "            document.querySelector('[data-webio-mountpoint=\"11403388904858628288\"]'),\n",
       "            {\"props\":{},\"nodeType\":\"Scope\",\"type\":\"node\",\"instanceArgs\":{\"imports\":{\"data\":[{\"name\":null,\"type\":\"js\",\"url\":\"\\/assetserver\\/0590277e57f9dce38c944f556c3d3f3537505baf-rowNumberRenderer.js\"},{\"name\":null,\"type\":\"js\",\"url\":\"\\/assetserver\\/4c1301a0647c04ca15698ec91c7948d0d808ae4e-ag-grid.js\"},{\"name\":null,\"type\":\"css\",\"url\":\"\\/assetserver\\/2fc78d8695c17bdfaf311ef6969766c669cc3259-ag-grid.css\"},{\"name\":null,\"type\":\"css\",\"url\":\"\\/assetserver\\/5fc5fa256baa60ef6cfb2f781fbe8b1e3528c443-ag-grid-light.css\"},{\"name\":null,\"type\":\"css\",\"url\":\"\\/assetserver\\/885a5d8cdc6d7b90593d781d742de9279d70e324-ag-grid-dark.css\"}],\"type\":\"async_block\"},\"id\":\"4350808324289968833\",\"handlers\":{},\"systemjs_options\":null,\"mount_callbacks\":[\"function () {\\n    var handler = ((function (RowNumberRenderer,agGrid){var gridOptions={\\\"onCellFocused\\\":(function (ev){var x={}; (ev.rowIndex!==undefined) ? (x[\\\"rowIndex\\\"]=(ev.rowIndex+1)) : undefined; (ev.colDef!==undefined) ? (x[\\\"column\\\"]=ev.colDef.headerName) : undefined; return WebIO.setval({\\\"name\\\":\\\"onCellFocused\\\",\\\"scope\\\":\\\"4350808324289968833\\\",\\\"id\\\":\\\"ob_04\\\",\\\"type\\\":\\\"observable\\\"},x)}),\\\"onCellValueChanged\\\":(function (){return }),\\\"onCellDoubleClicked\\\":(function (ev){var x={}; (ev.rowIndex!==undefined) ? (x[\\\"rowIndex\\\"]=(ev.rowIndex+1)) : undefined; (ev.colDef!==undefined) ? (x[\\\"column\\\"]=ev.colDef.headerName) : undefined; return WebIO.setval({\\\"name\\\":\\\"onCellDoubleClicked\\\",\\\"scope\\\":\\\"4350808324289968833\\\",\\\"id\\\":\\\"ob_02\\\",\\\"type\\\":\\\"observable\\\"},x)}),\\\"multiSortKey\\\":\\\"ctrl\\\",\\\"columnDefs\\\":[{\\\"filter\\\":false,\\\"editable\\\":false,\\\"headerTooltip\\\":\\\"\\\",\\\"field\\\":\\\"__row__\\\",\\\"headerName\\\":\\\"Row\\\",\\\"sortable\\\":true,\\\"type\\\":\\\"numericColumn\\\",\\\"cellRenderer\\\":\\\"rowNumberRenderer\\\",\\\"resizable\\\":true},{\\\"filter\\\":true,\\\"editable\\\":false,\\\"headerTooltip\\\":\\\"String\\\",\\\"field\\\":\\\"instance_name\\\",\\\"headerName\\\":\\\"instance_name\\\",\\\"sortable\\\":true,\\\"type\\\":null,\\\"resizable\\\":true},{\\\"filter\\\":true,\\\"editable\\\":false,\\\"headerTooltip\\\":\\\"String\\\",\\\"field\\\":\\\"lp_method\\\",\\\"headerName\\\":\\\"lp_method\\\",\\\"sortable\\\":true,\\\"type\\\":null,\\\"resizable\\\":true},{\\\"filter\\\":true,\\\"editable\\\":false,\\\"headerTooltip\\\":\\\"String\\\",\\\"field\\\":\\\"lp_method_switch\\\",\\\"headerName\\\":\\\"lp_method_switch\\\",\\\"sortable\\\":true,\\\"type\\\":null,\\\"resizable\\\":true},{\\\"filter\\\":true,\\\"editable\\\":false,\\\"headerTooltip\\\":\\\"String\\\",\\\"field\\\":\\\"pricing_method\\\",\\\"headerName\\\":\\\"pricing_method\\\",\\\"sortable\\\":true,\\\"type\\\":null,\\\"resizable\\\":true},{\\\"filter\\\":\\\"agNumberColumnFilter\\\",\\\"editable\\\":false,\\\"headerTooltip\\\":\\\"Float64\\\",\\\"field\\\":\\\"restricted_root_time\\\",\\\"headerName\\\":\\\"restricted_root_time\\\",\\\"sortable\\\":true,\\\"type\\\":\\\"numericColumn\\\",\\\"resizable\\\":true},{\\\"filter\\\":\\\"agNumberColumnFilter\\\",\\\"editable\\\":false,\\\"headerTooltip\\\":\\\"Float64\\\",\\\"field\\\":\\\"final_root_time\\\",\\\"headerName\\\":\\\"final_root_time\\\",\\\"sortable\\\":true,\\\"type\\\":\\\"numericColumn\\\",\\\"resizable\\\":true},{\\\"filter\\\":\\\"agNumberColumnFilter\\\",\\\"editable\\\":false,\\\"headerTooltip\\\":\\\"Float64\\\",\\\"field\\\":\\\"build_and_solve_time\\\",\\\"headerName\\\":\\\"build_and_solve_time\\\",\\\"sortable\\\":true,\\\"type\\\":\\\"numericColumn\\\",\\\"resizable\\\":true},{\\\"filter\\\":\\\"agNumberColumnFilter\\\",\\\"editable\\\":false,\\\"headerTooltip\\\":\\\"Float64\\\",\\\"field\\\":\\\"total_instance_time\\\",\\\"headerName\\\":\\\"total_instance_time\\\",\\\"sortable\\\":true,\\\"type\\\":\\\"numericColumn\\\",\\\"resizable\\\":true},{\\\"filter\\\":\\\"agNumberColumnFilter\\\",\\\"editable\\\":false,\\\"headerTooltip\\\":\\\"Float64\\\",\\\"field\\\":\\\"final_pricing_time\\\",\\\"headerName\\\":\\\"final_pricing_time\\\",\\\"sortable\\\":true,\\\"type\\\":\\\"numericColumn\\\",\\\"resizable\\\":true},{\\\"filter\\\":\\\"agNumberColumnFilter\\\",\\\"editable\\\":false,\\\"headerTooltip\\\":\\\"Float64\\\",\\\"field\\\":\\\"iterated_pricing_time\\\",\\\"headerName\\\":\\\"iterated_pricing_time\\\",\\\"sortable\\\":true,\\\"type\\\":\\\"numericColumn\\\",\\\"resizable\\\":true},{\\\"filter\\\":\\\"agNumberColumnFilter\\\",\\\"editable\\\":false,\\\"headerTooltip\\\":\\\"Float64\\\",\\\"field\\\":\\\"restricted_pricing_time\\\",\\\"headerName\\\":\\\"restricted_pricing_time\\\",\\\"sortable\\\":true,\\\"type\\\":\\\"numericColumn\\\",\\\"resizable\\\":true},{\\\"filter\\\":\\\"agNumberColumnFilter\\\",\\\"editable\\\":false,\\\"headerTooltip\\\":\\\"Float64\\\",\\\"field\\\":\\\"total_pricing_time\\\",\\\"headerName\\\":\\\"total_pricing_time\\\",\\\"sortable\\\":true,\\\"type\\\":\\\"numericColumn\\\",\\\"resizable\\\":true},{\\\"filter\\\":\\\"agNumberColumnFilter\\\",\\\"editable\\\":false,\\\"headerTooltip\\\":\\\"Bool\\\",\\\"field\\\":\\\"finished\\\",\\\"headerName\\\":\\\"finished\\\",\\\"sortable\\\":true,\\\"type\\\":\\\"numericColumn\\\",\\\"resizable\\\":true},{\\\"filter\\\":true,\\\"editable\\\":false,\\\"headerTooltip\\\":\\\"String\\\",\\\"field\\\":\\\"datafile\\\",\\\"headerName\\\":\\\"datafile\\\",\\\"sortable\\\":true,\\\"type\\\":null,\\\"resizable\\\":true}],\\\"onRowClicked\\\":(function (ev){var x={}; (ev.rowIndex!==undefined) ? (x[\\\"rowIndex\\\"]=(ev.rowIndex+1)) : undefined; (ev.colDef!==undefined) ? (x[\\\"column\\\"]=ev.colDef.headerName) : undefined; return WebIO.setval({\\\"name\\\":\\\"onRowClicked\\\",\\\"scope\\\":\\\"4350808324289968833\\\",\\\"id\\\":\\\"ob_03\\\",\\\"type\\\":\\\"observable\\\"},x)}),\\\"onCellKeyDown\\\":(function (ev){var x={}; (ev.rowIndex!==undefined) ? (x[\\\"rowIndex\\\"]=(ev.rowIndex+1)) : undefined; (ev.colDef!==undefined) ? (x[\\\"column\\\"]=ev.colDef.headerName) : undefined; return WebIO.setval({\\\"name\\\":\\\"onCellKeyDown\\\",\\\"scope\\\":\\\"4350808324289968833\\\",\\\"id\\\":\\\"ob_05\\\",\\\"type\\\":\\\"observable\\\"},x)}),\\\"rowData\\\":[{\\\"instance_name\\\":\\\"okp5\\\",\\\"lp_method\\\":\\\"barrier\\\",\\\"lp_method_switch\\\":\\\"only\\\",\\\"pricing_method\\\":\\\"none\\\",\\\"restricted_root_time\\\":\\\"NaN\\\",\\\"final_root_time\\\":67.48,\\\"build_and_solve_time\\\":81.63336110115051,\\\"total_instance_time\\\":81.866979826,\\\"final_pricing_time\\\":\\\"NaN\\\",\\\"iterated_pricing_time\\\":\\\"NaN\\\",\\\"restricted_pricing_time\\\":\\\"NaN\\\",\\\"total_pricing_time\\\":\\\"NaN\\\",\\\"finished\\\":true,\\\"datafile\\\":\\\"jl_1K6VVe\\\"},{\\\"instance_name\\\":\\\"STS4\\\",\\\"lp_method\\\":\\\"barrier\\\",\\\"lp_method_switch\\\":\\\"switch\\\",\\\"pricing_method\\\":\\\"furini\\\",\\\"restricted_root_time\\\":19.02,\\\"final_root_time\\\":0.53,\\\"build_and_solve_time\\\":97.23640704154968,\\\"total_instance_time\\\":97.243934477,\\\"final_pricing_time\\\":0.67294279,\\\"iterated_pricing_time\\\":59.682019119,\\\"restricted_pricing_time\\\":35.018324066000005,\\\"total_pricing_time\\\":95.427058086,\\\"finished\\\":true,\\\"datafile\\\":\\\"jl_2IXqgf\\\"},{\\\"instance_name\\\":\\\"okp1\\\",\\\"lp_method\\\":\\\"simplex\\\",\\\"lp_method_switch\\\":\\\"only\\\",\\\"pricing_method\\\":\\\"furini\\\",\\\"restricted_root_time\\\":13.47,\\\"final_root_time\\\":1.22,\\\"build_and_solve_time\\\":54.78092098236084,\\\"total_instance_time\\\":54.803795417,\\\"final_pricing_time\\\":0.5962882300000001,\\\"iterated_pricing_time\\\":19.118948867,\\\"restricted_pricing_time\\\":31.266999062000004,\\\"total_pricing_time\\\":51.110226212,\\\"finished\\\":true,\\\"datafile\\\":\\\"jl_34hN2d\\\"},{\\\"instance_name\\\":\\\"STS4\\\",\\\"lp_method\\\":\\\"barrier\\\",\\\"lp_method_switch\\\":\\\"only\\\",\\\"pricing_method\\\":\\\"furini\\\",\\\"restricted_root_time\\\":8.05,\\\"final_root_time\\\":\\\"NaN\\\",\\\"build_and_solve_time\\\":\\\"NaN\\\",\\\"total_instance_time\\\":\\\"NaN\\\",\\\"final_pricing_time\\\":\\\"NaN\\\",\\\"iterated_pricing_time\\\":\\\"NaN\\\",\\\"restricted_pricing_time\\\":20.110524515,\\\"total_pricing_time\\\":\\\"NaN\\\",\\\"finished\\\":false,\\\"datafile\\\":\\\"jl_60Oond\\\"},{\\\"instance_name\\\":\\\"CU1\\\",\\\"lp_method\\\":\\\"barrier\\\",\\\"lp_method_switch\\\":\\\"switch\\\",\\\"pricing_method\\\":\\\"furini\\\",\\\"restricted_root_time\\\":0.01,\\\"final_root_time\\\":0.0,\\\"build_and_solve_time\\\":77.96736001968384,\\\"total_instance_time\\\":77.968223289,\\\"final_pricing_time\\\":0.466175243,\\\"iterated_pricing_time\\\":73.523568208,\\\"restricted_pricing_time\\\":3.0075112390000003,\\\"total_pricing_time\\\":77.013286179,\\\"finished\\\":true,\\\"datafile\\\":\\\"jl_63MpMg\\\"},{\\\"instance_name\\\":\\\"STS4s\\\",\\\"lp_method\\\":\\\"simplex\\\",\\\"lp_method_switch\\\":\\\"only\\\",\\\"pricing_method\\\":\\\"none\\\",\\\"restricted_root_time\\\":\\\"NaN\\\",\\\"final_root_time\\\":132.95,\\\"build_and_solve_time\\\":139.07853603363037,\\\"total_instance_time\\\":139.399420118,\\\"final_pricing_time\\\":\\\"NaN\\\",\\\"iterated_pricing_time\\\":\\\"NaN\\\",\\\"restricted_pricing_time\\\":\\\"NaN\\\",\\\"total_pricing_time\\\":\\\"NaN\\\",\\\"finished\\\":true,\\\"datafile\\\":\\\"jl_6Z6MDc\\\"},{\\\"instance_name\\\":\\\"A5\\\",\\\"lp_method\\\":\\\"simplex\\\",\\\"lp_method_switch\\\":\\\"only\\\",\\\"pricing_method\\\":\\\"furini\\\",\\\"restricted_root_time\\\":26.32,\\\"final_root_time\\\":34.54,\\\"build_and_solve_time\\\":296.41612005233765,\\\"total_instance_time\\\":296.489144629,\\\"final_pricing_time\\\":1.6159454210000002,\\\"iterated_pricing_time\\\":186.02735452800002,\\\"restricted_pricing_time\\\":63.469719778000005,\\\"total_pricing_time\\\":251.30753167300003,\\\"finished\\\":true,\\\"datafile\\\":\\\"jl_7fHIZG\\\"},{\\\"instance_name\\\":\\\"A5\\\",\\\"lp_method\\\":\\\"barrier\\\",\\\"lp_method_switch\\\":\\\"only\\\",\\\"pricing_method\\\":\\\"none\\\",\\\"restricted_root_time\\\":\\\"NaN\\\",\\\"final_root_time\\\":122.32,\\\"build_and_solve_time\\\":259.7174708843231,\\\"total_instance_time\\\":260.131248918,\\\"final_pricing_time\\\":\\\"NaN\\\",\\\"iterated_pricing_time\\\":\\\"NaN\\\",\\\"restricted_pricing_time\\\":\\\"NaN\\\",\\\"total_pricing_time\\\":\\\"NaN\\\",\\\"finished\\\":true,\\\"datafile\\\":\\\"jl_7futhJ\\\"},{\\\"instance_name\\\":\\\"CU1\\\",\\\"lp_method\\\":\\\"barrier\\\",\\\"lp_method_switch\\\":\\\"only\\\",\\\"pricing_method\\\":\\\"none\\\",\\\"restricted_root_time\\\":\\\"NaN\\\",\\\"final_root_time\\\":24.5,\\\"build_and_solve_time\\\":26.04724097251892,\\\"total_instance_time\\\":26.205211373,\\\"final_pricing_time\\\":\\\"NaN\\\",\\\"iterated_pricing_time\\\":\\\"NaN\\\",\\\"restricted_pricing_time\\\":\\\"NaN\\\",\\\"total_pricing_time\\\":\\\"NaN\\\",\\\"finished\\\":true,\\\"datafile\\\":\\\"jl_83ry2e\\\"},{\\\"instance_name\\\":\\\"gcut9\\\",\\\"lp_method\\\":\\\"barrier\\\",\\\"lp_method_switch\\\":\\\"only\\\",\\\"pricing_method\\\":\\\"furini\\\",\\\"restricted_root_time\\\":0.43,\\\"final_root_time\\\":2.08,\\\"build_and_solve_time\\\":2958.120416879654,\\\"total_instance_time\\\":2958.143454547,\\\"final_pricing_time\\\":0.608954989,\\\"iterated_pricing_time\\\":2952.096695267,\\\"restricted_pricing_time\\\":1.45486665,\\\"total_pricing_time\\\":2954.2928370460004,\\\"finished\\\":true,\\\"datafile\\\":\\\"jl_JKCz0e\\\"},{\\\"instance_name\\\":\\\"okp4\\\",\\\"lp_method\\\":\\\"barrier\\\",\\\"lp_method_switch\\\":\\\"only\\\",\\\"pricing_method\\\":\\\"furini\\\",\\\"restricted_root_time\\\":77.52,\\\"final_root_time\\\":\\\"NaN\\\",\\\"build_and_solve_time\\\":\\\"NaN\\\",\\\"total_instance_time\\\":\\\"NaN\\\",\\\"final_pricing_time\\\":\\\"NaN\\\",\\\"iterated_pricing_time\\\":\\\"NaN\\\",\\\"restricted_pricing_time\\\":148.83753199400002,\\\"total_pricing_time\\\":\\\"NaN\\\",\\\"finished\\\":false,\\\"datafile\\\":\\\"jl_K2pAtg\\\"},{\\\"instance_name\\\":\\\"STS4\\\",\\\"lp_method\\\":\\\"barrier\\\",\\\"lp_method_switch\\\":\\\"only\\\",\\\"pricing_method\\\":\\\"none\\\",\\\"restricted_root_time\\\":\\\"NaN\\\",\\\"final_root_time\\\":44.78,\\\"build_and_solve_time\\\":58.81835603713989,\\\"total_instance_time\\\":59.019811323,\\\"final_pricing_time\\\":\\\"NaN\\\",\\\"iterated_pricing_time\\\":\\\"NaN\\\",\\\"restricted_pricing_time\\\":\\\"NaN\\\",\\\"total_pricing_time\\\":\\\"NaN\\\",\\\"finished\\\":true,\\\"datafile\\\":\\\"jl_PGXXvg\\\"},{\\\"instance_name\\\":\\\"okp4\\\",\\\"lp_method\\\":\\\"barrier\\\",\\\"lp_method_switch\\\":\\\"switch\\\",\\\"pricing_method\\\":\\\"furini\\\",\\\"restricted_root_time\\\":57.34,\\\"final_root_time\\\":0.08,\\\"build_and_solve_time\\\":219.4500880241394,\\\"total_instance_time\\\":219.452517589,\\\"final_pricing_time\\\":0.559741033,\\\"iterated_pricing_time\\\":75.896876184,\\\"restricted_pricing_time\\\":141.81748354500002,\\\"total_pricing_time\\\":218.308601879,\\\"finished\\\":true,\\\"datafile\\\":\\\"jl_PjCByc\\\"},{\\\"instance_name\\\":\\\"CU1\\\",\\\"lp_method\\\":\\\"simplex\\\",\\\"lp_method_switch\\\":\\\"only\\\",\\\"pricing_method\\\":\\\"furini\\\",\\\"restricted_root_time\\\":0.02,\\\"final_root_time\\\":0.0,\\\"build_and_solve_time\\\":83.15805697441101,\\\"total_instance_time\\\":83.158991638,\\\"final_pricing_time\\\":0.49642613500000005,\\\"iterated_pricing_time\\\":78.514196291,\\\"restricted_pricing_time\\\":3.131369089,\\\"total_pricing_time\\\":82.159259562,\\\"finished\\\":true,\\\"datafile\\\":\\\"jl_PnAH4g\\\"},{\\\"instance_name\\\":\\\"STS4\\\",\\\"lp_method\\\":\\\"simplex\\\",\\\"lp_method_switch\\\":\\\"only\\\",\\\"pricing_method\\\":\\\"none\\\",\\\"restricted_root_time\\\":\\\"NaN\\\",\\\"final_root_time\\\":120.36,\\\"build_and_solve_time\\\":131.79284811019897,\\\"total_instance_time\\\":132.012471442,\\\"final_pricing_time\\\":\\\"NaN\\\",\\\"iterated_pricing_time\\\":\\\"NaN\\\",\\\"restricted_pricing_time\\\":\\\"NaN\\\",\\\"total_pricing_time\\\":\\\"NaN\\\",\\\"finished\\\":true,\\\"datafile\\\":\\\"jl_Q8j4Mg\\\"},{\\\"instance_name\\\":\\\"okp1\\\",\\\"lp_method\\\":\\\"barrier\\\",\\\"lp_method_switch\\\":\\\"switch\\\",\\\"pricing_method\\\":\\\"furini\\\",\\\"restricted_root_time\\\":12.79,\\\"final_root_time\\\":0.87,\\\"build_and_solve_time\\\":53.72082495689392,\\\"total_instance_time\\\":53.754857833,\\\"final_pricing_time\\\":0.552366156,\\\"iterated_pricing_time\\\":17.990774878,\\\"restricted_pricing_time\\\":29.692220711,\\\"total_pricing_time\\\":48.373948639000005,\\\"finished\\\":true,\\\"datafile\\\":\\\"jl_RZQ9Vg\\\"},{\\\"instance_name\\\":\\\"okp1\\\",\\\"lp_method\\\":\\\"barrier\\\",\\\"lp_method_switch\\\":\\\"only\\\",\\\"pricing_method\\\":\\\"none\\\",\\\"restricted_root_time\\\":\\\"NaN\\\",\\\"final_root_time\\\":24.31,\\\"build_and_solve_time\\\":37.10814094543457,\\\"total_instance_time\\\":37.252553932,\\\"final_pricing_time\\\":\\\"NaN\\\",\\\"iterated_pricing_time\\\":\\\"NaN\\\",\\\"restricted_pricing_time\\\":\\\"NaN\\\",\\\"total_pricing_time\\\":\\\"NaN\\\",\\\"finished\\\":true,\\\"datafile\\\":\\\"jl_TFXAve\\\"},{\\\"instance_name\\\":\\\"A5\\\",\\\"lp_method\\\":\\\"barrier\\\",\\\"lp_method_switch\\\":\\\"only\\\",\\\"pricing_method\\\":\\\"furini\\\",\\\"restricted_root_time\\\":16.08,\\\"final_root_time\\\":\\\"NaN\\\",\\\"build_and_solve_time\\\":\\\"NaN\\\",\\\"total_instance_time\\\":\\\"NaN\\\",\\\"final_pricing_time\\\":\\\"NaN\\\",\\\"iterated_pricing_time\\\":\\\"NaN\\\",\\\"restricted_pricing_time\\\":40.454124651,\\\"total_pricing_time\\\":\\\"NaN\\\",\\\"finished\\\":false,\\\"datafile\\\":\\\"jl_UXpmeI\\\"},{\\\"instance_name\\\":\\\"CU1\\\",\\\"lp_method\\\":\\\"simplex\\\",\\\"lp_method_switch\\\":\\\"only\\\",\\\"pricing_method\\\":\\\"none\\\",\\\"restricted_root_time\\\":\\\"NaN\\\",\\\"final_root_time\\\":38.9,\\\"build_and_solve_time\\\":41.38890504837036,\\\"total_instance_time\\\":41.559736888,\\\"final_pricing_time\\\":\\\"NaN\\\",\\\"iterated_pricing_time\\\":\\\"NaN\\\",\\\"restricted_pricing_time\\\":\\\"NaN\\\",\\\"total_pricing_time\\\":\\\"NaN\\\",\\\"finished\\\":true,\\\"datafile\\\":\\\"jl_XOraHd\\\"},{\\\"instance_name\\\":\\\"gcut9\\\",\\\"lp_method\\\":\\\"simplex\\\",\\\"lp_method_switch\\\":\\\"only\\\",\\\"pricing_method\\\":\\\"furini\\\",\\\"restricted_root_time\\\":0.01,\\\"final_root_time\\\":0.29,\\\"build_and_solve_time\\\":21.338239908218384,\\\"total_instance_time\\\":21.347778379,\\\"final_pricing_time\\\":0.790987717,\\\"iterated_pricing_time\\\":16.069484401,\\\"restricted_pricing_time\\\":1.623962197,\\\"total_pricing_time\\\":18.691565584000003,\\\"finished\\\":true,\\\"datafile\\\":\\\"jl_XZ3pTe\\\"},{\\\"instance_name\\\":\\\"okp5\\\",\\\"lp_method\\\":\\\"simplex\\\",\\\"lp_method_switch\\\":\\\"only\\\",\\\"pricing_method\\\":\\\"furini\\\",\\\"restricted_root_time\\\":87.01,\\\"final_root_time\\\":0.02,\\\"build_and_solve_time\\\":439.6897430419922,\\\"total_instance_time\\\":439.695742099,\\\"final_pricing_time\\\":0.8645583160000001,\\\"iterated_pricing_time\\\":245.830847067,\\\"restricted_pricing_time\\\":191.50711463500002,\\\"total_pricing_time\\\":438.27373937500005,\\\"finished\\\":true,\\\"datafile\\\":\\\"jl_XhYjBf\\\"},{\\\"instance_name\\\":\\\"okp5\\\",\\\"lp_method\\\":\\\"barrier\\\",\\\"lp_method_switch\\\":\\\"only\\\",\\\"pricing_method\\\":\\\"furini\\\",\\\"restricted_root_time\\\":43.97,\\\"final_root_time\\\":\\\"NaN\\\",\\\"build_and_solve_time\\\":\\\"NaN\\\",\\\"total_instance_time\\\":\\\"NaN\\\",\\\"final_pricing_time\\\":\\\"NaN\\\",\\\"iterated_pricing_time\\\":\\\"NaN\\\",\\\"restricted_pricing_time\\\":90.878244769,\\\"total_pricing_time\\\":\\\"NaN\\\",\\\"finished\\\":false,\\\"datafile\\\":\\\"jl_Y5Zghf\\\"},{\\\"instance_name\\\":\\\"CU1\\\",\\\"lp_method\\\":\\\"barrier\\\",\\\"lp_method_switch\\\":\\\"only\\\",\\\"pricing_method\\\":\\\"furini\\\",\\\"restricted_root_time\\\":0.63,\\\"final_root_time\\\":0.0,\\\"build_and_solve_time\\\":3130.7250089645386,\\\"total_instance_time\\\":3130.726005667,\\\"final_pricing_time\\\":0.48618548,\\\"iterated_pricing_time\\\":3126.0051824,\\\"restricted_pricing_time\\\":3.260951513,\\\"total_pricing_time\\\":3129.776960603,\\\"finished\\\":true,\\\"datafile\\\":\\\"jl_agMjtg\\\"},{\\\"instance_name\\\":\\\"A5\\\",\\\"lp_method\\\":\\\"simplex\\\",\\\"lp_method_switch\\\":\\\"only\\\",\\\"pricing_method\\\":\\\"none\\\",\\\"restricted_root_time\\\":\\\"NaN\\\",\\\"final_root_time\\\":434.45,\\\"build_and_solve_time\\\":488.50833201408386,\\\"total_instance_time\\\":488.969924985,\\\"final_pricing_time\\\":\\\"NaN\\\",\\\"iterated_pricing_time\\\":\\\"NaN\\\",\\\"restricted_pricing_time\\\":\\\"NaN\\\",\\\"total_pricing_time\\\":\\\"NaN\\\",\\\"finished\\\":true,\\\"datafile\\\":\\\"jl_dUfmII\\\"},{\\\"instance_name\\\":\\\"okp1\\\",\\\"lp_method\\\":\\\"barrier\\\",\\\"lp_method_switch\\\":\\\"only\\\",\\\"pricing_method\\\":\\\"furini\\\",\\\"restricted_root_time\\\":15.97,\\\"final_root_time\\\":\\\"NaN\\\",\\\"build_and_solve_time\\\":\\\"NaN\\\",\\\"total_instance_time\\\":\\\"NaN\\\",\\\"final_pricing_time\\\":\\\"NaN\\\",\\\"iterated_pricing_time\\\":\\\"NaN\\\",\\\"restricted_pricing_time\\\":40.159267296,\\\"total_pricing_time\\\":\\\"NaN\\\",\\\"finished\\\":false,\\\"datafile\\\":\\\"jl_fv3uCe\\\"},{\\\"instance_name\\\":\\\"STS4s\\\",\\\"lp_method\\\":\\\"barrier\\\",\\\"lp_method_switch\\\":\\\"only\\\",\\\"pricing_method\\\":\\\"furini\\\",\\\"restricted_root_time\\\":7.91,\\\"final_root_time\\\":\\\"NaN\\\",\\\"build_and_solve_time\\\":\\\"NaN\\\",\\\"total_instance_time\\\":\\\"NaN\\\",\\\"final_pricing_time\\\":\\\"NaN\\\",\\\"iterated_pricing_time\\\":\\\"NaN\\\",\\\"restricted_pricing_time\\\":19.281534637,\\\"total_pricing_time\\\":\\\"NaN\\\",\\\"finished\\\":false,\\\"datafile\\\":\\\"jl_gSdxJc\\\"},{\\\"instance_name\\\":\\\"gcut9\\\",\\\"lp_method\\\":\\\"barrier\\\",\\\"lp_method_switch\\\":\\\"switch\\\",\\\"pricing_method\\\":\\\"furini\\\",\\\"restricted_root_time\\\":0.01,\\\"final_root_time\\\":0.74,\\\"build_and_solve_time\\\":18.087675094604492,\\\"total_instance_time\\\":18.096798787,\\\"final_pricing_time\\\":0.6466350350000001,\\\"iterated_pricing_time\\\":13.524293625,\\\"restricted_pricing_time\\\":1.533558417,\\\"total_pricing_time\\\":15.889065446000002,\\\"finished\\\":true,\\\"datafile\\\":\\\"jl_h1B3Ag\\\"},{\\\"instance_name\\\":\\\"gcut9\\\",\\\"lp_method\\\":\\\"barrier\\\",\\\"lp_method_switch\\\":\\\"only\\\",\\\"pricing_method\\\":\\\"none\\\",\\\"restricted_root_time\\\":\\\"NaN\\\",\\\"final_root_time\\\":42.6,\\\"build_and_solve_time\\\":51.6284818649292,\\\"total_instance_time\\\":51.814342033,\\\"final_pricing_time\\\":\\\"NaN\\\",\\\"iterated_pricing_time\\\":\\\"NaN\\\",\\\"restricted_pricing_time\\\":\\\"NaN\\\",\\\"total_pricing_time\\\":\\\"NaN\\\",\\\"finished\\\":true,\\\"datafile\\\":\\\"jl_hnnMZg\\\"},{\\\"instance_name\\\":\\\"okp4\\\",\\\"lp_method\\\":\\\"barrier\\\",\\\"lp_method_switch\\\":\\\"only\\\",\\\"pricing_method\\\":\\\"none\\\",\\\"restricted_root_time\\\":\\\"NaN\\\",\\\"final_root_time\\\":75.66,\\\"build_and_solve_time\\\":82.43107914924622,\\\"total_instance_time\\\":82.608981685,\\\"final_pricing_time\\\":\\\"NaN\\\",\\\"iterated_pricing_time\\\":\\\"NaN\\\",\\\"restricted_pricing_time\\\":\\\"NaN\\\",\\\"total_pricing_time\\\":\\\"NaN\\\",\\\"finished\\\":true,\\\"datafile\\\":\\\"jl_i9jllf\\\"},{\\\"instance_name\\\":\\\"okp5\\\",\\\"lp_method\\\":\\\"simplex\\\",\\\"lp_method_switch\\\":\\\"only\\\",\\\"pricing_method\\\":\\\"none\\\",\\\"restricted_root_time\\\":\\\"NaN\\\",\\\"final_root_time\\\":264.11,\\\"build_and_solve_time\\\":319.0115897655487,\\\"total_instance_time\\\":319.24853378,\\\"final_pricing_time\\\":\\\"NaN\\\",\\\"iterated_pricing_time\\\":\\\"NaN\\\",\\\"restricted_pricing_time\\\":\\\"NaN\\\",\\\"total_pricing_time\\\":\\\"NaN\\\",\\\"finished\\\":true,\\\"datafile\\\":\\\"jl_iLEnig\\\"},{\\\"instance_name\\\":\\\"STS4s\\\",\\\"lp_method\\\":\\\"simplex\\\",\\\"lp_method_switch\\\":\\\"only\\\",\\\"pricing_method\\\":\\\"furini\\\",\\\"restricted_root_time\\\":16.83,\\\"final_root_time\\\":0.0,\\\"build_and_solve_time\\\":110.62064695358276,\\\"total_instance_time\\\":110.622899546,\\\"final_pricing_time\\\":0.647201142,\\\"iterated_pricing_time\\\":67.453341604,\\\"restricted_pricing_time\\\":41.13986018,\\\"total_pricing_time\\\":109.267101283,\\\"finished\\\":true,\\\"datafile\\\":\\\"jl_lOoVOf\\\"},{\\\"instance_name\\\":\\\"STS4s\\\",\\\"lp_method\\\":\\\"barrier\\\",\\\"lp_method_switch\\\":\\\"switch\\\",\\\"pricing_method\\\":\\\"furini\\\",\\\"restricted_root_time\\\":15.56,\\\"final_root_time\\\":0.0,\\\"build_and_solve_time\\\":101.67762303352356,\\\"total_instance_time\\\":101.679829014,\\\"final_pricing_time\\\":0.6361518500000001,\\\"iterated_pricing_time\\\":61.914525960000006,\\\"restricted_pricing_time\\\":37.800186319000005,\\\"total_pricing_time\\\":100.376524472,\\\"finished\\\":true,\\\"datafile\\\":\\\"jl_m4tKLf\\\"},{\\\"instance_name\\\":\\\"okp4\\\",\\\"lp_method\\\":\\\"simplex\\\",\\\"lp_method_switch\\\":\\\"only\\\",\\\"pricing_method\\\":\\\"none\\\",\\\"restricted_root_time\\\":\\\"NaN\\\",\\\"final_root_time\\\":139.75,\\\"build_and_solve_time\\\":152.11415600776672,\\\"total_instance_time\\\":152.274576987,\\\"final_pricing_time\\\":\\\"NaN\\\",\\\"iterated_pricing_time\\\":\\\"NaN\\\",\\\"restricted_pricing_time\\\":\\\"NaN\\\",\\\"total_pricing_time\\\":\\\"NaN\\\",\\\"finished\\\":true,\\\"datafile\\\":\\\"jl_m4uKwc\\\"},{\\\"instance_name\\\":\\\"STS4\\\",\\\"lp_method\\\":\\\"simplex\\\",\\\"lp_method_switch\\\":\\\"only\\\",\\\"pricing_method\\\":\\\"furini\\\",\\\"restricted_root_time\\\":21.26,\\\"final_root_time\\\":0.32,\\\"build_and_solve_time\\\":106.7533130645752,\\\"total_instance_time\\\":106.761000566,\\\"final_pricing_time\\\":0.737674296,\\\"iterated_pricing_time\\\":65.602615333,\\\"restricted_pricing_time\\\":38.536990483000004,\\\"total_pricing_time\\\":104.93807025800001,\\\"finished\\\":true,\\\"datafile\\\":\\\"jl_pGyXuf\\\"},{\\\"instance_name\\\":\\\"gcut9\\\",\\\"lp_method\\\":\\\"simplex\\\",\\\"lp_method_switch\\\":\\\"only\\\",\\\"pricing_method\\\":\\\"none\\\",\\\"restricted_root_time\\\":\\\"NaN\\\",\\\"final_root_time\\\":205.28,\\\"build_and_solve_time\\\":253.4776451587677,\\\"total_instance_time\\\":253.672820233,\\\"final_pricing_time\\\":\\\"NaN\\\",\\\"iterated_pricing_time\\\":\\\"NaN\\\",\\\"restricted_pricing_time\\\":\\\"NaN\\\",\\\"total_pricing_time\\\":\\\"NaN\\\",\\\"finished\\\":true,\\\"datafile\\\":\\\"jl_q6LgQe\\\"},{\\\"instance_name\\\":\\\"okp1\\\",\\\"lp_method\\\":\\\"simplex\\\",\\\"lp_method_switch\\\":\\\"only\\\",\\\"pricing_method\\\":\\\"none\\\",\\\"restricted_root_time\\\":\\\"NaN\\\",\\\"final_root_time\\\":62.01,\\\"build_and_solve_time\\\":71.76519393920898,\\\"total_instance_time\\\":71.947082035,\\\"final_pricing_time\\\":\\\"NaN\\\",\\\"iterated_pricing_time\\\":\\\"NaN\\\",\\\"restricted_pricing_time\\\":\\\"NaN\\\",\\\"total_pricing_time\\\":\\\"NaN\\\",\\\"finished\\\":true,\\\"datafile\\\":\\\"jl_r0cTQe\\\"},{\\\"instance_name\\\":\\\"STS4s\\\",\\\"lp_method\\\":\\\"barrier\\\",\\\"lp_method_switch\\\":\\\"only\\\",\\\"pricing_method\\\":\\\"none\\\",\\\"restricted_root_time\\\":\\\"NaN\\\",\\\"final_root_time\\\":42.22,\\\"build_and_solve_time\\\":49.41793990135193,\\\"total_instance_time\\\":49.613297357,\\\"final_pricing_time\\\":\\\"NaN\\\",\\\"iterated_pricing_time\\\":\\\"NaN\\\",\\\"restricted_pricing_time\\\":\\\"NaN\\\",\\\"total_pricing_time\\\":\\\"NaN\\\",\\\"finished\\\":true,\\\"datafile\\\":\\\"jl_sU0xSf\\\"},{\\\"instance_name\\\":\\\"A5\\\",\\\"lp_method\\\":\\\"barrier\\\",\\\"lp_method_switch\\\":\\\"switch\\\",\\\"pricing_method\\\":\\\"furini\\\",\\\"restricted_root_time\\\":23.64,\\\"final_root_time\\\":21.44,\\\"build_and_solve_time\\\":260.5032629966736,\\\"total_instance_time\\\":260.573072126,\\\"final_pricing_time\\\":1.482969251,\\\"iterated_pricing_time\\\":168.57567028100001,\\\"restricted_pricing_time\\\":57.590112439,\\\"total_pricing_time\\\":227.84336852200002,\\\"finished\\\":true,\\\"datafile\\\":\\\"jl_vzwrkK\\\"},{\\\"instance_name\\\":\\\"okp5\\\",\\\"lp_method\\\":\\\"barrier\\\",\\\"lp_method_switch\\\":\\\"switch\\\",\\\"pricing_method\\\":\\\"furini\\\",\\\"restricted_root_time\\\":81.87,\\\"final_root_time\\\":0.09,\\\"build_and_solve_time\\\":414.4075779914856,\\\"total_instance_time\\\":414.410032608,\\\"final_pricing_time\\\":0.8263597960000001,\\\"iterated_pricing_time\\\":232.079308604,\\\"restricted_pricing_time\\\":180.023592154,\\\"total_pricing_time\\\":412.998264065,\\\"finished\\\":true,\\\"datafile\\\":\\\"jl_wSIcmf\\\"},{\\\"instance_name\\\":\\\"okp4\\\",\\\"lp_method\\\":\\\"simplex\\\",\\\"lp_method_switch\\\":\\\"only\\\",\\\"pricing_method\\\":\\\"furini\\\",\\\"restricted_root_time\\\":61.3,\\\"final_root_time\\\":0.01,\\\"build_and_solve_time\\\":231.17898893356323,\\\"total_instance_time\\\":231.181829671,\\\"final_pricing_time\\\":0.601121715,\\\"iterated_pricing_time\\\":79.735008707,\\\"restricted_pricing_time\\\":149.662026685,\\\"total_pricing_time\\\":230.03435190300002,\\\"finished\\\":true,\\\"datafile\\\":\\\"jl_yxJXgg\\\"}],\\\"onCellClicked\\\":(function (ev){var x={}; (ev.rowIndex!==undefined) ? (x[\\\"rowIndex\\\"]=(ev.rowIndex+1)) : undefined; (ev.colDef!==undefined) ? (x[\\\"column\\\"]=ev.colDef.headerName) : undefined; return WebIO.setval({\\\"name\\\":\\\"onCellClicked\\\",\\\"scope\\\":\\\"4350808324289968833\\\",\\\"id\\\":\\\"ob_01\\\",\\\"type\\\":\\\"observable\\\"},x)})}; var el=document.getElementById(\\\"grid-0f3a79de\\\"); gridOptions.components={\\\"rowNumberRenderer\\\":RowNumberRenderer}; this.table=new agGrid.Grid(el,gridOptions); gridOptions.columnApi.autoSizeColumn(\\\"__row__\\\"); return gridOptions.columnApi.autoSizeColumns([\\\"instance_name\\\",\\\"lp_method\\\",\\\"lp_method_switch\\\",\\\"pricing_method\\\",\\\"restricted_root_time\\\",\\\"final_root_time\\\",\\\"build_and_solve_time\\\",\\\"total_instance_time\\\",\\\"final_pricing_time\\\",\\\"iterated_pricing_time\\\",\\\"restricted_pricing_time\\\",\\\"total_pricing_time\\\",\\\"finished\\\",\\\"datafile\\\"])}));\\n    (WebIO.importBlock({\\\"data\\\":[{\\\"name\\\":null,\\\"type\\\":\\\"js\\\",\\\"url\\\":\\\"\\/assetserver\\/0590277e57f9dce38c944f556c3d3f3537505baf-rowNumberRenderer.js\\\"},{\\\"name\\\":null,\\\"type\\\":\\\"js\\\",\\\"url\\\":\\\"\\/assetserver\\/4c1301a0647c04ca15698ec91c7948d0d808ae4e-ag-grid.js\\\"},{\\\"name\\\":null,\\\"type\\\":\\\"css\\\",\\\"url\\\":\\\"\\/assetserver\\/2fc78d8695c17bdfaf311ef6969766c669cc3259-ag-grid.css\\\"},{\\\"name\\\":null,\\\"type\\\":\\\"css\\\",\\\"url\\\":\\\"\\/assetserver\\/5fc5fa256baa60ef6cfb2f781fbe8b1e3528c443-ag-grid-light.css\\\"},{\\\"name\\\":null,\\\"type\\\":\\\"css\\\",\\\"url\\\":\\\"\\/assetserver\\/885a5d8cdc6d7b90593d781d742de9279d70e324-ag-grid-dark.css\\\"}],\\\"type\\\":\\\"async_block\\\"})).then((imports) => handler.apply(this, imports));\\n}\\n\"],\"observables\":{\"onCellKeyDown\":{\"sync\":false,\"id\":\"ob_05\",\"value\":null},\"onRowClicked\":{\"sync\":false,\"id\":\"ob_03\",\"value\":null},\"onCellDoubleClicked\":{\"sync\":false,\"id\":\"ob_02\",\"value\":null},\"onCellClicked\":{\"sync\":false,\"id\":\"ob_01\",\"value\":null},\"onCellFocused\":{\"sync\":false,\"id\":\"ob_04\",\"value\":null}}},\"children\":[{\"props\":{},\"nodeType\":\"DOM\",\"type\":\"node\",\"instanceArgs\":{\"namespace\":\"html\",\"tag\":\"div\"},\"children\":[{\"props\":{\"style\":{\"height\":\"0\",\"padding\":\"0\",\"background-color\":\"#F5F7F7\",\"color\":\"#1c1f20\",\"font-family\":\"-apple-system, BlinkMacSystemFont, \\\"Segoe UI\\\", Roboto, Oxygen-Sans, Ubuntu, Cantarell, \\\"Helvetica Neue\\\", sans-serif\"}},\"nodeType\":\"DOM\",\"type\":\"node\",\"instanceArgs\":{\"namespace\":\"html\",\"tag\":\"div\"},\"children\":[\"\"]},{\"props\":{\"id\":\"grid-0f3a79de\",\"className\":\"ag-theme-balham\",\"style\":{\"height\":\"500px\",\"width\":\"100%\"}},\"nodeType\":\"DOM\",\"type\":\"node\",\"instanceArgs\":{\"namespace\":\"html\",\"tag\":\"div\"},\"children\":[]}]}]},\n",
       "            window,\n",
       "        );\n",
       "    } else {\n",
       "        document\n",
       "            .querySelector('[data-webio-mountpoint=\"11403388904858628288\"]')\n",
       "            .innerHTML = (\n",
       "                '<div style=\"padding: 1em; background-color: #f8d6da; border: 1px solid #f5c6cb\">' +\n",
       "                '<p><strong>WebIO not detected.</strong></p>' +\n",
       "                '<p>Please read ' +\n",
       "                '<a href=\"https://juliagizmos.github.io/WebIO.jl/latest/troubleshooting/not-detected/\" target=\"_blank\">the troubleshooting guide</a> ' +\n",
       "                'for more information on how to resolve this issue.</p>' +\n",
       "                '<p><a href=\"https://juliagizmos.github.io/WebIO.jl/latest/troubleshooting/not-detected/\" target=\"_blank\">https://juliagizmos.github.io/WebIO.jl/latest/troubleshooting/not-detected/</a></p>' +\n",
       "                '</div>'\n",
       "            );\n",
       "    }\n",
       "    </script>\n",
       "</div>\n"
      ],
      "text/plain": [
       "Scope(Node{WebIO.DOM}(WebIO.DOM(:html, :div), Any[Node{WebIO.DOM}(WebIO.DOM(:html, :div), Any[\"\"], Dict{Symbol,Any}(:style => Dict(\"height\" => \"0\",\"padding\" => \"0\",\"background-color\" => \"#F5F7F7\",\"color\" => \"#1c1f20\",\"font-family\" => \"-apple-system, BlinkMacSystemFont, \\\"Segoe UI\\\", Roboto, Oxygen-Sans, Ubuntu, Cantarell, \\\"Helvetica Neue\\\", sans-serif\"))), Node{WebIO.DOM}(WebIO.DOM(:html, :div), Any[], Dict{Symbol,Any}(:id => \"grid-0f3a79de\",:className => \"ag-theme-balham\",:style => Dict(\"height\" => \"500px\",\"width\" => \"100%\")))], Dict{Symbol,Any}()), Dict{String,Tuple{Observables.AbstractObservable,Union{Nothing, Bool}}}(\"onCellKeyDown\" => (Observable{Any} with 0 listeners. Value:\n",
       "nothing, nothing),\"onRowClicked\" => (Observable{Any} with 0 listeners. Value:\n",
       "nothing, nothing),\"onCellDoubleClicked\" => (Observable{Any} with 0 listeners. Value:\n",
       "nothing, nothing),\"onCellClicked\" => (Observable{Any} with 0 listeners. Value:\n",
       "nothing, nothing),\"onCellFocused\" => (Observable{Any} with 0 listeners. Value:\n",
       "nothing, nothing)), Set(String[]), nothing, Asset[Asset(\"js\", nothing, \"/home/henrique/.julia/packages/TableView/CxWLO/src/rowNumberRenderer.js\"), Asset(\"js\", nothing, \"/home/henrique/.julia/packages/TableView/CxWLO/deps/ag-grid-22.1.0/ag-grid.js\"), Asset(\"css\", nothing, \"/home/henrique/.julia/packages/TableView/CxWLO/deps/ag-grid-22.1.0/ag-grid.css\"), Asset(\"css\", nothing, \"/home/henrique/.julia/packages/TableView/CxWLO/deps/ag-grid-22.1.0/ag-grid-light.css\"), Asset(\"css\", nothing, \"/home/henrique/.julia/packages/TableView/CxWLO/deps/ag-grid-22.1.0/ag-grid-dark.css\")], Dict{Any,Any}(), WebIO.ConnectionPool(Channel{Any}(sz_max:32,sz_curr:0), Set(AbstractConnection[]), Base.GenericCondition{Base.AlwaysLockedST}(Base.InvasiveLinkedList{Task}(Task (runnable) @0x00007fd7e2ab1600, Task (runnable) @0x00007fd7e2ab1600), Base.AlwaysLockedST(1))), WebIO.JSString[WebIO.JSString(\"function () {\\n    var handler = ((function (RowNumberRenderer,agGrid){var gridOptions={\\\"onCellFocused\\\":(function (ev){var x={}; (ev.rowIndex!==undefined) ? (x[\\\"rowIndex\\\"]=(ev.rowIndex+1)) : undefined; (ev.colDef!==undefined) ? (x[\\\"column\\\"]=ev.colDef.headerName) : undefined; return WebIO.setval({\\\"name\\\":\\\"onCellFocused\\\",\\\"scope\\\":\\\"4350808324289968833\\\",\\\"id\\\":\\\"ob_04\\\",\\\"type\\\":\\\"observable\\\"},x)}),\\\"onCellValueChanged\\\":(function (){return }),\\\"onCellDoubleClicked\\\":(function (ev){var x={}; (ev.rowIndex!==undefined) ? (x[\\\"rowIndex\\\"]=(ev.rowIndex+1)) : undefined; (ev.colDef!==undefined) ? (x[\\\"column\\\"]=ev.colDef.headerName) : undefined; return WebIO.setval({\\\"name\\\":\\\"onCellDoubleClicked\\\",\\\"scope\\\":\\\"4350808324289968833\\\",\\\"id\\\":\\\"ob_02\\\",\\\"type\\\":\\\"observable\\\"},x)}),\\\"multiSortKey\\\":\\\"ctrl\\\",\\\"columnDefs\\\":[{\\\"filter\\\":false,\\\"editable\\\":false,\\\"headerTooltip\\\":\\\"\\\",\\\"field\\\":\\\"__row__\\\",\\\"headerName\\\":\\\"Row\\\",\\\"sortable\\\":true,\\\"type\\\":\\\"numericColumn\\\",\\\"cellRenderer\\\":\\\"rowNumberRenderer\\\",\\\"resizable\\\":true},{\\\"filter\\\":true,\\\"editable\\\":false,\\\"headerTooltip\\\":\\\"String\\\",\\\"field\\\":\\\"instance_name\\\",\\\"headerName\\\":\\\"instance_name\\\",\\\"sortable\\\":true,\\\"type\\\":null,\\\"resizable\\\":true},{\\\"filter\\\":true,\\\"editable\\\":false,\\\"headerTooltip\\\":\\\"String\\\",\\\"field\\\":\\\"lp_method\\\",\\\"headerName\\\":\\\"lp_method\\\",\\\"sortable\\\":true,\\\"type\\\":null,\\\"resizable\\\":true},{\\\"filter\\\":true,\\\"editable\\\":false,\\\"headerTooltip\\\":\\\"String\\\",\\\"field\\\":\\\"lp_method_switch\\\",\\\"headerName\\\":\\\"lp_method_switch\\\",\\\"sortable\\\":true,\\\"type\\\":null,\\\"resizable\\\":true},{\\\"filter\\\":true,\\\"editable\\\":false,\\\"headerTooltip\\\":\\\"String\\\",\\\"field\\\":\\\"pricing_method\\\",\\\"headerName\\\":\\\"pricing_method\\\",\\\"sortable\\\":true,\\\"type\\\":null,\\\"resizable\\\":true},{\\\"filter\\\":\\\"agNumberColumnFilter\\\",\\\"editable\\\":false,\\\"headerTooltip\\\":\\\"Float64\\\",\\\"field\\\":\\\"restricted_root_time\\\",\\\"headerName\\\":\\\"restricted_root_time\\\",\\\"sortable\\\":true,\\\"type\\\":\\\"numericColumn\\\",\\\"resizable\\\":true},{\\\"filter\\\":\\\"agNumberColumnFilter\\\",\\\"editable\\\":false,\\\"headerTooltip\\\":\\\"Float64\\\",\\\"field\\\":\\\"final_root_time\\\",\\\"headerName\\\":\\\"final_root_time\\\",\\\"sortable\\\":true,\\\"type\\\":\\\"numericColumn\\\",\\\"resizable\\\":true},{\\\"filter\\\":\\\"agNumberColumnFilter\\\",\\\"editable\\\":false,\\\"headerTooltip\\\":\\\"Float64\\\",\\\"field\\\":\\\"build_and_solve_time\\\",\\\"headerName\\\":\\\"build_and_solve_time\\\",\\\"sortable\\\":true,\\\"type\\\":\\\"numericColumn\\\",\\\"resizable\\\":true},{\\\"filter\\\":\\\"agNumberColumnFilter\\\",\\\"editable\\\":false,\\\"headerTooltip\\\":\\\"Float64\\\",\\\"field\\\":\\\"total_instance_time\\\",\\\"headerName\\\":\\\"total_instance_time\\\",\\\"sortable\\\":true,\\\"type\\\":\\\"numericColumn\\\",\\\"resizable\\\":true},{\\\"filter\\\":\\\"agNumberColumnFilter\\\",\\\"editable\\\":false,\\\"headerTooltip\\\":\\\"Float64\\\",\\\"field\\\":\\\"final_pricing_time\\\",\\\"headerName\\\":\\\"final_pricing_time\\\",\\\"sortable\\\":true,\\\"type\\\":\\\"numericColumn\\\",\\\"resizable\\\":true},{\\\"filter\\\":\\\"agNumberColumnFilter\\\",\\\"editable\\\":false,\\\"headerTooltip\\\":\\\"Float64\\\",\\\"field\\\":\\\"iterated_pricing_time\\\",\\\"headerName\\\":\\\"iterated_pricing_time\\\",\\\"sortable\\\":true,\\\"type\\\":\\\"numericColumn\\\",\\\"resizable\\\":true},{\\\"filter\\\":\\\"agNumberColumnFilter\\\",\\\"editable\\\":false,\\\"headerTooltip\\\":\\\"Float64\\\",\\\"field\\\":\\\"restricted_pricing_time\\\",\\\"headerName\\\":\\\"restricted_pricing_time\\\",\\\"sortable\\\":true,\\\"type\\\":\\\"numericColumn\\\",\\\"resizable\\\":true},{\\\"filter\\\":\\\"agNumberColumnFilter\\\",\\\"editable\\\":false,\\\"headerTooltip\\\":\\\"Float64\\\",\\\"field\\\":\\\"total_pricing_time\\\",\\\"headerName\\\":\\\"total_pricing_time\\\",\\\"sortable\\\":true,\\\"type\\\":\\\"numericColumn\\\",\\\"resizable\\\":true},{\\\"filter\\\":\\\"agNumberColumnFilter\\\",\\\"editable\\\":false,\\\"headerTooltip\\\":\\\"Bool\\\",\\\"field\\\":\\\"finished\\\",\\\"headerName\\\":\\\"finished\\\",\\\"sortable\\\":true,\\\"type\\\":\\\"numericColumn\\\",\\\"resizable\\\":true},{\\\"filter\\\":true,\\\"editable\\\":false,\\\"headerTooltip\\\":\\\"String\\\",\\\"field\\\":\\\"datafile\\\",\\\"headerName\\\":\\\"datafile\\\",\\\"sortable\\\":true,\\\"type\\\":null,\\\"resizable\\\":true}],\\\"onRowClicked\\\":(function (ev){var x={}; (ev.rowIndex!==undefined) ? (x[\\\"rowIndex\\\"]=(ev.rowIndex+1)) : undefined; (ev.colDef!==undefined) ? (x[\\\"column\\\"]=ev.colDef.headerName) : undefined; return WebIO.setval({\\\"name\\\":\\\"onRowClicked\\\",\\\"scope\\\":\\\"4350808324289968833\\\",\\\"id\\\":\\\"ob_03\\\",\\\"type\\\":\\\"observable\\\"},x)}),\\\"onCellKeyDown\\\":(function (ev){var x={}; (ev.rowIndex!==undefined) ? (x[\\\"rowIndex\\\"]=(ev.rowIndex+1)) : undefined; (ev.colDef!==undefined) ? (x[\\\"column\\\"]=ev.colDef.headerName) : undefined; return WebIO.setval({\\\"name\\\":\\\"onCellKeyDown\\\",\\\"scope\\\":\\\"4350808324289968833\\\",\\\"id\\\":\\\"ob_05\\\",\\\"type\\\":\\\"observable\\\"},x)}),\\\"rowData\\\":[{\\\"instance_name\\\":\\\"okp5\\\",\\\"lp_method\\\":\\\"barrier\\\",\\\"lp_method_switch\\\":\\\"only\\\",\\\"pricing_method\\\":\\\"none\\\",\\\"restricted_root_time\\\":\\\"NaN\\\",\\\"final_root_time\\\":67.48,\\\"build_and_solve_time\\\":81.63336110115051,\\\"total_instance_time\\\":81.866979826,\\\"final_pricing_time\\\":\\\"NaN\\\",\\\"iterated_pricing_time\\\":\\\"NaN\\\",\\\"restricted_pricing_time\\\":\\\"NaN\\\",\\\"total_pricing_time\\\":\\\"NaN\\\",\\\"finished\\\":true,\\\"datafile\\\":\\\"jl_1K6VVe\\\"},{\\\"instance_name\\\":\\\"STS4\\\",\\\"lp_method\\\":\\\"barrier\\\",\\\"lp_method_switch\\\":\\\"switch\\\",\\\"pricing_method\\\":\\\"furini\\\",\\\"restricted_root_time\\\":19.02,\\\"final_root_time\\\":0.53,\\\"build_and_solve_time\\\":97.23640704154968,\\\"total_instance_time\\\":97.243934477,\\\"final_pricing_time\\\":0.67294279,\\\"iterated_pricing_time\\\":59.682019119,\\\"restricted_pricing_time\\\":35.018324066000005,\\\"total_pricing_time\\\":95.427058086,\\\"finished\\\":true,\\\"datafile\\\":\\\"jl_2IXqgf\\\"},{\\\"instance_name\\\":\\\"okp1\\\",\\\"lp_method\\\":\\\"simplex\\\",\\\"lp_method_switch\\\":\\\"only\\\",\\\"pricing_method\\\":\\\"furini\\\",\\\"restricted_root_time\\\":13.47,\\\"final_root_time\\\":1.22,\\\"build_and_solve_time\\\":54.78092098236084,\\\"total_instance_time\\\":54.803795417,\\\"final_pricing_time\\\":0.5962882300000001,\\\"iterated_pricing_time\\\":19.118948867,\\\"restricted_pricing_time\\\":31.266999062000004,\\\"total_pricing_time\\\":51.110226212,\\\"finished\\\":true,\\\"datafile\\\":\\\"jl_34hN2d\\\"},{\\\"instance_name\\\":\\\"STS4\\\",\\\"lp_method\\\":\\\"barrier\\\",\\\"lp_method_switch\\\":\\\"only\\\",\\\"pricing_method\\\":\\\"furini\\\",\\\"restricted_root_time\\\":8.05,\\\"final_root_time\\\":\\\"NaN\\\",\\\"build_and_solve_time\\\":\\\"NaN\\\",\\\"total_instance_time\\\":\\\"NaN\\\",\\\"final_pricing_time\\\":\\\"NaN\\\",\\\"iterated_pricing_time\\\":\\\"NaN\\\",\\\"restricted_pricing_time\\\":20.110524515,\\\"total_pricing_time\\\":\\\"NaN\\\",\\\"finished\\\":false,\\\"datafile\\\":\\\"jl_60Oond\\\"},{\\\"instance_name\\\":\\\"CU1\\\",\\\"lp_method\\\":\\\"barrier\\\",\\\"lp_method_switch\\\":\\\"switch\\\",\\\"pricing_method\\\":\\\"furini\\\",\\\"restricted_root_time\\\":0.01,\\\"final_root_time\\\":0.0,\\\"build_and_solve_time\\\":77.96736001968384,\\\"total_instance_time\\\":77.968223289,\\\"final_pricing_time\\\":0.466175243,\\\"iterated_pricing_time\\\":73.523568208,\\\"restricted_pricing_time\\\":3.0075112390000003,\\\"total_pricing_time\\\":77.013286179,\\\"finished\\\":true,\\\"datafile\\\":\\\"jl_63MpMg\\\"},{\\\"instance_name\\\":\\\"STS4s\\\",\\\"lp_method\\\":\\\"simplex\\\",\\\"lp_method_switch\\\":\\\"only\\\",\\\"pricing_method\\\":\\\"none\\\",\\\"restricted_root_time\\\":\\\"NaN\\\",\\\"final_root_time\\\":132.95,\\\"build_and_solve_time\\\":139.07853603363037,\\\"total_instance_time\\\":139.399420118,\\\"final_pricing_time\\\":\\\"NaN\\\",\\\"iterated_pricing_time\\\":\\\"NaN\\\",\\\"restricted_pricing_time\\\":\\\"NaN\\\",\\\"total_pricing_time\\\":\\\"NaN\\\",\\\"finished\\\":true,\\\"datafile\\\":\\\"jl_6Z6MDc\\\"},{\\\"instance_name\\\":\\\"A5\\\",\\\"lp_method\\\":\\\"simplex\\\",\\\"lp_method_switch\\\":\\\"only\\\",\\\"pricing_method\\\":\\\"furini\\\",\\\"restricted_root_time\\\":26.32,\\\"final_root_time\\\":34.54,\\\"build_and_solve_time\\\":296.41612005233765,\\\"total_instance_time\\\":296.489144629,\\\"final_pricing_time\\\":1.6159454210000002,\\\"iterated_pricing_time\\\":186.02735452800002,\\\"restricted_pricing_time\\\":63.469719778000005,\\\"total_pricing_time\\\":251.30753167300003,\\\"finished\\\":true,\\\"datafile\\\":\\\"jl_7fHIZG\\\"},{\\\"instance_name\\\":\\\"A5\\\",\\\"lp_method\\\":\\\"barrier\\\",\\\"lp_method_switch\\\":\\\"only\\\",\\\"pricing_method\\\":\\\"none\\\",\\\"restricted_root_time\\\":\\\"NaN\\\",\\\"final_root_time\\\":122.32,\\\"build_and_solve_time\\\":259.7174708843231,\\\"total_instance_time\\\":260.131248918,\\\"final_pricing_time\\\":\\\"NaN\\\",\\\"iterated_pricing_time\\\":\\\"NaN\\\",\\\"restricted_pricing_time\\\":\\\"NaN\\\",\\\"total_pricing_time\\\":\\\"NaN\\\",\\\"finished\\\":true,\\\"datafile\\\":\\\"jl_7futhJ\\\"},{\\\"instance_name\\\":\\\"CU1\\\",\\\"lp_method\\\":\\\"barrier\\\",\\\"lp_method_switch\\\":\\\"only\\\",\\\"pricing_method\\\":\\\"none\\\",\\\"restricted_root_time\\\":\\\"NaN\\\",\\\"final_root_time\\\":24.5,\\\"build_and_solve_time\\\":26.04724097251892,\\\"total_instance_time\\\":26.205211373,\\\"final_pricing_time\\\":\\\"NaN\\\",\\\"iterated_pricing_time\\\":\\\"NaN\\\",\\\"restricted_pricing_time\\\":\\\"NaN\\\",\\\"total_pricing_time\\\":\\\"NaN\\\",\\\"finished\\\":true,\\\"datafile\\\":\\\"jl_83ry2e\\\"},{\\\"instance_name\\\":\\\"gcut9\\\",\\\"lp_method\\\":\\\"barrier\\\",\\\"lp_method_switch\\\":\\\"only\\\",\\\"pricing_method\\\":\\\"furini\\\",\\\"restricted_root_time\\\":0.43,\\\"final_root_time\\\":2.08,\\\"build_and_solve_time\\\":2958.120416879654,\\\"total_instance_time\\\":2958.143454547,\\\"final_pricing_time\\\":0.608954989,\\\"iterated_pricing_time\\\":2952.096695267,\\\"restricted_pricing_time\\\":1.45486665,\\\"total_pricing_time\\\":2954.2928370460004,\\\"finished\\\":true,\\\"datafile\\\":\\\"jl_JKCz0e\\\"},{\\\"instance_name\\\":\\\"okp4\\\",\\\"lp_method\\\":\\\"barrier\\\",\\\"lp_method_switch\\\":\\\"only\\\",\\\"pricing_method\\\":\\\"furini\\\",\\\"restricted_root_time\\\":77.52,\\\"final_root_time\\\":\\\"NaN\\\",\\\"build_and_solve_time\\\":\\\"NaN\\\",\\\"total_instance_time\\\":\\\"NaN\\\",\\\"final_pricing_time\\\":\\\"NaN\\\",\\\"iterated_pricing_time\\\":\\\"NaN\\\",\\\"restricted_pricing_time\\\":148.83753199400002,\\\"total_pricing_time\\\":\\\"NaN\\\",\\\"finished\\\":false,\\\"datafile\\\":\\\"jl_K2pAtg\\\"},{\\\"instance_name\\\":\\\"STS4\\\",\\\"lp_method\\\":\\\"barrier\\\",\\\"lp_method_switch\\\":\\\"only\\\",\\\"pricing_method\\\":\\\"none\\\",\\\"restricted_root_time\\\":\\\"NaN\\\",\\\"final_root_time\\\":44.78,\\\"build_and_solve_time\\\":58.81835603713989,\\\"total_instance_time\\\":59.019811323,\\\"final_pricing_time\\\":\\\"NaN\\\",\\\"iterated_pricing_time\\\":\\\"NaN\\\",\\\"restricted_pricing_time\\\":\\\"NaN\\\",\\\"total_pricing_time\\\":\\\"NaN\\\",\\\"finished\\\":true,\\\"datafile\\\":\\\"jl_PGXXvg\\\"},{\\\"instance_name\\\":\\\"okp4\\\",\\\"lp_method\\\":\\\"barrier\\\",\\\"lp_method_switch\\\":\\\"switch\\\",\\\"pricing_method\\\":\\\"furini\\\",\\\"restricted_root_time\\\":57.34,\\\"final_root_time\\\":0.08,\\\"build_and_solve_time\\\":219.4500880241394,\\\"total_instance_time\\\":219.452517589,\\\"final_pricing_time\\\":0.559741033,\\\"iterated_pricing_time\\\":75.896876184,\\\"restricted_pricing_time\\\":141.81748354500002,\\\"total_pricing_time\\\":218.308601879,\\\"finished\\\":true,\\\"datafile\\\":\\\"jl_PjCByc\\\"},{\\\"instance_name\\\":\\\"CU1\\\",\\\"lp_method\\\":\\\"simplex\\\",\\\"lp_method_switch\\\":\\\"only\\\",\\\"pricing_method\\\":\\\"furini\\\",\\\"restricted_root_time\\\":0.02,\\\"final_root_time\\\":0.0,\\\"build_and_solve_time\\\":83.15805697441101,\\\"total_instance_time\\\":83.158991638,\\\"final_pricing_time\\\":0.49642613500000005,\\\"iterated_pricing_time\\\":78.514196291,\\\"restricted_pricing_time\\\":3.131369089,\\\"total_pricing_time\\\":82.159259562,\\\"finished\\\":true,\\\"datafile\\\":\\\"jl_PnAH4g\\\"},{\\\"instance_name\\\":\\\"STS4\\\",\\\"lp_method\\\":\\\"simplex\\\",\\\"lp_method_switch\\\":\\\"only\\\",\\\"pricing_method\\\":\\\"none\\\",\\\"restricted_root_time\\\":\\\"NaN\\\",\\\"final_root_time\\\":120.36,\\\"build_and_solve_time\\\":131.79284811019897,\\\"total_instance_time\\\":132.012471442,\\\"final_pricing_time\\\":\\\"NaN\\\",\\\"iterated_pricing_time\\\":\\\"NaN\\\",\\\"restricted_pricing_time\\\":\\\"NaN\\\",\\\"total_pricing_time\\\":\\\"NaN\\\",\\\"finished\\\":true,\\\"datafile\\\":\\\"jl_Q8j4Mg\\\"},{\\\"instance_name\\\":\\\"okp1\\\",\\\"lp_method\\\":\\\"barrier\\\",\\\"lp_method_switch\\\":\\\"switch\\\",\\\"pricing_method\\\":\\\"furini\\\",\\\"restricted_root_time\\\":12.79,\\\"final_root_time\\\":0.87,\\\"build_and_solve_time\\\":53.72082495689392,\\\"total_instance_time\\\":53.754857833,\\\"final_pricing_time\\\":0.552366156,\\\"iterated_pricing_time\\\":17.990774878,\\\"restricted_pricing_time\\\":29.692220711,\\\"total_pricing_time\\\":48.373948639000005,\\\"finished\\\":true,\\\"datafile\\\":\\\"jl_RZQ9Vg\\\"},{\\\"instance_name\\\":\\\"okp1\\\",\\\"lp_method\\\":\\\"barrier\\\",\\\"lp_method_switch\\\":\\\"only\\\",\\\"pricing_method\\\":\\\"none\\\",\\\"restricted_root_time\\\":\\\"NaN\\\",\\\"final_root_time\\\":24.31,\\\"build_and_solve_time\\\":37.10814094543457,\\\"total_instance_time\\\":37.252553932,\\\"final_pricing_time\\\":\\\"NaN\\\",\\\"iterated_pricing_time\\\":\\\"NaN\\\",\\\"restricted_pricing_time\\\":\\\"NaN\\\",\\\"total_pricing_time\\\":\\\"NaN\\\",\\\"finished\\\":true,\\\"datafile\\\":\\\"jl_TFXAve\\\"},{\\\"instance_name\\\":\\\"A5\\\",\\\"lp_method\\\":\\\"barrier\\\",\\\"lp_method_switch\\\":\\\"only\\\",\\\"pricing_method\\\":\\\"furini\\\",\\\"restricted_root_time\\\":16.08,\\\"final_root_time\\\":\\\"NaN\\\",\\\"build_and_solve_time\\\":\\\"NaN\\\",\\\"total_instance_time\\\":\\\"NaN\\\",\\\"final_pricing_time\\\":\\\"NaN\\\",\\\"iterated_pricing_time\\\":\\\"NaN\\\",\\\"restricted_pricing_time\\\":40.454124651,\\\"total_pricing_time\\\":\\\"NaN\\\",\\\"finished\\\":false,\\\"datafile\\\":\\\"jl_UXpmeI\\\"},{\\\"instance_name\\\":\\\"CU1\\\",\\\"lp_method\\\":\\\"simplex\\\",\\\"lp_method_switch\\\":\\\"only\\\",\\\"pricing_method\\\":\\\"none\\\",\\\"restricted_root_time\\\":\\\"NaN\\\",\\\"final_root_time\\\":38.9,\\\"build_and_solve_time\\\":41.38890504837036,\\\"total_instance_time\\\":41.559736888,\\\"final_pricing_time\\\":\\\"NaN\\\",\\\"iterated_pricing_time\\\":\\\"NaN\\\",\\\"restricted_pricing_time\\\":\\\"NaN\\\",\\\"total_pricing_time\\\":\\\"NaN\\\",\\\"finished\\\":true,\\\"datafile\\\":\\\"jl_XOraHd\\\"},{\\\"instance_name\\\":\\\"gcut9\\\",\\\"lp_method\\\":\\\"simplex\\\",\\\"lp_method_switch\\\":\\\"only\\\",\\\"pricing_method\\\":\\\"furini\\\",\\\"restricted_root_time\\\":0.01,\\\"final_root_time\\\":0.29,\\\"build_and_solve_time\\\":21.338239908218384,\\\"total_instance_time\\\":21.347778379,\\\"final_pricing_time\\\":0.790987717,\\\"iterated_pricing_time\\\":16.069484401,\\\"restricted_pricing_time\\\":1.623962197,\\\"total_pricing_time\\\":18.691565584000003,\\\"finished\\\":true,\\\"datafile\\\":\\\"jl_XZ3pTe\\\"},{\\\"instance_name\\\":\\\"okp5\\\",\\\"lp_method\\\":\\\"simplex\\\",\\\"lp_method_switch\\\":\\\"only\\\",\\\"pricing_method\\\":\\\"furini\\\",\\\"restricted_root_time\\\":87.01,\\\"final_root_time\\\":0.02,\\\"build_and_solve_time\\\":439.6897430419922,\\\"total_instance_time\\\":439.695742099,\\\"final_pricing_time\\\":0.8645583160000001,\\\"iterated_pricing_time\\\":245.830847067,\\\"restricted_pricing_time\\\":191.50711463500002,\\\"total_pricing_time\\\":438.27373937500005,\\\"finished\\\":true,\\\"datafile\\\":\\\"jl_XhYjBf\\\"},{\\\"instance_name\\\":\\\"okp5\\\",\\\"lp_method\\\":\\\"barrier\\\",\\\"lp_method_switch\\\":\\\"only\\\",\\\"pricing_method\\\":\\\"furini\\\",\\\"restricted_root_time\\\":43.97,\\\"final_root_time\\\":\\\"NaN\\\",\\\"build_and_solve_time\\\":\\\"NaN\\\",\\\"total_instance_time\\\":\\\"NaN\\\",\\\"final_pricing_time\\\":\\\"NaN\\\",\\\"iterated_pricing_time\\\":\\\"NaN\\\",\\\"restricted_pricing_time\\\":90.878244769,\\\"total_pricing_time\\\":\\\"NaN\\\",\\\"finished\\\":false,\\\"datafile\\\":\\\"jl_Y5Zghf\\\"},{\\\"instance_name\\\":\\\"CU1\\\",\\\"lp_method\\\":\\\"barrier\\\",\\\"lp_method_switch\\\":\\\"only\\\",\\\"pricing_method\\\":\\\"furini\\\",\\\"restricted_root_time\\\":0.63,\\\"final_root_time\\\":0.0,\\\"build_and_solve_time\\\":3130.7250089645386,\\\"total_instance_time\\\":3130.726005667,\\\"final_pricing_time\\\":0.48618548,\\\"iterated_pricing_time\\\":3126.0051824,\\\"restricted_pricing_time\\\":3.260951513,\\\"total_pricing_time\\\":3129.776960603,\\\"finished\\\":true,\\\"datafile\\\":\\\"jl_agMjtg\\\"},{\\\"instance_name\\\":\\\"A5\\\",\\\"lp_method\\\":\\\"simplex\\\",\\\"lp_method_switch\\\":\\\"only\\\",\\\"pricing_method\\\":\\\"none\\\",\\\"restricted_root_time\\\":\\\"NaN\\\",\\\"final_root_time\\\":434.45,\\\"build_and_solve_time\\\":488.50833201408386,\\\"total_instance_time\\\":488.969924985,\\\"final_pricing_time\\\":\\\"NaN\\\",\\\"iterated_pricing_time\\\":\\\"NaN\\\",\\\"restricted_pricing_time\\\":\\\"NaN\\\",\\\"total_pricing_time\\\":\\\"NaN\\\",\\\"finished\\\":true,\\\"datafile\\\":\\\"jl_dUfmII\\\"},{\\\"instance_name\\\":\\\"okp1\\\",\\\"lp_method\\\":\\\"barrier\\\",\\\"lp_method_switch\\\":\\\"only\\\",\\\"pricing_method\\\":\\\"furini\\\",\\\"restricted_root_time\\\":15.97,\\\"final_root_time\\\":\\\"NaN\\\",\\\"build_and_solve_time\\\":\\\"NaN\\\",\\\"total_instance_time\\\":\\\"NaN\\\",\\\"final_pricing_time\\\":\\\"NaN\\\",\\\"iterated_pricing_time\\\":\\\"NaN\\\",\\\"restricted_pricing_time\\\":40.159267296,\\\"total_pricing_time\\\":\\\"NaN\\\",\\\"finished\\\":false,\\\"datafile\\\":\\\"jl_fv3uCe\\\"},{\\\"instance_name\\\":\\\"STS4s\\\",\\\"lp_method\\\":\\\"barrier\\\",\\\"lp_method_switch\\\":\\\"only\\\",\\\"pricing_method\\\":\\\"furini\\\",\\\"restricted_root_time\\\":7.91,\\\"final_root_time\\\":\\\"NaN\\\",\\\"build_and_solve_time\\\":\\\"NaN\\\",\\\"total_instance_time\\\":\\\"NaN\\\",\\\"final_pricing_time\\\":\\\"NaN\\\",\\\"iterated_pricing_time\\\":\\\"NaN\\\",\\\"restricted_pricing_time\\\":19.281534637,\\\"total_pricing_time\\\":\\\"NaN\\\",\\\"finished\\\":false,\\\"datafile\\\":\\\"jl_gSdxJc\\\"},{\\\"instance_name\\\":\\\"gcut9\\\",\\\"lp_method\\\":\\\"barrier\\\",\\\"lp_method_switch\\\":\\\"switch\\\",\\\"pricing_method\\\":\\\"furini\\\",\\\"restricted_root_time\\\":0.01,\\\"final_root_time\\\":0.74,\\\"build_and_solve_time\\\":18.087675094604492,\\\"total_instance_time\\\":18.096798787,\\\"final_pricing_time\\\":0.6466350350000001,\\\"iterated_pricing_time\\\":13.524293625,\\\"restricted_pricing_time\\\":1.533558417,\\\"total_pricing_time\\\":15.889065446000002,\\\"finished\\\":true,\\\"datafile\\\":\\\"jl_h1B3Ag\\\"},{\\\"instance_name\\\":\\\"gcut9\\\",\\\"lp_method\\\":\\\"barrier\\\",\\\"lp_method_switch\\\":\\\"only\\\",\\\"pricing_method\\\":\\\"none\\\",\\\"restricted_root_time\\\":\\\"NaN\\\",\\\"final_root_time\\\":42.6,\\\"build_and_solve_time\\\":51.6284818649292,\\\"total_instance_time\\\":51.814342033,\\\"final_pricing_time\\\":\\\"NaN\\\",\\\"iterated_pricing_time\\\":\\\"NaN\\\",\\\"restricted_pricing_time\\\":\\\"NaN\\\",\\\"total_pricing_time\\\":\\\"NaN\\\",\\\"finished\\\":true,\\\"datafile\\\":\\\"jl_hnnMZg\\\"},{\\\"instance_name\\\":\\\"okp4\\\",\\\"lp_method\\\":\\\"barrier\\\",\\\"lp_method_switch\\\":\\\"only\\\",\\\"pricing_method\\\":\\\"none\\\",\\\"restricted_root_time\\\":\\\"NaN\\\",\\\"final_root_time\\\":75.66,\\\"build_and_solve_time\\\":82.43107914924622,\\\"total_instance_time\\\":82.608981685,\\\"final_pricing_time\\\":\\\"NaN\\\",\\\"iterated_pricing_time\\\":\\\"NaN\\\",\\\"restricted_pricing_time\\\":\\\"NaN\\\",\\\"total_pricing_time\\\":\\\"NaN\\\",\\\"finished\\\":true,\\\"datafile\\\":\\\"jl_i9jllf\\\"},{\\\"instance_name\\\":\\\"okp5\\\",\\\"lp_method\\\":\\\"simplex\\\",\\\"lp_method_switch\\\":\\\"only\\\",\\\"pricing_method\\\":\\\"none\\\",\\\"restricted_root_time\\\":\\\"NaN\\\",\\\"final_root_time\\\":264.11,\\\"build_and_solve_time\\\":319.0115897655487,\\\"total_instance_time\\\":319.24853378,\\\"final_pricing_time\\\":\\\"NaN\\\",\\\"iterated_pricing_time\\\":\\\"NaN\\\",\\\"restricted_pricing_time\\\":\\\"NaN\\\",\\\"total_pricing_time\\\":\\\"NaN\\\",\\\"finished\\\":true,\\\"datafile\\\":\\\"jl_iLEnig\\\"},{\\\"instance_name\\\":\\\"STS4s\\\",\\\"lp_method\\\":\\\"simplex\\\",\\\"lp_method_switch\\\":\\\"only\\\",\\\"pricing_method\\\":\\\"furini\\\",\\\"restricted_root_time\\\":16.83,\\\"final_root_time\\\":0.0,\\\"build_and_solve_time\\\":110.62064695358276,\\\"total_instance_time\\\":110.622899546,\\\"final_pricing_time\\\":0.647201142,\\\"iterated_pricing_time\\\":67.453341604,\\\"restricted_pricing_time\\\":41.13986018,\\\"total_pricing_time\\\":109.267101283,\\\"finished\\\":true,\\\"datafile\\\":\\\"jl_lOoVOf\\\"},{\\\"instance_name\\\":\\\"STS4s\\\",\\\"lp_method\\\":\\\"barrier\\\",\\\"lp_method_switch\\\":\\\"switch\\\",\\\"pricing_method\\\":\\\"furini\\\",\\\"restricted_root_time\\\":15.56,\\\"final_root_time\\\":0.0,\\\"build_and_solve_time\\\":101.67762303352356,\\\"total_instance_time\\\":101.679829014,\\\"final_pricing_time\\\":0.6361518500000001,\\\"iterated_pricing_time\\\":61.914525960000006,\\\"restricted_pricing_time\\\":37.800186319000005,\\\"total_pricing_time\\\":100.376524472,\\\"finished\\\":true,\\\"datafile\\\":\\\"jl_m4tKLf\\\"},{\\\"instance_name\\\":\\\"okp4\\\",\\\"lp_method\\\":\\\"simplex\\\",\\\"lp_method_switch\\\":\\\"only\\\",\\\"pricing_method\\\":\\\"none\\\",\\\"restricted_root_time\\\":\\\"NaN\\\",\\\"final_root_time\\\":139.75,\\\"build_and_solve_time\\\":152.11415600776672,\\\"total_instance_time\\\":152.274576987,\\\"final_pricing_time\\\":\\\"NaN\\\",\\\"iterated_pricing_time\\\":\\\"NaN\\\",\\\"restricted_pricing_time\\\":\\\"NaN\\\",\\\"total_pricing_time\\\":\\\"NaN\\\",\\\"finished\\\":true,\\\"datafile\\\":\\\"jl_m4uKwc\\\"},{\\\"instance_name\\\":\\\"STS4\\\",\\\"lp_method\\\":\\\"simplex\\\",\\\"lp_method_switch\\\":\\\"only\\\",\\\"pricing_method\\\":\\\"furini\\\",\\\"restricted_root_time\\\":21.26,\\\"final_root_time\\\":0.32,\\\"build_and_solve_time\\\":106.7533130645752,\\\"total_instance_time\\\":106.761000566,\\\"final_pricing_time\\\":0.737674296,\\\"iterated_pricing_time\\\":65.602615333,\\\"restricted_pricing_time\\\":38.536990483000004,\\\"total_pricing_time\\\":104.93807025800001,\\\"finished\\\":true,\\\"datafile\\\":\\\"jl_pGyXuf\\\"},{\\\"instance_name\\\":\\\"gcut9\\\",\\\"lp_method\\\":\\\"simplex\\\",\\\"lp_method_switch\\\":\\\"only\\\",\\\"pricing_method\\\":\\\"none\\\",\\\"restricted_root_time\\\":\\\"NaN\\\",\\\"final_root_time\\\":205.28,\\\"build_and_solve_time\\\":253.4776451587677,\\\"total_instance_time\\\":253.672820233,\\\"final_pricing_time\\\":\\\"NaN\\\",\\\"iterated_pricing_time\\\":\\\"NaN\\\",\\\"restricted_pricing_time\\\":\\\"NaN\\\",\\\"total_pricing_time\\\":\\\"NaN\\\",\\\"finished\\\":true,\\\"datafile\\\":\\\"jl_q6LgQe\\\"},{\\\"instance_name\\\":\\\"okp1\\\",\\\"lp_method\\\":\\\"simplex\\\",\\\"lp_method_switch\\\":\\\"only\\\",\\\"pricing_method\\\":\\\"none\\\",\\\"restricted_root_time\\\":\\\"NaN\\\",\\\"final_root_time\\\":62.01,\\\"build_and_solve_time\\\":71.76519393920898,\\\"total_instance_time\\\":71.947082035,\\\"final_pricing_time\\\":\\\"NaN\\\",\\\"iterated_pricing_time\\\":\\\"NaN\\\",\\\"restricted_pricing_time\\\":\\\"NaN\\\",\\\"total_pricing_time\\\":\\\"NaN\\\",\\\"finished\\\":true,\\\"datafile\\\":\\\"jl_r0cTQe\\\"},{\\\"instance_name\\\":\\\"STS4s\\\",\\\"lp_method\\\":\\\"barrier\\\",\\\"lp_method_switch\\\":\\\"only\\\",\\\"pricing_method\\\":\\\"none\\\",\\\"restricted_root_time\\\":\\\"NaN\\\",\\\"final_root_time\\\":42.22,\\\"build_and_solve_time\\\":49.41793990135193,\\\"total_instance_time\\\":49.613297357,\\\"final_pricing_time\\\":\\\"NaN\\\",\\\"iterated_pricing_time\\\":\\\"NaN\\\",\\\"restricted_pricing_time\\\":\\\"NaN\\\",\\\"total_pricing_time\\\":\\\"NaN\\\",\\\"finished\\\":true,\\\"datafile\\\":\\\"jl_sU0xSf\\\"},{\\\"instance_name\\\":\\\"A5\\\",\\\"lp_method\\\":\\\"barrier\\\",\\\"lp_method_switch\\\":\\\"switch\\\",\\\"pricing_method\\\":\\\"furini\\\",\\\"restricted_root_time\\\":23.64,\\\"final_root_time\\\":21.44,\\\"build_and_solve_time\\\":260.5032629966736,\\\"total_instance_time\\\":260.573072126,\\\"final_pricing_time\\\":1.482969251,\\\"iterated_pricing_time\\\":168.57567028100001,\\\"restricted_pricing_time\\\":57.590112439,\\\"total_pricing_time\\\":227.84336852200002,\\\"finished\\\":true,\\\"datafile\\\":\\\"jl_vzwrkK\\\"},{\\\"instance_name\\\":\\\"okp5\\\",\\\"lp_method\\\":\\\"barrier\\\",\\\"lp_method_switch\\\":\\\"switch\\\",\\\"pricing_method\\\":\\\"furini\\\",\\\"restricted_root_time\\\":81.87,\\\"final_root_time\\\":0.09,\\\"build_and_solve_time\\\":414.4075779914856,\\\"total_instance_time\\\":414.410032608,\\\"final_pricing_time\\\":0.8263597960000001,\\\"iterated_pricing_time\\\":232.079308604,\\\"restricted_pricing_time\\\":180.023592154,\\\"total_pricing_time\\\":412.998264065,\\\"finished\\\":true,\\\"datafile\\\":\\\"jl_wSIcmf\\\"},{\\\"instance_name\\\":\\\"okp4\\\",\\\"lp_method\\\":\\\"simplex\\\",\\\"lp_method_switch\\\":\\\"only\\\",\\\"pricing_method\\\":\\\"furini\\\",\\\"restricted_root_time\\\":61.3,\\\"final_root_time\\\":0.01,\\\"build_and_solve_time\\\":231.17898893356323,\\\"total_instance_time\\\":231.181829671,\\\"final_pricing_time\\\":0.601121715,\\\"iterated_pricing_time\\\":79.735008707,\\\"restricted_pricing_time\\\":149.662026685,\\\"total_pricing_time\\\":230.03435190300002,\\\"finished\\\":true,\\\"datafile\\\":\\\"jl_yxJXgg\\\"}],\\\"onCellClicked\\\":(function (ev){var x={}; (ev.rowIndex!==undefined) ? (x[\\\"rowIndex\\\"]=(ev.rowIndex+1)) : undefined; (ev.colDef!==undefined) ? (x[\\\"column\\\"]=ev.colDef.headerName) : undefined; return WebIO.setval({\\\"name\\\":\\\"onCellClicked\\\",\\\"scope\\\":\\\"4350808324289968833\\\",\\\"id\\\":\\\"ob_01\\\",\\\"type\\\":\\\"observable\\\"},x)})}; var el=document.getElementById(\\\"grid-0f3a79de\\\"); gridOptions.components={\\\"rowNumberRenderer\\\":RowNumberRenderer}; this.table=new agGrid.Grid(el,gridOptions); gridOptions.columnApi.autoSizeColumn(\\\"__row__\\\"); return gridOptions.columnApi.autoSizeColumns([\\\"instance_name\\\",\\\"lp_method\\\",\\\"lp_method_switch\\\",\\\"pricing_method\\\",\\\"restricted_root_time\\\",\\\"final_root_time\\\",\\\"build_and_solve_time\\\",\\\"total_instance_time\\\",\\\"final_pricing_time\\\",\\\"iterated_pricing_time\\\",\\\"restricted_pricing_time\\\",\\\"total_pricing_time\\\",\\\"finished\\\",\\\"datafile\\\"])}));\\n    (WebIO.importBlock({\\\"data\\\":[{\\\"name\\\":null,\\\"type\\\":\\\"js\\\",\\\"url\\\":\\\"/assetserver/0590277e57f9dce38c944f556c3d3f3537505baf-rowNumberRenderer.js\\\"},{\\\"name\\\":null,\\\"type\\\":\\\"js\\\",\\\"url\\\":\\\"/assetserver/4c1301a0647c04ca15698ec91c7948d0d808ae4e-ag-grid.js\\\"},{\\\"name\\\":null,\\\"type\\\":\\\"css\\\",\\\"url\\\":\\\"/assetserver/2fc78d8695c17bdfaf311ef6969766c669cc3259-ag-grid.css\\\"},{\\\"name\\\":null,\\\"type\\\":\\\"css\\\",\\\"url\\\":\\\"/assetserver/5fc5fa256baa60ef6cfb2f781fbe8b1e3528c443-ag-grid-light.css\\\"},{\\\"name\\\":null,\\\"type\\\":\\\"css\\\",\\\"url\\\":\\\"/assetserver/885a5d8cdc6d7b90593d781d742de9279d70e324-ag-grid-dark.css\\\"}],\\\"type\\\":\\\"async_block\\\"})).then((imports) => handler.apply(this, imports));\\n}\\n\")])"
      ]
     },
     "execution_count": 4,
     "metadata": {
      "application/vnd.webio.node+json": {
       "kernelId": "f223ee56-6dc1-4681-8878-c3fbcc239198"
      }
     },
     "output_type": "execute_result"
    }
   ],
   "source": [
    "# Shows the cleaned data.\n",
    "println(names(lp_method_df))\n",
    "showtable(lp_method_df)"
   ]
  },
  {
   "cell_type": "code",
   "execution_count": 196,
   "metadata": {},
   "outputs": [
    {
     "data": {
      "text/html": [
       "<table class=\"data-frame\"><thead><tr><th></th><th>instance_name</th><th>lp_method</th><th>lp_method_switch</th><th>pricing_method</th><th>total_instance_time</th></tr><tr><th></th><th>String</th><th>String</th><th>String</th><th>String</th><th>Float64</th></tr></thead><tbody><p>6 rows × 5 columns</p><tr><th>1</th><td>STS4</td><td>barrier</td><td>only</td><td>furini</td><td>NaN</td></tr><tr><th>2</th><td>okp4</td><td>barrier</td><td>only</td><td>furini</td><td>NaN</td></tr><tr><th>3</th><td>A5</td><td>barrier</td><td>only</td><td>furini</td><td>NaN</td></tr><tr><th>4</th><td>okp5</td><td>barrier</td><td>only</td><td>furini</td><td>NaN</td></tr><tr><th>5</th><td>okp1</td><td>barrier</td><td>only</td><td>furini</td><td>NaN</td></tr><tr><th>6</th><td>STS4s</td><td>barrier</td><td>only</td><td>furini</td><td>NaN</td></tr></tbody></table>"
      ],
      "text/latex": [
       "\\begin{tabular}{r|ccccc}\n",
       "\t& instance\\_name & lp\\_method & lp\\_method\\_switch & pricing\\_method & total\\_instance\\_time\\\\\n",
       "\t\\hline\n",
       "\t& String & String & String & String & Float64\\\\\n",
       "\t\\hline\n",
       "\t1 & STS4 & barrier & only & furini & NaN \\\\\n",
       "\t2 & okp4 & barrier & only & furini & NaN \\\\\n",
       "\t3 & A5 & barrier & only & furini & NaN \\\\\n",
       "\t4 & okp5 & barrier & only & furini & NaN \\\\\n",
       "\t5 & okp1 & barrier & only & furini & NaN \\\\\n",
       "\t6 & STS4s & barrier & only & furini & NaN \\\\\n",
       "\\end{tabular}\n"
      ],
      "text/plain": [
       "6×5 DataFrame. Omitted printing of 1 columns\n",
       "│ Row │ instance_name │ lp_method │ lp_method_switch │ pricing_method │\n",
       "│     │ \u001b[90mString\u001b[39m        │ \u001b[90mString\u001b[39m    │ \u001b[90mString\u001b[39m           │ \u001b[90mString\u001b[39m         │\n",
       "├─────┼───────────────┼───────────┼──────────────────┼────────────────┤\n",
       "│ 1   │ STS4          │ barrier   │ only             │ furini         │\n",
       "│ 2   │ okp4          │ barrier   │ only             │ furini         │\n",
       "│ 3   │ A5            │ barrier   │ only             │ furini         │\n",
       "│ 4   │ okp5          │ barrier   │ only             │ furini         │\n",
       "│ 5   │ okp1          │ barrier   │ only             │ furini         │\n",
       "│ 6   │ STS4s         │ barrier   │ only             │ furini         │"
      ]
     },
     "execution_count": 196,
     "metadata": {},
     "output_type": "execute_result"
    }
   ],
   "source": [
    "# Just checking which instances ended in timeout.\n",
    "@linq lp_method_df |>\n",
    "    where(:finished .== false) |>\n",
    "    select(:instance_name, :lp_method, :lp_method_switch, :pricing_method, :total_instance_time)"
   ]
  },
  {
   "cell_type": "code",
   "execution_count": 197,
   "metadata": {},
   "outputs": [
    {
     "data": {
      "application/vnd.webio.node+json": {
       "children": [
        {
         "children": [
          {
           "children": [
            ""
           ],
           "instanceArgs": {
            "namespace": "html",
            "tag": "div"
           },
           "nodeType": "DOM",
           "props": {
            "style": {
             "background-color": "#F5F7F7",
             "color": "#1c1f20",
             "font-family": "-apple-system, BlinkMacSystemFont, \"Segoe UI\", Roboto, Oxygen-Sans, Ubuntu, Cantarell, \"Helvetica Neue\", sans-serif",
             "height": "0",
             "padding": "0"
            }
           },
           "type": "node"
          },
          {
           "children": [],
           "instanceArgs": {
            "namespace": "html",
            "tag": "div"
           },
           "nodeType": "DOM",
           "props": {
            "className": "ag-theme-balham",
            "id": "grid-249d2710",
            "style": {
             "height": "500px",
             "width": "100%"
            }
           },
           "type": "node"
          }
         ],
         "instanceArgs": {
          "namespace": "html",
          "tag": "div"
         },
         "nodeType": "DOM",
         "props": {},
         "type": "node"
        }
       ],
       "instanceArgs": {
        "handlers": {},
        "id": "14327599217283468713",
        "imports": {
         "data": [
          {
           "name": null,
           "type": "js",
           "url": "/assetserver/0590277e57f9dce38c944f556c3d3f3537505baf-rowNumberRenderer.js"
          },
          {
           "name": null,
           "type": "js",
           "url": "/assetserver/4c1301a0647c04ca15698ec91c7948d0d808ae4e-ag-grid.js"
          },
          {
           "name": null,
           "type": "css",
           "url": "/assetserver/2fc78d8695c17bdfaf311ef6969766c669cc3259-ag-grid.css"
          },
          {
           "name": null,
           "type": "css",
           "url": "/assetserver/5fc5fa256baa60ef6cfb2f781fbe8b1e3528c443-ag-grid-light.css"
          },
          {
           "name": null,
           "type": "css",
           "url": "/assetserver/885a5d8cdc6d7b90593d781d742de9279d70e324-ag-grid-dark.css"
          }
         ],
         "type": "async_block"
        },
        "mount_callbacks": [
         "function () {\n    var handler = ((function (RowNumberRenderer,agGrid){var gridOptions={\"onCellFocused\":(function (ev){var x={}; (ev.rowIndex!==undefined) ? (x[\"rowIndex\"]=(ev.rowIndex+1)) : undefined; (ev.colDef!==undefined) ? (x[\"column\"]=ev.colDef.headerName) : undefined; return WebIO.setval({\"name\":\"onCellFocused\",\"scope\":\"14327599217283468713\",\"id\":\"ob_159\",\"type\":\"observable\"},x)}),\"onCellValueChanged\":(function (){return }),\"onCellDoubleClicked\":(function (ev){var x={}; (ev.rowIndex!==undefined) ? (x[\"rowIndex\"]=(ev.rowIndex+1)) : undefined; (ev.colDef!==undefined) ? (x[\"column\"]=ev.colDef.headerName) : undefined; return WebIO.setval({\"name\":\"onCellDoubleClicked\",\"scope\":\"14327599217283468713\",\"id\":\"ob_157\",\"type\":\"observable\"},x)}),\"multiSortKey\":\"ctrl\",\"columnDefs\":[{\"filter\":false,\"editable\":false,\"headerTooltip\":\"\",\"field\":\"__row__\",\"headerName\":\"Row\",\"sortable\":true,\"type\":\"numericColumn\",\"cellRenderer\":\"rowNumberRenderer\",\"resizable\":true},{\"filter\":true,\"editable\":false,\"headerTooltip\":\"String\",\"field\":\"instance_name\",\"headerName\":\"instance_name\",\"sortable\":true,\"type\":null,\"resizable\":true},{\"filter\":true,\"editable\":false,\"headerTooltip\":\"String\",\"field\":\"params\",\"headerName\":\"params\",\"sortable\":true,\"type\":null,\"resizable\":true},{\"filter\":true,\"editable\":false,\"headerTooltip\":\"String\",\"field\":\"build_and_solve_time\",\"headerName\":\"build_and_solve_time\",\"sortable\":true,\"type\":null,\"resizable\":true}],\"onRowClicked\":(function (ev){var x={}; (ev.rowIndex!==undefined) ? (x[\"rowIndex\"]=(ev.rowIndex+1)) : undefined; (ev.colDef!==undefined) ? (x[\"column\"]=ev.colDef.headerName) : undefined; return WebIO.setval({\"name\":\"onRowClicked\",\"scope\":\"14327599217283468713\",\"id\":\"ob_158\",\"type\":\"observable\"},x)}),\"onCellKeyDown\":(function (ev){var x={}; (ev.rowIndex!==undefined) ? (x[\"rowIndex\"]=(ev.rowIndex+1)) : undefined; (ev.colDef!==undefined) ? (x[\"column\"]=ev.colDef.headerName) : undefined; return WebIO.setval({\"name\":\"onCellKeyDown\",\"scope\":\"14327599217283468713\",\"id\":\"ob_160\",\"type\":\"observable\"},x)}),\"rowData\":[{\"instance_name\":\"okp5\",\"params\":\"NP B\",\"build_and_solve_time\":\"81.63\"},{\"instance_name\":\"STS4\",\"params\":\"FP DS+B\",\"build_and_solve_time\":\"97.24\"},{\"instance_name\":\"okp1\",\"params\":\"FP DS\",\"build_and_solve_time\":\"54.78\"},{\"instance_name\":\"STS4\",\"params\":\"FP B\",\"build_and_solve_time\":\"--\"},{\"instance_name\":\"CU1\",\"params\":\"FP DS+B\",\"build_and_solve_time\":\"77.97\"},{\"instance_name\":\"STS4s\",\"params\":\"NP DS\",\"build_and_solve_time\":\"139.08\"},{\"instance_name\":\"A5\",\"params\":\"FP DS\",\"build_and_solve_time\":\"296.42\"},{\"instance_name\":\"A5\",\"params\":\"NP B\",\"build_and_solve_time\":\"259.72\"},{\"instance_name\":\"CU1\",\"params\":\"NP B\",\"build_and_solve_time\":\"26.05\"},{\"instance_name\":\"gcut9\",\"params\":\"FP B\",\"build_and_solve_time\":\"2958.12\"},{\"instance_name\":\"okp4\",\"params\":\"FP B\",\"build_and_solve_time\":\"--\"},{\"instance_name\":\"STS4\",\"params\":\"NP B\",\"build_and_solve_time\":\"58.82\"},{\"instance_name\":\"okp4\",\"params\":\"FP DS+B\",\"build_and_solve_time\":\"219.45\"},{\"instance_name\":\"CU1\",\"params\":\"FP DS\",\"build_and_solve_time\":\"83.16\"},{\"instance_name\":\"STS4\",\"params\":\"NP DS\",\"build_and_solve_time\":\"131.79\"},{\"instance_name\":\"okp1\",\"params\":\"FP DS+B\",\"build_and_solve_time\":\"53.72\"},{\"instance_name\":\"okp1\",\"params\":\"NP B\",\"build_and_solve_time\":\"37.11\"},{\"instance_name\":\"A5\",\"params\":\"FP B\",\"build_and_solve_time\":\"--\"},{\"instance_name\":\"CU1\",\"params\":\"NP DS\",\"build_and_solve_time\":\"41.39\"},{\"instance_name\":\"gcut9\",\"params\":\"FP DS\",\"build_and_solve_time\":\"21.34\"},{\"instance_name\":\"okp5\",\"params\":\"FP DS\",\"build_and_solve_time\":\"439.69\"},{\"instance_name\":\"okp5\",\"params\":\"FP B\",\"build_and_solve_time\":\"--\"},{\"instance_name\":\"CU1\",\"params\":\"FP B\",\"build_and_solve_time\":\"3130.73\"},{\"instance_name\":\"A5\",\"params\":\"NP DS\",\"build_and_solve_time\":\"488.51\"},{\"instance_name\":\"okp1\",\"params\":\"FP B\",\"build_and_solve_time\":\"--\"},{\"instance_name\":\"STS4s\",\"params\":\"FP B\",\"build_and_solve_time\":\"--\"},{\"instance_name\":\"gcut9\",\"params\":\"FP DS+B\",\"build_and_solve_time\":\"18.09\"},{\"instance_name\":\"gcut9\",\"params\":\"NP B\",\"build_and_solve_time\":\"51.63\"},{\"instance_name\":\"okp4\",\"params\":\"NP B\",\"build_and_solve_time\":\"82.43\"},{\"instance_name\":\"okp5\",\"params\":\"NP DS\",\"build_and_solve_time\":\"319.01\"},{\"instance_name\":\"STS4s\",\"params\":\"FP DS\",\"build_and_solve_time\":\"110.62\"},{\"instance_name\":\"STS4s\",\"params\":\"FP DS+B\",\"build_and_solve_time\":\"101.68\"},{\"instance_name\":\"okp4\",\"params\":\"NP DS\",\"build_and_solve_time\":\"152.11\"},{\"instance_name\":\"STS4\",\"params\":\"FP DS\",\"build_and_solve_time\":\"106.75\"},{\"instance_name\":\"gcut9\",\"params\":\"NP DS\",\"build_and_solve_time\":\"253.48\"},{\"instance_name\":\"okp1\",\"params\":\"NP DS\",\"build_and_solve_time\":\"71.77\"},{\"instance_name\":\"STS4s\",\"params\":\"NP B\",\"build_and_solve_time\":\"49.42\"},{\"instance_name\":\"A5\",\"params\":\"FP DS+B\",\"build_and_solve_time\":\"260.50\"},{\"instance_name\":\"okp5\",\"params\":\"FP DS+B\",\"build_and_solve_time\":\"414.41\"},{\"instance_name\":\"okp4\",\"params\":\"FP DS\",\"build_and_solve_time\":\"231.18\"}],\"onCellClicked\":(function (ev){var x={}; (ev.rowIndex!==undefined) ? (x[\"rowIndex\"]=(ev.rowIndex+1)) : undefined; (ev.colDef!==undefined) ? (x[\"column\"]=ev.colDef.headerName) : undefined; return WebIO.setval({\"name\":\"onCellClicked\",\"scope\":\"14327599217283468713\",\"id\":\"ob_156\",\"type\":\"observable\"},x)})}; var el=document.getElementById(\"grid-249d2710\"); gridOptions.components={\"rowNumberRenderer\":RowNumberRenderer}; this.table=new agGrid.Grid(el,gridOptions); gridOptions.columnApi.autoSizeColumn(\"__row__\"); return gridOptions.columnApi.autoSizeColumns([\"instance_name\",\"params\",\"build_and_solve_time\"])}));\n    (WebIO.importBlock({\"data\":[{\"name\":null,\"type\":\"js\",\"url\":\"/assetserver/0590277e57f9dce38c944f556c3d3f3537505baf-rowNumberRenderer.js\"},{\"name\":null,\"type\":\"js\",\"url\":\"/assetserver/4c1301a0647c04ca15698ec91c7948d0d808ae4e-ag-grid.js\"},{\"name\":null,\"type\":\"css\",\"url\":\"/assetserver/2fc78d8695c17bdfaf311ef6969766c669cc3259-ag-grid.css\"},{\"name\":null,\"type\":\"css\",\"url\":\"/assetserver/5fc5fa256baa60ef6cfb2f781fbe8b1e3528c443-ag-grid-light.css\"},{\"name\":null,\"type\":\"css\",\"url\":\"/assetserver/885a5d8cdc6d7b90593d781d742de9279d70e324-ag-grid-dark.css\"}],\"type\":\"async_block\"})).then((imports) => handler.apply(this, imports));\n}\n"
        ],
        "observables": {
         "onCellClicked": {
          "id": "ob_156",
          "sync": false,
          "value": null
         },
         "onCellDoubleClicked": {
          "id": "ob_157",
          "sync": false,
          "value": null
         },
         "onCellFocused": {
          "id": "ob_159",
          "sync": false,
          "value": null
         },
         "onCellKeyDown": {
          "id": "ob_160",
          "sync": false,
          "value": null
         },
         "onRowClicked": {
          "id": "ob_158",
          "sync": false,
          "value": null
         }
        },
        "systemjs_options": null
       },
       "nodeType": "Scope",
       "props": {},
       "type": "node"
      },
      "text/html": [
       "<div\n",
       "    class=\"webio-mountpoint\"\n",
       "    data-webio-mountpoint=\"17978221285985034446\"\n",
       ">\n",
       "    <script>\n",
       "    if (window.require && require.defined && require.defined(\"nbextensions/webio-jupyter-notebook\")) {\n",
       "        console.log(\"Jupyter WebIO extension detected, not mounting.\");\n",
       "    } else if (window.WebIO) {\n",
       "        WebIO.mount(\n",
       "            document.querySelector('[data-webio-mountpoint=\"17978221285985034446\"]'),\n",
       "            {\"props\":{},\"nodeType\":\"Scope\",\"type\":\"node\",\"instanceArgs\":{\"imports\":{\"data\":[{\"name\":null,\"type\":\"js\",\"url\":\"\\/assetserver\\/0590277e57f9dce38c944f556c3d3f3537505baf-rowNumberRenderer.js\"},{\"name\":null,\"type\":\"js\",\"url\":\"\\/assetserver\\/4c1301a0647c04ca15698ec91c7948d0d808ae4e-ag-grid.js\"},{\"name\":null,\"type\":\"css\",\"url\":\"\\/assetserver\\/2fc78d8695c17bdfaf311ef6969766c669cc3259-ag-grid.css\"},{\"name\":null,\"type\":\"css\",\"url\":\"\\/assetserver\\/5fc5fa256baa60ef6cfb2f781fbe8b1e3528c443-ag-grid-light.css\"},{\"name\":null,\"type\":\"css\",\"url\":\"\\/assetserver\\/885a5d8cdc6d7b90593d781d742de9279d70e324-ag-grid-dark.css\"}],\"type\":\"async_block\"},\"id\":\"14327599217283468713\",\"handlers\":{},\"systemjs_options\":null,\"mount_callbacks\":[\"function () {\\n    var handler = ((function (RowNumberRenderer,agGrid){var gridOptions={\\\"onCellFocused\\\":(function (ev){var x={}; (ev.rowIndex!==undefined) ? (x[\\\"rowIndex\\\"]=(ev.rowIndex+1)) : undefined; (ev.colDef!==undefined) ? (x[\\\"column\\\"]=ev.colDef.headerName) : undefined; return WebIO.setval({\\\"name\\\":\\\"onCellFocused\\\",\\\"scope\\\":\\\"14327599217283468713\\\",\\\"id\\\":\\\"ob_159\\\",\\\"type\\\":\\\"observable\\\"},x)}),\\\"onCellValueChanged\\\":(function (){return }),\\\"onCellDoubleClicked\\\":(function (ev){var x={}; (ev.rowIndex!==undefined) ? (x[\\\"rowIndex\\\"]=(ev.rowIndex+1)) : undefined; (ev.colDef!==undefined) ? (x[\\\"column\\\"]=ev.colDef.headerName) : undefined; return WebIO.setval({\\\"name\\\":\\\"onCellDoubleClicked\\\",\\\"scope\\\":\\\"14327599217283468713\\\",\\\"id\\\":\\\"ob_157\\\",\\\"type\\\":\\\"observable\\\"},x)}),\\\"multiSortKey\\\":\\\"ctrl\\\",\\\"columnDefs\\\":[{\\\"filter\\\":false,\\\"editable\\\":false,\\\"headerTooltip\\\":\\\"\\\",\\\"field\\\":\\\"__row__\\\",\\\"headerName\\\":\\\"Row\\\",\\\"sortable\\\":true,\\\"type\\\":\\\"numericColumn\\\",\\\"cellRenderer\\\":\\\"rowNumberRenderer\\\",\\\"resizable\\\":true},{\\\"filter\\\":true,\\\"editable\\\":false,\\\"headerTooltip\\\":\\\"String\\\",\\\"field\\\":\\\"instance_name\\\",\\\"headerName\\\":\\\"instance_name\\\",\\\"sortable\\\":true,\\\"type\\\":null,\\\"resizable\\\":true},{\\\"filter\\\":true,\\\"editable\\\":false,\\\"headerTooltip\\\":\\\"String\\\",\\\"field\\\":\\\"params\\\",\\\"headerName\\\":\\\"params\\\",\\\"sortable\\\":true,\\\"type\\\":null,\\\"resizable\\\":true},{\\\"filter\\\":true,\\\"editable\\\":false,\\\"headerTooltip\\\":\\\"String\\\",\\\"field\\\":\\\"build_and_solve_time\\\",\\\"headerName\\\":\\\"build_and_solve_time\\\",\\\"sortable\\\":true,\\\"type\\\":null,\\\"resizable\\\":true}],\\\"onRowClicked\\\":(function (ev){var x={}; (ev.rowIndex!==undefined) ? (x[\\\"rowIndex\\\"]=(ev.rowIndex+1)) : undefined; (ev.colDef!==undefined) ? (x[\\\"column\\\"]=ev.colDef.headerName) : undefined; return WebIO.setval({\\\"name\\\":\\\"onRowClicked\\\",\\\"scope\\\":\\\"14327599217283468713\\\",\\\"id\\\":\\\"ob_158\\\",\\\"type\\\":\\\"observable\\\"},x)}),\\\"onCellKeyDown\\\":(function (ev){var x={}; (ev.rowIndex!==undefined) ? (x[\\\"rowIndex\\\"]=(ev.rowIndex+1)) : undefined; (ev.colDef!==undefined) ? (x[\\\"column\\\"]=ev.colDef.headerName) : undefined; return WebIO.setval({\\\"name\\\":\\\"onCellKeyDown\\\",\\\"scope\\\":\\\"14327599217283468713\\\",\\\"id\\\":\\\"ob_160\\\",\\\"type\\\":\\\"observable\\\"},x)}),\\\"rowData\\\":[{\\\"instance_name\\\":\\\"okp5\\\",\\\"params\\\":\\\"NP B\\\",\\\"build_and_solve_time\\\":\\\"81.63\\\"},{\\\"instance_name\\\":\\\"STS4\\\",\\\"params\\\":\\\"FP DS+B\\\",\\\"build_and_solve_time\\\":\\\"97.24\\\"},{\\\"instance_name\\\":\\\"okp1\\\",\\\"params\\\":\\\"FP DS\\\",\\\"build_and_solve_time\\\":\\\"54.78\\\"},{\\\"instance_name\\\":\\\"STS4\\\",\\\"params\\\":\\\"FP B\\\",\\\"build_and_solve_time\\\":\\\"--\\\"},{\\\"instance_name\\\":\\\"CU1\\\",\\\"params\\\":\\\"FP DS+B\\\",\\\"build_and_solve_time\\\":\\\"77.97\\\"},{\\\"instance_name\\\":\\\"STS4s\\\",\\\"params\\\":\\\"NP DS\\\",\\\"build_and_solve_time\\\":\\\"139.08\\\"},{\\\"instance_name\\\":\\\"A5\\\",\\\"params\\\":\\\"FP DS\\\",\\\"build_and_solve_time\\\":\\\"296.42\\\"},{\\\"instance_name\\\":\\\"A5\\\",\\\"params\\\":\\\"NP B\\\",\\\"build_and_solve_time\\\":\\\"259.72\\\"},{\\\"instance_name\\\":\\\"CU1\\\",\\\"params\\\":\\\"NP B\\\",\\\"build_and_solve_time\\\":\\\"26.05\\\"},{\\\"instance_name\\\":\\\"gcut9\\\",\\\"params\\\":\\\"FP B\\\",\\\"build_and_solve_time\\\":\\\"2958.12\\\"},{\\\"instance_name\\\":\\\"okp4\\\",\\\"params\\\":\\\"FP B\\\",\\\"build_and_solve_time\\\":\\\"--\\\"},{\\\"instance_name\\\":\\\"STS4\\\",\\\"params\\\":\\\"NP B\\\",\\\"build_and_solve_time\\\":\\\"58.82\\\"},{\\\"instance_name\\\":\\\"okp4\\\",\\\"params\\\":\\\"FP DS+B\\\",\\\"build_and_solve_time\\\":\\\"219.45\\\"},{\\\"instance_name\\\":\\\"CU1\\\",\\\"params\\\":\\\"FP DS\\\",\\\"build_and_solve_time\\\":\\\"83.16\\\"},{\\\"instance_name\\\":\\\"STS4\\\",\\\"params\\\":\\\"NP DS\\\",\\\"build_and_solve_time\\\":\\\"131.79\\\"},{\\\"instance_name\\\":\\\"okp1\\\",\\\"params\\\":\\\"FP DS+B\\\",\\\"build_and_solve_time\\\":\\\"53.72\\\"},{\\\"instance_name\\\":\\\"okp1\\\",\\\"params\\\":\\\"NP B\\\",\\\"build_and_solve_time\\\":\\\"37.11\\\"},{\\\"instance_name\\\":\\\"A5\\\",\\\"params\\\":\\\"FP B\\\",\\\"build_and_solve_time\\\":\\\"--\\\"},{\\\"instance_name\\\":\\\"CU1\\\",\\\"params\\\":\\\"NP DS\\\",\\\"build_and_solve_time\\\":\\\"41.39\\\"},{\\\"instance_name\\\":\\\"gcut9\\\",\\\"params\\\":\\\"FP DS\\\",\\\"build_and_solve_time\\\":\\\"21.34\\\"},{\\\"instance_name\\\":\\\"okp5\\\",\\\"params\\\":\\\"FP DS\\\",\\\"build_and_solve_time\\\":\\\"439.69\\\"},{\\\"instance_name\\\":\\\"okp5\\\",\\\"params\\\":\\\"FP B\\\",\\\"build_and_solve_time\\\":\\\"--\\\"},{\\\"instance_name\\\":\\\"CU1\\\",\\\"params\\\":\\\"FP B\\\",\\\"build_and_solve_time\\\":\\\"3130.73\\\"},{\\\"instance_name\\\":\\\"A5\\\",\\\"params\\\":\\\"NP DS\\\",\\\"build_and_solve_time\\\":\\\"488.51\\\"},{\\\"instance_name\\\":\\\"okp1\\\",\\\"params\\\":\\\"FP B\\\",\\\"build_and_solve_time\\\":\\\"--\\\"},{\\\"instance_name\\\":\\\"STS4s\\\",\\\"params\\\":\\\"FP B\\\",\\\"build_and_solve_time\\\":\\\"--\\\"},{\\\"instance_name\\\":\\\"gcut9\\\",\\\"params\\\":\\\"FP DS+B\\\",\\\"build_and_solve_time\\\":\\\"18.09\\\"},{\\\"instance_name\\\":\\\"gcut9\\\",\\\"params\\\":\\\"NP B\\\",\\\"build_and_solve_time\\\":\\\"51.63\\\"},{\\\"instance_name\\\":\\\"okp4\\\",\\\"params\\\":\\\"NP B\\\",\\\"build_and_solve_time\\\":\\\"82.43\\\"},{\\\"instance_name\\\":\\\"okp5\\\",\\\"params\\\":\\\"NP DS\\\",\\\"build_and_solve_time\\\":\\\"319.01\\\"},{\\\"instance_name\\\":\\\"STS4s\\\",\\\"params\\\":\\\"FP DS\\\",\\\"build_and_solve_time\\\":\\\"110.62\\\"},{\\\"instance_name\\\":\\\"STS4s\\\",\\\"params\\\":\\\"FP DS+B\\\",\\\"build_and_solve_time\\\":\\\"101.68\\\"},{\\\"instance_name\\\":\\\"okp4\\\",\\\"params\\\":\\\"NP DS\\\",\\\"build_and_solve_time\\\":\\\"152.11\\\"},{\\\"instance_name\\\":\\\"STS4\\\",\\\"params\\\":\\\"FP DS\\\",\\\"build_and_solve_time\\\":\\\"106.75\\\"},{\\\"instance_name\\\":\\\"gcut9\\\",\\\"params\\\":\\\"NP DS\\\",\\\"build_and_solve_time\\\":\\\"253.48\\\"},{\\\"instance_name\\\":\\\"okp1\\\",\\\"params\\\":\\\"NP DS\\\",\\\"build_and_solve_time\\\":\\\"71.77\\\"},{\\\"instance_name\\\":\\\"STS4s\\\",\\\"params\\\":\\\"NP B\\\",\\\"build_and_solve_time\\\":\\\"49.42\\\"},{\\\"instance_name\\\":\\\"A5\\\",\\\"params\\\":\\\"FP DS+B\\\",\\\"build_and_solve_time\\\":\\\"260.50\\\"},{\\\"instance_name\\\":\\\"okp5\\\",\\\"params\\\":\\\"FP DS+B\\\",\\\"build_and_solve_time\\\":\\\"414.41\\\"},{\\\"instance_name\\\":\\\"okp4\\\",\\\"params\\\":\\\"FP DS\\\",\\\"build_and_solve_time\\\":\\\"231.18\\\"}],\\\"onCellClicked\\\":(function (ev){var x={}; (ev.rowIndex!==undefined) ? (x[\\\"rowIndex\\\"]=(ev.rowIndex+1)) : undefined; (ev.colDef!==undefined) ? (x[\\\"column\\\"]=ev.colDef.headerName) : undefined; return WebIO.setval({\\\"name\\\":\\\"onCellClicked\\\",\\\"scope\\\":\\\"14327599217283468713\\\",\\\"id\\\":\\\"ob_156\\\",\\\"type\\\":\\\"observable\\\"},x)})}; var el=document.getElementById(\\\"grid-249d2710\\\"); gridOptions.components={\\\"rowNumberRenderer\\\":RowNumberRenderer}; this.table=new agGrid.Grid(el,gridOptions); gridOptions.columnApi.autoSizeColumn(\\\"__row__\\\"); return gridOptions.columnApi.autoSizeColumns([\\\"instance_name\\\",\\\"params\\\",\\\"build_and_solve_time\\\"])}));\\n    (WebIO.importBlock({\\\"data\\\":[{\\\"name\\\":null,\\\"type\\\":\\\"js\\\",\\\"url\\\":\\\"\\/assetserver\\/0590277e57f9dce38c944f556c3d3f3537505baf-rowNumberRenderer.js\\\"},{\\\"name\\\":null,\\\"type\\\":\\\"js\\\",\\\"url\\\":\\\"\\/assetserver\\/4c1301a0647c04ca15698ec91c7948d0d808ae4e-ag-grid.js\\\"},{\\\"name\\\":null,\\\"type\\\":\\\"css\\\",\\\"url\\\":\\\"\\/assetserver\\/2fc78d8695c17bdfaf311ef6969766c669cc3259-ag-grid.css\\\"},{\\\"name\\\":null,\\\"type\\\":\\\"css\\\",\\\"url\\\":\\\"\\/assetserver\\/5fc5fa256baa60ef6cfb2f781fbe8b1e3528c443-ag-grid-light.css\\\"},{\\\"name\\\":null,\\\"type\\\":\\\"css\\\",\\\"url\\\":\\\"\\/assetserver\\/885a5d8cdc6d7b90593d781d742de9279d70e324-ag-grid-dark.css\\\"}],\\\"type\\\":\\\"async_block\\\"})).then((imports) => handler.apply(this, imports));\\n}\\n\"],\"observables\":{\"onCellKeyDown\":{\"sync\":false,\"id\":\"ob_160\",\"value\":null},\"onRowClicked\":{\"sync\":false,\"id\":\"ob_158\",\"value\":null},\"onCellDoubleClicked\":{\"sync\":false,\"id\":\"ob_157\",\"value\":null},\"onCellClicked\":{\"sync\":false,\"id\":\"ob_156\",\"value\":null},\"onCellFocused\":{\"sync\":false,\"id\":\"ob_159\",\"value\":null}}},\"children\":[{\"props\":{},\"nodeType\":\"DOM\",\"type\":\"node\",\"instanceArgs\":{\"namespace\":\"html\",\"tag\":\"div\"},\"children\":[{\"props\":{\"style\":{\"height\":\"0\",\"padding\":\"0\",\"background-color\":\"#F5F7F7\",\"color\":\"#1c1f20\",\"font-family\":\"-apple-system, BlinkMacSystemFont, \\\"Segoe UI\\\", Roboto, Oxygen-Sans, Ubuntu, Cantarell, \\\"Helvetica Neue\\\", sans-serif\"}},\"nodeType\":\"DOM\",\"type\":\"node\",\"instanceArgs\":{\"namespace\":\"html\",\"tag\":\"div\"},\"children\":[\"\"]},{\"props\":{\"id\":\"grid-249d2710\",\"className\":\"ag-theme-balham\",\"style\":{\"height\":\"500px\",\"width\":\"100%\"}},\"nodeType\":\"DOM\",\"type\":\"node\",\"instanceArgs\":{\"namespace\":\"html\",\"tag\":\"div\"},\"children\":[]}]}]},\n",
       "            window,\n",
       "        );\n",
       "    } else {\n",
       "        document\n",
       "            .querySelector('[data-webio-mountpoint=\"17978221285985034446\"]')\n",
       "            .innerHTML = (\n",
       "                '<div style=\"padding: 1em; background-color: #f8d6da; border: 1px solid #f5c6cb\">' +\n",
       "                '<p><strong>WebIO not detected.</strong></p>' +\n",
       "                '<p>Please read ' +\n",
       "                '<a href=\"https://juliagizmos.github.io/WebIO.jl/latest/troubleshooting/not-detected/\" target=\"_blank\">the troubleshooting guide</a> ' +\n",
       "                'for more information on how to resolve this issue.</p>' +\n",
       "                '<p><a href=\"https://juliagizmos.github.io/WebIO.jl/latest/troubleshooting/not-detected/\" target=\"_blank\">https://juliagizmos.github.io/WebIO.jl/latest/troubleshooting/not-detected/</a></p>' +\n",
       "                '</div>'\n",
       "            );\n",
       "    }\n",
       "    </script>\n",
       "</div>\n"
      ],
      "text/plain": [
       "Scope(Node{WebIO.DOM}(WebIO.DOM(:html, :div), Any[Node{WebIO.DOM}(WebIO.DOM(:html, :div), Any[\"\"], Dict{Symbol,Any}(:style => Dict(\"height\" => \"0\",\"padding\" => \"0\",\"background-color\" => \"#F5F7F7\",\"color\" => \"#1c1f20\",\"font-family\" => \"-apple-system, BlinkMacSystemFont, \\\"Segoe UI\\\", Roboto, Oxygen-Sans, Ubuntu, Cantarell, \\\"Helvetica Neue\\\", sans-serif\"))), Node{WebIO.DOM}(WebIO.DOM(:html, :div), Any[], Dict{Symbol,Any}(:id => \"grid-249d2710\",:className => \"ag-theme-balham\",:style => Dict(\"height\" => \"500px\",\"width\" => \"100%\")))], Dict{Symbol,Any}()), Dict{String,Tuple{Observables.AbstractObservable,Union{Nothing, Bool}}}(\"onCellKeyDown\" => (Observable{Any} with 0 listeners. Value:\n",
       "nothing, nothing),\"onRowClicked\" => (Observable{Any} with 0 listeners. Value:\n",
       "nothing, nothing),\"onCellDoubleClicked\" => (Observable{Any} with 0 listeners. Value:\n",
       "nothing, nothing),\"onCellClicked\" => (Observable{Any} with 0 listeners. Value:\n",
       "nothing, nothing),\"onCellFocused\" => (Observable{Any} with 0 listeners. Value:\n",
       "nothing, nothing)), Set(String[]), nothing, Asset[Asset(\"js\", nothing, \"/home/henrique/.julia/packages/TableView/CxWLO/src/rowNumberRenderer.js\"), Asset(\"js\", nothing, \"/home/henrique/.julia/packages/TableView/CxWLO/deps/ag-grid-22.1.0/ag-grid.js\"), Asset(\"css\", nothing, \"/home/henrique/.julia/packages/TableView/CxWLO/deps/ag-grid-22.1.0/ag-grid.css\"), Asset(\"css\", nothing, \"/home/henrique/.julia/packages/TableView/CxWLO/deps/ag-grid-22.1.0/ag-grid-light.css\"), Asset(\"css\", nothing, \"/home/henrique/.julia/packages/TableView/CxWLO/deps/ag-grid-22.1.0/ag-grid-dark.css\")], Dict{Any,Any}(), WebIO.ConnectionPool(Channel{Any}(sz_max:32,sz_curr:0), Set(AbstractConnection[]), Base.GenericCondition{Base.AlwaysLockedST}(Base.InvasiveLinkedList{Task}(Task (runnable) @0x00007f783f55ba90, Task (runnable) @0x00007f783f55ba90), Base.AlwaysLockedST(1))), WebIO.JSString[WebIO.JSString(\"function () {\\n    var handler = ((function (RowNumberRenderer,agGrid){var gridOptions={\\\"onCellFocused\\\":(function (ev){var x={}; (ev.rowIndex!==undefined) ? (x[\\\"rowIndex\\\"]=(ev.rowIndex+1)) : undefined; (ev.colDef!==undefined) ? (x[\\\"column\\\"]=ev.colDef.headerName) : undefined; return WebIO.setval({\\\"name\\\":\\\"onCellFocused\\\",\\\"scope\\\":\\\"14327599217283468713\\\",\\\"id\\\":\\\"ob_159\\\",\\\"type\\\":\\\"observable\\\"},x)}),\\\"onCellValueChanged\\\":(function (){return }),\\\"onCellDoubleClicked\\\":(function (ev){var x={}; (ev.rowIndex!==undefined) ? (x[\\\"rowIndex\\\"]=(ev.rowIndex+1)) : undefined; (ev.colDef!==undefined) ? (x[\\\"column\\\"]=ev.colDef.headerName) : undefined; return WebIO.setval({\\\"name\\\":\\\"onCellDoubleClicked\\\",\\\"scope\\\":\\\"14327599217283468713\\\",\\\"id\\\":\\\"ob_157\\\",\\\"type\\\":\\\"observable\\\"},x)}),\\\"multiSortKey\\\":\\\"ctrl\\\",\\\"columnDefs\\\":[{\\\"filter\\\":false,\\\"editable\\\":false,\\\"headerTooltip\\\":\\\"\\\",\\\"field\\\":\\\"__row__\\\",\\\"headerName\\\":\\\"Row\\\",\\\"sortable\\\":true,\\\"type\\\":\\\"numericColumn\\\",\\\"cellRenderer\\\":\\\"rowNumberRenderer\\\",\\\"resizable\\\":true},{\\\"filter\\\":true,\\\"editable\\\":false,\\\"headerTooltip\\\":\\\"String\\\",\\\"field\\\":\\\"instance_name\\\",\\\"headerName\\\":\\\"instance_name\\\",\\\"sortable\\\":true,\\\"type\\\":null,\\\"resizable\\\":true},{\\\"filter\\\":true,\\\"editable\\\":false,\\\"headerTooltip\\\":\\\"String\\\",\\\"field\\\":\\\"params\\\",\\\"headerName\\\":\\\"params\\\",\\\"sortable\\\":true,\\\"type\\\":null,\\\"resizable\\\":true},{\\\"filter\\\":true,\\\"editable\\\":false,\\\"headerTooltip\\\":\\\"String\\\",\\\"field\\\":\\\"build_and_solve_time\\\",\\\"headerName\\\":\\\"build_and_solve_time\\\",\\\"sortable\\\":true,\\\"type\\\":null,\\\"resizable\\\":true}],\\\"onRowClicked\\\":(function (ev){var x={}; (ev.rowIndex!==undefined) ? (x[\\\"rowIndex\\\"]=(ev.rowIndex+1)) : undefined; (ev.colDef!==undefined) ? (x[\\\"column\\\"]=ev.colDef.headerName) : undefined; return WebIO.setval({\\\"name\\\":\\\"onRowClicked\\\",\\\"scope\\\":\\\"14327599217283468713\\\",\\\"id\\\":\\\"ob_158\\\",\\\"type\\\":\\\"observable\\\"},x)}),\\\"onCellKeyDown\\\":(function (ev){var x={}; (ev.rowIndex!==undefined) ? (x[\\\"rowIndex\\\"]=(ev.rowIndex+1)) : undefined; (ev.colDef!==undefined) ? (x[\\\"column\\\"]=ev.colDef.headerName) : undefined; return WebIO.setval({\\\"name\\\":\\\"onCellKeyDown\\\",\\\"scope\\\":\\\"14327599217283468713\\\",\\\"id\\\":\\\"ob_160\\\",\\\"type\\\":\\\"observable\\\"},x)}),\\\"rowData\\\":[{\\\"instance_name\\\":\\\"okp5\\\",\\\"params\\\":\\\"NP B\\\",\\\"build_and_solve_time\\\":\\\"81.63\\\"},{\\\"instance_name\\\":\\\"STS4\\\",\\\"params\\\":\\\"FP DS+B\\\",\\\"build_and_solve_time\\\":\\\"97.24\\\"},{\\\"instance_name\\\":\\\"okp1\\\",\\\"params\\\":\\\"FP DS\\\",\\\"build_and_solve_time\\\":\\\"54.78\\\"},{\\\"instance_name\\\":\\\"STS4\\\",\\\"params\\\":\\\"FP B\\\",\\\"build_and_solve_time\\\":\\\"--\\\"},{\\\"instance_name\\\":\\\"CU1\\\",\\\"params\\\":\\\"FP DS+B\\\",\\\"build_and_solve_time\\\":\\\"77.97\\\"},{\\\"instance_name\\\":\\\"STS4s\\\",\\\"params\\\":\\\"NP DS\\\",\\\"build_and_solve_time\\\":\\\"139.08\\\"},{\\\"instance_name\\\":\\\"A5\\\",\\\"params\\\":\\\"FP DS\\\",\\\"build_and_solve_time\\\":\\\"296.42\\\"},{\\\"instance_name\\\":\\\"A5\\\",\\\"params\\\":\\\"NP B\\\",\\\"build_and_solve_time\\\":\\\"259.72\\\"},{\\\"instance_name\\\":\\\"CU1\\\",\\\"params\\\":\\\"NP B\\\",\\\"build_and_solve_time\\\":\\\"26.05\\\"},{\\\"instance_name\\\":\\\"gcut9\\\",\\\"params\\\":\\\"FP B\\\",\\\"build_and_solve_time\\\":\\\"2958.12\\\"},{\\\"instance_name\\\":\\\"okp4\\\",\\\"params\\\":\\\"FP B\\\",\\\"build_and_solve_time\\\":\\\"--\\\"},{\\\"instance_name\\\":\\\"STS4\\\",\\\"params\\\":\\\"NP B\\\",\\\"build_and_solve_time\\\":\\\"58.82\\\"},{\\\"instance_name\\\":\\\"okp4\\\",\\\"params\\\":\\\"FP DS+B\\\",\\\"build_and_solve_time\\\":\\\"219.45\\\"},{\\\"instance_name\\\":\\\"CU1\\\",\\\"params\\\":\\\"FP DS\\\",\\\"build_and_solve_time\\\":\\\"83.16\\\"},{\\\"instance_name\\\":\\\"STS4\\\",\\\"params\\\":\\\"NP DS\\\",\\\"build_and_solve_time\\\":\\\"131.79\\\"},{\\\"instance_name\\\":\\\"okp1\\\",\\\"params\\\":\\\"FP DS+B\\\",\\\"build_and_solve_time\\\":\\\"53.72\\\"},{\\\"instance_name\\\":\\\"okp1\\\",\\\"params\\\":\\\"NP B\\\",\\\"build_and_solve_time\\\":\\\"37.11\\\"},{\\\"instance_name\\\":\\\"A5\\\",\\\"params\\\":\\\"FP B\\\",\\\"build_and_solve_time\\\":\\\"--\\\"},{\\\"instance_name\\\":\\\"CU1\\\",\\\"params\\\":\\\"NP DS\\\",\\\"build_and_solve_time\\\":\\\"41.39\\\"},{\\\"instance_name\\\":\\\"gcut9\\\",\\\"params\\\":\\\"FP DS\\\",\\\"build_and_solve_time\\\":\\\"21.34\\\"},{\\\"instance_name\\\":\\\"okp5\\\",\\\"params\\\":\\\"FP DS\\\",\\\"build_and_solve_time\\\":\\\"439.69\\\"},{\\\"instance_name\\\":\\\"okp5\\\",\\\"params\\\":\\\"FP B\\\",\\\"build_and_solve_time\\\":\\\"--\\\"},{\\\"instance_name\\\":\\\"CU1\\\",\\\"params\\\":\\\"FP B\\\",\\\"build_and_solve_time\\\":\\\"3130.73\\\"},{\\\"instance_name\\\":\\\"A5\\\",\\\"params\\\":\\\"NP DS\\\",\\\"build_and_solve_time\\\":\\\"488.51\\\"},{\\\"instance_name\\\":\\\"okp1\\\",\\\"params\\\":\\\"FP B\\\",\\\"build_and_solve_time\\\":\\\"--\\\"},{\\\"instance_name\\\":\\\"STS4s\\\",\\\"params\\\":\\\"FP B\\\",\\\"build_and_solve_time\\\":\\\"--\\\"},{\\\"instance_name\\\":\\\"gcut9\\\",\\\"params\\\":\\\"FP DS+B\\\",\\\"build_and_solve_time\\\":\\\"18.09\\\"},{\\\"instance_name\\\":\\\"gcut9\\\",\\\"params\\\":\\\"NP B\\\",\\\"build_and_solve_time\\\":\\\"51.63\\\"},{\\\"instance_name\\\":\\\"okp4\\\",\\\"params\\\":\\\"NP B\\\",\\\"build_and_solve_time\\\":\\\"82.43\\\"},{\\\"instance_name\\\":\\\"okp5\\\",\\\"params\\\":\\\"NP DS\\\",\\\"build_and_solve_time\\\":\\\"319.01\\\"},{\\\"instance_name\\\":\\\"STS4s\\\",\\\"params\\\":\\\"FP DS\\\",\\\"build_and_solve_time\\\":\\\"110.62\\\"},{\\\"instance_name\\\":\\\"STS4s\\\",\\\"params\\\":\\\"FP DS+B\\\",\\\"build_and_solve_time\\\":\\\"101.68\\\"},{\\\"instance_name\\\":\\\"okp4\\\",\\\"params\\\":\\\"NP DS\\\",\\\"build_and_solve_time\\\":\\\"152.11\\\"},{\\\"instance_name\\\":\\\"STS4\\\",\\\"params\\\":\\\"FP DS\\\",\\\"build_and_solve_time\\\":\\\"106.75\\\"},{\\\"instance_name\\\":\\\"gcut9\\\",\\\"params\\\":\\\"NP DS\\\",\\\"build_and_solve_time\\\":\\\"253.48\\\"},{\\\"instance_name\\\":\\\"okp1\\\",\\\"params\\\":\\\"NP DS\\\",\\\"build_and_solve_time\\\":\\\"71.77\\\"},{\\\"instance_name\\\":\\\"STS4s\\\",\\\"params\\\":\\\"NP B\\\",\\\"build_and_solve_time\\\":\\\"49.42\\\"},{\\\"instance_name\\\":\\\"A5\\\",\\\"params\\\":\\\"FP DS+B\\\",\\\"build_and_solve_time\\\":\\\"260.50\\\"},{\\\"instance_name\\\":\\\"okp5\\\",\\\"params\\\":\\\"FP DS+B\\\",\\\"build_and_solve_time\\\":\\\"414.41\\\"},{\\\"instance_name\\\":\\\"okp4\\\",\\\"params\\\":\\\"FP DS\\\",\\\"build_and_solve_time\\\":\\\"231.18\\\"}],\\\"onCellClicked\\\":(function (ev){var x={}; (ev.rowIndex!==undefined) ? (x[\\\"rowIndex\\\"]=(ev.rowIndex+1)) : undefined; (ev.colDef!==undefined) ? (x[\\\"column\\\"]=ev.colDef.headerName) : undefined; return WebIO.setval({\\\"name\\\":\\\"onCellClicked\\\",\\\"scope\\\":\\\"14327599217283468713\\\",\\\"id\\\":\\\"ob_156\\\",\\\"type\\\":\\\"observable\\\"},x)})}; var el=document.getElementById(\\\"grid-249d2710\\\"); gridOptions.components={\\\"rowNumberRenderer\\\":RowNumberRenderer}; this.table=new agGrid.Grid(el,gridOptions); gridOptions.columnApi.autoSizeColumn(\\\"__row__\\\"); return gridOptions.columnApi.autoSizeColumns([\\\"instance_name\\\",\\\"params\\\",\\\"build_and_solve_time\\\"])}));\\n    (WebIO.importBlock({\\\"data\\\":[{\\\"name\\\":null,\\\"type\\\":\\\"js\\\",\\\"url\\\":\\\"/assetserver/0590277e57f9dce38c944f556c3d3f3537505baf-rowNumberRenderer.js\\\"},{\\\"name\\\":null,\\\"type\\\":\\\"js\\\",\\\"url\\\":\\\"/assetserver/4c1301a0647c04ca15698ec91c7948d0d808ae4e-ag-grid.js\\\"},{\\\"name\\\":null,\\\"type\\\":\\\"css\\\",\\\"url\\\":\\\"/assetserver/2fc78d8695c17bdfaf311ef6969766c669cc3259-ag-grid.css\\\"},{\\\"name\\\":null,\\\"type\\\":\\\"css\\\",\\\"url\\\":\\\"/assetserver/5fc5fa256baa60ef6cfb2f781fbe8b1e3528c443-ag-grid-light.css\\\"},{\\\"name\\\":null,\\\"type\\\":\\\"css\\\",\\\"url\\\":\\\"/assetserver/885a5d8cdc6d7b90593d781d742de9279d70e324-ag-grid-dark.css\\\"}],\\\"type\\\":\\\"async_block\\\"})).then((imports) => handler.apply(this, imports));\\n}\\n\")])"
      ]
     },
     "execution_count": 197,
     "metadata": {
      "application/vnd.webio.node+json": {
       "kernelId": "fcb8707d-440e-4836-a44e-015236c59633"
      }
     },
     "output_type": "execute_result"
    }
   ],
   "source": [
    "sel_columns = [:instance_name, :lp_method, :lp_method_switch, :pricing_method, :build_and_solve_time]\n",
    "# long (opposed to wide) table of total time\n",
    "lttt = select(lp_method_df, sel_columns)\n",
    "lttt.params = join.(zip(lttt.lp_method, lttt.lp_method_switch, lttt.pricing_method), \"_\")\n",
    "pretty_params = Dict{String, String}(\n",
    "    \"barrier_only_none\" => \"NP B\",\n",
    "    \"barrier_switch_furini\" => \"FP DS+B\",\n",
    "    \"simplex_only_furini\" => \"FP DS\",\n",
    "    \"barrier_only_furini\" => \"FP B\",\n",
    "    \"simplex_only_none\" => \"NP DS\"\n",
    ")\n",
    "lttt.params = getindex.((pretty_params,), lttt.params)\n",
    "lttt = select(lttt, :instance_name, :params, :build_and_solve_time)\n",
    "lttt.build_and_solve_time = (x -> @sprintf(\"%.2f\", x)).(lttt.build_and_solve_time)\n",
    "lttt.build_and_solve_time = ifelse.(\n",
    "    lttt.build_and_solve_time .== \"NaN\", \"--\", lttt.build_and_solve_time\n",
    ")\n",
    "# Table with instance, params, and time, in long format.\n",
    "showtable(lttt)"
   ]
  },
  {
   "cell_type": "code",
   "execution_count": 198,
   "metadata": {},
   "outputs": [
    {
     "data": {
      "application/vnd.webio.node+json": {
       "children": [
        {
         "children": [
          {
           "children": [
            ""
           ],
           "instanceArgs": {
            "namespace": "html",
            "tag": "div"
           },
           "nodeType": "DOM",
           "props": {
            "style": {
             "background-color": "#F5F7F7",
             "color": "#1c1f20",
             "font-family": "-apple-system, BlinkMacSystemFont, \"Segoe UI\", Roboto, Oxygen-Sans, Ubuntu, Cantarell, \"Helvetica Neue\", sans-serif",
             "height": "0",
             "padding": "0"
            }
           },
           "type": "node"
          },
          {
           "children": [],
           "instanceArgs": {
            "namespace": "html",
            "tag": "div"
           },
           "nodeType": "DOM",
           "props": {
            "className": "ag-theme-balham",
            "id": "grid-26e252de",
            "style": {
             "height": "274px",
             "width": "100%"
            }
           },
           "type": "node"
          }
         ],
         "instanceArgs": {
          "namespace": "html",
          "tag": "div"
         },
         "nodeType": "DOM",
         "props": {},
         "type": "node"
        }
       ],
       "instanceArgs": {
        "handlers": {},
        "id": "14937297495563405910",
        "imports": {
         "data": [
          {
           "name": null,
           "type": "js",
           "url": "/assetserver/0590277e57f9dce38c944f556c3d3f3537505baf-rowNumberRenderer.js"
          },
          {
           "name": null,
           "type": "js",
           "url": "/assetserver/4c1301a0647c04ca15698ec91c7948d0d808ae4e-ag-grid.js"
          },
          {
           "name": null,
           "type": "css",
           "url": "/assetserver/2fc78d8695c17bdfaf311ef6969766c669cc3259-ag-grid.css"
          },
          {
           "name": null,
           "type": "css",
           "url": "/assetserver/5fc5fa256baa60ef6cfb2f781fbe8b1e3528c443-ag-grid-light.css"
          },
          {
           "name": null,
           "type": "css",
           "url": "/assetserver/885a5d8cdc6d7b90593d781d742de9279d70e324-ag-grid-dark.css"
          }
         ],
         "type": "async_block"
        },
        "mount_callbacks": [
         "function () {\n    var handler = ((function (RowNumberRenderer,agGrid){var gridOptions={\"onCellFocused\":(function (ev){var x={}; (ev.rowIndex!==undefined) ? (x[\"rowIndex\"]=(ev.rowIndex+1)) : undefined; (ev.colDef!==undefined) ? (x[\"column\"]=ev.colDef.headerName) : undefined; return WebIO.setval({\"name\":\"onCellFocused\",\"scope\":\"14937297495563405910\",\"id\":\"ob_164\",\"type\":\"observable\"},x)}),\"onCellValueChanged\":(function (){return }),\"onCellDoubleClicked\":(function (ev){var x={}; (ev.rowIndex!==undefined) ? (x[\"rowIndex\"]=(ev.rowIndex+1)) : undefined; (ev.colDef!==undefined) ? (x[\"column\"]=ev.colDef.headerName) : undefined; return WebIO.setval({\"name\":\"onCellDoubleClicked\",\"scope\":\"14937297495563405910\",\"id\":\"ob_162\",\"type\":\"observable\"},x)}),\"multiSortKey\":\"ctrl\",\"columnDefs\":[{\"filter\":false,\"editable\":false,\"headerTooltip\":\"\",\"field\":\"__row__\",\"headerName\":\"Row\",\"sortable\":true,\"type\":\"numericColumn\",\"cellRenderer\":\"rowNumberRenderer\",\"resizable\":true},{\"filter\":true,\"editable\":false,\"headerTooltip\":\"String\",\"field\":\"instance_name\",\"headerName\":\"instance_name\",\"sortable\":true,\"type\":null,\"resizable\":true},{\"filter\":true,\"editable\":false,\"headerTooltip\":\"Union{Missing, String}\",\"field\":\"FP B\",\"headerName\":\"FP B\",\"sortable\":true,\"type\":null,\"resizable\":true},{\"filter\":true,\"editable\":false,\"headerTooltip\":\"Union{Missing, String}\",\"field\":\"FP DS\",\"headerName\":\"FP DS\",\"sortable\":true,\"type\":null,\"resizable\":true},{\"filter\":true,\"editable\":false,\"headerTooltip\":\"Union{Missing, String}\",\"field\":\"FP DS+B\",\"headerName\":\"FP DS+B\",\"sortable\":true,\"type\":null,\"resizable\":true},{\"filter\":true,\"editable\":false,\"headerTooltip\":\"Union{Missing, String}\",\"field\":\"NP B\",\"headerName\":\"NP B\",\"sortable\":true,\"type\":null,\"resizable\":true},{\"filter\":true,\"editable\":false,\"headerTooltip\":\"Union{Missing, String}\",\"field\":\"NP DS\",\"headerName\":\"NP DS\",\"sortable\":true,\"type\":null,\"resizable\":true}],\"onRowClicked\":(function (ev){var x={}; (ev.rowIndex!==undefined) ? (x[\"rowIndex\"]=(ev.rowIndex+1)) : undefined; (ev.colDef!==undefined) ? (x[\"column\"]=ev.colDef.headerName) : undefined; return WebIO.setval({\"name\":\"onRowClicked\",\"scope\":\"14937297495563405910\",\"id\":\"ob_163\",\"type\":\"observable\"},x)}),\"onCellKeyDown\":(function (ev){var x={}; (ev.rowIndex!==undefined) ? (x[\"rowIndex\"]=(ev.rowIndex+1)) : undefined; (ev.colDef!==undefined) ? (x[\"column\"]=ev.colDef.headerName) : undefined; return WebIO.setval({\"name\":\"onCellKeyDown\",\"scope\":\"14937297495563405910\",\"id\":\"ob_165\",\"type\":\"observable\"},x)}),\"rowData\":[{\"instance_name\":\"A5\",\"FP B\":\"--\",\"FP DS\":\"296.42\",\"FP DS+B\":\"260.50\",\"NP B\":\"259.72\",\"NP DS\":\"488.51\"},{\"instance_name\":\"CU1\",\"FP B\":\"3130.73\",\"FP DS\":\"83.16\",\"FP DS+B\":\"77.97\",\"NP B\":\"26.05\",\"NP DS\":\"41.39\"},{\"instance_name\":\"STS4\",\"FP B\":\"--\",\"FP DS\":\"106.75\",\"FP DS+B\":\"97.24\",\"NP B\":\"58.82\",\"NP DS\":\"131.79\"},{\"instance_name\":\"STS4s\",\"FP B\":\"--\",\"FP DS\":\"110.62\",\"FP DS+B\":\"101.68\",\"NP B\":\"49.42\",\"NP DS\":\"139.08\"},{\"instance_name\":\"gcut9\",\"FP B\":\"2958.12\",\"FP DS\":\"21.34\",\"FP DS+B\":\"18.09\",\"NP B\":\"51.63\",\"NP DS\":\"253.48\"},{\"instance_name\":\"okp1\",\"FP B\":\"--\",\"FP DS\":\"54.78\",\"FP DS+B\":\"53.72\",\"NP B\":\"37.11\",\"NP DS\":\"71.77\"},{\"instance_name\":\"okp4\",\"FP B\":\"--\",\"FP DS\":\"231.18\",\"FP DS+B\":\"219.45\",\"NP B\":\"82.43\",\"NP DS\":\"152.11\"},{\"instance_name\":\"okp5\",\"FP B\":\"--\",\"FP DS\":\"439.69\",\"FP DS+B\":\"414.41\",\"NP B\":\"81.63\",\"NP DS\":\"319.01\"}],\"onCellClicked\":(function (ev){var x={}; (ev.rowIndex!==undefined) ? (x[\"rowIndex\"]=(ev.rowIndex+1)) : undefined; (ev.colDef!==undefined) ? (x[\"column\"]=ev.colDef.headerName) : undefined; return WebIO.setval({\"name\":\"onCellClicked\",\"scope\":\"14937297495563405910\",\"id\":\"ob_161\",\"type\":\"observable\"},x)})}; var el=document.getElementById(\"grid-26e252de\"); gridOptions.components={\"rowNumberRenderer\":RowNumberRenderer}; this.table=new agGrid.Grid(el,gridOptions); gridOptions.columnApi.autoSizeColumn(\"__row__\"); return gridOptions.columnApi.autoSizeColumns([\"instance_name\",\"FP B\",\"FP DS\",\"FP DS+B\",\"NP B\",\"NP DS\"])}));\n    (WebIO.importBlock({\"data\":[{\"name\":null,\"type\":\"js\",\"url\":\"/assetserver/0590277e57f9dce38c944f556c3d3f3537505baf-rowNumberRenderer.js\"},{\"name\":null,\"type\":\"js\",\"url\":\"/assetserver/4c1301a0647c04ca15698ec91c7948d0d808ae4e-ag-grid.js\"},{\"name\":null,\"type\":\"css\",\"url\":\"/assetserver/2fc78d8695c17bdfaf311ef6969766c669cc3259-ag-grid.css\"},{\"name\":null,\"type\":\"css\",\"url\":\"/assetserver/5fc5fa256baa60ef6cfb2f781fbe8b1e3528c443-ag-grid-light.css\"},{\"name\":null,\"type\":\"css\",\"url\":\"/assetserver/885a5d8cdc6d7b90593d781d742de9279d70e324-ag-grid-dark.css\"}],\"type\":\"async_block\"})).then((imports) => handler.apply(this, imports));\n}\n"
        ],
        "observables": {
         "onCellClicked": {
          "id": "ob_161",
          "sync": false,
          "value": null
         },
         "onCellDoubleClicked": {
          "id": "ob_162",
          "sync": false,
          "value": null
         },
         "onCellFocused": {
          "id": "ob_164",
          "sync": false,
          "value": null
         },
         "onCellKeyDown": {
          "id": "ob_165",
          "sync": false,
          "value": null
         },
         "onRowClicked": {
          "id": "ob_163",
          "sync": false,
          "value": null
         }
        },
        "systemjs_options": null
       },
       "nodeType": "Scope",
       "props": {},
       "type": "node"
      },
      "text/html": [
       "<div\n",
       "    class=\"webio-mountpoint\"\n",
       "    data-webio-mountpoint=\"1976519987369778564\"\n",
       ">\n",
       "    <script>\n",
       "    if (window.require && require.defined && require.defined(\"nbextensions/webio-jupyter-notebook\")) {\n",
       "        console.log(\"Jupyter WebIO extension detected, not mounting.\");\n",
       "    } else if (window.WebIO) {\n",
       "        WebIO.mount(\n",
       "            document.querySelector('[data-webio-mountpoint=\"1976519987369778564\"]'),\n",
       "            {\"props\":{},\"nodeType\":\"Scope\",\"type\":\"node\",\"instanceArgs\":{\"imports\":{\"data\":[{\"name\":null,\"type\":\"js\",\"url\":\"\\/assetserver\\/0590277e57f9dce38c944f556c3d3f3537505baf-rowNumberRenderer.js\"},{\"name\":null,\"type\":\"js\",\"url\":\"\\/assetserver\\/4c1301a0647c04ca15698ec91c7948d0d808ae4e-ag-grid.js\"},{\"name\":null,\"type\":\"css\",\"url\":\"\\/assetserver\\/2fc78d8695c17bdfaf311ef6969766c669cc3259-ag-grid.css\"},{\"name\":null,\"type\":\"css\",\"url\":\"\\/assetserver\\/5fc5fa256baa60ef6cfb2f781fbe8b1e3528c443-ag-grid-light.css\"},{\"name\":null,\"type\":\"css\",\"url\":\"\\/assetserver\\/885a5d8cdc6d7b90593d781d742de9279d70e324-ag-grid-dark.css\"}],\"type\":\"async_block\"},\"id\":\"14937297495563405910\",\"handlers\":{},\"systemjs_options\":null,\"mount_callbacks\":[\"function () {\\n    var handler = ((function (RowNumberRenderer,agGrid){var gridOptions={\\\"onCellFocused\\\":(function (ev){var x={}; (ev.rowIndex!==undefined) ? (x[\\\"rowIndex\\\"]=(ev.rowIndex+1)) : undefined; (ev.colDef!==undefined) ? (x[\\\"column\\\"]=ev.colDef.headerName) : undefined; return WebIO.setval({\\\"name\\\":\\\"onCellFocused\\\",\\\"scope\\\":\\\"14937297495563405910\\\",\\\"id\\\":\\\"ob_164\\\",\\\"type\\\":\\\"observable\\\"},x)}),\\\"onCellValueChanged\\\":(function (){return }),\\\"onCellDoubleClicked\\\":(function (ev){var x={}; (ev.rowIndex!==undefined) ? (x[\\\"rowIndex\\\"]=(ev.rowIndex+1)) : undefined; (ev.colDef!==undefined) ? (x[\\\"column\\\"]=ev.colDef.headerName) : undefined; return WebIO.setval({\\\"name\\\":\\\"onCellDoubleClicked\\\",\\\"scope\\\":\\\"14937297495563405910\\\",\\\"id\\\":\\\"ob_162\\\",\\\"type\\\":\\\"observable\\\"},x)}),\\\"multiSortKey\\\":\\\"ctrl\\\",\\\"columnDefs\\\":[{\\\"filter\\\":false,\\\"editable\\\":false,\\\"headerTooltip\\\":\\\"\\\",\\\"field\\\":\\\"__row__\\\",\\\"headerName\\\":\\\"Row\\\",\\\"sortable\\\":true,\\\"type\\\":\\\"numericColumn\\\",\\\"cellRenderer\\\":\\\"rowNumberRenderer\\\",\\\"resizable\\\":true},{\\\"filter\\\":true,\\\"editable\\\":false,\\\"headerTooltip\\\":\\\"String\\\",\\\"field\\\":\\\"instance_name\\\",\\\"headerName\\\":\\\"instance_name\\\",\\\"sortable\\\":true,\\\"type\\\":null,\\\"resizable\\\":true},{\\\"filter\\\":true,\\\"editable\\\":false,\\\"headerTooltip\\\":\\\"Union{Missing, String}\\\",\\\"field\\\":\\\"FP B\\\",\\\"headerName\\\":\\\"FP B\\\",\\\"sortable\\\":true,\\\"type\\\":null,\\\"resizable\\\":true},{\\\"filter\\\":true,\\\"editable\\\":false,\\\"headerTooltip\\\":\\\"Union{Missing, String}\\\",\\\"field\\\":\\\"FP DS\\\",\\\"headerName\\\":\\\"FP DS\\\",\\\"sortable\\\":true,\\\"type\\\":null,\\\"resizable\\\":true},{\\\"filter\\\":true,\\\"editable\\\":false,\\\"headerTooltip\\\":\\\"Union{Missing, String}\\\",\\\"field\\\":\\\"FP DS+B\\\",\\\"headerName\\\":\\\"FP DS+B\\\",\\\"sortable\\\":true,\\\"type\\\":null,\\\"resizable\\\":true},{\\\"filter\\\":true,\\\"editable\\\":false,\\\"headerTooltip\\\":\\\"Union{Missing, String}\\\",\\\"field\\\":\\\"NP B\\\",\\\"headerName\\\":\\\"NP B\\\",\\\"sortable\\\":true,\\\"type\\\":null,\\\"resizable\\\":true},{\\\"filter\\\":true,\\\"editable\\\":false,\\\"headerTooltip\\\":\\\"Union{Missing, String}\\\",\\\"field\\\":\\\"NP DS\\\",\\\"headerName\\\":\\\"NP DS\\\",\\\"sortable\\\":true,\\\"type\\\":null,\\\"resizable\\\":true}],\\\"onRowClicked\\\":(function (ev){var x={}; (ev.rowIndex!==undefined) ? (x[\\\"rowIndex\\\"]=(ev.rowIndex+1)) : undefined; (ev.colDef!==undefined) ? (x[\\\"column\\\"]=ev.colDef.headerName) : undefined; return WebIO.setval({\\\"name\\\":\\\"onRowClicked\\\",\\\"scope\\\":\\\"14937297495563405910\\\",\\\"id\\\":\\\"ob_163\\\",\\\"type\\\":\\\"observable\\\"},x)}),\\\"onCellKeyDown\\\":(function (ev){var x={}; (ev.rowIndex!==undefined) ? (x[\\\"rowIndex\\\"]=(ev.rowIndex+1)) : undefined; (ev.colDef!==undefined) ? (x[\\\"column\\\"]=ev.colDef.headerName) : undefined; return WebIO.setval({\\\"name\\\":\\\"onCellKeyDown\\\",\\\"scope\\\":\\\"14937297495563405910\\\",\\\"id\\\":\\\"ob_165\\\",\\\"type\\\":\\\"observable\\\"},x)}),\\\"rowData\\\":[{\\\"instance_name\\\":\\\"A5\\\",\\\"FP B\\\":\\\"--\\\",\\\"FP DS\\\":\\\"296.42\\\",\\\"FP DS+B\\\":\\\"260.50\\\",\\\"NP B\\\":\\\"259.72\\\",\\\"NP DS\\\":\\\"488.51\\\"},{\\\"instance_name\\\":\\\"CU1\\\",\\\"FP B\\\":\\\"3130.73\\\",\\\"FP DS\\\":\\\"83.16\\\",\\\"FP DS+B\\\":\\\"77.97\\\",\\\"NP B\\\":\\\"26.05\\\",\\\"NP DS\\\":\\\"41.39\\\"},{\\\"instance_name\\\":\\\"STS4\\\",\\\"FP B\\\":\\\"--\\\",\\\"FP DS\\\":\\\"106.75\\\",\\\"FP DS+B\\\":\\\"97.24\\\",\\\"NP B\\\":\\\"58.82\\\",\\\"NP DS\\\":\\\"131.79\\\"},{\\\"instance_name\\\":\\\"STS4s\\\",\\\"FP B\\\":\\\"--\\\",\\\"FP DS\\\":\\\"110.62\\\",\\\"FP DS+B\\\":\\\"101.68\\\",\\\"NP B\\\":\\\"49.42\\\",\\\"NP DS\\\":\\\"139.08\\\"},{\\\"instance_name\\\":\\\"gcut9\\\",\\\"FP B\\\":\\\"2958.12\\\",\\\"FP DS\\\":\\\"21.34\\\",\\\"FP DS+B\\\":\\\"18.09\\\",\\\"NP B\\\":\\\"51.63\\\",\\\"NP DS\\\":\\\"253.48\\\"},{\\\"instance_name\\\":\\\"okp1\\\",\\\"FP B\\\":\\\"--\\\",\\\"FP DS\\\":\\\"54.78\\\",\\\"FP DS+B\\\":\\\"53.72\\\",\\\"NP B\\\":\\\"37.11\\\",\\\"NP DS\\\":\\\"71.77\\\"},{\\\"instance_name\\\":\\\"okp4\\\",\\\"FP B\\\":\\\"--\\\",\\\"FP DS\\\":\\\"231.18\\\",\\\"FP DS+B\\\":\\\"219.45\\\",\\\"NP B\\\":\\\"82.43\\\",\\\"NP DS\\\":\\\"152.11\\\"},{\\\"instance_name\\\":\\\"okp5\\\",\\\"FP B\\\":\\\"--\\\",\\\"FP DS\\\":\\\"439.69\\\",\\\"FP DS+B\\\":\\\"414.41\\\",\\\"NP B\\\":\\\"81.63\\\",\\\"NP DS\\\":\\\"319.01\\\"}],\\\"onCellClicked\\\":(function (ev){var x={}; (ev.rowIndex!==undefined) ? (x[\\\"rowIndex\\\"]=(ev.rowIndex+1)) : undefined; (ev.colDef!==undefined) ? (x[\\\"column\\\"]=ev.colDef.headerName) : undefined; return WebIO.setval({\\\"name\\\":\\\"onCellClicked\\\",\\\"scope\\\":\\\"14937297495563405910\\\",\\\"id\\\":\\\"ob_161\\\",\\\"type\\\":\\\"observable\\\"},x)})}; var el=document.getElementById(\\\"grid-26e252de\\\"); gridOptions.components={\\\"rowNumberRenderer\\\":RowNumberRenderer}; this.table=new agGrid.Grid(el,gridOptions); gridOptions.columnApi.autoSizeColumn(\\\"__row__\\\"); return gridOptions.columnApi.autoSizeColumns([\\\"instance_name\\\",\\\"FP B\\\",\\\"FP DS\\\",\\\"FP DS+B\\\",\\\"NP B\\\",\\\"NP DS\\\"])}));\\n    (WebIO.importBlock({\\\"data\\\":[{\\\"name\\\":null,\\\"type\\\":\\\"js\\\",\\\"url\\\":\\\"\\/assetserver\\/0590277e57f9dce38c944f556c3d3f3537505baf-rowNumberRenderer.js\\\"},{\\\"name\\\":null,\\\"type\\\":\\\"js\\\",\\\"url\\\":\\\"\\/assetserver\\/4c1301a0647c04ca15698ec91c7948d0d808ae4e-ag-grid.js\\\"},{\\\"name\\\":null,\\\"type\\\":\\\"css\\\",\\\"url\\\":\\\"\\/assetserver\\/2fc78d8695c17bdfaf311ef6969766c669cc3259-ag-grid.css\\\"},{\\\"name\\\":null,\\\"type\\\":\\\"css\\\",\\\"url\\\":\\\"\\/assetserver\\/5fc5fa256baa60ef6cfb2f781fbe8b1e3528c443-ag-grid-light.css\\\"},{\\\"name\\\":null,\\\"type\\\":\\\"css\\\",\\\"url\\\":\\\"\\/assetserver\\/885a5d8cdc6d7b90593d781d742de9279d70e324-ag-grid-dark.css\\\"}],\\\"type\\\":\\\"async_block\\\"})).then((imports) => handler.apply(this, imports));\\n}\\n\"],\"observables\":{\"onCellKeyDown\":{\"sync\":false,\"id\":\"ob_165\",\"value\":null},\"onRowClicked\":{\"sync\":false,\"id\":\"ob_163\",\"value\":null},\"onCellDoubleClicked\":{\"sync\":false,\"id\":\"ob_162\",\"value\":null},\"onCellClicked\":{\"sync\":false,\"id\":\"ob_161\",\"value\":null},\"onCellFocused\":{\"sync\":false,\"id\":\"ob_164\",\"value\":null}}},\"children\":[{\"props\":{},\"nodeType\":\"DOM\",\"type\":\"node\",\"instanceArgs\":{\"namespace\":\"html\",\"tag\":\"div\"},\"children\":[{\"props\":{\"style\":{\"height\":\"0\",\"padding\":\"0\",\"background-color\":\"#F5F7F7\",\"color\":\"#1c1f20\",\"font-family\":\"-apple-system, BlinkMacSystemFont, \\\"Segoe UI\\\", Roboto, Oxygen-Sans, Ubuntu, Cantarell, \\\"Helvetica Neue\\\", sans-serif\"}},\"nodeType\":\"DOM\",\"type\":\"node\",\"instanceArgs\":{\"namespace\":\"html\",\"tag\":\"div\"},\"children\":[\"\"]},{\"props\":{\"id\":\"grid-26e252de\",\"className\":\"ag-theme-balham\",\"style\":{\"height\":\"274px\",\"width\":\"100%\"}},\"nodeType\":\"DOM\",\"type\":\"node\",\"instanceArgs\":{\"namespace\":\"html\",\"tag\":\"div\"},\"children\":[]}]}]},\n",
       "            window,\n",
       "        );\n",
       "    } else {\n",
       "        document\n",
       "            .querySelector('[data-webio-mountpoint=\"1976519987369778564\"]')\n",
       "            .innerHTML = (\n",
       "                '<div style=\"padding: 1em; background-color: #f8d6da; border: 1px solid #f5c6cb\">' +\n",
       "                '<p><strong>WebIO not detected.</strong></p>' +\n",
       "                '<p>Please read ' +\n",
       "                '<a href=\"https://juliagizmos.github.io/WebIO.jl/latest/troubleshooting/not-detected/\" target=\"_blank\">the troubleshooting guide</a> ' +\n",
       "                'for more information on how to resolve this issue.</p>' +\n",
       "                '<p><a href=\"https://juliagizmos.github.io/WebIO.jl/latest/troubleshooting/not-detected/\" target=\"_blank\">https://juliagizmos.github.io/WebIO.jl/latest/troubleshooting/not-detected/</a></p>' +\n",
       "                '</div>'\n",
       "            );\n",
       "    }\n",
       "    </script>\n",
       "</div>\n"
      ],
      "text/plain": [
       "Scope(Node{WebIO.DOM}(WebIO.DOM(:html, :div), Any[Node{WebIO.DOM}(WebIO.DOM(:html, :div), Any[\"\"], Dict{Symbol,Any}(:style => Dict(\"height\" => \"0\",\"padding\" => \"0\",\"background-color\" => \"#F5F7F7\",\"color\" => \"#1c1f20\",\"font-family\" => \"-apple-system, BlinkMacSystemFont, \\\"Segoe UI\\\", Roboto, Oxygen-Sans, Ubuntu, Cantarell, \\\"Helvetica Neue\\\", sans-serif\"))), Node{WebIO.DOM}(WebIO.DOM(:html, :div), Any[], Dict{Symbol,Any}(:id => \"grid-26e252de\",:className => \"ag-theme-balham\",:style => Dict(\"height\" => \"274px\",\"width\" => \"100%\")))], Dict{Symbol,Any}()), Dict{String,Tuple{Observables.AbstractObservable,Union{Nothing, Bool}}}(\"onCellKeyDown\" => (Observable{Any} with 0 listeners. Value:\n",
       "nothing, nothing),\"onRowClicked\" => (Observable{Any} with 0 listeners. Value:\n",
       "nothing, nothing),\"onCellDoubleClicked\" => (Observable{Any} with 0 listeners. Value:\n",
       "nothing, nothing),\"onCellClicked\" => (Observable{Any} with 0 listeners. Value:\n",
       "nothing, nothing),\"onCellFocused\" => (Observable{Any} with 0 listeners. Value:\n",
       "nothing, nothing)), Set(String[]), nothing, Asset[Asset(\"js\", nothing, \"/home/henrique/.julia/packages/TableView/CxWLO/src/rowNumberRenderer.js\"), Asset(\"js\", nothing, \"/home/henrique/.julia/packages/TableView/CxWLO/deps/ag-grid-22.1.0/ag-grid.js\"), Asset(\"css\", nothing, \"/home/henrique/.julia/packages/TableView/CxWLO/deps/ag-grid-22.1.0/ag-grid.css\"), Asset(\"css\", nothing, \"/home/henrique/.julia/packages/TableView/CxWLO/deps/ag-grid-22.1.0/ag-grid-light.css\"), Asset(\"css\", nothing, \"/home/henrique/.julia/packages/TableView/CxWLO/deps/ag-grid-22.1.0/ag-grid-dark.css\")], Dict{Any,Any}(), WebIO.ConnectionPool(Channel{Any}(sz_max:32,sz_curr:0), Set(AbstractConnection[]), Base.GenericCondition{Base.AlwaysLockedST}(Base.InvasiveLinkedList{Task}(Task (runnable) @0x00007f783f5f8010, Task (runnable) @0x00007f783f5f8010), Base.AlwaysLockedST(1))), WebIO.JSString[WebIO.JSString(\"function () {\\n    var handler = ((function (RowNumberRenderer,agGrid){var gridOptions={\\\"onCellFocused\\\":(function (ev){var x={}; (ev.rowIndex!==undefined) ? (x[\\\"rowIndex\\\"]=(ev.rowIndex+1)) : undefined; (ev.colDef!==undefined) ? (x[\\\"column\\\"]=ev.colDef.headerName) : undefined; return WebIO.setval({\\\"name\\\":\\\"onCellFocused\\\",\\\"scope\\\":\\\"14937297495563405910\\\",\\\"id\\\":\\\"ob_164\\\",\\\"type\\\":\\\"observable\\\"},x)}),\\\"onCellValueChanged\\\":(function (){return }),\\\"onCellDoubleClicked\\\":(function (ev){var x={}; (ev.rowIndex!==undefined) ? (x[\\\"rowIndex\\\"]=(ev.rowIndex+1)) : undefined; (ev.colDef!==undefined) ? (x[\\\"column\\\"]=ev.colDef.headerName) : undefined; return WebIO.setval({\\\"name\\\":\\\"onCellDoubleClicked\\\",\\\"scope\\\":\\\"14937297495563405910\\\",\\\"id\\\":\\\"ob_162\\\",\\\"type\\\":\\\"observable\\\"},x)}),\\\"multiSortKey\\\":\\\"ctrl\\\",\\\"columnDefs\\\":[{\\\"filter\\\":false,\\\"editable\\\":false,\\\"headerTooltip\\\":\\\"\\\",\\\"field\\\":\\\"__row__\\\",\\\"headerName\\\":\\\"Row\\\",\\\"sortable\\\":true,\\\"type\\\":\\\"numericColumn\\\",\\\"cellRenderer\\\":\\\"rowNumberRenderer\\\",\\\"resizable\\\":true},{\\\"filter\\\":true,\\\"editable\\\":false,\\\"headerTooltip\\\":\\\"String\\\",\\\"field\\\":\\\"instance_name\\\",\\\"headerName\\\":\\\"instance_name\\\",\\\"sortable\\\":true,\\\"type\\\":null,\\\"resizable\\\":true},{\\\"filter\\\":true,\\\"editable\\\":false,\\\"headerTooltip\\\":\\\"Union{Missing, String}\\\",\\\"field\\\":\\\"FP B\\\",\\\"headerName\\\":\\\"FP B\\\",\\\"sortable\\\":true,\\\"type\\\":null,\\\"resizable\\\":true},{\\\"filter\\\":true,\\\"editable\\\":false,\\\"headerTooltip\\\":\\\"Union{Missing, String}\\\",\\\"field\\\":\\\"FP DS\\\",\\\"headerName\\\":\\\"FP DS\\\",\\\"sortable\\\":true,\\\"type\\\":null,\\\"resizable\\\":true},{\\\"filter\\\":true,\\\"editable\\\":false,\\\"headerTooltip\\\":\\\"Union{Missing, String}\\\",\\\"field\\\":\\\"FP DS+B\\\",\\\"headerName\\\":\\\"FP DS+B\\\",\\\"sortable\\\":true,\\\"type\\\":null,\\\"resizable\\\":true},{\\\"filter\\\":true,\\\"editable\\\":false,\\\"headerTooltip\\\":\\\"Union{Missing, String}\\\",\\\"field\\\":\\\"NP B\\\",\\\"headerName\\\":\\\"NP B\\\",\\\"sortable\\\":true,\\\"type\\\":null,\\\"resizable\\\":true},{\\\"filter\\\":true,\\\"editable\\\":false,\\\"headerTooltip\\\":\\\"Union{Missing, String}\\\",\\\"field\\\":\\\"NP DS\\\",\\\"headerName\\\":\\\"NP DS\\\",\\\"sortable\\\":true,\\\"type\\\":null,\\\"resizable\\\":true}],\\\"onRowClicked\\\":(function (ev){var x={}; (ev.rowIndex!==undefined) ? (x[\\\"rowIndex\\\"]=(ev.rowIndex+1)) : undefined; (ev.colDef!==undefined) ? (x[\\\"column\\\"]=ev.colDef.headerName) : undefined; return WebIO.setval({\\\"name\\\":\\\"onRowClicked\\\",\\\"scope\\\":\\\"14937297495563405910\\\",\\\"id\\\":\\\"ob_163\\\",\\\"type\\\":\\\"observable\\\"},x)}),\\\"onCellKeyDown\\\":(function (ev){var x={}; (ev.rowIndex!==undefined) ? (x[\\\"rowIndex\\\"]=(ev.rowIndex+1)) : undefined; (ev.colDef!==undefined) ? (x[\\\"column\\\"]=ev.colDef.headerName) : undefined; return WebIO.setval({\\\"name\\\":\\\"onCellKeyDown\\\",\\\"scope\\\":\\\"14937297495563405910\\\",\\\"id\\\":\\\"ob_165\\\",\\\"type\\\":\\\"observable\\\"},x)}),\\\"rowData\\\":[{\\\"instance_name\\\":\\\"A5\\\",\\\"FP B\\\":\\\"--\\\",\\\"FP DS\\\":\\\"296.42\\\",\\\"FP DS+B\\\":\\\"260.50\\\",\\\"NP B\\\":\\\"259.72\\\",\\\"NP DS\\\":\\\"488.51\\\"},{\\\"instance_name\\\":\\\"CU1\\\",\\\"FP B\\\":\\\"3130.73\\\",\\\"FP DS\\\":\\\"83.16\\\",\\\"FP DS+B\\\":\\\"77.97\\\",\\\"NP B\\\":\\\"26.05\\\",\\\"NP DS\\\":\\\"41.39\\\"},{\\\"instance_name\\\":\\\"STS4\\\",\\\"FP B\\\":\\\"--\\\",\\\"FP DS\\\":\\\"106.75\\\",\\\"FP DS+B\\\":\\\"97.24\\\",\\\"NP B\\\":\\\"58.82\\\",\\\"NP DS\\\":\\\"131.79\\\"},{\\\"instance_name\\\":\\\"STS4s\\\",\\\"FP B\\\":\\\"--\\\",\\\"FP DS\\\":\\\"110.62\\\",\\\"FP DS+B\\\":\\\"101.68\\\",\\\"NP B\\\":\\\"49.42\\\",\\\"NP DS\\\":\\\"139.08\\\"},{\\\"instance_name\\\":\\\"gcut9\\\",\\\"FP B\\\":\\\"2958.12\\\",\\\"FP DS\\\":\\\"21.34\\\",\\\"FP DS+B\\\":\\\"18.09\\\",\\\"NP B\\\":\\\"51.63\\\",\\\"NP DS\\\":\\\"253.48\\\"},{\\\"instance_name\\\":\\\"okp1\\\",\\\"FP B\\\":\\\"--\\\",\\\"FP DS\\\":\\\"54.78\\\",\\\"FP DS+B\\\":\\\"53.72\\\",\\\"NP B\\\":\\\"37.11\\\",\\\"NP DS\\\":\\\"71.77\\\"},{\\\"instance_name\\\":\\\"okp4\\\",\\\"FP B\\\":\\\"--\\\",\\\"FP DS\\\":\\\"231.18\\\",\\\"FP DS+B\\\":\\\"219.45\\\",\\\"NP B\\\":\\\"82.43\\\",\\\"NP DS\\\":\\\"152.11\\\"},{\\\"instance_name\\\":\\\"okp5\\\",\\\"FP B\\\":\\\"--\\\",\\\"FP DS\\\":\\\"439.69\\\",\\\"FP DS+B\\\":\\\"414.41\\\",\\\"NP B\\\":\\\"81.63\\\",\\\"NP DS\\\":\\\"319.01\\\"}],\\\"onCellClicked\\\":(function (ev){var x={}; (ev.rowIndex!==undefined) ? (x[\\\"rowIndex\\\"]=(ev.rowIndex+1)) : undefined; (ev.colDef!==undefined) ? (x[\\\"column\\\"]=ev.colDef.headerName) : undefined; return WebIO.setval({\\\"name\\\":\\\"onCellClicked\\\",\\\"scope\\\":\\\"14937297495563405910\\\",\\\"id\\\":\\\"ob_161\\\",\\\"type\\\":\\\"observable\\\"},x)})}; var el=document.getElementById(\\\"grid-26e252de\\\"); gridOptions.components={\\\"rowNumberRenderer\\\":RowNumberRenderer}; this.table=new agGrid.Grid(el,gridOptions); gridOptions.columnApi.autoSizeColumn(\\\"__row__\\\"); return gridOptions.columnApi.autoSizeColumns([\\\"instance_name\\\",\\\"FP B\\\",\\\"FP DS\\\",\\\"FP DS+B\\\",\\\"NP B\\\",\\\"NP DS\\\"])}));\\n    (WebIO.importBlock({\\\"data\\\":[{\\\"name\\\":null,\\\"type\\\":\\\"js\\\",\\\"url\\\":\\\"/assetserver/0590277e57f9dce38c944f556c3d3f3537505baf-rowNumberRenderer.js\\\"},{\\\"name\\\":null,\\\"type\\\":\\\"js\\\",\\\"url\\\":\\\"/assetserver/4c1301a0647c04ca15698ec91c7948d0d808ae4e-ag-grid.js\\\"},{\\\"name\\\":null,\\\"type\\\":\\\"css\\\",\\\"url\\\":\\\"/assetserver/2fc78d8695c17bdfaf311ef6969766c669cc3259-ag-grid.css\\\"},{\\\"name\\\":null,\\\"type\\\":\\\"css\\\",\\\"url\\\":\\\"/assetserver/5fc5fa256baa60ef6cfb2f781fbe8b1e3528c443-ag-grid-light.css\\\"},{\\\"name\\\":null,\\\"type\\\":\\\"css\\\",\\\"url\\\":\\\"/assetserver/885a5d8cdc6d7b90593d781d742de9279d70e324-ag-grid-dark.css\\\"}],\\\"type\\\":\\\"async_block\\\"})).then((imports) => handler.apply(this, imports));\\n}\\n\")])"
      ]
     },
     "execution_count": 198,
     "metadata": {
      "application/vnd.webio.node+json": {
       "kernelId": "fcb8707d-440e-4836-a44e-015236c59633"
      }
     },
     "output_type": "execute_result"
    }
   ],
   "source": [
    "# Table with the build+solve time for each instance (rows) and parameter combination (columns).\n",
    "# Note this counts the theoretically unnecessary root node solving of the priced models.\n",
    "# wide (opposed to long) table of total time\n",
    "wttt = unstack(lttt, :instance_name, :params, :build_and_solve_time)\n",
    "\n",
    "showtable(wttt)\n"
   ]
  },
  {
   "cell_type": "code",
   "execution_count": 101,
   "metadata": {},
   "outputs": [],
   "source": [
    "#pretty_table(wide_ttt; backend = :latex)"
   ]
  },
  {
   "cell_type": "code",
   "execution_count": 5,
   "metadata": {},
   "outputs": [
    {
     "data": {
      "application/vnd.webio.node+json": {
       "children": [
        {
         "children": [
          {
           "children": [
            ""
           ],
           "instanceArgs": {
            "namespace": "html",
            "tag": "div"
           },
           "nodeType": "DOM",
           "props": {
            "style": {
             "background-color": "#F5F7F7",
             "color": "#1c1f20",
             "font-family": "-apple-system, BlinkMacSystemFont, \"Segoe UI\", Roboto, Oxygen-Sans, Ubuntu, Cantarell, \"Helvetica Neue\", sans-serif",
             "height": "0",
             "padding": "0"
            }
           },
           "type": "node"
          },
          {
           "children": [],
           "instanceArgs": {
            "namespace": "html",
            "tag": "div"
           },
           "nodeType": "DOM",
           "props": {
            "className": "ag-theme-balham",
            "id": "grid-1c188b96",
            "style": {
             "height": "500px",
             "width": "100%"
            }
           },
           "type": "node"
          }
         ],
         "instanceArgs": {
          "namespace": "html",
          "tag": "div"
         },
         "nodeType": "DOM",
         "props": {},
         "type": "node"
        }
       ],
       "instanceArgs": {
        "handlers": {},
        "id": "2746230686756284776",
        "imports": {
         "data": [
          {
           "name": null,
           "type": "js",
           "url": "/assetserver/0590277e57f9dce38c944f556c3d3f3537505baf-rowNumberRenderer.js"
          },
          {
           "name": null,
           "type": "js",
           "url": "/assetserver/4c1301a0647c04ca15698ec91c7948d0d808ae4e-ag-grid.js"
          },
          {
           "name": null,
           "type": "css",
           "url": "/assetserver/2fc78d8695c17bdfaf311ef6969766c669cc3259-ag-grid.css"
          },
          {
           "name": null,
           "type": "css",
           "url": "/assetserver/5fc5fa256baa60ef6cfb2f781fbe8b1e3528c443-ag-grid-light.css"
          },
          {
           "name": null,
           "type": "css",
           "url": "/assetserver/885a5d8cdc6d7b90593d781d742de9279d70e324-ag-grid-dark.css"
          }
         ],
         "type": "async_block"
        },
        "mount_callbacks": [
         "function () {\n    var handler = ((function (RowNumberRenderer,agGrid){var gridOptions={\"onCellFocused\":(function (ev){var x={}; (ev.rowIndex!==undefined) ? (x[\"rowIndex\"]=(ev.rowIndex+1)) : undefined; (ev.colDef!==undefined) ? (x[\"column\"]=ev.colDef.headerName) : undefined; return WebIO.setval({\"name\":\"onCellFocused\",\"scope\":\"2746230686756284776\",\"id\":\"ob_09\",\"type\":\"observable\"},x)}),\"onCellValueChanged\":(function (){return }),\"onCellDoubleClicked\":(function (ev){var x={}; (ev.rowIndex!==undefined) ? (x[\"rowIndex\"]=(ev.rowIndex+1)) : undefined; (ev.colDef!==undefined) ? (x[\"column\"]=ev.colDef.headerName) : undefined; return WebIO.setval({\"name\":\"onCellDoubleClicked\",\"scope\":\"2746230686756284776\",\"id\":\"ob_07\",\"type\":\"observable\"},x)}),\"multiSortKey\":\"ctrl\",\"columnDefs\":[{\"filter\":false,\"editable\":false,\"headerTooltip\":\"\",\"field\":\"__row__\",\"headerName\":\"Row\",\"sortable\":true,\"type\":\"numericColumn\",\"cellRenderer\":\"rowNumberRenderer\",\"resizable\":true},{\"filter\":true,\"editable\":false,\"headerTooltip\":\"String\",\"field\":\"instance_name\",\"headerName\":\"instance_name\",\"sortable\":true,\"type\":null,\"resizable\":true},{\"filter\":true,\"editable\":false,\"headerTooltip\":\"String\",\"field\":\"params\",\"headerName\":\"params\",\"sortable\":true,\"type\":null,\"resizable\":true},{\"filter\":true,\"editable\":false,\"headerTooltip\":\"Tuple{Float64,Float64}\",\"field\":\"both_timings\",\"headerName\":\"both_timings\",\"sortable\":true,\"type\":null,\"resizable\":true}],\"onRowClicked\":(function (ev){var x={}; (ev.rowIndex!==undefined) ? (x[\"rowIndex\"]=(ev.rowIndex+1)) : undefined; (ev.colDef!==undefined) ? (x[\"column\"]=ev.colDef.headerName) : undefined; return WebIO.setval({\"name\":\"onRowClicked\",\"scope\":\"2746230686756284776\",\"id\":\"ob_08\",\"type\":\"observable\"},x)}),\"onCellKeyDown\":(function (ev){var x={}; (ev.rowIndex!==undefined) ? (x[\"rowIndex\"]=(ev.rowIndex+1)) : undefined; (ev.colDef!==undefined) ? (x[\"column\"]=ev.colDef.headerName) : undefined; return WebIO.setval({\"name\":\"onCellKeyDown\",\"scope\":\"2746230686756284776\",\"id\":\"ob_10\",\"type\":\"observable\"},x)}),\"rowData\":[{\"instance_name\":\"okp5\",\"params\":\"NP B\",\"both_timings\":\"(81.63336110115051, 14.153361101150509)\"},{\"instance_name\":\"STS4\",\"params\":\"FP DS+B\",\"both_timings\":\"(97.23640704154968, 96.70640704154968)\"},{\"instance_name\":\"okp1\",\"params\":\"FP DS\",\"both_timings\":\"(54.78092098236084, 53.56092098236084)\"},{\"instance_name\":\"STS4\",\"params\":\"FP B\",\"both_timings\":\"(NaN, NaN)\"},{\"instance_name\":\"CU1\",\"params\":\"FP DS+B\",\"both_timings\":\"(77.96736001968384, 77.96736001968384)\"},{\"instance_name\":\"STS4s\",\"params\":\"NP DS\",\"both_timings\":\"(139.07853603363037, 6.1285360336303825)\"},{\"instance_name\":\"A5\",\"params\":\"FP DS\",\"both_timings\":\"(296.41612005233765, 261.8761200523376)\"},{\"instance_name\":\"A5\",\"params\":\"NP B\",\"both_timings\":\"(259.7174708843231, 137.39747088432313)\"},{\"instance_name\":\"CU1\",\"params\":\"NP B\",\"both_timings\":\"(26.04724097251892, 1.547240972518921)\"},{\"instance_name\":\"gcut9\",\"params\":\"FP B\",\"both_timings\":\"(2958.120416879654, 2956.040416879654)\"},{\"instance_name\":\"okp4\",\"params\":\"FP B\",\"both_timings\":\"(NaN, NaN)\"},{\"instance_name\":\"STS4\",\"params\":\"NP B\",\"both_timings\":\"(58.81835603713989, 14.038356037139891)\"},{\"instance_name\":\"okp4\",\"params\":\"FP DS+B\",\"both_timings\":\"(219.4500880241394, 219.3700880241394)\"},{\"instance_name\":\"CU1\",\"params\":\"FP DS\",\"both_timings\":\"(83.15805697441101, 83.15805697441101)\"},{\"instance_name\":\"STS4\",\"params\":\"NP DS\",\"both_timings\":\"(131.79284811019897, 11.432848110198975)\"},{\"instance_name\":\"okp1\",\"params\":\"FP DS+B\",\"both_timings\":\"(53.72082495689392, 52.85082495689392)\"},{\"instance_name\":\"okp1\",\"params\":\"NP B\",\"both_timings\":\"(37.10814094543457, 12.798140945434572)\"},{\"instance_name\":\"A5\",\"params\":\"FP B\",\"both_timings\":\"(NaN, NaN)\"},{\"instance_name\":\"CU1\",\"params\":\"NP DS\",\"both_timings\":\"(41.38890504837036, 2.4889050483703627)\"},{\"instance_name\":\"gcut9\",\"params\":\"FP DS\",\"both_timings\":\"(21.338239908218384, 21.048239908218385)\"},{\"instance_name\":\"okp5\",\"params\":\"FP DS\",\"both_timings\":\"(439.6897430419922, 439.6697430419922)\"},{\"instance_name\":\"okp5\",\"params\":\"FP B\",\"both_timings\":\"(NaN, NaN)\"},{\"instance_name\":\"CU1\",\"params\":\"FP B\",\"both_timings\":\"(3130.7250089645386, 3130.7250089645386)\"},{\"instance_name\":\"A5\",\"params\":\"NP DS\",\"both_timings\":\"(488.50833201408386, 54.058332014083874)\"},{\"instance_name\":\"okp1\",\"params\":\"FP B\",\"both_timings\":\"(NaN, NaN)\"},{\"instance_name\":\"STS4s\",\"params\":\"FP B\",\"both_timings\":\"(NaN, NaN)\"},{\"instance_name\":\"gcut9\",\"params\":\"FP DS+B\",\"both_timings\":\"(18.087675094604492, 17.347675094604494)\"},{\"instance_name\":\"gcut9\",\"params\":\"NP B\",\"both_timings\":\"(51.6284818649292, 9.028481864929198)\"},{\"instance_name\":\"okp4\",\"params\":\"NP B\",\"both_timings\":\"(82.43107914924622, 6.771079149246219)\"},{\"instance_name\":\"okp5\",\"params\":\"NP DS\",\"both_timings\":\"(319.0115897655487, 54.90158976554869)\"},{\"instance_name\":\"STS4s\",\"params\":\"FP DS\",\"both_timings\":\"(110.62064695358276, 110.62064695358276)\"},{\"instance_name\":\"STS4s\",\"params\":\"FP DS+B\",\"both_timings\":\"(101.67762303352356, 101.67762303352356)\"},{\"instance_name\":\"okp4\",\"params\":\"NP DS\",\"both_timings\":\"(152.11415600776672, 12.364156007766724)\"},{\"instance_name\":\"STS4\",\"params\":\"FP DS\",\"both_timings\":\"(106.7533130645752, 106.4333130645752)\"},{\"instance_name\":\"gcut9\",\"params\":\"NP DS\",\"both_timings\":\"(253.4776451587677, 48.1976451587677)\"},{\"instance_name\":\"okp1\",\"params\":\"NP DS\",\"both_timings\":\"(71.76519393920898, 9.755193939208986)\"},{\"instance_name\":\"STS4s\",\"params\":\"NP B\",\"both_timings\":\"(49.41793990135193, 7.19793990135193)\"},{\"instance_name\":\"A5\",\"params\":\"FP DS+B\",\"both_timings\":\"(260.5032629966736, 239.0632629966736)\"},{\"instance_name\":\"okp5\",\"params\":\"FP DS+B\",\"both_timings\":\"(414.4075779914856, 414.3175779914856)\"},{\"instance_name\":\"okp4\",\"params\":\"FP DS\",\"both_timings\":\"(231.17898893356323, 231.16898893356324)\"}],\"onCellClicked\":(function (ev){var x={}; (ev.rowIndex!==undefined) ? (x[\"rowIndex\"]=(ev.rowIndex+1)) : undefined; (ev.colDef!==undefined) ? (x[\"column\"]=ev.colDef.headerName) : undefined; return WebIO.setval({\"name\":\"onCellClicked\",\"scope\":\"2746230686756284776\",\"id\":\"ob_06\",\"type\":\"observable\"},x)})}; var el=document.getElementById(\"grid-1c188b96\"); gridOptions.components={\"rowNumberRenderer\":RowNumberRenderer}; this.table=new agGrid.Grid(el,gridOptions); gridOptions.columnApi.autoSizeColumn(\"__row__\"); return gridOptions.columnApi.autoSizeColumns([\"instance_name\",\"params\",\"both_timings\"])}));\n    (WebIO.importBlock({\"data\":[{\"name\":null,\"type\":\"js\",\"url\":\"/assetserver/0590277e57f9dce38c944f556c3d3f3537505baf-rowNumberRenderer.js\"},{\"name\":null,\"type\":\"js\",\"url\":\"/assetserver/4c1301a0647c04ca15698ec91c7948d0d808ae4e-ag-grid.js\"},{\"name\":null,\"type\":\"css\",\"url\":\"/assetserver/2fc78d8695c17bdfaf311ef6969766c669cc3259-ag-grid.css\"},{\"name\":null,\"type\":\"css\",\"url\":\"/assetserver/5fc5fa256baa60ef6cfb2f781fbe8b1e3528c443-ag-grid-light.css\"},{\"name\":null,\"type\":\"css\",\"url\":\"/assetserver/885a5d8cdc6d7b90593d781d742de9279d70e324-ag-grid-dark.css\"}],\"type\":\"async_block\"})).then((imports) => handler.apply(this, imports));\n}\n"
        ],
        "observables": {
         "onCellClicked": {
          "id": "ob_06",
          "sync": false,
          "value": null
         },
         "onCellDoubleClicked": {
          "id": "ob_07",
          "sync": false,
          "value": null
         },
         "onCellFocused": {
          "id": "ob_09",
          "sync": false,
          "value": null
         },
         "onCellKeyDown": {
          "id": "ob_10",
          "sync": false,
          "value": null
         },
         "onRowClicked": {
          "id": "ob_08",
          "sync": false,
          "value": null
         }
        },
        "systemjs_options": null
       },
       "nodeType": "Scope",
       "props": {},
       "type": "node"
      },
      "text/html": [
       "<div\n",
       "    class=\"webio-mountpoint\"\n",
       "    data-webio-mountpoint=\"3400902764733011476\"\n",
       ">\n",
       "    <script>\n",
       "    if (window.require && require.defined && require.defined(\"nbextensions/webio-jupyter-notebook\")) {\n",
       "        console.log(\"Jupyter WebIO extension detected, not mounting.\");\n",
       "    } else if (window.WebIO) {\n",
       "        WebIO.mount(\n",
       "            document.querySelector('[data-webio-mountpoint=\"3400902764733011476\"]'),\n",
       "            {\"props\":{},\"nodeType\":\"Scope\",\"type\":\"node\",\"instanceArgs\":{\"imports\":{\"data\":[{\"name\":null,\"type\":\"js\",\"url\":\"\\/assetserver\\/0590277e57f9dce38c944f556c3d3f3537505baf-rowNumberRenderer.js\"},{\"name\":null,\"type\":\"js\",\"url\":\"\\/assetserver\\/4c1301a0647c04ca15698ec91c7948d0d808ae4e-ag-grid.js\"},{\"name\":null,\"type\":\"css\",\"url\":\"\\/assetserver\\/2fc78d8695c17bdfaf311ef6969766c669cc3259-ag-grid.css\"},{\"name\":null,\"type\":\"css\",\"url\":\"\\/assetserver\\/5fc5fa256baa60ef6cfb2f781fbe8b1e3528c443-ag-grid-light.css\"},{\"name\":null,\"type\":\"css\",\"url\":\"\\/assetserver\\/885a5d8cdc6d7b90593d781d742de9279d70e324-ag-grid-dark.css\"}],\"type\":\"async_block\"},\"id\":\"2746230686756284776\",\"handlers\":{},\"systemjs_options\":null,\"mount_callbacks\":[\"function () {\\n    var handler = ((function (RowNumberRenderer,agGrid){var gridOptions={\\\"onCellFocused\\\":(function (ev){var x={}; (ev.rowIndex!==undefined) ? (x[\\\"rowIndex\\\"]=(ev.rowIndex+1)) : undefined; (ev.colDef!==undefined) ? (x[\\\"column\\\"]=ev.colDef.headerName) : undefined; return WebIO.setval({\\\"name\\\":\\\"onCellFocused\\\",\\\"scope\\\":\\\"2746230686756284776\\\",\\\"id\\\":\\\"ob_09\\\",\\\"type\\\":\\\"observable\\\"},x)}),\\\"onCellValueChanged\\\":(function (){return }),\\\"onCellDoubleClicked\\\":(function (ev){var x={}; (ev.rowIndex!==undefined) ? (x[\\\"rowIndex\\\"]=(ev.rowIndex+1)) : undefined; (ev.colDef!==undefined) ? (x[\\\"column\\\"]=ev.colDef.headerName) : undefined; return WebIO.setval({\\\"name\\\":\\\"onCellDoubleClicked\\\",\\\"scope\\\":\\\"2746230686756284776\\\",\\\"id\\\":\\\"ob_07\\\",\\\"type\\\":\\\"observable\\\"},x)}),\\\"multiSortKey\\\":\\\"ctrl\\\",\\\"columnDefs\\\":[{\\\"filter\\\":false,\\\"editable\\\":false,\\\"headerTooltip\\\":\\\"\\\",\\\"field\\\":\\\"__row__\\\",\\\"headerName\\\":\\\"Row\\\",\\\"sortable\\\":true,\\\"type\\\":\\\"numericColumn\\\",\\\"cellRenderer\\\":\\\"rowNumberRenderer\\\",\\\"resizable\\\":true},{\\\"filter\\\":true,\\\"editable\\\":false,\\\"headerTooltip\\\":\\\"String\\\",\\\"field\\\":\\\"instance_name\\\",\\\"headerName\\\":\\\"instance_name\\\",\\\"sortable\\\":true,\\\"type\\\":null,\\\"resizable\\\":true},{\\\"filter\\\":true,\\\"editable\\\":false,\\\"headerTooltip\\\":\\\"String\\\",\\\"field\\\":\\\"params\\\",\\\"headerName\\\":\\\"params\\\",\\\"sortable\\\":true,\\\"type\\\":null,\\\"resizable\\\":true},{\\\"filter\\\":true,\\\"editable\\\":false,\\\"headerTooltip\\\":\\\"Tuple{Float64,Float64}\\\",\\\"field\\\":\\\"both_timings\\\",\\\"headerName\\\":\\\"both_timings\\\",\\\"sortable\\\":true,\\\"type\\\":null,\\\"resizable\\\":true}],\\\"onRowClicked\\\":(function (ev){var x={}; (ev.rowIndex!==undefined) ? (x[\\\"rowIndex\\\"]=(ev.rowIndex+1)) : undefined; (ev.colDef!==undefined) ? (x[\\\"column\\\"]=ev.colDef.headerName) : undefined; return WebIO.setval({\\\"name\\\":\\\"onRowClicked\\\",\\\"scope\\\":\\\"2746230686756284776\\\",\\\"id\\\":\\\"ob_08\\\",\\\"type\\\":\\\"observable\\\"},x)}),\\\"onCellKeyDown\\\":(function (ev){var x={}; (ev.rowIndex!==undefined) ? (x[\\\"rowIndex\\\"]=(ev.rowIndex+1)) : undefined; (ev.colDef!==undefined) ? (x[\\\"column\\\"]=ev.colDef.headerName) : undefined; return WebIO.setval({\\\"name\\\":\\\"onCellKeyDown\\\",\\\"scope\\\":\\\"2746230686756284776\\\",\\\"id\\\":\\\"ob_10\\\",\\\"type\\\":\\\"observable\\\"},x)}),\\\"rowData\\\":[{\\\"instance_name\\\":\\\"okp5\\\",\\\"params\\\":\\\"NP B\\\",\\\"both_timings\\\":\\\"(81.63336110115051, 14.153361101150509)\\\"},{\\\"instance_name\\\":\\\"STS4\\\",\\\"params\\\":\\\"FP DS+B\\\",\\\"both_timings\\\":\\\"(97.23640704154968, 96.70640704154968)\\\"},{\\\"instance_name\\\":\\\"okp1\\\",\\\"params\\\":\\\"FP DS\\\",\\\"both_timings\\\":\\\"(54.78092098236084, 53.56092098236084)\\\"},{\\\"instance_name\\\":\\\"STS4\\\",\\\"params\\\":\\\"FP B\\\",\\\"both_timings\\\":\\\"(NaN, NaN)\\\"},{\\\"instance_name\\\":\\\"CU1\\\",\\\"params\\\":\\\"FP DS+B\\\",\\\"both_timings\\\":\\\"(77.96736001968384, 77.96736001968384)\\\"},{\\\"instance_name\\\":\\\"STS4s\\\",\\\"params\\\":\\\"NP DS\\\",\\\"both_timings\\\":\\\"(139.07853603363037, 6.1285360336303825)\\\"},{\\\"instance_name\\\":\\\"A5\\\",\\\"params\\\":\\\"FP DS\\\",\\\"both_timings\\\":\\\"(296.41612005233765, 261.8761200523376)\\\"},{\\\"instance_name\\\":\\\"A5\\\",\\\"params\\\":\\\"NP B\\\",\\\"both_timings\\\":\\\"(259.7174708843231, 137.39747088432313)\\\"},{\\\"instance_name\\\":\\\"CU1\\\",\\\"params\\\":\\\"NP B\\\",\\\"both_timings\\\":\\\"(26.04724097251892, 1.547240972518921)\\\"},{\\\"instance_name\\\":\\\"gcut9\\\",\\\"params\\\":\\\"FP B\\\",\\\"both_timings\\\":\\\"(2958.120416879654, 2956.040416879654)\\\"},{\\\"instance_name\\\":\\\"okp4\\\",\\\"params\\\":\\\"FP B\\\",\\\"both_timings\\\":\\\"(NaN, NaN)\\\"},{\\\"instance_name\\\":\\\"STS4\\\",\\\"params\\\":\\\"NP B\\\",\\\"both_timings\\\":\\\"(58.81835603713989, 14.038356037139891)\\\"},{\\\"instance_name\\\":\\\"okp4\\\",\\\"params\\\":\\\"FP DS+B\\\",\\\"both_timings\\\":\\\"(219.4500880241394, 219.3700880241394)\\\"},{\\\"instance_name\\\":\\\"CU1\\\",\\\"params\\\":\\\"FP DS\\\",\\\"both_timings\\\":\\\"(83.15805697441101, 83.15805697441101)\\\"},{\\\"instance_name\\\":\\\"STS4\\\",\\\"params\\\":\\\"NP DS\\\",\\\"both_timings\\\":\\\"(131.79284811019897, 11.432848110198975)\\\"},{\\\"instance_name\\\":\\\"okp1\\\",\\\"params\\\":\\\"FP DS+B\\\",\\\"both_timings\\\":\\\"(53.72082495689392, 52.85082495689392)\\\"},{\\\"instance_name\\\":\\\"okp1\\\",\\\"params\\\":\\\"NP B\\\",\\\"both_timings\\\":\\\"(37.10814094543457, 12.798140945434572)\\\"},{\\\"instance_name\\\":\\\"A5\\\",\\\"params\\\":\\\"FP B\\\",\\\"both_timings\\\":\\\"(NaN, NaN)\\\"},{\\\"instance_name\\\":\\\"CU1\\\",\\\"params\\\":\\\"NP DS\\\",\\\"both_timings\\\":\\\"(41.38890504837036, 2.4889050483703627)\\\"},{\\\"instance_name\\\":\\\"gcut9\\\",\\\"params\\\":\\\"FP DS\\\",\\\"both_timings\\\":\\\"(21.338239908218384, 21.048239908218385)\\\"},{\\\"instance_name\\\":\\\"okp5\\\",\\\"params\\\":\\\"FP DS\\\",\\\"both_timings\\\":\\\"(439.6897430419922, 439.6697430419922)\\\"},{\\\"instance_name\\\":\\\"okp5\\\",\\\"params\\\":\\\"FP B\\\",\\\"both_timings\\\":\\\"(NaN, NaN)\\\"},{\\\"instance_name\\\":\\\"CU1\\\",\\\"params\\\":\\\"FP B\\\",\\\"both_timings\\\":\\\"(3130.7250089645386, 3130.7250089645386)\\\"},{\\\"instance_name\\\":\\\"A5\\\",\\\"params\\\":\\\"NP DS\\\",\\\"both_timings\\\":\\\"(488.50833201408386, 54.058332014083874)\\\"},{\\\"instance_name\\\":\\\"okp1\\\",\\\"params\\\":\\\"FP B\\\",\\\"both_timings\\\":\\\"(NaN, NaN)\\\"},{\\\"instance_name\\\":\\\"STS4s\\\",\\\"params\\\":\\\"FP B\\\",\\\"both_timings\\\":\\\"(NaN, NaN)\\\"},{\\\"instance_name\\\":\\\"gcut9\\\",\\\"params\\\":\\\"FP DS+B\\\",\\\"both_timings\\\":\\\"(18.087675094604492, 17.347675094604494)\\\"},{\\\"instance_name\\\":\\\"gcut9\\\",\\\"params\\\":\\\"NP B\\\",\\\"both_timings\\\":\\\"(51.6284818649292, 9.028481864929198)\\\"},{\\\"instance_name\\\":\\\"okp4\\\",\\\"params\\\":\\\"NP B\\\",\\\"both_timings\\\":\\\"(82.43107914924622, 6.771079149246219)\\\"},{\\\"instance_name\\\":\\\"okp5\\\",\\\"params\\\":\\\"NP DS\\\",\\\"both_timings\\\":\\\"(319.0115897655487, 54.90158976554869)\\\"},{\\\"instance_name\\\":\\\"STS4s\\\",\\\"params\\\":\\\"FP DS\\\",\\\"both_timings\\\":\\\"(110.62064695358276, 110.62064695358276)\\\"},{\\\"instance_name\\\":\\\"STS4s\\\",\\\"params\\\":\\\"FP DS+B\\\",\\\"both_timings\\\":\\\"(101.67762303352356, 101.67762303352356)\\\"},{\\\"instance_name\\\":\\\"okp4\\\",\\\"params\\\":\\\"NP DS\\\",\\\"both_timings\\\":\\\"(152.11415600776672, 12.364156007766724)\\\"},{\\\"instance_name\\\":\\\"STS4\\\",\\\"params\\\":\\\"FP DS\\\",\\\"both_timings\\\":\\\"(106.7533130645752, 106.4333130645752)\\\"},{\\\"instance_name\\\":\\\"gcut9\\\",\\\"params\\\":\\\"NP DS\\\",\\\"both_timings\\\":\\\"(253.4776451587677, 48.1976451587677)\\\"},{\\\"instance_name\\\":\\\"okp1\\\",\\\"params\\\":\\\"NP DS\\\",\\\"both_timings\\\":\\\"(71.76519393920898, 9.755193939208986)\\\"},{\\\"instance_name\\\":\\\"STS4s\\\",\\\"params\\\":\\\"NP B\\\",\\\"both_timings\\\":\\\"(49.41793990135193, 7.19793990135193)\\\"},{\\\"instance_name\\\":\\\"A5\\\",\\\"params\\\":\\\"FP DS+B\\\",\\\"both_timings\\\":\\\"(260.5032629966736, 239.0632629966736)\\\"},{\\\"instance_name\\\":\\\"okp5\\\",\\\"params\\\":\\\"FP DS+B\\\",\\\"both_timings\\\":\\\"(414.4075779914856, 414.3175779914856)\\\"},{\\\"instance_name\\\":\\\"okp4\\\",\\\"params\\\":\\\"FP DS\\\",\\\"both_timings\\\":\\\"(231.17898893356323, 231.16898893356324)\\\"}],\\\"onCellClicked\\\":(function (ev){var x={}; (ev.rowIndex!==undefined) ? (x[\\\"rowIndex\\\"]=(ev.rowIndex+1)) : undefined; (ev.colDef!==undefined) ? (x[\\\"column\\\"]=ev.colDef.headerName) : undefined; return WebIO.setval({\\\"name\\\":\\\"onCellClicked\\\",\\\"scope\\\":\\\"2746230686756284776\\\",\\\"id\\\":\\\"ob_06\\\",\\\"type\\\":\\\"observable\\\"},x)})}; var el=document.getElementById(\\\"grid-1c188b96\\\"); gridOptions.components={\\\"rowNumberRenderer\\\":RowNumberRenderer}; this.table=new agGrid.Grid(el,gridOptions); gridOptions.columnApi.autoSizeColumn(\\\"__row__\\\"); return gridOptions.columnApi.autoSizeColumns([\\\"instance_name\\\",\\\"params\\\",\\\"both_timings\\\"])}));\\n    (WebIO.importBlock({\\\"data\\\":[{\\\"name\\\":null,\\\"type\\\":\\\"js\\\",\\\"url\\\":\\\"\\/assetserver\\/0590277e57f9dce38c944f556c3d3f3537505baf-rowNumberRenderer.js\\\"},{\\\"name\\\":null,\\\"type\\\":\\\"js\\\",\\\"url\\\":\\\"\\/assetserver\\/4c1301a0647c04ca15698ec91c7948d0d808ae4e-ag-grid.js\\\"},{\\\"name\\\":null,\\\"type\\\":\\\"css\\\",\\\"url\\\":\\\"\\/assetserver\\/2fc78d8695c17bdfaf311ef6969766c669cc3259-ag-grid.css\\\"},{\\\"name\\\":null,\\\"type\\\":\\\"css\\\",\\\"url\\\":\\\"\\/assetserver\\/5fc5fa256baa60ef6cfb2f781fbe8b1e3528c443-ag-grid-light.css\\\"},{\\\"name\\\":null,\\\"type\\\":\\\"css\\\",\\\"url\\\":\\\"\\/assetserver\\/885a5d8cdc6d7b90593d781d742de9279d70e324-ag-grid-dark.css\\\"}],\\\"type\\\":\\\"async_block\\\"})).then((imports) => handler.apply(this, imports));\\n}\\n\"],\"observables\":{\"onCellKeyDown\":{\"sync\":false,\"id\":\"ob_10\",\"value\":null},\"onRowClicked\":{\"sync\":false,\"id\":\"ob_08\",\"value\":null},\"onCellDoubleClicked\":{\"sync\":false,\"id\":\"ob_07\",\"value\":null},\"onCellClicked\":{\"sync\":false,\"id\":\"ob_06\",\"value\":null},\"onCellFocused\":{\"sync\":false,\"id\":\"ob_09\",\"value\":null}}},\"children\":[{\"props\":{},\"nodeType\":\"DOM\",\"type\":\"node\",\"instanceArgs\":{\"namespace\":\"html\",\"tag\":\"div\"},\"children\":[{\"props\":{\"style\":{\"height\":\"0\",\"padding\":\"0\",\"background-color\":\"#F5F7F7\",\"color\":\"#1c1f20\",\"font-family\":\"-apple-system, BlinkMacSystemFont, \\\"Segoe UI\\\", Roboto, Oxygen-Sans, Ubuntu, Cantarell, \\\"Helvetica Neue\\\", sans-serif\"}},\"nodeType\":\"DOM\",\"type\":\"node\",\"instanceArgs\":{\"namespace\":\"html\",\"tag\":\"div\"},\"children\":[\"\"]},{\"props\":{\"id\":\"grid-1c188b96\",\"className\":\"ag-theme-balham\",\"style\":{\"height\":\"500px\",\"width\":\"100%\"}},\"nodeType\":\"DOM\",\"type\":\"node\",\"instanceArgs\":{\"namespace\":\"html\",\"tag\":\"div\"},\"children\":[]}]}]},\n",
       "            window,\n",
       "        );\n",
       "    } else {\n",
       "        document\n",
       "            .querySelector('[data-webio-mountpoint=\"3400902764733011476\"]')\n",
       "            .innerHTML = (\n",
       "                '<div style=\"padding: 1em; background-color: #f8d6da; border: 1px solid #f5c6cb\">' +\n",
       "                '<p><strong>WebIO not detected.</strong></p>' +\n",
       "                '<p>Please read ' +\n",
       "                '<a href=\"https://juliagizmos.github.io/WebIO.jl/latest/troubleshooting/not-detected/\" target=\"_blank\">the troubleshooting guide</a> ' +\n",
       "                'for more information on how to resolve this issue.</p>' +\n",
       "                '<p><a href=\"https://juliagizmos.github.io/WebIO.jl/latest/troubleshooting/not-detected/\" target=\"_blank\">https://juliagizmos.github.io/WebIO.jl/latest/troubleshooting/not-detected/</a></p>' +\n",
       "                '</div>'\n",
       "            );\n",
       "    }\n",
       "    </script>\n",
       "</div>\n"
      ],
      "text/plain": [
       "Scope(Node{WebIO.DOM}(WebIO.DOM(:html, :div), Any[Node{WebIO.DOM}(WebIO.DOM(:html, :div), Any[\"\"], Dict{Symbol,Any}(:style => Dict(\"height\" => \"0\",\"padding\" => \"0\",\"background-color\" => \"#F5F7F7\",\"color\" => \"#1c1f20\",\"font-family\" => \"-apple-system, BlinkMacSystemFont, \\\"Segoe UI\\\", Roboto, Oxygen-Sans, Ubuntu, Cantarell, \\\"Helvetica Neue\\\", sans-serif\"))), Node{WebIO.DOM}(WebIO.DOM(:html, :div), Any[], Dict{Symbol,Any}(:id => \"grid-1c188b96\",:className => \"ag-theme-balham\",:style => Dict(\"height\" => \"500px\",\"width\" => \"100%\")))], Dict{Symbol,Any}()), Dict{String,Tuple{Observables.AbstractObservable,Union{Nothing, Bool}}}(\"onCellKeyDown\" => (Observable{Any} with 0 listeners. Value:\n",
       "nothing, nothing),\"onRowClicked\" => (Observable{Any} with 0 listeners. Value:\n",
       "nothing, nothing),\"onCellDoubleClicked\" => (Observable{Any} with 0 listeners. Value:\n",
       "nothing, nothing),\"onCellClicked\" => (Observable{Any} with 0 listeners. Value:\n",
       "nothing, nothing),\"onCellFocused\" => (Observable{Any} with 0 listeners. Value:\n",
       "nothing, nothing)), Set(String[]), nothing, Asset[Asset(\"js\", nothing, \"/home/henrique/.julia/packages/TableView/CxWLO/src/rowNumberRenderer.js\"), Asset(\"js\", nothing, \"/home/henrique/.julia/packages/TableView/CxWLO/deps/ag-grid-22.1.0/ag-grid.js\"), Asset(\"css\", nothing, \"/home/henrique/.julia/packages/TableView/CxWLO/deps/ag-grid-22.1.0/ag-grid.css\"), Asset(\"css\", nothing, \"/home/henrique/.julia/packages/TableView/CxWLO/deps/ag-grid-22.1.0/ag-grid-light.css\"), Asset(\"css\", nothing, \"/home/henrique/.julia/packages/TableView/CxWLO/deps/ag-grid-22.1.0/ag-grid-dark.css\")], Dict{Any,Any}(), WebIO.ConnectionPool(Channel{Any}(sz_max:32,sz_curr:0), Set(AbstractConnection[]), Base.GenericCondition{Base.AlwaysLockedST}(Base.InvasiveLinkedList{Task}(Task (runnable) @0x00007fd7e0252980, Task (runnable) @0x00007fd7e0252980), Base.AlwaysLockedST(1))), WebIO.JSString[WebIO.JSString(\"function () {\\n    var handler = ((function (RowNumberRenderer,agGrid){var gridOptions={\\\"onCellFocused\\\":(function (ev){var x={}; (ev.rowIndex!==undefined) ? (x[\\\"rowIndex\\\"]=(ev.rowIndex+1)) : undefined; (ev.colDef!==undefined) ? (x[\\\"column\\\"]=ev.colDef.headerName) : undefined; return WebIO.setval({\\\"name\\\":\\\"onCellFocused\\\",\\\"scope\\\":\\\"2746230686756284776\\\",\\\"id\\\":\\\"ob_09\\\",\\\"type\\\":\\\"observable\\\"},x)}),\\\"onCellValueChanged\\\":(function (){return }),\\\"onCellDoubleClicked\\\":(function (ev){var x={}; (ev.rowIndex!==undefined) ? (x[\\\"rowIndex\\\"]=(ev.rowIndex+1)) : undefined; (ev.colDef!==undefined) ? (x[\\\"column\\\"]=ev.colDef.headerName) : undefined; return WebIO.setval({\\\"name\\\":\\\"onCellDoubleClicked\\\",\\\"scope\\\":\\\"2746230686756284776\\\",\\\"id\\\":\\\"ob_07\\\",\\\"type\\\":\\\"observable\\\"},x)}),\\\"multiSortKey\\\":\\\"ctrl\\\",\\\"columnDefs\\\":[{\\\"filter\\\":false,\\\"editable\\\":false,\\\"headerTooltip\\\":\\\"\\\",\\\"field\\\":\\\"__row__\\\",\\\"headerName\\\":\\\"Row\\\",\\\"sortable\\\":true,\\\"type\\\":\\\"numericColumn\\\",\\\"cellRenderer\\\":\\\"rowNumberRenderer\\\",\\\"resizable\\\":true},{\\\"filter\\\":true,\\\"editable\\\":false,\\\"headerTooltip\\\":\\\"String\\\",\\\"field\\\":\\\"instance_name\\\",\\\"headerName\\\":\\\"instance_name\\\",\\\"sortable\\\":true,\\\"type\\\":null,\\\"resizable\\\":true},{\\\"filter\\\":true,\\\"editable\\\":false,\\\"headerTooltip\\\":\\\"String\\\",\\\"field\\\":\\\"params\\\",\\\"headerName\\\":\\\"params\\\",\\\"sortable\\\":true,\\\"type\\\":null,\\\"resizable\\\":true},{\\\"filter\\\":true,\\\"editable\\\":false,\\\"headerTooltip\\\":\\\"Tuple{Float64,Float64}\\\",\\\"field\\\":\\\"both_timings\\\",\\\"headerName\\\":\\\"both_timings\\\",\\\"sortable\\\":true,\\\"type\\\":null,\\\"resizable\\\":true}],\\\"onRowClicked\\\":(function (ev){var x={}; (ev.rowIndex!==undefined) ? (x[\\\"rowIndex\\\"]=(ev.rowIndex+1)) : undefined; (ev.colDef!==undefined) ? (x[\\\"column\\\"]=ev.colDef.headerName) : undefined; return WebIO.setval({\\\"name\\\":\\\"onRowClicked\\\",\\\"scope\\\":\\\"2746230686756284776\\\",\\\"id\\\":\\\"ob_08\\\",\\\"type\\\":\\\"observable\\\"},x)}),\\\"onCellKeyDown\\\":(function (ev){var x={}; (ev.rowIndex!==undefined) ? (x[\\\"rowIndex\\\"]=(ev.rowIndex+1)) : undefined; (ev.colDef!==undefined) ? (x[\\\"column\\\"]=ev.colDef.headerName) : undefined; return WebIO.setval({\\\"name\\\":\\\"onCellKeyDown\\\",\\\"scope\\\":\\\"2746230686756284776\\\",\\\"id\\\":\\\"ob_10\\\",\\\"type\\\":\\\"observable\\\"},x)}),\\\"rowData\\\":[{\\\"instance_name\\\":\\\"okp5\\\",\\\"params\\\":\\\"NP B\\\",\\\"both_timings\\\":\\\"(81.63336110115051, 14.153361101150509)\\\"},{\\\"instance_name\\\":\\\"STS4\\\",\\\"params\\\":\\\"FP DS+B\\\",\\\"both_timings\\\":\\\"(97.23640704154968, 96.70640704154968)\\\"},{\\\"instance_name\\\":\\\"okp1\\\",\\\"params\\\":\\\"FP DS\\\",\\\"both_timings\\\":\\\"(54.78092098236084, 53.56092098236084)\\\"},{\\\"instance_name\\\":\\\"STS4\\\",\\\"params\\\":\\\"FP B\\\",\\\"both_timings\\\":\\\"(NaN, NaN)\\\"},{\\\"instance_name\\\":\\\"CU1\\\",\\\"params\\\":\\\"FP DS+B\\\",\\\"both_timings\\\":\\\"(77.96736001968384, 77.96736001968384)\\\"},{\\\"instance_name\\\":\\\"STS4s\\\",\\\"params\\\":\\\"NP DS\\\",\\\"both_timings\\\":\\\"(139.07853603363037, 6.1285360336303825)\\\"},{\\\"instance_name\\\":\\\"A5\\\",\\\"params\\\":\\\"FP DS\\\",\\\"both_timings\\\":\\\"(296.41612005233765, 261.8761200523376)\\\"},{\\\"instance_name\\\":\\\"A5\\\",\\\"params\\\":\\\"NP B\\\",\\\"both_timings\\\":\\\"(259.7174708843231, 137.39747088432313)\\\"},{\\\"instance_name\\\":\\\"CU1\\\",\\\"params\\\":\\\"NP B\\\",\\\"both_timings\\\":\\\"(26.04724097251892, 1.547240972518921)\\\"},{\\\"instance_name\\\":\\\"gcut9\\\",\\\"params\\\":\\\"FP B\\\",\\\"both_timings\\\":\\\"(2958.120416879654, 2956.040416879654)\\\"},{\\\"instance_name\\\":\\\"okp4\\\",\\\"params\\\":\\\"FP B\\\",\\\"both_timings\\\":\\\"(NaN, NaN)\\\"},{\\\"instance_name\\\":\\\"STS4\\\",\\\"params\\\":\\\"NP B\\\",\\\"both_timings\\\":\\\"(58.81835603713989, 14.038356037139891)\\\"},{\\\"instance_name\\\":\\\"okp4\\\",\\\"params\\\":\\\"FP DS+B\\\",\\\"both_timings\\\":\\\"(219.4500880241394, 219.3700880241394)\\\"},{\\\"instance_name\\\":\\\"CU1\\\",\\\"params\\\":\\\"FP DS\\\",\\\"both_timings\\\":\\\"(83.15805697441101, 83.15805697441101)\\\"},{\\\"instance_name\\\":\\\"STS4\\\",\\\"params\\\":\\\"NP DS\\\",\\\"both_timings\\\":\\\"(131.79284811019897, 11.432848110198975)\\\"},{\\\"instance_name\\\":\\\"okp1\\\",\\\"params\\\":\\\"FP DS+B\\\",\\\"both_timings\\\":\\\"(53.72082495689392, 52.85082495689392)\\\"},{\\\"instance_name\\\":\\\"okp1\\\",\\\"params\\\":\\\"NP B\\\",\\\"both_timings\\\":\\\"(37.10814094543457, 12.798140945434572)\\\"},{\\\"instance_name\\\":\\\"A5\\\",\\\"params\\\":\\\"FP B\\\",\\\"both_timings\\\":\\\"(NaN, NaN)\\\"},{\\\"instance_name\\\":\\\"CU1\\\",\\\"params\\\":\\\"NP DS\\\",\\\"both_timings\\\":\\\"(41.38890504837036, 2.4889050483703627)\\\"},{\\\"instance_name\\\":\\\"gcut9\\\",\\\"params\\\":\\\"FP DS\\\",\\\"both_timings\\\":\\\"(21.338239908218384, 21.048239908218385)\\\"},{\\\"instance_name\\\":\\\"okp5\\\",\\\"params\\\":\\\"FP DS\\\",\\\"both_timings\\\":\\\"(439.6897430419922, 439.6697430419922)\\\"},{\\\"instance_name\\\":\\\"okp5\\\",\\\"params\\\":\\\"FP B\\\",\\\"both_timings\\\":\\\"(NaN, NaN)\\\"},{\\\"instance_name\\\":\\\"CU1\\\",\\\"params\\\":\\\"FP B\\\",\\\"both_timings\\\":\\\"(3130.7250089645386, 3130.7250089645386)\\\"},{\\\"instance_name\\\":\\\"A5\\\",\\\"params\\\":\\\"NP DS\\\",\\\"both_timings\\\":\\\"(488.50833201408386, 54.058332014083874)\\\"},{\\\"instance_name\\\":\\\"okp1\\\",\\\"params\\\":\\\"FP B\\\",\\\"both_timings\\\":\\\"(NaN, NaN)\\\"},{\\\"instance_name\\\":\\\"STS4s\\\",\\\"params\\\":\\\"FP B\\\",\\\"both_timings\\\":\\\"(NaN, NaN)\\\"},{\\\"instance_name\\\":\\\"gcut9\\\",\\\"params\\\":\\\"FP DS+B\\\",\\\"both_timings\\\":\\\"(18.087675094604492, 17.347675094604494)\\\"},{\\\"instance_name\\\":\\\"gcut9\\\",\\\"params\\\":\\\"NP B\\\",\\\"both_timings\\\":\\\"(51.6284818649292, 9.028481864929198)\\\"},{\\\"instance_name\\\":\\\"okp4\\\",\\\"params\\\":\\\"NP B\\\",\\\"both_timings\\\":\\\"(82.43107914924622, 6.771079149246219)\\\"},{\\\"instance_name\\\":\\\"okp5\\\",\\\"params\\\":\\\"NP DS\\\",\\\"both_timings\\\":\\\"(319.0115897655487, 54.90158976554869)\\\"},{\\\"instance_name\\\":\\\"STS4s\\\",\\\"params\\\":\\\"FP DS\\\",\\\"both_timings\\\":\\\"(110.62064695358276, 110.62064695358276)\\\"},{\\\"instance_name\\\":\\\"STS4s\\\",\\\"params\\\":\\\"FP DS+B\\\",\\\"both_timings\\\":\\\"(101.67762303352356, 101.67762303352356)\\\"},{\\\"instance_name\\\":\\\"okp4\\\",\\\"params\\\":\\\"NP DS\\\",\\\"both_timings\\\":\\\"(152.11415600776672, 12.364156007766724)\\\"},{\\\"instance_name\\\":\\\"STS4\\\",\\\"params\\\":\\\"FP DS\\\",\\\"both_timings\\\":\\\"(106.7533130645752, 106.4333130645752)\\\"},{\\\"instance_name\\\":\\\"gcut9\\\",\\\"params\\\":\\\"NP DS\\\",\\\"both_timings\\\":\\\"(253.4776451587677, 48.1976451587677)\\\"},{\\\"instance_name\\\":\\\"okp1\\\",\\\"params\\\":\\\"NP DS\\\",\\\"both_timings\\\":\\\"(71.76519393920898, 9.755193939208986)\\\"},{\\\"instance_name\\\":\\\"STS4s\\\",\\\"params\\\":\\\"NP B\\\",\\\"both_timings\\\":\\\"(49.41793990135193, 7.19793990135193)\\\"},{\\\"instance_name\\\":\\\"A5\\\",\\\"params\\\":\\\"FP DS+B\\\",\\\"both_timings\\\":\\\"(260.5032629966736, 239.0632629966736)\\\"},{\\\"instance_name\\\":\\\"okp5\\\",\\\"params\\\":\\\"FP DS+B\\\",\\\"both_timings\\\":\\\"(414.4075779914856, 414.3175779914856)\\\"},{\\\"instance_name\\\":\\\"okp4\\\",\\\"params\\\":\\\"FP DS\\\",\\\"both_timings\\\":\\\"(231.17898893356323, 231.16898893356324)\\\"}],\\\"onCellClicked\\\":(function (ev){var x={}; (ev.rowIndex!==undefined) ? (x[\\\"rowIndex\\\"]=(ev.rowIndex+1)) : undefined; (ev.colDef!==undefined) ? (x[\\\"column\\\"]=ev.colDef.headerName) : undefined; return WebIO.setval({\\\"name\\\":\\\"onCellClicked\\\",\\\"scope\\\":\\\"2746230686756284776\\\",\\\"id\\\":\\\"ob_06\\\",\\\"type\\\":\\\"observable\\\"},x)})}; var el=document.getElementById(\\\"grid-1c188b96\\\"); gridOptions.components={\\\"rowNumberRenderer\\\":RowNumberRenderer}; this.table=new agGrid.Grid(el,gridOptions); gridOptions.columnApi.autoSizeColumn(\\\"__row__\\\"); return gridOptions.columnApi.autoSizeColumns([\\\"instance_name\\\",\\\"params\\\",\\\"both_timings\\\"])}));\\n    (WebIO.importBlock({\\\"data\\\":[{\\\"name\\\":null,\\\"type\\\":\\\"js\\\",\\\"url\\\":\\\"/assetserver/0590277e57f9dce38c944f556c3d3f3537505baf-rowNumberRenderer.js\\\"},{\\\"name\\\":null,\\\"type\\\":\\\"js\\\",\\\"url\\\":\\\"/assetserver/4c1301a0647c04ca15698ec91c7948d0d808ae4e-ag-grid.js\\\"},{\\\"name\\\":null,\\\"type\\\":\\\"css\\\",\\\"url\\\":\\\"/assetserver/2fc78d8695c17bdfaf311ef6969766c669cc3259-ag-grid.css\\\"},{\\\"name\\\":null,\\\"type\\\":\\\"css\\\",\\\"url\\\":\\\"/assetserver/5fc5fa256baa60ef6cfb2f781fbe8b1e3528c443-ag-grid-light.css\\\"},{\\\"name\\\":null,\\\"type\\\":\\\"css\\\",\\\"url\\\":\\\"/assetserver/885a5d8cdc6d7b90593d781d742de9279d70e324-ag-grid-dark.css\\\"}],\\\"type\\\":\\\"async_block\\\"})).then((imports) => handler.apply(this, imports));\\n}\\n\")])"
      ]
     },
     "execution_count": 5,
     "metadata": {
      "application/vnd.webio.node+json": {
       "kernelId": "f223ee56-6dc1-4681-8878-c3fbcc239198"
      }
     },
     "output_type": "execute_result"
    }
   ],
   "source": [
    "# Now let us do the same but without the root node time.\n",
    "lcttt = let\n",
    "    sel_columns = [\n",
    "        :instance_name, :lp_method, :lp_method_switch, :pricing_method, :build_and_solve_time,\n",
    "        :final_root_time\n",
    "    ]\n",
    "    # long (opposed to wide) corrected table of total time\n",
    "    lcttt = select(lp_method_df, sel_columns)\n",
    "    lcttt.corrected_time = lcttt.build_and_solve_time .- lcttt.final_root_time\n",
    "    lcttt.both_timings = tuple.(lcttt.build_and_solve_time, lcttt.corrected_time)\n",
    "    lcttt.params = join.(zip(lcttt.lp_method, lcttt.lp_method_switch, lcttt.pricing_method), \"_\")\n",
    "    pretty_params = Dict{String, String}(\n",
    "        \"barrier_only_none\" => \"NP B\",\n",
    "        \"barrier_switch_furini\" => \"FP DS+B\",\n",
    "        \"simplex_only_furini\" => \"FP DS\",\n",
    "        \"barrier_only_furini\" => \"FP B\",\n",
    "        \"simplex_only_none\" => \"NP DS\"\n",
    "    )\n",
    "    lcttt.params = getindex.((pretty_params,), lcttt.params)\n",
    "    lcttt = select(lcttt, :instance_name, :params, :both_timings)\n",
    "    lcttt\n",
    "end\n",
    "showtable(lcttt)"
   ]
  },
  {
   "cell_type": "code",
   "execution_count": 7,
   "metadata": {},
   "outputs": [
    {
     "name": "stdout",
     "output_type": "stream",
     "text": [
      "\\begin{tabular}{rrrrrr}\n",
      "\\hline\\hline\n",
      "\\textbf{instance_name} & \\textbf{FP B} & \\textbf{FP DS} & \\textbf{FP DS+B} & \\textbf{NP B} & \\textbf{NP DS} \\\\\n",
      "\\texttt{String} & \\texttt{Tuple{Float64,Float64}} & \\texttt{Tuple{Float64,Float64}} & \\texttt{Tuple{Float64,Float64}} & \\texttt{Tuple{Float64,Float64}} & \\texttt{Tuple{Float64,Float64}} \\\\\\hline\n",
      "A5 & (NaN, NaN) & (296.42, 261.88) & (260.5, 239.06) & (259.72, 137.4) & (488.51, 54.06) \\\\\n",
      "CU1 & (3130.73, 3130.73) & (83.16, 83.16) & (77.97, 77.97) & (26.05, 1.55) & (41.39, 2.49) \\\\\n",
      "STS4 & (NaN, NaN) & (106.75, 106.43) & (97.24, 96.71) & (58.82, 14.04) & (131.79, 11.43) \\\\\n",
      "STS4s & (NaN, NaN) & (110.62, 110.62) & (101.68, 101.68) & (49.42, 7.2) & (139.08, 6.13) \\\\\n",
      "gcut9 & (2958.12, 2956.04) & (21.34, 21.05) & (18.09, 17.35) & (51.63, 9.03) & (253.48, 48.2) \\\\\n",
      "okp1 & (NaN, NaN) & (54.78, 53.56) & (53.72, 52.85) & (37.11, 12.8) & (71.77, 9.76) \\\\\n",
      "okp4 & (NaN, NaN) & (231.18, 231.17) & (219.45, 219.37) & (82.43, 6.77) & (152.11, 12.36) \\\\\n",
      "okp5 & (NaN, NaN) & (439.69, 439.67) & (414.41, 414.32) & (81.63, 14.15) & (319.01, 54.9) \\\\\\hline\\hline\n",
      "\\end{tabular}\n"
     ]
    }
   ],
   "source": [
    "# Table with both the build+solve time and this time minus the root node solving for each instance (rows)\n",
    "# and parameter combination (columns).\n",
    "# wide (opposed to long) corrected table of total time\n",
    "wcttt = unstack(lcttt, :instance_name, :params, :both_timings)\n",
    "clean_col(df, col) = setproperty!(df, Symbol(col), (both -> round.(both; digits = 2)).(getproperty(df, Symbol(col))))\n",
    "clean_col.((wcttt,), [\"FP B\", \"FP DS\", \"FP DS+B\", \"NP B\", \"NP DS\"])\n",
    "\n",
    "pretty_table(wcttt; backend = :latex)\n",
    "#showtable(wcttt)\n"
   ]
  },
  {
   "cell_type": "code",
   "execution_count": 187,
   "metadata": {},
   "outputs": [
    {
     "name": "stdout",
     "output_type": "stream",
     "text": [
      "search: \u001b[0m\u001b[1ms\u001b[22m\u001b[0m\u001b[1me\u001b[22m\u001b[0m\u001b[1mt\u001b[22m\u001b[0m\u001b[1mp\u001b[22m\u001b[0m\u001b[1mr\u001b[22m\u001b[0m\u001b[1mo\u001b[22m\u001b[0m\u001b[1mp\u001b[22m\u001b[0m\u001b[1me\u001b[22m\u001b[0m\u001b[1mr\u001b[22m\u001b[0m\u001b[1mt\u001b[22m\u001b[0m\u001b[1my\u001b[22m\u001b[0m\u001b[1m!\u001b[22m\n",
      "\n"
     ]
    },
    {
     "data": {
      "text/latex": [
       "\\begin{verbatim}\n",
       "setproperty!(value, name::Symbol, x)\n",
       "\\end{verbatim}\n",
       "The syntax \\texttt{a.b = c} calls \\texttt{setproperty!(a, :b, c)}.\n",
       "\n",
       "See also \\href{@ref Base.propertynames}{\\texttt{propertynames}} and \\href{@ref Base.getproperty}{\\texttt{getproperty}}.\n",
       "\n"
      ],
      "text/markdown": [
       "```\n",
       "setproperty!(value, name::Symbol, x)\n",
       "```\n",
       "\n",
       "The syntax `a.b = c` calls `setproperty!(a, :b, c)`.\n",
       "\n",
       "See also [`propertynames`](@ref Base.propertynames) and [`getproperty`](@ref Base.getproperty).\n"
      ],
      "text/plain": [
       "\u001b[36m  setproperty!(value, name::Symbol, x)\u001b[39m\n",
       "\n",
       "  The syntax \u001b[36ma.b = c\u001b[39m calls \u001b[36msetproperty!(a, :b, c)\u001b[39m.\n",
       "\n",
       "  See also \u001b[36mpropertynames\u001b[39m and \u001b[36mgetproperty\u001b[39m."
      ]
     },
     "execution_count": 187,
     "metadata": {},
     "output_type": "execute_result"
    }
   ],
   "source": [
    "?setproperty!"
   ]
  }
 ],
 "metadata": {
  "@webio": {
   "lastCommId": "e325b58998534f899158d86334e8bf17",
   "lastKernelId": "f223ee56-6dc1-4681-8878-c3fbcc239198"
  },
  "kernelspec": {
   "display_name": "Julia 1.4.1",
   "language": "julia",
   "name": "julia-1.4"
  },
  "language_info": {
   "file_extension": ".jl",
   "mimetype": "application/julia",
   "name": "julia",
   "version": "1.4.1"
  },
  "widgets": {
   "application/vnd.jupyter.widget-state+json": {
    "state": {},
    "version_major": 2,
    "version_minor": 0
   }
  }
 },
 "nbformat": 4,
 "nbformat_minor": 2
}

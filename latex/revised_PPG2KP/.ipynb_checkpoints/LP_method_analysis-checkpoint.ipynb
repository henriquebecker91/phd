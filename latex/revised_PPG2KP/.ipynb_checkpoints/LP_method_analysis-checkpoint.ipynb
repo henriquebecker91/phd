{
 "cells": [
  {
   "cell_type": "code",
   "execution_count": 2,
   "metadata": {
    "scrolled": true
   },
   "outputs": [
    {
     "data": {
      "text/html": [
       "<script>\n",
       "// Immediately-invoked-function-expression to avoid global variables.\n",
       "(function() {\n",
       "    var warning_div = document.getElementById(\"webio-warning-16845398735744622189\");\n",
       "    var hide = function () {\n",
       "        var script = document.getElementById(\"webio-setup-3364651093837931821\");\n",
       "        var parent = script && script.parentElement;\n",
       "        var grandparent = parent && parent.parentElement;\n",
       "        if (grandparent) {\n",
       "            grandparent.style.display = \"none\";\n",
       "        }\n",
       "        warning_div.style.display = \"none\";\n",
       "    };\n",
       "    if (typeof Jupyter !== \"undefined\") {\n",
       "        console.log(\"WebIO detected Jupyter notebook environment.\");\n",
       "        // Jupyter notebook.\n",
       "        var extensions = (\n",
       "            Jupyter\n",
       "            && Jupyter.notebook.config.data\n",
       "            && Jupyter.notebook.config.data.load_extensions\n",
       "        );\n",
       "        if (extensions && extensions[\"webio-jupyter-notebook\"]) {\n",
       "            // Extension already loaded.\n",
       "            console.log(\"Jupyter WebIO nbextension detected; not loading ad-hoc.\");\n",
       "            hide();\n",
       "            return;\n",
       "        }\n",
       "    } else if (window.location.pathname.includes(\"/lab\")) {\n",
       "        // Guessing JupyterLa\n",
       "        console.log(\"Jupyter Lab detected; make sure the @webio/jupyter-lab-provider labextension is installed.\");\n",
       "        hide();\n",
       "        return;\n",
       "    }\n",
       "})();\n",
       "\n",
       "</script>\n",
       "<p\n",
       "    id=\"webio-warning-16845398735744622189\"\n",
       "    class=\"output_text output_stderr\"\n",
       "    style=\"padding: 1em; font-weight: bold;\"\n",
       ">\n",
       "    Unable to load WebIO. Please make sure WebIO works for your Jupyter client.\n",
       "    For troubleshooting, please see <a href=\"https://juliagizmos.github.io/WebIO.jl/latest/providers/ijulia/\">\n",
       "    the WebIO/IJulia documentation</a>.\n",
       "    <!-- TODO: link to installation docs. -->\n",
       "</p>\n"
      ],
      "text/plain": [
       "HTML{String}(\"<script>\\n// Immediately-invoked-function-expression to avoid global variables.\\n(function() {\\n    var warning_div = document.getElementById(\\\"webio-warning-16845398735744622189\\\");\\n    var hide = function () {\\n        var script = document.getElementById(\\\"webio-setup-3364651093837931821\\\");\\n        var parent = script && script.parentElement;\\n        var grandparent = parent && parent.parentElement;\\n        if (grandparent) {\\n            grandparent.style.display = \\\"none\\\";\\n        }\\n        warning_div.style.display = \\\"none\\\";\\n    };\\n    if (typeof Jupyter !== \\\"undefined\\\") {\\n        console.log(\\\"WebIO detected Jupyter notebook environment.\\\");\\n        // Jupyter notebook.\\n        var extensions = (\\n            Jupyter\\n            && Jupyter.notebook.config.data\\n            && Jupyter.notebook.config.data.load_extensions\\n        );\\n        if (extensions && extensions[\\\"webio-jupyter-notebook\\\"]) {\\n            // Extension already loaded.\\n            console.log(\\\"Jupyter WebIO nbextension detected; not loading ad-hoc.\\\");\\n            hide();\\n            return;\\n        }\\n    } else if (window.location.pathname.includes(\\\"/lab\\\")) {\\n        // Guessing JupyterLa\\n        console.log(\\\"Jupyter Lab detected; make sure the @webio/jupyter-lab-provider labextension is installed.\\\");\\n        hide();\\n        return;\\n    }\\n})();\\n\\n</script>\\n<p\\n    id=\\\"webio-warning-16845398735744622189\\\"\\n    class=\\\"output_text output_stderr\\\"\\n    style=\\\"padding: 1em; font-weight: bold;\\\"\\n>\\n    Unable to load WebIO. Please make sure WebIO works for your Jupyter client.\\n    For troubleshooting, please see <a href=\\\"https://juliagizmos.github.io/WebIO.jl/latest/providers/ijulia/\\\">\\n    the WebIO/IJulia documentation</a>.\\n    <!-- TODO: link to installation docs. -->\\n</p>\\n\")"
      ]
     },
     "metadata": {},
     "output_type": "display_data"
    },
    {
     "name": "stderr",
     "output_type": "stream",
     "text": [
      "\u001b[32m\u001b[1m Activating\u001b[22m\u001b[39m environment at `~/Aulas/doutorado/phd/latex/revised_PPG2KP/Project.toml`\n",
      "┌ Info: Installing Jupyter WebIO extension...\n",
      "│   cmd = `\u001b[4m/usr/bin/jupyter\u001b[24m \u001b[4mnbextension\u001b[24m \u001b[4minstall\u001b[24m \u001b[4m--user\u001b[24m \u001b[4m/home/henrique/.julia/packages/WebIO/nTMDV/deps/bundles/webio-jupyter-notebook.js\u001b[24m`\n",
      "└ @ WebIO /home/henrique/.julia/packages/WebIO/nTMDV/deps/jupyter.jl:237\n",
      "Up to date: /home/henrique/.local/share/jupyter/nbextensions/webio-jupyter-notebook.js\n",
      "\n",
      "    To initialize this nbextension in the browser every time the notebook (or other app) loads:\n",
      "    \n",
      "          jupyter nbextension enable <the entry point> --user\n",
      "    \n",
      "┌ Info: Enabling Jupyter WebIO extension...\n",
      "│   cmd = `\u001b[4m/usr/bin/jupyter\u001b[24m \u001b[4mnbextension\u001b[24m \u001b[4menable\u001b[24m \u001b[4m--user\u001b[24m \u001b[4mwebio-jupyter-notebook\u001b[24m`\n",
      "└ @ WebIO /home/henrique/.julia/packages/WebIO/nTMDV/deps/jupyter.jl:241\n",
      "Enabling notebook extension webio-jupyter-notebook...\n",
      "      - Validating: \u001b[32mOK\u001b[0m\n"
     ]
    }
   ],
   "source": [
    "# Ensure your working directory is: https://github.com/henriquebecker91/phd/tree/master/latex/revised_PPG2KP\n",
    "import Pkg\n",
    "Pkg.activate(\".\")\n",
    "Pkg.instantiate()\n",
    "using WebIO\n",
    "WebIO.install_jupyter_nbextension()\n",
    "using DataFrames\n",
    "using DataFramesMeta\n",
    "using Gadfly\n",
    "using IJulia\n",
    "using Weave\n",
    "using CSV\n",
    "using Revise\n",
    "using TableView"
   ]
  },
  {
   "cell_type": "code",
   "execution_count": 14,
   "metadata": {},
   "outputs": [],
   "source": [
    "# Read the data, show nothing.\n",
    "lp_method_csv_path = \"./data/lp_method.csv\"\n",
    "lp_method_df = DataFrame(CSV.File(lp_method_csv_path))\n",
    "# showtable(lp_method_df)\n",
    "nothing"
   ]
  },
  {
   "cell_type": "code",
   "execution_count": 17,
   "metadata": {},
   "outputs": [
    {
     "data": {
      "text/plain": [
       "35-element Array{String,1}:\n",
       " \"barrier\"\n",
       " \"barrier\"\n",
       " \"simplex\"\n",
       " \"barrier\"\n",
       " \"barrier\"\n",
       " \"simplex\"\n",
       " \"barrier\"\n",
       " \"barrier\"\n",
       " \"barrier\"\n",
       " \"barrier\"\n",
       " \"barrier\"\n",
       " \"simplex\"\n",
       " \"simplex\"\n",
       " ⋮\n",
       " \"barrier\"\n",
       " \"barrier\"\n",
       " \"simplex\"\n",
       " \"simplex\"\n",
       " \"barrier\"\n",
       " \"simplex\"\n",
       " \"simplex\"\n",
       " \"simplex\"\n",
       " \"simplex\"\n",
       " \"barrier\"\n",
       " \"barrier\"\n",
       " \"simplex\""
      ]
     },
     "execution_count": 17,
     "metadata": {},
     "output_type": "execute_result"
    }
   ],
   "source": [
    "# Clean the data a little.\n",
    "lp_method_code2name = Dict{Int, String}(1 => \"simplex\", 2 => \"barrier\")\n",
    "lp_switch_code2name = Dict{Int, String}(-2 => \"only\", 1 => \"switch\")\n",
    "#lp_method_df.instance_name = basename.(lp_method_df.instance_name)\n",
    "@with(lp_method_df, :instance_name .= basename.(:instance_name))\n",
    "if eltype(lp_method_df.lp_method) == Int\n",
    "    lp_method_df.lp_method = getindex.((lp_method_code2name,), lp_method_df.lp_method)\n",
    "end\n",
    "if eltype(lp_method_df.lp_method) == Int\n",
    "    lp_method_df.lp_method = getindex.((lp_method_code2name,), lp_method_df.lp_method)\n",
    "end\n"
   ]
  },
  {
   "cell_type": "code",
   "execution_count": 16,
   "metadata": {},
   "outputs": [
    {
     "name": "stdout",
     "output_type": "stream",
     "text": [
      "search: \u001b[0m\u001b[1mg\u001b[22m\u001b[0m\u001b[1me\u001b[22m\u001b[0m\u001b[1mt\u001b[22m\u001b[0m\u001b[1mi\u001b[22m\u001b[0m\u001b[1mn\u001b[22m\u001b[0m\u001b[1md\u001b[22m\u001b[0m\u001b[1me\u001b[22m\u001b[0m\u001b[1mx\u001b[22m\n",
      "\n"
     ]
    },
    {
     "data": {
      "text/latex": [
       "\\begin{verbatim}\n",
       "getindex(type[, elements...])\n",
       "\\end{verbatim}\n",
       "Construct a 1-d array of the specified type. This is usually called with the syntax \\texttt{Type[]}. Element values can be specified using \\texttt{Type[a,b,c,...]}.\n",
       "\n",
       "\\section{Examples}\n",
       "\\begin{verbatim}\n",
       "julia> Int8[1, 2, 3]\n",
       "3-element Array{Int8,1}:\n",
       " 1\n",
       " 2\n",
       " 3\n",
       "\n",
       "julia> getindex(Int8, 1, 2, 3)\n",
       "3-element Array{Int8,1}:\n",
       " 1\n",
       " 2\n",
       " 3\n",
       "\\end{verbatim}\n",
       "\\rule{\\textwidth}{1pt}\n",
       "\\begin{verbatim}\n",
       "getindex(collection, key...)\n",
       "\\end{verbatim}\n",
       "Retrieve the value(s) stored at the given key or index within a collection. The syntax \\texttt{a[i,j,...]} is converted by the compiler to \\texttt{getindex(a, i, j, ...)}.\n",
       "\n",
       "\\section{Examples}\n",
       "\\begin{verbatim}\n",
       "julia> A = Dict(\"a\" => 1, \"b\" => 2)\n",
       "Dict{String,Int64} with 2 entries:\n",
       "  \"b\" => 2\n",
       "  \"a\" => 1\n",
       "\n",
       "julia> getindex(A, \"a\")\n",
       "1\n",
       "\\end{verbatim}\n",
       "\\rule{\\textwidth}{1pt}\n",
       "\\begin{verbatim}\n",
       "getindex(A, inds...)\n",
       "\\end{verbatim}\n",
       "Return a subset of array \\texttt{A} as specified by \\texttt{inds}, where each \\texttt{ind} may be an \\texttt{Int}, an \\href{@ref}{\\texttt{AbstractRange}}, or a \\href{@ref}{\\texttt{Vector}}. See the manual section on \\href{@ref man-array-indexing}{array indexing} for details.\n",
       "\n",
       "\\section{Examples}\n",
       "\\begin{verbatim}\n",
       "julia> A = [1 2; 3 4]\n",
       "2×2 Array{Int64,2}:\n",
       " 1  2\n",
       " 3  4\n",
       "\n",
       "julia> getindex(A, 1)\n",
       "1\n",
       "\n",
       "julia> getindex(A, [2, 1])\n",
       "2-element Array{Int64,1}:\n",
       " 3\n",
       " 1\n",
       "\n",
       "julia> getindex(A, 2:4)\n",
       "3-element Array{Int64,1}:\n",
       " 3\n",
       " 2\n",
       " 4\n",
       "\\end{verbatim}\n",
       "\\rule{\\textwidth}{1pt}\n",
       "\\begin{verbatim}\n",
       "getindex(tree::GitTree, target::AbstractString) -> GitObject\n",
       "\\end{verbatim}\n",
       "Look up \\texttt{target} path in the \\texttt{tree}, returning a \\href{@ref}{\\texttt{GitObject}} (a \\href{@ref}{\\texttt{GitBlob}} in the case of a file, or another \\href{@ref}{\\texttt{GitTree}} if looking up a directory).\n",
       "\n",
       "\\section{Examples}\n",
       "\\begin{verbatim}\n",
       "tree = LibGit2.GitTree(repo, \"HEAD^{tree}\")\n",
       "readme = tree[\"README.md\"]\n",
       "subtree = tree[\"test\"]\n",
       "runtests = subtree[\"runtests.jl\"]\n",
       "\\end{verbatim}\n",
       "\\rule{\\textwidth}{1pt}\n",
       "\\begin{verbatim}\n",
       "o[]\n",
       "\\end{verbatim}\n",
       "Returns the current value of \\texttt{o}.\n",
       "\n",
       "\\rule{\\textwidth}{1pt}\n",
       "\\begin{verbatim}\n",
       "v = sd[k]\n",
       "\\end{verbatim}\n",
       "Argument \\texttt{sd} is a SortedDict and \\texttt{k} is a key. In an expression, this retrieves the value (\\texttt{v}) associated with the key (or \\texttt{KeyError} if none). On the left-hand side of an assignment, this assigns or reassigns the value associated with the key. (For assigning and reassigning, see also \\texttt{insert!} below.) Time: O(\\emph{c} log \\emph{n})\n",
       "\n",
       "\\rule{\\textwidth}{1pt}\n",
       "\\begin{verbatim}\n",
       "cb[i]\n",
       "\\end{verbatim}\n",
       "Get the i-th element of CircularBuffer.\n",
       "\n",
       "\\begin{itemize}\n",
       "\\item \\texttt{cb[1]} to get the element at the front\n",
       "\n",
       "\n",
       "\\item \\texttt{cb[end]} to get the element at the back\n",
       "\n",
       "\\end{itemize}\n"
      ],
      "text/markdown": [
       "```\n",
       "getindex(type[, elements...])\n",
       "```\n",
       "\n",
       "Construct a 1-d array of the specified type. This is usually called with the syntax `Type[]`. Element values can be specified using `Type[a,b,c,...]`.\n",
       "\n",
       "# Examples\n",
       "\n",
       "```jldoctest\n",
       "julia> Int8[1, 2, 3]\n",
       "3-element Array{Int8,1}:\n",
       " 1\n",
       " 2\n",
       " 3\n",
       "\n",
       "julia> getindex(Int8, 1, 2, 3)\n",
       "3-element Array{Int8,1}:\n",
       " 1\n",
       " 2\n",
       " 3\n",
       "```\n",
       "\n",
       "---\n",
       "\n",
       "```\n",
       "getindex(collection, key...)\n",
       "```\n",
       "\n",
       "Retrieve the value(s) stored at the given key or index within a collection. The syntax `a[i,j,...]` is converted by the compiler to `getindex(a, i, j, ...)`.\n",
       "\n",
       "# Examples\n",
       "\n",
       "```jldoctest\n",
       "julia> A = Dict(\"a\" => 1, \"b\" => 2)\n",
       "Dict{String,Int64} with 2 entries:\n",
       "  \"b\" => 2\n",
       "  \"a\" => 1\n",
       "\n",
       "julia> getindex(A, \"a\")\n",
       "1\n",
       "```\n",
       "\n",
       "---\n",
       "\n",
       "```\n",
       "getindex(A, inds...)\n",
       "```\n",
       "\n",
       "Return a subset of array `A` as specified by `inds`, where each `ind` may be an `Int`, an [`AbstractRange`](@ref), or a [`Vector`](@ref). See the manual section on [array indexing](@ref man-array-indexing) for details.\n",
       "\n",
       "# Examples\n",
       "\n",
       "```jldoctest\n",
       "julia> A = [1 2; 3 4]\n",
       "2×2 Array{Int64,2}:\n",
       " 1  2\n",
       " 3  4\n",
       "\n",
       "julia> getindex(A, 1)\n",
       "1\n",
       "\n",
       "julia> getindex(A, [2, 1])\n",
       "2-element Array{Int64,1}:\n",
       " 3\n",
       " 1\n",
       "\n",
       "julia> getindex(A, 2:4)\n",
       "3-element Array{Int64,1}:\n",
       " 3\n",
       " 2\n",
       " 4\n",
       "```\n",
       "\n",
       "---\n",
       "\n",
       "```\n",
       "getindex(tree::GitTree, target::AbstractString) -> GitObject\n",
       "```\n",
       "\n",
       "Look up `target` path in the `tree`, returning a [`GitObject`](@ref) (a [`GitBlob`](@ref) in the case of a file, or another [`GitTree`](@ref) if looking up a directory).\n",
       "\n",
       "# Examples\n",
       "\n",
       "```julia\n",
       "tree = LibGit2.GitTree(repo, \"HEAD^{tree}\")\n",
       "readme = tree[\"README.md\"]\n",
       "subtree = tree[\"test\"]\n",
       "runtests = subtree[\"runtests.jl\"]\n",
       "```\n",
       "\n",
       "---\n",
       "\n",
       "```\n",
       "o[]\n",
       "```\n",
       "\n",
       "Returns the current value of `o`.\n",
       "\n",
       "---\n",
       "\n",
       "```\n",
       "v = sd[k]\n",
       "```\n",
       "\n",
       "Argument `sd` is a SortedDict and `k` is a key. In an expression, this retrieves the value (`v`) associated with the key (or `KeyError` if none). On the left-hand side of an assignment, this assigns or reassigns the value associated with the key. (For assigning and reassigning, see also `insert!` below.) Time: O(*c* log *n*)\n",
       "\n",
       "---\n",
       "\n",
       "```\n",
       "cb[i]\n",
       "```\n",
       "\n",
       "Get the i-th element of CircularBuffer.\n",
       "\n",
       "  * `cb[1]` to get the element at the front\n",
       "  * `cb[end]` to get the element at the back\n"
      ],
      "text/plain": [
       "\u001b[36m  getindex(type[, elements...])\u001b[39m\n",
       "\n",
       "  Construct a 1-d array of the specified type. This is usually called with the\n",
       "  syntax \u001b[36mType[]\u001b[39m. Element values can be specified using \u001b[36mType[a,b,c,...]\u001b[39m.\n",
       "\n",
       "\u001b[1m  Examples\u001b[22m\n",
       "\u001b[1m  ≡≡≡≡≡≡≡≡≡≡\u001b[22m\n",
       "\n",
       "\u001b[36m  julia> Int8[1, 2, 3]\u001b[39m\n",
       "\u001b[36m  3-element Array{Int8,1}:\u001b[39m\n",
       "\u001b[36m   1\u001b[39m\n",
       "\u001b[36m   2\u001b[39m\n",
       "\u001b[36m   3\u001b[39m\n",
       "\u001b[36m  \u001b[39m\n",
       "\u001b[36m  julia> getindex(Int8, 1, 2, 3)\u001b[39m\n",
       "\u001b[36m  3-element Array{Int8,1}:\u001b[39m\n",
       "\u001b[36m   1\u001b[39m\n",
       "\u001b[36m   2\u001b[39m\n",
       "\u001b[36m   3\u001b[39m\n",
       "\n",
       "  ────────────────────────────────────────────────────────────────────────────\n",
       "\n",
       "\u001b[36m  getindex(collection, key...)\u001b[39m\n",
       "\n",
       "  Retrieve the value(s) stored at the given key or index within a collection.\n",
       "  The syntax \u001b[36ma[i,j,...]\u001b[39m is converted by the compiler to \u001b[36mgetindex(a, i, j,\n",
       "  ...)\u001b[39m.\n",
       "\n",
       "\u001b[1m  Examples\u001b[22m\n",
       "\u001b[1m  ≡≡≡≡≡≡≡≡≡≡\u001b[22m\n",
       "\n",
       "\u001b[36m  julia> A = Dict(\"a\" => 1, \"b\" => 2)\u001b[39m\n",
       "\u001b[36m  Dict{String,Int64} with 2 entries:\u001b[39m\n",
       "\u001b[36m    \"b\" => 2\u001b[39m\n",
       "\u001b[36m    \"a\" => 1\u001b[39m\n",
       "\u001b[36m  \u001b[39m\n",
       "\u001b[36m  julia> getindex(A, \"a\")\u001b[39m\n",
       "\u001b[36m  1\u001b[39m\n",
       "\n",
       "  ────────────────────────────────────────────────────────────────────────────\n",
       "\n",
       "\u001b[36m  getindex(A, inds...)\u001b[39m\n",
       "\n",
       "  Return a subset of array \u001b[36mA\u001b[39m as specified by \u001b[36minds\u001b[39m, where each \u001b[36mind\u001b[39m may be an\n",
       "  \u001b[36mInt\u001b[39m, an \u001b[36mAbstractRange\u001b[39m, or a \u001b[36mVector\u001b[39m. See the manual section on array indexing\n",
       "  for details.\n",
       "\n",
       "\u001b[1m  Examples\u001b[22m\n",
       "\u001b[1m  ≡≡≡≡≡≡≡≡≡≡\u001b[22m\n",
       "\n",
       "\u001b[36m  julia> A = [1 2; 3 4]\u001b[39m\n",
       "\u001b[36m  2×2 Array{Int64,2}:\u001b[39m\n",
       "\u001b[36m   1  2\u001b[39m\n",
       "\u001b[36m   3  4\u001b[39m\n",
       "\u001b[36m  \u001b[39m\n",
       "\u001b[36m  julia> getindex(A, 1)\u001b[39m\n",
       "\u001b[36m  1\u001b[39m\n",
       "\u001b[36m  \u001b[39m\n",
       "\u001b[36m  julia> getindex(A, [2, 1])\u001b[39m\n",
       "\u001b[36m  2-element Array{Int64,1}:\u001b[39m\n",
       "\u001b[36m   3\u001b[39m\n",
       "\u001b[36m   1\u001b[39m\n",
       "\u001b[36m  \u001b[39m\n",
       "\u001b[36m  julia> getindex(A, 2:4)\u001b[39m\n",
       "\u001b[36m  3-element Array{Int64,1}:\u001b[39m\n",
       "\u001b[36m   3\u001b[39m\n",
       "\u001b[36m   2\u001b[39m\n",
       "\u001b[36m   4\u001b[39m\n",
       "\n",
       "  ────────────────────────────────────────────────────────────────────────────\n",
       "\n",
       "\u001b[36m  getindex(tree::GitTree, target::AbstractString) -> GitObject\u001b[39m\n",
       "\n",
       "  Look up \u001b[36mtarget\u001b[39m path in the \u001b[36mtree\u001b[39m, returning a \u001b[36mGitObject\u001b[39m (a \u001b[36mGitBlob\u001b[39m in the\n",
       "  case of a file, or another \u001b[36mGitTree\u001b[39m if looking up a directory).\n",
       "\n",
       "\u001b[1m  Examples\u001b[22m\n",
       "\u001b[1m  ≡≡≡≡≡≡≡≡≡≡\u001b[22m\n",
       "\n",
       "\u001b[36m  tree = LibGit2.GitTree(repo, \"HEAD^{tree}\")\u001b[39m\n",
       "\u001b[36m  readme = tree[\"README.md\"]\u001b[39m\n",
       "\u001b[36m  subtree = tree[\"test\"]\u001b[39m\n",
       "\u001b[36m  runtests = subtree[\"runtests.jl\"]\u001b[39m\n",
       "\n",
       "  ────────────────────────────────────────────────────────────────────────────\n",
       "\n",
       "\u001b[36m  o[]\u001b[39m\n",
       "\n",
       "  Returns the current value of \u001b[36mo\u001b[39m.\n",
       "\n",
       "  ────────────────────────────────────────────────────────────────────────────\n",
       "\n",
       "\u001b[36m  v = sd[k]\u001b[39m\n",
       "\n",
       "  Argument \u001b[36msd\u001b[39m is a SortedDict and \u001b[36mk\u001b[39m is a key. In an expression, this retrieves\n",
       "  the value (\u001b[36mv\u001b[39m) associated with the key (or \u001b[36mKeyError\u001b[39m if none). On the\n",
       "  left-hand side of an assignment, this assigns or reassigns the value\n",
       "  associated with the key. (For assigning and reassigning, see also \u001b[36minsert!\u001b[39m\n",
       "  below.) Time: O(\u001b[4mc\u001b[24m log \u001b[4mn\u001b[24m)\n",
       "\n",
       "  ────────────────────────────────────────────────────────────────────────────\n",
       "\n",
       "\u001b[36m  cb[i]\u001b[39m\n",
       "\n",
       "  Get the i-th element of CircularBuffer.\n",
       "\n",
       "    •    \u001b[36mcb[1]\u001b[39m to get the element at the front\n",
       "\n",
       "    •    \u001b[36mcb[end]\u001b[39m to get the element at the back"
      ]
     },
     "execution_count": 16,
     "metadata": {},
     "output_type": "execute_result"
    }
   ],
   "source": [
    "?getindex"
   ]
  },
  {
   "cell_type": "code",
   "execution_count": 5,
   "metadata": {},
   "outputs": [
    {
     "name": "stdout",
     "output_type": "stream",
     "text": [
      "[:instance_name, :lp_method, :lp_method_switch, :pricing_method, :restricted_root_time, :final_root_time, :total_instance_time, :final_pricing_time, :iterated_pricing_time, :restricted_pricing_time, :total_pricing_time, :finished]\n"
     ]
    },
    {
     "data": {
      "application/vnd.webio.node+json": {
       "children": [
        {
         "children": [
          {
           "children": [
            ""
           ],
           "instanceArgs": {
            "namespace": "html",
            "tag": "div"
           },
           "nodeType": "DOM",
           "props": {
            "style": {
             "background-color": "#F5F7F7",
             "color": "#1c1f20",
             "font-family": "-apple-system, BlinkMacSystemFont, \"Segoe UI\", Roboto, Oxygen-Sans, Ubuntu, Cantarell, \"Helvetica Neue\", sans-serif",
             "height": "0",
             "padding": "0"
            }
           },
           "type": "node"
          },
          {
           "children": [],
           "instanceArgs": {
            "namespace": "html",
            "tag": "div"
           },
           "nodeType": "DOM",
           "props": {
            "className": "ag-theme-balham",
            "id": "grid-6418d54e",
            "style": {
             "height": "500px",
             "width": "100%"
            }
           },
           "type": "node"
          }
         ],
         "instanceArgs": {
          "namespace": "html",
          "tag": "div"
         },
         "nodeType": "DOM",
         "props": {},
         "type": "node"
        }
       ],
       "instanceArgs": {
        "handlers": {},
        "id": "12450666974983348173",
        "imports": {
         "data": [
          {
           "name": null,
           "type": "js",
           "url": "/assetserver/0590277e57f9dce38c944f556c3d3f3537505baf-rowNumberRenderer.js"
          },
          {
           "name": null,
           "type": "js",
           "url": "/assetserver/4c1301a0647c04ca15698ec91c7948d0d808ae4e-ag-grid.js"
          },
          {
           "name": null,
           "type": "css",
           "url": "/assetserver/2fc78d8695c17bdfaf311ef6969766c669cc3259-ag-grid.css"
          },
          {
           "name": null,
           "type": "css",
           "url": "/assetserver/5fc5fa256baa60ef6cfb2f781fbe8b1e3528c443-ag-grid-light.css"
          },
          {
           "name": null,
           "type": "css",
           "url": "/assetserver/885a5d8cdc6d7b90593d781d742de9279d70e324-ag-grid-dark.css"
          }
         ],
         "type": "async_block"
        },
        "mount_callbacks": [
         "function () {\n    var handler = ((function (RowNumberRenderer,agGrid){var gridOptions={\"onCellFocused\":(function (ev){var x={}; (ev.rowIndex!==undefined) ? (x[\"rowIndex\"]=(ev.rowIndex+1)) : undefined; (ev.colDef!==undefined) ? (x[\"column\"]=ev.colDef.headerName) : undefined; return WebIO.setval({\"name\":\"onCellFocused\",\"scope\":\"12450666974983348173\",\"id\":\"ob_04\",\"type\":\"observable\"},x)}),\"onCellValueChanged\":(function (){return }),\"onCellDoubleClicked\":(function (ev){var x={}; (ev.rowIndex!==undefined) ? (x[\"rowIndex\"]=(ev.rowIndex+1)) : undefined; (ev.colDef!==undefined) ? (x[\"column\"]=ev.colDef.headerName) : undefined; return WebIO.setval({\"name\":\"onCellDoubleClicked\",\"scope\":\"12450666974983348173\",\"id\":\"ob_02\",\"type\":\"observable\"},x)}),\"multiSortKey\":\"ctrl\",\"columnDefs\":[{\"filter\":false,\"editable\":false,\"headerTooltip\":\"\",\"field\":\"__row__\",\"headerName\":\"Row\",\"sortable\":true,\"type\":\"numericColumn\",\"cellRenderer\":\"rowNumberRenderer\",\"resizable\":true},{\"filter\":true,\"editable\":false,\"headerTooltip\":\"String\",\"field\":\"instance_name\",\"headerName\":\"instance_name\",\"sortable\":true,\"type\":null,\"resizable\":true},{\"filter\":\"agNumberColumnFilter\",\"editable\":false,\"headerTooltip\":\"Int64\",\"field\":\"lp_method\",\"headerName\":\"lp_method\",\"sortable\":true,\"type\":\"numericColumn\",\"resizable\":true},{\"filter\":\"agNumberColumnFilter\",\"editable\":false,\"headerTooltip\":\"Int64\",\"field\":\"lp_method_switch\",\"headerName\":\"lp_method_switch\",\"sortable\":true,\"type\":\"numericColumn\",\"resizable\":true},{\"filter\":true,\"editable\":false,\"headerTooltip\":\"String\",\"field\":\"pricing_method\",\"headerName\":\"pricing_method\",\"sortable\":true,\"type\":null,\"resizable\":true},{\"filter\":\"agNumberColumnFilter\",\"editable\":false,\"headerTooltip\":\"Float64\",\"field\":\"restricted_root_time\",\"headerName\":\"restricted_root_time\",\"sortable\":true,\"type\":\"numericColumn\",\"resizable\":true},{\"filter\":\"agNumberColumnFilter\",\"editable\":false,\"headerTooltip\":\"Float64\",\"field\":\"final_root_time\",\"headerName\":\"final_root_time\",\"sortable\":true,\"type\":\"numericColumn\",\"resizable\":true},{\"filter\":\"agNumberColumnFilter\",\"editable\":false,\"headerTooltip\":\"Float64\",\"field\":\"total_instance_time\",\"headerName\":\"total_instance_time\",\"sortable\":true,\"type\":\"numericColumn\",\"resizable\":true},{\"filter\":\"agNumberColumnFilter\",\"editable\":false,\"headerTooltip\":\"Float64\",\"field\":\"final_pricing_time\",\"headerName\":\"final_pricing_time\",\"sortable\":true,\"type\":\"numericColumn\",\"resizable\":true},{\"filter\":\"agNumberColumnFilter\",\"editable\":false,\"headerTooltip\":\"Float64\",\"field\":\"iterated_pricing_time\",\"headerName\":\"iterated_pricing_time\",\"sortable\":true,\"type\":\"numericColumn\",\"resizable\":true},{\"filter\":\"agNumberColumnFilter\",\"editable\":false,\"headerTooltip\":\"Float64\",\"field\":\"restricted_pricing_time\",\"headerName\":\"restricted_pricing_time\",\"sortable\":true,\"type\":\"numericColumn\",\"resizable\":true},{\"filter\":\"agNumberColumnFilter\",\"editable\":false,\"headerTooltip\":\"Float64\",\"field\":\"total_pricing_time\",\"headerName\":\"total_pricing_time\",\"sortable\":true,\"type\":\"numericColumn\",\"resizable\":true},{\"filter\":\"agNumberColumnFilter\",\"editable\":false,\"headerTooltip\":\"Bool\",\"field\":\"finished\",\"headerName\":\"finished\",\"sortable\":true,\"type\":\"numericColumn\",\"resizable\":true}],\"onRowClicked\":(function (ev){var x={}; (ev.rowIndex!==undefined) ? (x[\"rowIndex\"]=(ev.rowIndex+1)) : undefined; (ev.colDef!==undefined) ? (x[\"column\"]=ev.colDef.headerName) : undefined; return WebIO.setval({\"name\":\"onRowClicked\",\"scope\":\"12450666974983348173\",\"id\":\"ob_03\",\"type\":\"observable\"},x)}),\"onCellKeyDown\":(function (ev){var x={}; (ev.rowIndex!==undefined) ? (x[\"rowIndex\"]=(ev.rowIndex+1)) : undefined; (ev.colDef!==undefined) ? (x[\"column\"]=ev.colDef.headerName) : undefined; return WebIO.setval({\"name\":\"onCellKeyDown\",\"scope\":\"12450666974983348173\",\"id\":\"ob_05\",\"type\":\"observable\"},x)}),\"rowData\":[{\"instance_name\":\"okp5\",\"lp_method\":2,\"lp_method_switch\":-2,\"pricing_method\":\"none\",\"restricted_root_time\":\"NaN\",\"final_root_time\":66.32,\"total_instance_time\":81.866979826,\"final_pricing_time\":\"NaN\",\"iterated_pricing_time\":\"NaN\",\"restricted_pricing_time\":\"NaN\",\"total_pricing_time\":\"NaN\",\"finished\":true},{\"instance_name\":\"STS4\",\"lp_method\":2,\"lp_method_switch\":1,\"pricing_method\":\"furini\",\"restricted_root_time\":19.02,\"final_root_time\":0.37,\"total_instance_time\":97.243934477,\"final_pricing_time\":0.67294279,\"iterated_pricing_time\":59.682019119,\"restricted_pricing_time\":35.018324066000005,\"total_pricing_time\":95.427058086,\"finished\":true},{\"instance_name\":\"okp1\",\"lp_method\":1,\"lp_method_switch\":-2,\"pricing_method\":\"furini\",\"restricted_root_time\":13.47,\"final_root_time\":1.22,\"total_instance_time\":54.803795417,\"final_pricing_time\":0.5962882300000001,\"iterated_pricing_time\":19.118948867,\"restricted_pricing_time\":31.266999062000004,\"total_pricing_time\":51.110226212,\"finished\":true},{\"instance_name\":\"STS4\",\"lp_method\":2,\"lp_method_switch\":-2,\"pricing_method\":\"furini\",\"restricted_root_time\":7.05,\"final_root_time\":\"NaN\",\"total_instance_time\":\"NaN\",\"final_pricing_time\":\"NaN\",\"iterated_pricing_time\":\"NaN\",\"restricted_pricing_time\":20.110524515,\"total_pricing_time\":\"NaN\",\"finished\":false},{\"instance_name\":\"CU1\",\"lp_method\":2,\"lp_method_switch\":1,\"pricing_method\":\"furini\",\"restricted_root_time\":0.01,\"final_root_time\":\"NaN\",\"total_instance_time\":77.968223289,\"final_pricing_time\":0.466175243,\"iterated_pricing_time\":73.523568208,\"restricted_pricing_time\":3.0075112390000003,\"total_pricing_time\":77.013286179,\"finished\":true},{\"instance_name\":\"STS4s\",\"lp_method\":1,\"lp_method_switch\":-2,\"pricing_method\":\"none\",\"restricted_root_time\":\"NaN\",\"final_root_time\":132.95,\"total_instance_time\":139.399420118,\"final_pricing_time\":\"NaN\",\"iterated_pricing_time\":\"NaN\",\"restricted_pricing_time\":\"NaN\",\"total_pricing_time\":\"NaN\",\"finished\":true},{\"instance_name\":\"CU1\",\"lp_method\":2,\"lp_method_switch\":-2,\"pricing_method\":\"none\",\"restricted_root_time\":\"NaN\",\"final_root_time\":23.6,\"total_instance_time\":26.205211373,\"final_pricing_time\":\"NaN\",\"iterated_pricing_time\":\"NaN\",\"restricted_pricing_time\":\"NaN\",\"total_pricing_time\":\"NaN\",\"finished\":true},{\"instance_name\":\"gcut9\",\"lp_method\":2,\"lp_method_switch\":-2,\"pricing_method\":\"furini\",\"restricted_root_time\":0.84,\"final_root_time\":0.84,\"total_instance_time\":2958.143454547,\"final_pricing_time\":0.608954989,\"iterated_pricing_time\":2952.096695267,\"restricted_pricing_time\":1.45486665,\"total_pricing_time\":2954.2928370460004,\"finished\":true},{\"instance_name\":\"okp4\",\"lp_method\":2,\"lp_method_switch\":-2,\"pricing_method\":\"furini\",\"restricted_root_time\":76.38,\"final_root_time\":\"NaN\",\"total_instance_time\":\"NaN\",\"final_pricing_time\":\"NaN\",\"iterated_pricing_time\":\"NaN\",\"restricted_pricing_time\":148.83753199400002,\"total_pricing_time\":\"NaN\",\"finished\":false},{\"instance_name\":\"STS4\",\"lp_method\":2,\"lp_method_switch\":-2,\"pricing_method\":\"none\",\"restricted_root_time\":\"NaN\",\"final_root_time\":43.77,\"total_instance_time\":59.019811323,\"final_pricing_time\":\"NaN\",\"iterated_pricing_time\":\"NaN\",\"restricted_pricing_time\":\"NaN\",\"total_pricing_time\":\"NaN\",\"finished\":true},{\"instance_name\":\"okp4\",\"lp_method\":2,\"lp_method_switch\":1,\"pricing_method\":\"furini\",\"restricted_root_time\":57.34,\"final_root_time\":0.02,\"total_instance_time\":219.452517589,\"final_pricing_time\":0.559741033,\"iterated_pricing_time\":75.896876184,\"restricted_pricing_time\":141.81748354500002,\"total_pricing_time\":218.308601879,\"finished\":true},{\"instance_name\":\"CU1\",\"lp_method\":1,\"lp_method_switch\":-2,\"pricing_method\":\"furini\",\"restricted_root_time\":0.02,\"final_root_time\":\"NaN\",\"total_instance_time\":83.158991638,\"final_pricing_time\":0.49642613500000005,\"iterated_pricing_time\":78.514196291,\"restricted_pricing_time\":3.131369089,\"total_pricing_time\":82.159259562,\"finished\":true},{\"instance_name\":\"STS4\",\"lp_method\":1,\"lp_method_switch\":-2,\"pricing_method\":\"none\",\"restricted_root_time\":\"NaN\",\"final_root_time\":120.36,\"total_instance_time\":132.012471442,\"final_pricing_time\":\"NaN\",\"iterated_pricing_time\":\"NaN\",\"restricted_pricing_time\":\"NaN\",\"total_pricing_time\":\"NaN\",\"finished\":true},{\"instance_name\":\"okp1\",\"lp_method\":2,\"lp_method_switch\":1,\"pricing_method\":\"furini\",\"restricted_root_time\":12.79,\"final_root_time\":0.71,\"total_instance_time\":53.754857833,\"final_pricing_time\":0.552366156,\"iterated_pricing_time\":17.990774878,\"restricted_pricing_time\":29.692220711,\"total_pricing_time\":48.373948639000005,\"finished\":true},{\"instance_name\":\"okp1\",\"lp_method\":2,\"lp_method_switch\":-2,\"pricing_method\":\"none\",\"restricted_root_time\":\"NaN\",\"final_root_time\":23.46,\"total_instance_time\":37.252553932,\"final_pricing_time\":\"NaN\",\"iterated_pricing_time\":\"NaN\",\"restricted_pricing_time\":\"NaN\",\"total_pricing_time\":\"NaN\",\"finished\":true},{\"instance_name\":\"CU1\",\"lp_method\":1,\"lp_method_switch\":-2,\"pricing_method\":\"none\",\"restricted_root_time\":\"NaN\",\"final_root_time\":38.9,\"total_instance_time\":41.559736888,\"final_pricing_time\":\"NaN\",\"iterated_pricing_time\":\"NaN\",\"restricted_pricing_time\":\"NaN\",\"total_pricing_time\":\"NaN\",\"finished\":true},{\"instance_name\":\"gcut9\",\"lp_method\":1,\"lp_method_switch\":-2,\"pricing_method\":\"furini\",\"restricted_root_time\":0.01,\"final_root_time\":0.29,\"total_instance_time\":21.347778379,\"final_pricing_time\":0.790987717,\"iterated_pricing_time\":16.069484401,\"restricted_pricing_time\":1.623962197,\"total_pricing_time\":18.691565584000003,\"finished\":true},{\"instance_name\":\"okp5\",\"lp_method\":1,\"lp_method_switch\":-2,\"pricing_method\":\"furini\",\"restricted_root_time\":87.01,\"final_root_time\":0.02,\"total_instance_time\":439.695742099,\"final_pricing_time\":0.8645583160000001,\"iterated_pricing_time\":245.830847067,\"restricted_pricing_time\":191.50711463500002,\"total_pricing_time\":438.27373937500005,\"finished\":true},{\"instance_name\":\"okp5\",\"lp_method\":2,\"lp_method_switch\":-2,\"pricing_method\":\"furini\",\"restricted_root_time\":41.83,\"final_root_time\":\"NaN\",\"total_instance_time\":\"NaN\",\"final_pricing_time\":\"NaN\",\"iterated_pricing_time\":\"NaN\",\"restricted_pricing_time\":90.878244769,\"total_pricing_time\":\"NaN\",\"finished\":false},{\"instance_name\":\"CU1\",\"lp_method\":2,\"lp_method_switch\":-2,\"pricing_method\":\"furini\",\"restricted_root_time\":0.03,\"final_root_time\":\"NaN\",\"total_instance_time\":3130.726005667,\"final_pricing_time\":0.48618548,\"iterated_pricing_time\":3126.0051824,\"restricted_pricing_time\":3.260951513,\"total_pricing_time\":3129.776960603,\"finished\":true},{\"instance_name\":\"okp1\",\"lp_method\":2,\"lp_method_switch\":-2,\"pricing_method\":\"furini\",\"restricted_root_time\":15.11,\"final_root_time\":\"NaN\",\"total_instance_time\":\"NaN\",\"final_pricing_time\":\"NaN\",\"iterated_pricing_time\":\"NaN\",\"restricted_pricing_time\":40.159267296,\"total_pricing_time\":\"NaN\",\"finished\":false},{\"instance_name\":\"STS4s\",\"lp_method\":2,\"lp_method_switch\":-2,\"pricing_method\":\"furini\",\"restricted_root_time\":6.89,\"final_root_time\":\"NaN\",\"total_instance_time\":\"NaN\",\"final_pricing_time\":\"NaN\",\"iterated_pricing_time\":\"NaN\",\"restricted_pricing_time\":19.281534637,\"total_pricing_time\":\"NaN\",\"finished\":false},{\"instance_name\":\"gcut9\",\"lp_method\":2,\"lp_method_switch\":1,\"pricing_method\":\"furini\",\"restricted_root_time\":0.01,\"final_root_time\":0.21,\"total_instance_time\":18.096798787,\"final_pricing_time\":0.6466350350000001,\"iterated_pricing_time\":13.524293625,\"restricted_pricing_time\":1.533558417,\"total_pricing_time\":15.889065446000002,\"finished\":true},{\"instance_name\":\"gcut9\",\"lp_method\":2,\"lp_method_switch\":-2,\"pricing_method\":\"none\",\"restricted_root_time\":\"NaN\",\"final_root_time\":40.39,\"total_instance_time\":51.814342033,\"final_pricing_time\":\"NaN\",\"iterated_pricing_time\":\"NaN\",\"restricted_pricing_time\":\"NaN\",\"total_pricing_time\":\"NaN\",\"finished\":true},{\"instance_name\":\"okp4\",\"lp_method\":2,\"lp_method_switch\":-2,\"pricing_method\":\"none\",\"restricted_root_time\":\"NaN\",\"final_root_time\":74.95,\"total_instance_time\":82.608981685,\"final_pricing_time\":\"NaN\",\"iterated_pricing_time\":\"NaN\",\"restricted_pricing_time\":\"NaN\",\"total_pricing_time\":\"NaN\",\"finished\":true},{\"instance_name\":\"okp5\",\"lp_method\":1,\"lp_method_switch\":-2,\"pricing_method\":\"none\",\"restricted_root_time\":\"NaN\",\"final_root_time\":264.11,\"total_instance_time\":319.24853378,\"final_pricing_time\":\"NaN\",\"iterated_pricing_time\":\"NaN\",\"restricted_pricing_time\":\"NaN\",\"total_pricing_time\":\"NaN\",\"finished\":true},{\"instance_name\":\"STS4s\",\"lp_method\":1,\"lp_method_switch\":-2,\"pricing_method\":\"furini\",\"restricted_root_time\":16.83,\"final_root_time\":\"NaN\",\"total_instance_time\":110.622899546,\"final_pricing_time\":0.647201142,\"iterated_pricing_time\":67.453341604,\"restricted_pricing_time\":41.13986018,\"total_pricing_time\":109.267101283,\"finished\":true},{\"instance_name\":\"STS4s\",\"lp_method\":2,\"lp_method_switch\":1,\"pricing_method\":\"furini\",\"restricted_root_time\":15.56,\"final_root_time\":\"NaN\",\"total_instance_time\":101.679829014,\"final_pricing_time\":0.6361518500000001,\"iterated_pricing_time\":61.914525960000006,\"restricted_pricing_time\":37.800186319000005,\"total_pricing_time\":100.376524472,\"finished\":true},{\"instance_name\":\"okp4\",\"lp_method\":1,\"lp_method_switch\":-2,\"pricing_method\":\"none\",\"restricted_root_time\":\"NaN\",\"final_root_time\":139.75,\"total_instance_time\":152.274576987,\"final_pricing_time\":\"NaN\",\"iterated_pricing_time\":\"NaN\",\"restricted_pricing_time\":\"NaN\",\"total_pricing_time\":\"NaN\",\"finished\":true},{\"instance_name\":\"STS4\",\"lp_method\":1,\"lp_method_switch\":-2,\"pricing_method\":\"furini\",\"restricted_root_time\":21.26,\"final_root_time\":0.32,\"total_instance_time\":106.761000566,\"final_pricing_time\":0.737674296,\"iterated_pricing_time\":65.602615333,\"restricted_pricing_time\":38.536990483000004,\"total_pricing_time\":104.93807025800001,\"finished\":true},{\"instance_name\":\"gcut9\",\"lp_method\":1,\"lp_method_switch\":-2,\"pricing_method\":\"none\",\"restricted_root_time\":\"NaN\",\"final_root_time\":205.28,\"total_instance_time\":253.672820233,\"final_pricing_time\":\"NaN\",\"iterated_pricing_time\":\"NaN\",\"restricted_pricing_time\":\"NaN\",\"total_pricing_time\":\"NaN\",\"finished\":true},{\"instance_name\":\"okp1\",\"lp_method\":1,\"lp_method_switch\":-2,\"pricing_method\":\"none\",\"restricted_root_time\":\"NaN\",\"final_root_time\":62.01,\"total_instance_time\":71.947082035,\"final_pricing_time\":\"NaN\",\"iterated_pricing_time\":\"NaN\",\"restricted_pricing_time\":\"NaN\",\"total_pricing_time\":\"NaN\",\"finished\":true},{\"instance_name\":\"STS4s\",\"lp_method\":2,\"lp_method_switch\":-2,\"pricing_method\":\"none\",\"restricted_root_time\":\"NaN\",\"final_root_time\":41.39,\"total_instance_time\":49.613297357,\"final_pricing_time\":\"NaN\",\"iterated_pricing_time\":\"NaN\",\"restricted_pricing_time\":\"NaN\",\"total_pricing_time\":\"NaN\",\"finished\":true},{\"instance_name\":\"okp5\",\"lp_method\":2,\"lp_method_switch\":1,\"pricing_method\":\"furini\",\"restricted_root_time\":81.87,\"final_root_time\":0.02,\"total_instance_time\":414.410032608,\"final_pricing_time\":0.8263597960000001,\"iterated_pricing_time\":232.079308604,\"restricted_pricing_time\":180.023592154,\"total_pricing_time\":412.998264065,\"finished\":true},{\"instance_name\":\"okp4\",\"lp_method\":1,\"lp_method_switch\":-2,\"pricing_method\":\"furini\",\"restricted_root_time\":61.3,\"final_root_time\":0.01,\"total_instance_time\":231.181829671,\"final_pricing_time\":0.601121715,\"iterated_pricing_time\":79.735008707,\"restricted_pricing_time\":149.662026685,\"total_pricing_time\":230.03435190300002,\"finished\":true}],\"onCellClicked\":(function (ev){var x={}; (ev.rowIndex!==undefined) ? (x[\"rowIndex\"]=(ev.rowIndex+1)) : undefined; (ev.colDef!==undefined) ? (x[\"column\"]=ev.colDef.headerName) : undefined; return WebIO.setval({\"name\":\"onCellClicked\",\"scope\":\"12450666974983348173\",\"id\":\"ob_01\",\"type\":\"observable\"},x)})}; var el=document.getElementById(\"grid-6418d54e\"); gridOptions.components={\"rowNumberRenderer\":RowNumberRenderer}; this.table=new agGrid.Grid(el,gridOptions); gridOptions.columnApi.autoSizeColumn(\"__row__\"); return gridOptions.columnApi.autoSizeColumns([\"instance_name\",\"lp_method\",\"lp_method_switch\",\"pricing_method\",\"restricted_root_time\",\"final_root_time\",\"total_instance_time\",\"final_pricing_time\",\"iterated_pricing_time\",\"restricted_pricing_time\",\"total_pricing_time\",\"finished\"])}));\n    (WebIO.importBlock({\"data\":[{\"name\":null,\"type\":\"js\",\"url\":\"/assetserver/0590277e57f9dce38c944f556c3d3f3537505baf-rowNumberRenderer.js\"},{\"name\":null,\"type\":\"js\",\"url\":\"/assetserver/4c1301a0647c04ca15698ec91c7948d0d808ae4e-ag-grid.js\"},{\"name\":null,\"type\":\"css\",\"url\":\"/assetserver/2fc78d8695c17bdfaf311ef6969766c669cc3259-ag-grid.css\"},{\"name\":null,\"type\":\"css\",\"url\":\"/assetserver/5fc5fa256baa60ef6cfb2f781fbe8b1e3528c443-ag-grid-light.css\"},{\"name\":null,\"type\":\"css\",\"url\":\"/assetserver/885a5d8cdc6d7b90593d781d742de9279d70e324-ag-grid-dark.css\"}],\"type\":\"async_block\"})).then((imports) => handler.apply(this, imports));\n}\n"
        ],
        "observables": {
         "onCellClicked": {
          "id": "ob_01",
          "sync": false,
          "value": null
         },
         "onCellDoubleClicked": {
          "id": "ob_02",
          "sync": false,
          "value": null
         },
         "onCellFocused": {
          "id": "ob_04",
          "sync": false,
          "value": null
         },
         "onCellKeyDown": {
          "id": "ob_05",
          "sync": false,
          "value": null
         },
         "onRowClicked": {
          "id": "ob_03",
          "sync": false,
          "value": null
         }
        },
        "systemjs_options": null
       },
       "nodeType": "Scope",
       "props": {},
       "type": "node"
      },
      "text/html": [
       "<div\n",
       "    class=\"webio-mountpoint\"\n",
       "    data-webio-mountpoint=\"17172312965292902537\"\n",
       ">\n",
       "    <script>\n",
       "    if (window.require && require.defined && require.defined(\"nbextensions/webio-jupyter-notebook\")) {\n",
       "        console.log(\"Jupyter WebIO extension detected, not mounting.\");\n",
       "    } else if (window.WebIO) {\n",
       "        WebIO.mount(\n",
       "            document.querySelector('[data-webio-mountpoint=\"17172312965292902537\"]'),\n",
       "            {\"props\":{},\"nodeType\":\"Scope\",\"type\":\"node\",\"instanceArgs\":{\"imports\":{\"data\":[{\"name\":null,\"type\":\"js\",\"url\":\"\\/assetserver\\/0590277e57f9dce38c944f556c3d3f3537505baf-rowNumberRenderer.js\"},{\"name\":null,\"type\":\"js\",\"url\":\"\\/assetserver\\/4c1301a0647c04ca15698ec91c7948d0d808ae4e-ag-grid.js\"},{\"name\":null,\"type\":\"css\",\"url\":\"\\/assetserver\\/2fc78d8695c17bdfaf311ef6969766c669cc3259-ag-grid.css\"},{\"name\":null,\"type\":\"css\",\"url\":\"\\/assetserver\\/5fc5fa256baa60ef6cfb2f781fbe8b1e3528c443-ag-grid-light.css\"},{\"name\":null,\"type\":\"css\",\"url\":\"\\/assetserver\\/885a5d8cdc6d7b90593d781d742de9279d70e324-ag-grid-dark.css\"}],\"type\":\"async_block\"},\"id\":\"12450666974983348173\",\"handlers\":{},\"systemjs_options\":null,\"mount_callbacks\":[\"function () {\\n    var handler = ((function (RowNumberRenderer,agGrid){var gridOptions={\\\"onCellFocused\\\":(function (ev){var x={}; (ev.rowIndex!==undefined) ? (x[\\\"rowIndex\\\"]=(ev.rowIndex+1)) : undefined; (ev.colDef!==undefined) ? (x[\\\"column\\\"]=ev.colDef.headerName) : undefined; return WebIO.setval({\\\"name\\\":\\\"onCellFocused\\\",\\\"scope\\\":\\\"12450666974983348173\\\",\\\"id\\\":\\\"ob_04\\\",\\\"type\\\":\\\"observable\\\"},x)}),\\\"onCellValueChanged\\\":(function (){return }),\\\"onCellDoubleClicked\\\":(function (ev){var x={}; (ev.rowIndex!==undefined) ? (x[\\\"rowIndex\\\"]=(ev.rowIndex+1)) : undefined; (ev.colDef!==undefined) ? (x[\\\"column\\\"]=ev.colDef.headerName) : undefined; return WebIO.setval({\\\"name\\\":\\\"onCellDoubleClicked\\\",\\\"scope\\\":\\\"12450666974983348173\\\",\\\"id\\\":\\\"ob_02\\\",\\\"type\\\":\\\"observable\\\"},x)}),\\\"multiSortKey\\\":\\\"ctrl\\\",\\\"columnDefs\\\":[{\\\"filter\\\":false,\\\"editable\\\":false,\\\"headerTooltip\\\":\\\"\\\",\\\"field\\\":\\\"__row__\\\",\\\"headerName\\\":\\\"Row\\\",\\\"sortable\\\":true,\\\"type\\\":\\\"numericColumn\\\",\\\"cellRenderer\\\":\\\"rowNumberRenderer\\\",\\\"resizable\\\":true},{\\\"filter\\\":true,\\\"editable\\\":false,\\\"headerTooltip\\\":\\\"String\\\",\\\"field\\\":\\\"instance_name\\\",\\\"headerName\\\":\\\"instance_name\\\",\\\"sortable\\\":true,\\\"type\\\":null,\\\"resizable\\\":true},{\\\"filter\\\":\\\"agNumberColumnFilter\\\",\\\"editable\\\":false,\\\"headerTooltip\\\":\\\"Int64\\\",\\\"field\\\":\\\"lp_method\\\",\\\"headerName\\\":\\\"lp_method\\\",\\\"sortable\\\":true,\\\"type\\\":\\\"numericColumn\\\",\\\"resizable\\\":true},{\\\"filter\\\":\\\"agNumberColumnFilter\\\",\\\"editable\\\":false,\\\"headerTooltip\\\":\\\"Int64\\\",\\\"field\\\":\\\"lp_method_switch\\\",\\\"headerName\\\":\\\"lp_method_switch\\\",\\\"sortable\\\":true,\\\"type\\\":\\\"numericColumn\\\",\\\"resizable\\\":true},{\\\"filter\\\":true,\\\"editable\\\":false,\\\"headerTooltip\\\":\\\"String\\\",\\\"field\\\":\\\"pricing_method\\\",\\\"headerName\\\":\\\"pricing_method\\\",\\\"sortable\\\":true,\\\"type\\\":null,\\\"resizable\\\":true},{\\\"filter\\\":\\\"agNumberColumnFilter\\\",\\\"editable\\\":false,\\\"headerTooltip\\\":\\\"Float64\\\",\\\"field\\\":\\\"restricted_root_time\\\",\\\"headerName\\\":\\\"restricted_root_time\\\",\\\"sortable\\\":true,\\\"type\\\":\\\"numericColumn\\\",\\\"resizable\\\":true},{\\\"filter\\\":\\\"agNumberColumnFilter\\\",\\\"editable\\\":false,\\\"headerTooltip\\\":\\\"Float64\\\",\\\"field\\\":\\\"final_root_time\\\",\\\"headerName\\\":\\\"final_root_time\\\",\\\"sortable\\\":true,\\\"type\\\":\\\"numericColumn\\\",\\\"resizable\\\":true},{\\\"filter\\\":\\\"agNumberColumnFilter\\\",\\\"editable\\\":false,\\\"headerTooltip\\\":\\\"Float64\\\",\\\"field\\\":\\\"total_instance_time\\\",\\\"headerName\\\":\\\"total_instance_time\\\",\\\"sortable\\\":true,\\\"type\\\":\\\"numericColumn\\\",\\\"resizable\\\":true},{\\\"filter\\\":\\\"agNumberColumnFilter\\\",\\\"editable\\\":false,\\\"headerTooltip\\\":\\\"Float64\\\",\\\"field\\\":\\\"final_pricing_time\\\",\\\"headerName\\\":\\\"final_pricing_time\\\",\\\"sortable\\\":true,\\\"type\\\":\\\"numericColumn\\\",\\\"resizable\\\":true},{\\\"filter\\\":\\\"agNumberColumnFilter\\\",\\\"editable\\\":false,\\\"headerTooltip\\\":\\\"Float64\\\",\\\"field\\\":\\\"iterated_pricing_time\\\",\\\"headerName\\\":\\\"iterated_pricing_time\\\",\\\"sortable\\\":true,\\\"type\\\":\\\"numericColumn\\\",\\\"resizable\\\":true},{\\\"filter\\\":\\\"agNumberColumnFilter\\\",\\\"editable\\\":false,\\\"headerTooltip\\\":\\\"Float64\\\",\\\"field\\\":\\\"restricted_pricing_time\\\",\\\"headerName\\\":\\\"restricted_pricing_time\\\",\\\"sortable\\\":true,\\\"type\\\":\\\"numericColumn\\\",\\\"resizable\\\":true},{\\\"filter\\\":\\\"agNumberColumnFilter\\\",\\\"editable\\\":false,\\\"headerTooltip\\\":\\\"Float64\\\",\\\"field\\\":\\\"total_pricing_time\\\",\\\"headerName\\\":\\\"total_pricing_time\\\",\\\"sortable\\\":true,\\\"type\\\":\\\"numericColumn\\\",\\\"resizable\\\":true},{\\\"filter\\\":\\\"agNumberColumnFilter\\\",\\\"editable\\\":false,\\\"headerTooltip\\\":\\\"Bool\\\",\\\"field\\\":\\\"finished\\\",\\\"headerName\\\":\\\"finished\\\",\\\"sortable\\\":true,\\\"type\\\":\\\"numericColumn\\\",\\\"resizable\\\":true}],\\\"onRowClicked\\\":(function (ev){var x={}; (ev.rowIndex!==undefined) ? (x[\\\"rowIndex\\\"]=(ev.rowIndex+1)) : undefined; (ev.colDef!==undefined) ? (x[\\\"column\\\"]=ev.colDef.headerName) : undefined; return WebIO.setval({\\\"name\\\":\\\"onRowClicked\\\",\\\"scope\\\":\\\"12450666974983348173\\\",\\\"id\\\":\\\"ob_03\\\",\\\"type\\\":\\\"observable\\\"},x)}),\\\"onCellKeyDown\\\":(function (ev){var x={}; (ev.rowIndex!==undefined) ? (x[\\\"rowIndex\\\"]=(ev.rowIndex+1)) : undefined; (ev.colDef!==undefined) ? (x[\\\"column\\\"]=ev.colDef.headerName) : undefined; return WebIO.setval({\\\"name\\\":\\\"onCellKeyDown\\\",\\\"scope\\\":\\\"12450666974983348173\\\",\\\"id\\\":\\\"ob_05\\\",\\\"type\\\":\\\"observable\\\"},x)}),\\\"rowData\\\":[{\\\"instance_name\\\":\\\"okp5\\\",\\\"lp_method\\\":2,\\\"lp_method_switch\\\":-2,\\\"pricing_method\\\":\\\"none\\\",\\\"restricted_root_time\\\":\\\"NaN\\\",\\\"final_root_time\\\":66.32,\\\"total_instance_time\\\":81.866979826,\\\"final_pricing_time\\\":\\\"NaN\\\",\\\"iterated_pricing_time\\\":\\\"NaN\\\",\\\"restricted_pricing_time\\\":\\\"NaN\\\",\\\"total_pricing_time\\\":\\\"NaN\\\",\\\"finished\\\":true},{\\\"instance_name\\\":\\\"STS4\\\",\\\"lp_method\\\":2,\\\"lp_method_switch\\\":1,\\\"pricing_method\\\":\\\"furini\\\",\\\"restricted_root_time\\\":19.02,\\\"final_root_time\\\":0.37,\\\"total_instance_time\\\":97.243934477,\\\"final_pricing_time\\\":0.67294279,\\\"iterated_pricing_time\\\":59.682019119,\\\"restricted_pricing_time\\\":35.018324066000005,\\\"total_pricing_time\\\":95.427058086,\\\"finished\\\":true},{\\\"instance_name\\\":\\\"okp1\\\",\\\"lp_method\\\":1,\\\"lp_method_switch\\\":-2,\\\"pricing_method\\\":\\\"furini\\\",\\\"restricted_root_time\\\":13.47,\\\"final_root_time\\\":1.22,\\\"total_instance_time\\\":54.803795417,\\\"final_pricing_time\\\":0.5962882300000001,\\\"iterated_pricing_time\\\":19.118948867,\\\"restricted_pricing_time\\\":31.266999062000004,\\\"total_pricing_time\\\":51.110226212,\\\"finished\\\":true},{\\\"instance_name\\\":\\\"STS4\\\",\\\"lp_method\\\":2,\\\"lp_method_switch\\\":-2,\\\"pricing_method\\\":\\\"furini\\\",\\\"restricted_root_time\\\":7.05,\\\"final_root_time\\\":\\\"NaN\\\",\\\"total_instance_time\\\":\\\"NaN\\\",\\\"final_pricing_time\\\":\\\"NaN\\\",\\\"iterated_pricing_time\\\":\\\"NaN\\\",\\\"restricted_pricing_time\\\":20.110524515,\\\"total_pricing_time\\\":\\\"NaN\\\",\\\"finished\\\":false},{\\\"instance_name\\\":\\\"CU1\\\",\\\"lp_method\\\":2,\\\"lp_method_switch\\\":1,\\\"pricing_method\\\":\\\"furini\\\",\\\"restricted_root_time\\\":0.01,\\\"final_root_time\\\":\\\"NaN\\\",\\\"total_instance_time\\\":77.968223289,\\\"final_pricing_time\\\":0.466175243,\\\"iterated_pricing_time\\\":73.523568208,\\\"restricted_pricing_time\\\":3.0075112390000003,\\\"total_pricing_time\\\":77.013286179,\\\"finished\\\":true},{\\\"instance_name\\\":\\\"STS4s\\\",\\\"lp_method\\\":1,\\\"lp_method_switch\\\":-2,\\\"pricing_method\\\":\\\"none\\\",\\\"restricted_root_time\\\":\\\"NaN\\\",\\\"final_root_time\\\":132.95,\\\"total_instance_time\\\":139.399420118,\\\"final_pricing_time\\\":\\\"NaN\\\",\\\"iterated_pricing_time\\\":\\\"NaN\\\",\\\"restricted_pricing_time\\\":\\\"NaN\\\",\\\"total_pricing_time\\\":\\\"NaN\\\",\\\"finished\\\":true},{\\\"instance_name\\\":\\\"CU1\\\",\\\"lp_method\\\":2,\\\"lp_method_switch\\\":-2,\\\"pricing_method\\\":\\\"none\\\",\\\"restricted_root_time\\\":\\\"NaN\\\",\\\"final_root_time\\\":23.6,\\\"total_instance_time\\\":26.205211373,\\\"final_pricing_time\\\":\\\"NaN\\\",\\\"iterated_pricing_time\\\":\\\"NaN\\\",\\\"restricted_pricing_time\\\":\\\"NaN\\\",\\\"total_pricing_time\\\":\\\"NaN\\\",\\\"finished\\\":true},{\\\"instance_name\\\":\\\"gcut9\\\",\\\"lp_method\\\":2,\\\"lp_method_switch\\\":-2,\\\"pricing_method\\\":\\\"furini\\\",\\\"restricted_root_time\\\":0.84,\\\"final_root_time\\\":0.84,\\\"total_instance_time\\\":2958.143454547,\\\"final_pricing_time\\\":0.608954989,\\\"iterated_pricing_time\\\":2952.096695267,\\\"restricted_pricing_time\\\":1.45486665,\\\"total_pricing_time\\\":2954.2928370460004,\\\"finished\\\":true},{\\\"instance_name\\\":\\\"okp4\\\",\\\"lp_method\\\":2,\\\"lp_method_switch\\\":-2,\\\"pricing_method\\\":\\\"furini\\\",\\\"restricted_root_time\\\":76.38,\\\"final_root_time\\\":\\\"NaN\\\",\\\"total_instance_time\\\":\\\"NaN\\\",\\\"final_pricing_time\\\":\\\"NaN\\\",\\\"iterated_pricing_time\\\":\\\"NaN\\\",\\\"restricted_pricing_time\\\":148.83753199400002,\\\"total_pricing_time\\\":\\\"NaN\\\",\\\"finished\\\":false},{\\\"instance_name\\\":\\\"STS4\\\",\\\"lp_method\\\":2,\\\"lp_method_switch\\\":-2,\\\"pricing_method\\\":\\\"none\\\",\\\"restricted_root_time\\\":\\\"NaN\\\",\\\"final_root_time\\\":43.77,\\\"total_instance_time\\\":59.019811323,\\\"final_pricing_time\\\":\\\"NaN\\\",\\\"iterated_pricing_time\\\":\\\"NaN\\\",\\\"restricted_pricing_time\\\":\\\"NaN\\\",\\\"total_pricing_time\\\":\\\"NaN\\\",\\\"finished\\\":true},{\\\"instance_name\\\":\\\"okp4\\\",\\\"lp_method\\\":2,\\\"lp_method_switch\\\":1,\\\"pricing_method\\\":\\\"furini\\\",\\\"restricted_root_time\\\":57.34,\\\"final_root_time\\\":0.02,\\\"total_instance_time\\\":219.452517589,\\\"final_pricing_time\\\":0.559741033,\\\"iterated_pricing_time\\\":75.896876184,\\\"restricted_pricing_time\\\":141.81748354500002,\\\"total_pricing_time\\\":218.308601879,\\\"finished\\\":true},{\\\"instance_name\\\":\\\"CU1\\\",\\\"lp_method\\\":1,\\\"lp_method_switch\\\":-2,\\\"pricing_method\\\":\\\"furini\\\",\\\"restricted_root_time\\\":0.02,\\\"final_root_time\\\":\\\"NaN\\\",\\\"total_instance_time\\\":83.158991638,\\\"final_pricing_time\\\":0.49642613500000005,\\\"iterated_pricing_time\\\":78.514196291,\\\"restricted_pricing_time\\\":3.131369089,\\\"total_pricing_time\\\":82.159259562,\\\"finished\\\":true},{\\\"instance_name\\\":\\\"STS4\\\",\\\"lp_method\\\":1,\\\"lp_method_switch\\\":-2,\\\"pricing_method\\\":\\\"none\\\",\\\"restricted_root_time\\\":\\\"NaN\\\",\\\"final_root_time\\\":120.36,\\\"total_instance_time\\\":132.012471442,\\\"final_pricing_time\\\":\\\"NaN\\\",\\\"iterated_pricing_time\\\":\\\"NaN\\\",\\\"restricted_pricing_time\\\":\\\"NaN\\\",\\\"total_pricing_time\\\":\\\"NaN\\\",\\\"finished\\\":true},{\\\"instance_name\\\":\\\"okp1\\\",\\\"lp_method\\\":2,\\\"lp_method_switch\\\":1,\\\"pricing_method\\\":\\\"furini\\\",\\\"restricted_root_time\\\":12.79,\\\"final_root_time\\\":0.71,\\\"total_instance_time\\\":53.754857833,\\\"final_pricing_time\\\":0.552366156,\\\"iterated_pricing_time\\\":17.990774878,\\\"restricted_pricing_time\\\":29.692220711,\\\"total_pricing_time\\\":48.373948639000005,\\\"finished\\\":true},{\\\"instance_name\\\":\\\"okp1\\\",\\\"lp_method\\\":2,\\\"lp_method_switch\\\":-2,\\\"pricing_method\\\":\\\"none\\\",\\\"restricted_root_time\\\":\\\"NaN\\\",\\\"final_root_time\\\":23.46,\\\"total_instance_time\\\":37.252553932,\\\"final_pricing_time\\\":\\\"NaN\\\",\\\"iterated_pricing_time\\\":\\\"NaN\\\",\\\"restricted_pricing_time\\\":\\\"NaN\\\",\\\"total_pricing_time\\\":\\\"NaN\\\",\\\"finished\\\":true},{\\\"instance_name\\\":\\\"CU1\\\",\\\"lp_method\\\":1,\\\"lp_method_switch\\\":-2,\\\"pricing_method\\\":\\\"none\\\",\\\"restricted_root_time\\\":\\\"NaN\\\",\\\"final_root_time\\\":38.9,\\\"total_instance_time\\\":41.559736888,\\\"final_pricing_time\\\":\\\"NaN\\\",\\\"iterated_pricing_time\\\":\\\"NaN\\\",\\\"restricted_pricing_time\\\":\\\"NaN\\\",\\\"total_pricing_time\\\":\\\"NaN\\\",\\\"finished\\\":true},{\\\"instance_name\\\":\\\"gcut9\\\",\\\"lp_method\\\":1,\\\"lp_method_switch\\\":-2,\\\"pricing_method\\\":\\\"furini\\\",\\\"restricted_root_time\\\":0.01,\\\"final_root_time\\\":0.29,\\\"total_instance_time\\\":21.347778379,\\\"final_pricing_time\\\":0.790987717,\\\"iterated_pricing_time\\\":16.069484401,\\\"restricted_pricing_time\\\":1.623962197,\\\"total_pricing_time\\\":18.691565584000003,\\\"finished\\\":true},{\\\"instance_name\\\":\\\"okp5\\\",\\\"lp_method\\\":1,\\\"lp_method_switch\\\":-2,\\\"pricing_method\\\":\\\"furini\\\",\\\"restricted_root_time\\\":87.01,\\\"final_root_time\\\":0.02,\\\"total_instance_time\\\":439.695742099,\\\"final_pricing_time\\\":0.8645583160000001,\\\"iterated_pricing_time\\\":245.830847067,\\\"restricted_pricing_time\\\":191.50711463500002,\\\"total_pricing_time\\\":438.27373937500005,\\\"finished\\\":true},{\\\"instance_name\\\":\\\"okp5\\\",\\\"lp_method\\\":2,\\\"lp_method_switch\\\":-2,\\\"pricing_method\\\":\\\"furini\\\",\\\"restricted_root_time\\\":41.83,\\\"final_root_time\\\":\\\"NaN\\\",\\\"total_instance_time\\\":\\\"NaN\\\",\\\"final_pricing_time\\\":\\\"NaN\\\",\\\"iterated_pricing_time\\\":\\\"NaN\\\",\\\"restricted_pricing_time\\\":90.878244769,\\\"total_pricing_time\\\":\\\"NaN\\\",\\\"finished\\\":false},{\\\"instance_name\\\":\\\"CU1\\\",\\\"lp_method\\\":2,\\\"lp_method_switch\\\":-2,\\\"pricing_method\\\":\\\"furini\\\",\\\"restricted_root_time\\\":0.03,\\\"final_root_time\\\":\\\"NaN\\\",\\\"total_instance_time\\\":3130.726005667,\\\"final_pricing_time\\\":0.48618548,\\\"iterated_pricing_time\\\":3126.0051824,\\\"restricted_pricing_time\\\":3.260951513,\\\"total_pricing_time\\\":3129.776960603,\\\"finished\\\":true},{\\\"instance_name\\\":\\\"okp1\\\",\\\"lp_method\\\":2,\\\"lp_method_switch\\\":-2,\\\"pricing_method\\\":\\\"furini\\\",\\\"restricted_root_time\\\":15.11,\\\"final_root_time\\\":\\\"NaN\\\",\\\"total_instance_time\\\":\\\"NaN\\\",\\\"final_pricing_time\\\":\\\"NaN\\\",\\\"iterated_pricing_time\\\":\\\"NaN\\\",\\\"restricted_pricing_time\\\":40.159267296,\\\"total_pricing_time\\\":\\\"NaN\\\",\\\"finished\\\":false},{\\\"instance_name\\\":\\\"STS4s\\\",\\\"lp_method\\\":2,\\\"lp_method_switch\\\":-2,\\\"pricing_method\\\":\\\"furini\\\",\\\"restricted_root_time\\\":6.89,\\\"final_root_time\\\":\\\"NaN\\\",\\\"total_instance_time\\\":\\\"NaN\\\",\\\"final_pricing_time\\\":\\\"NaN\\\",\\\"iterated_pricing_time\\\":\\\"NaN\\\",\\\"restricted_pricing_time\\\":19.281534637,\\\"total_pricing_time\\\":\\\"NaN\\\",\\\"finished\\\":false},{\\\"instance_name\\\":\\\"gcut9\\\",\\\"lp_method\\\":2,\\\"lp_method_switch\\\":1,\\\"pricing_method\\\":\\\"furini\\\",\\\"restricted_root_time\\\":0.01,\\\"final_root_time\\\":0.21,\\\"total_instance_time\\\":18.096798787,\\\"final_pricing_time\\\":0.6466350350000001,\\\"iterated_pricing_time\\\":13.524293625,\\\"restricted_pricing_time\\\":1.533558417,\\\"total_pricing_time\\\":15.889065446000002,\\\"finished\\\":true},{\\\"instance_name\\\":\\\"gcut9\\\",\\\"lp_method\\\":2,\\\"lp_method_switch\\\":-2,\\\"pricing_method\\\":\\\"none\\\",\\\"restricted_root_time\\\":\\\"NaN\\\",\\\"final_root_time\\\":40.39,\\\"total_instance_time\\\":51.814342033,\\\"final_pricing_time\\\":\\\"NaN\\\",\\\"iterated_pricing_time\\\":\\\"NaN\\\",\\\"restricted_pricing_time\\\":\\\"NaN\\\",\\\"total_pricing_time\\\":\\\"NaN\\\",\\\"finished\\\":true},{\\\"instance_name\\\":\\\"okp4\\\",\\\"lp_method\\\":2,\\\"lp_method_switch\\\":-2,\\\"pricing_method\\\":\\\"none\\\",\\\"restricted_root_time\\\":\\\"NaN\\\",\\\"final_root_time\\\":74.95,\\\"total_instance_time\\\":82.608981685,\\\"final_pricing_time\\\":\\\"NaN\\\",\\\"iterated_pricing_time\\\":\\\"NaN\\\",\\\"restricted_pricing_time\\\":\\\"NaN\\\",\\\"total_pricing_time\\\":\\\"NaN\\\",\\\"finished\\\":true},{\\\"instance_name\\\":\\\"okp5\\\",\\\"lp_method\\\":1,\\\"lp_method_switch\\\":-2,\\\"pricing_method\\\":\\\"none\\\",\\\"restricted_root_time\\\":\\\"NaN\\\",\\\"final_root_time\\\":264.11,\\\"total_instance_time\\\":319.24853378,\\\"final_pricing_time\\\":\\\"NaN\\\",\\\"iterated_pricing_time\\\":\\\"NaN\\\",\\\"restricted_pricing_time\\\":\\\"NaN\\\",\\\"total_pricing_time\\\":\\\"NaN\\\",\\\"finished\\\":true},{\\\"instance_name\\\":\\\"STS4s\\\",\\\"lp_method\\\":1,\\\"lp_method_switch\\\":-2,\\\"pricing_method\\\":\\\"furini\\\",\\\"restricted_root_time\\\":16.83,\\\"final_root_time\\\":\\\"NaN\\\",\\\"total_instance_time\\\":110.622899546,\\\"final_pricing_time\\\":0.647201142,\\\"iterated_pricing_time\\\":67.453341604,\\\"restricted_pricing_time\\\":41.13986018,\\\"total_pricing_time\\\":109.267101283,\\\"finished\\\":true},{\\\"instance_name\\\":\\\"STS4s\\\",\\\"lp_method\\\":2,\\\"lp_method_switch\\\":1,\\\"pricing_method\\\":\\\"furini\\\",\\\"restricted_root_time\\\":15.56,\\\"final_root_time\\\":\\\"NaN\\\",\\\"total_instance_time\\\":101.679829014,\\\"final_pricing_time\\\":0.6361518500000001,\\\"iterated_pricing_time\\\":61.914525960000006,\\\"restricted_pricing_time\\\":37.800186319000005,\\\"total_pricing_time\\\":100.376524472,\\\"finished\\\":true},{\\\"instance_name\\\":\\\"okp4\\\",\\\"lp_method\\\":1,\\\"lp_method_switch\\\":-2,\\\"pricing_method\\\":\\\"none\\\",\\\"restricted_root_time\\\":\\\"NaN\\\",\\\"final_root_time\\\":139.75,\\\"total_instance_time\\\":152.274576987,\\\"final_pricing_time\\\":\\\"NaN\\\",\\\"iterated_pricing_time\\\":\\\"NaN\\\",\\\"restricted_pricing_time\\\":\\\"NaN\\\",\\\"total_pricing_time\\\":\\\"NaN\\\",\\\"finished\\\":true},{\\\"instance_name\\\":\\\"STS4\\\",\\\"lp_method\\\":1,\\\"lp_method_switch\\\":-2,\\\"pricing_method\\\":\\\"furini\\\",\\\"restricted_root_time\\\":21.26,\\\"final_root_time\\\":0.32,\\\"total_instance_time\\\":106.761000566,\\\"final_pricing_time\\\":0.737674296,\\\"iterated_pricing_time\\\":65.602615333,\\\"restricted_pricing_time\\\":38.536990483000004,\\\"total_pricing_time\\\":104.93807025800001,\\\"finished\\\":true},{\\\"instance_name\\\":\\\"gcut9\\\",\\\"lp_method\\\":1,\\\"lp_method_switch\\\":-2,\\\"pricing_method\\\":\\\"none\\\",\\\"restricted_root_time\\\":\\\"NaN\\\",\\\"final_root_time\\\":205.28,\\\"total_instance_time\\\":253.672820233,\\\"final_pricing_time\\\":\\\"NaN\\\",\\\"iterated_pricing_time\\\":\\\"NaN\\\",\\\"restricted_pricing_time\\\":\\\"NaN\\\",\\\"total_pricing_time\\\":\\\"NaN\\\",\\\"finished\\\":true},{\\\"instance_name\\\":\\\"okp1\\\",\\\"lp_method\\\":1,\\\"lp_method_switch\\\":-2,\\\"pricing_method\\\":\\\"none\\\",\\\"restricted_root_time\\\":\\\"NaN\\\",\\\"final_root_time\\\":62.01,\\\"total_instance_time\\\":71.947082035,\\\"final_pricing_time\\\":\\\"NaN\\\",\\\"iterated_pricing_time\\\":\\\"NaN\\\",\\\"restricted_pricing_time\\\":\\\"NaN\\\",\\\"total_pricing_time\\\":\\\"NaN\\\",\\\"finished\\\":true},{\\\"instance_name\\\":\\\"STS4s\\\",\\\"lp_method\\\":2,\\\"lp_method_switch\\\":-2,\\\"pricing_method\\\":\\\"none\\\",\\\"restricted_root_time\\\":\\\"NaN\\\",\\\"final_root_time\\\":41.39,\\\"total_instance_time\\\":49.613297357,\\\"final_pricing_time\\\":\\\"NaN\\\",\\\"iterated_pricing_time\\\":\\\"NaN\\\",\\\"restricted_pricing_time\\\":\\\"NaN\\\",\\\"total_pricing_time\\\":\\\"NaN\\\",\\\"finished\\\":true},{\\\"instance_name\\\":\\\"okp5\\\",\\\"lp_method\\\":2,\\\"lp_method_switch\\\":1,\\\"pricing_method\\\":\\\"furini\\\",\\\"restricted_root_time\\\":81.87,\\\"final_root_time\\\":0.02,\\\"total_instance_time\\\":414.410032608,\\\"final_pricing_time\\\":0.8263597960000001,\\\"iterated_pricing_time\\\":232.079308604,\\\"restricted_pricing_time\\\":180.023592154,\\\"total_pricing_time\\\":412.998264065,\\\"finished\\\":true},{\\\"instance_name\\\":\\\"okp4\\\",\\\"lp_method\\\":1,\\\"lp_method_switch\\\":-2,\\\"pricing_method\\\":\\\"furini\\\",\\\"restricted_root_time\\\":61.3,\\\"final_root_time\\\":0.01,\\\"total_instance_time\\\":231.181829671,\\\"final_pricing_time\\\":0.601121715,\\\"iterated_pricing_time\\\":79.735008707,\\\"restricted_pricing_time\\\":149.662026685,\\\"total_pricing_time\\\":230.03435190300002,\\\"finished\\\":true}],\\\"onCellClicked\\\":(function (ev){var x={}; (ev.rowIndex!==undefined) ? (x[\\\"rowIndex\\\"]=(ev.rowIndex+1)) : undefined; (ev.colDef!==undefined) ? (x[\\\"column\\\"]=ev.colDef.headerName) : undefined; return WebIO.setval({\\\"name\\\":\\\"onCellClicked\\\",\\\"scope\\\":\\\"12450666974983348173\\\",\\\"id\\\":\\\"ob_01\\\",\\\"type\\\":\\\"observable\\\"},x)})}; var el=document.getElementById(\\\"grid-6418d54e\\\"); gridOptions.components={\\\"rowNumberRenderer\\\":RowNumberRenderer}; this.table=new agGrid.Grid(el,gridOptions); gridOptions.columnApi.autoSizeColumn(\\\"__row__\\\"); return gridOptions.columnApi.autoSizeColumns([\\\"instance_name\\\",\\\"lp_method\\\",\\\"lp_method_switch\\\",\\\"pricing_method\\\",\\\"restricted_root_time\\\",\\\"final_root_time\\\",\\\"total_instance_time\\\",\\\"final_pricing_time\\\",\\\"iterated_pricing_time\\\",\\\"restricted_pricing_time\\\",\\\"total_pricing_time\\\",\\\"finished\\\"])}));\\n    (WebIO.importBlock({\\\"data\\\":[{\\\"name\\\":null,\\\"type\\\":\\\"js\\\",\\\"url\\\":\\\"\\/assetserver\\/0590277e57f9dce38c944f556c3d3f3537505baf-rowNumberRenderer.js\\\"},{\\\"name\\\":null,\\\"type\\\":\\\"js\\\",\\\"url\\\":\\\"\\/assetserver\\/4c1301a0647c04ca15698ec91c7948d0d808ae4e-ag-grid.js\\\"},{\\\"name\\\":null,\\\"type\\\":\\\"css\\\",\\\"url\\\":\\\"\\/assetserver\\/2fc78d8695c17bdfaf311ef6969766c669cc3259-ag-grid.css\\\"},{\\\"name\\\":null,\\\"type\\\":\\\"css\\\",\\\"url\\\":\\\"\\/assetserver\\/5fc5fa256baa60ef6cfb2f781fbe8b1e3528c443-ag-grid-light.css\\\"},{\\\"name\\\":null,\\\"type\\\":\\\"css\\\",\\\"url\\\":\\\"\\/assetserver\\/885a5d8cdc6d7b90593d781d742de9279d70e324-ag-grid-dark.css\\\"}],\\\"type\\\":\\\"async_block\\\"})).then((imports) => handler.apply(this, imports));\\n}\\n\"],\"observables\":{\"onCellKeyDown\":{\"sync\":false,\"id\":\"ob_05\",\"value\":null},\"onRowClicked\":{\"sync\":false,\"id\":\"ob_03\",\"value\":null},\"onCellDoubleClicked\":{\"sync\":false,\"id\":\"ob_02\",\"value\":null},\"onCellClicked\":{\"sync\":false,\"id\":\"ob_01\",\"value\":null},\"onCellFocused\":{\"sync\":false,\"id\":\"ob_04\",\"value\":null}}},\"children\":[{\"props\":{},\"nodeType\":\"DOM\",\"type\":\"node\",\"instanceArgs\":{\"namespace\":\"html\",\"tag\":\"div\"},\"children\":[{\"props\":{\"style\":{\"height\":\"0\",\"padding\":\"0\",\"background-color\":\"#F5F7F7\",\"color\":\"#1c1f20\",\"font-family\":\"-apple-system, BlinkMacSystemFont, \\\"Segoe UI\\\", Roboto, Oxygen-Sans, Ubuntu, Cantarell, \\\"Helvetica Neue\\\", sans-serif\"}},\"nodeType\":\"DOM\",\"type\":\"node\",\"instanceArgs\":{\"namespace\":\"html\",\"tag\":\"div\"},\"children\":[\"\"]},{\"props\":{\"id\":\"grid-6418d54e\",\"className\":\"ag-theme-balham\",\"style\":{\"height\":\"500px\",\"width\":\"100%\"}},\"nodeType\":\"DOM\",\"type\":\"node\",\"instanceArgs\":{\"namespace\":\"html\",\"tag\":\"div\"},\"children\":[]}]}]},\n",
       "            window,\n",
       "        );\n",
       "    } else {\n",
       "        document\n",
       "            .querySelector('[data-webio-mountpoint=\"17172312965292902537\"]')\n",
       "            .innerHTML = (\n",
       "                '<div style=\"padding: 1em; background-color: #f8d6da; border: 1px solid #f5c6cb\">' +\n",
       "                '<p><strong>WebIO not detected.</strong></p>' +\n",
       "                '<p>Please read ' +\n",
       "                '<a href=\"https://juliagizmos.github.io/WebIO.jl/latest/troubleshooting/not-detected/\" target=\"_blank\">the troubleshooting guide</a> ' +\n",
       "                'for more information on how to resolve this issue.</p>' +\n",
       "                '<p><a href=\"https://juliagizmos.github.io/WebIO.jl/latest/troubleshooting/not-detected/\" target=\"_blank\">https://juliagizmos.github.io/WebIO.jl/latest/troubleshooting/not-detected/</a></p>' +\n",
       "                '</div>'\n",
       "            );\n",
       "    }\n",
       "    </script>\n",
       "</div>\n"
      ],
      "text/plain": [
       "Scope(Node{WebIO.DOM}(WebIO.DOM(:html, :div), Any[Node{WebIO.DOM}(WebIO.DOM(:html, :div), Any[\"\"], Dict{Symbol,Any}(:style => Dict(\"height\" => \"0\",\"padding\" => \"0\",\"background-color\" => \"#F5F7F7\",\"color\" => \"#1c1f20\",\"font-family\" => \"-apple-system, BlinkMacSystemFont, \\\"Segoe UI\\\", Roboto, Oxygen-Sans, Ubuntu, Cantarell, \\\"Helvetica Neue\\\", sans-serif\"))), Node{WebIO.DOM}(WebIO.DOM(:html, :div), Any[], Dict{Symbol,Any}(:id => \"grid-6418d54e\",:className => \"ag-theme-balham\",:style => Dict(\"height\" => \"500px\",\"width\" => \"100%\")))], Dict{Symbol,Any}()), Dict{String,Tuple{Observables.AbstractObservable,Union{Nothing, Bool}}}(\"onCellKeyDown\" => (Observable{Any} with 0 listeners. Value:\n",
       "nothing, nothing),\"onRowClicked\" => (Observable{Any} with 0 listeners. Value:\n",
       "nothing, nothing),\"onCellDoubleClicked\" => (Observable{Any} with 0 listeners. Value:\n",
       "nothing, nothing),\"onCellClicked\" => (Observable{Any} with 0 listeners. Value:\n",
       "nothing, nothing),\"onCellFocused\" => (Observable{Any} with 0 listeners. Value:\n",
       "nothing, nothing)), Set(String[]), nothing, Asset[Asset(\"js\", nothing, \"/home/henrique/.julia/packages/TableView/CxWLO/src/rowNumberRenderer.js\"), Asset(\"js\", nothing, \"/home/henrique/.julia/packages/TableView/CxWLO/deps/ag-grid-22.1.0/ag-grid.js\"), Asset(\"css\", nothing, \"/home/henrique/.julia/packages/TableView/CxWLO/deps/ag-grid-22.1.0/ag-grid.css\"), Asset(\"css\", nothing, \"/home/henrique/.julia/packages/TableView/CxWLO/deps/ag-grid-22.1.0/ag-grid-light.css\"), Asset(\"css\", nothing, \"/home/henrique/.julia/packages/TableView/CxWLO/deps/ag-grid-22.1.0/ag-grid-dark.css\")], Dict{Any,Any}(), WebIO.ConnectionPool(Channel{Any}(sz_max:32,sz_curr:0), Set(AbstractConnection[]), Base.GenericCondition{Base.AlwaysLockedST}(Base.InvasiveLinkedList{Task}(Task (runnable) @0x00007f783c981120, Task (runnable) @0x00007f783c981120), Base.AlwaysLockedST(1))), WebIO.JSString[WebIO.JSString(\"function () {\\n    var handler = ((function (RowNumberRenderer,agGrid){var gridOptions={\\\"onCellFocused\\\":(function (ev){var x={}; (ev.rowIndex!==undefined) ? (x[\\\"rowIndex\\\"]=(ev.rowIndex+1)) : undefined; (ev.colDef!==undefined) ? (x[\\\"column\\\"]=ev.colDef.headerName) : undefined; return WebIO.setval({\\\"name\\\":\\\"onCellFocused\\\",\\\"scope\\\":\\\"12450666974983348173\\\",\\\"id\\\":\\\"ob_04\\\",\\\"type\\\":\\\"observable\\\"},x)}),\\\"onCellValueChanged\\\":(function (){return }),\\\"onCellDoubleClicked\\\":(function (ev){var x={}; (ev.rowIndex!==undefined) ? (x[\\\"rowIndex\\\"]=(ev.rowIndex+1)) : undefined; (ev.colDef!==undefined) ? (x[\\\"column\\\"]=ev.colDef.headerName) : undefined; return WebIO.setval({\\\"name\\\":\\\"onCellDoubleClicked\\\",\\\"scope\\\":\\\"12450666974983348173\\\",\\\"id\\\":\\\"ob_02\\\",\\\"type\\\":\\\"observable\\\"},x)}),\\\"multiSortKey\\\":\\\"ctrl\\\",\\\"columnDefs\\\":[{\\\"filter\\\":false,\\\"editable\\\":false,\\\"headerTooltip\\\":\\\"\\\",\\\"field\\\":\\\"__row__\\\",\\\"headerName\\\":\\\"Row\\\",\\\"sortable\\\":true,\\\"type\\\":\\\"numericColumn\\\",\\\"cellRenderer\\\":\\\"rowNumberRenderer\\\",\\\"resizable\\\":true},{\\\"filter\\\":true,\\\"editable\\\":false,\\\"headerTooltip\\\":\\\"String\\\",\\\"field\\\":\\\"instance_name\\\",\\\"headerName\\\":\\\"instance_name\\\",\\\"sortable\\\":true,\\\"type\\\":null,\\\"resizable\\\":true},{\\\"filter\\\":\\\"agNumberColumnFilter\\\",\\\"editable\\\":false,\\\"headerTooltip\\\":\\\"Int64\\\",\\\"field\\\":\\\"lp_method\\\",\\\"headerName\\\":\\\"lp_method\\\",\\\"sortable\\\":true,\\\"type\\\":\\\"numericColumn\\\",\\\"resizable\\\":true},{\\\"filter\\\":\\\"agNumberColumnFilter\\\",\\\"editable\\\":false,\\\"headerTooltip\\\":\\\"Int64\\\",\\\"field\\\":\\\"lp_method_switch\\\",\\\"headerName\\\":\\\"lp_method_switch\\\",\\\"sortable\\\":true,\\\"type\\\":\\\"numericColumn\\\",\\\"resizable\\\":true},{\\\"filter\\\":true,\\\"editable\\\":false,\\\"headerTooltip\\\":\\\"String\\\",\\\"field\\\":\\\"pricing_method\\\",\\\"headerName\\\":\\\"pricing_method\\\",\\\"sortable\\\":true,\\\"type\\\":null,\\\"resizable\\\":true},{\\\"filter\\\":\\\"agNumberColumnFilter\\\",\\\"editable\\\":false,\\\"headerTooltip\\\":\\\"Float64\\\",\\\"field\\\":\\\"restricted_root_time\\\",\\\"headerName\\\":\\\"restricted_root_time\\\",\\\"sortable\\\":true,\\\"type\\\":\\\"numericColumn\\\",\\\"resizable\\\":true},{\\\"filter\\\":\\\"agNumberColumnFilter\\\",\\\"editable\\\":false,\\\"headerTooltip\\\":\\\"Float64\\\",\\\"field\\\":\\\"final_root_time\\\",\\\"headerName\\\":\\\"final_root_time\\\",\\\"sortable\\\":true,\\\"type\\\":\\\"numericColumn\\\",\\\"resizable\\\":true},{\\\"filter\\\":\\\"agNumberColumnFilter\\\",\\\"editable\\\":false,\\\"headerTooltip\\\":\\\"Float64\\\",\\\"field\\\":\\\"total_instance_time\\\",\\\"headerName\\\":\\\"total_instance_time\\\",\\\"sortable\\\":true,\\\"type\\\":\\\"numericColumn\\\",\\\"resizable\\\":true},{\\\"filter\\\":\\\"agNumberColumnFilter\\\",\\\"editable\\\":false,\\\"headerTooltip\\\":\\\"Float64\\\",\\\"field\\\":\\\"final_pricing_time\\\",\\\"headerName\\\":\\\"final_pricing_time\\\",\\\"sortable\\\":true,\\\"type\\\":\\\"numericColumn\\\",\\\"resizable\\\":true},{\\\"filter\\\":\\\"agNumberColumnFilter\\\",\\\"editable\\\":false,\\\"headerTooltip\\\":\\\"Float64\\\",\\\"field\\\":\\\"iterated_pricing_time\\\",\\\"headerName\\\":\\\"iterated_pricing_time\\\",\\\"sortable\\\":true,\\\"type\\\":\\\"numericColumn\\\",\\\"resizable\\\":true},{\\\"filter\\\":\\\"agNumberColumnFilter\\\",\\\"editable\\\":false,\\\"headerTooltip\\\":\\\"Float64\\\",\\\"field\\\":\\\"restricted_pricing_time\\\",\\\"headerName\\\":\\\"restricted_pricing_time\\\",\\\"sortable\\\":true,\\\"type\\\":\\\"numericColumn\\\",\\\"resizable\\\":true},{\\\"filter\\\":\\\"agNumberColumnFilter\\\",\\\"editable\\\":false,\\\"headerTooltip\\\":\\\"Float64\\\",\\\"field\\\":\\\"total_pricing_time\\\",\\\"headerName\\\":\\\"total_pricing_time\\\",\\\"sortable\\\":true,\\\"type\\\":\\\"numericColumn\\\",\\\"resizable\\\":true},{\\\"filter\\\":\\\"agNumberColumnFilter\\\",\\\"editable\\\":false,\\\"headerTooltip\\\":\\\"Bool\\\",\\\"field\\\":\\\"finished\\\",\\\"headerName\\\":\\\"finished\\\",\\\"sortable\\\":true,\\\"type\\\":\\\"numericColumn\\\",\\\"resizable\\\":true}],\\\"onRowClicked\\\":(function (ev){var x={}; (ev.rowIndex!==undefined) ? (x[\\\"rowIndex\\\"]=(ev.rowIndex+1)) : undefined; (ev.colDef!==undefined) ? (x[\\\"column\\\"]=ev.colDef.headerName) : undefined; return WebIO.setval({\\\"name\\\":\\\"onRowClicked\\\",\\\"scope\\\":\\\"12450666974983348173\\\",\\\"id\\\":\\\"ob_03\\\",\\\"type\\\":\\\"observable\\\"},x)}),\\\"onCellKeyDown\\\":(function (ev){var x={}; (ev.rowIndex!==undefined) ? (x[\\\"rowIndex\\\"]=(ev.rowIndex+1)) : undefined; (ev.colDef!==undefined) ? (x[\\\"column\\\"]=ev.colDef.headerName) : undefined; return WebIO.setval({\\\"name\\\":\\\"onCellKeyDown\\\",\\\"scope\\\":\\\"12450666974983348173\\\",\\\"id\\\":\\\"ob_05\\\",\\\"type\\\":\\\"observable\\\"},x)}),\\\"rowData\\\":[{\\\"instance_name\\\":\\\"okp5\\\",\\\"lp_method\\\":2,\\\"lp_method_switch\\\":-2,\\\"pricing_method\\\":\\\"none\\\",\\\"restricted_root_time\\\":\\\"NaN\\\",\\\"final_root_time\\\":66.32,\\\"total_instance_time\\\":81.866979826,\\\"final_pricing_time\\\":\\\"NaN\\\",\\\"iterated_pricing_time\\\":\\\"NaN\\\",\\\"restricted_pricing_time\\\":\\\"NaN\\\",\\\"total_pricing_time\\\":\\\"NaN\\\",\\\"finished\\\":true},{\\\"instance_name\\\":\\\"STS4\\\",\\\"lp_method\\\":2,\\\"lp_method_switch\\\":1,\\\"pricing_method\\\":\\\"furini\\\",\\\"restricted_root_time\\\":19.02,\\\"final_root_time\\\":0.37,\\\"total_instance_time\\\":97.243934477,\\\"final_pricing_time\\\":0.67294279,\\\"iterated_pricing_time\\\":59.682019119,\\\"restricted_pricing_time\\\":35.018324066000005,\\\"total_pricing_time\\\":95.427058086,\\\"finished\\\":true},{\\\"instance_name\\\":\\\"okp1\\\",\\\"lp_method\\\":1,\\\"lp_method_switch\\\":-2,\\\"pricing_method\\\":\\\"furini\\\",\\\"restricted_root_time\\\":13.47,\\\"final_root_time\\\":1.22,\\\"total_instance_time\\\":54.803795417,\\\"final_pricing_time\\\":0.5962882300000001,\\\"iterated_pricing_time\\\":19.118948867,\\\"restricted_pricing_time\\\":31.266999062000004,\\\"total_pricing_time\\\":51.110226212,\\\"finished\\\":true},{\\\"instance_name\\\":\\\"STS4\\\",\\\"lp_method\\\":2,\\\"lp_method_switch\\\":-2,\\\"pricing_method\\\":\\\"furini\\\",\\\"restricted_root_time\\\":7.05,\\\"final_root_time\\\":\\\"NaN\\\",\\\"total_instance_time\\\":\\\"NaN\\\",\\\"final_pricing_time\\\":\\\"NaN\\\",\\\"iterated_pricing_time\\\":\\\"NaN\\\",\\\"restricted_pricing_time\\\":20.110524515,\\\"total_pricing_time\\\":\\\"NaN\\\",\\\"finished\\\":false},{\\\"instance_name\\\":\\\"CU1\\\",\\\"lp_method\\\":2,\\\"lp_method_switch\\\":1,\\\"pricing_method\\\":\\\"furini\\\",\\\"restricted_root_time\\\":0.01,\\\"final_root_time\\\":\\\"NaN\\\",\\\"total_instance_time\\\":77.968223289,\\\"final_pricing_time\\\":0.466175243,\\\"iterated_pricing_time\\\":73.523568208,\\\"restricted_pricing_time\\\":3.0075112390000003,\\\"total_pricing_time\\\":77.013286179,\\\"finished\\\":true},{\\\"instance_name\\\":\\\"STS4s\\\",\\\"lp_method\\\":1,\\\"lp_method_switch\\\":-2,\\\"pricing_method\\\":\\\"none\\\",\\\"restricted_root_time\\\":\\\"NaN\\\",\\\"final_root_time\\\":132.95,\\\"total_instance_time\\\":139.399420118,\\\"final_pricing_time\\\":\\\"NaN\\\",\\\"iterated_pricing_time\\\":\\\"NaN\\\",\\\"restricted_pricing_time\\\":\\\"NaN\\\",\\\"total_pricing_time\\\":\\\"NaN\\\",\\\"finished\\\":true},{\\\"instance_name\\\":\\\"CU1\\\",\\\"lp_method\\\":2,\\\"lp_method_switch\\\":-2,\\\"pricing_method\\\":\\\"none\\\",\\\"restricted_root_time\\\":\\\"NaN\\\",\\\"final_root_time\\\":23.6,\\\"total_instance_time\\\":26.205211373,\\\"final_pricing_time\\\":\\\"NaN\\\",\\\"iterated_pricing_time\\\":\\\"NaN\\\",\\\"restricted_pricing_time\\\":\\\"NaN\\\",\\\"total_pricing_time\\\":\\\"NaN\\\",\\\"finished\\\":true},{\\\"instance_name\\\":\\\"gcut9\\\",\\\"lp_method\\\":2,\\\"lp_method_switch\\\":-2,\\\"pricing_method\\\":\\\"furini\\\",\\\"restricted_root_time\\\":0.84,\\\"final_root_time\\\":0.84,\\\"total_instance_time\\\":2958.143454547,\\\"final_pricing_time\\\":0.608954989,\\\"iterated_pricing_time\\\":2952.096695267,\\\"restricted_pricing_time\\\":1.45486665,\\\"total_pricing_time\\\":2954.2928370460004,\\\"finished\\\":true},{\\\"instance_name\\\":\\\"okp4\\\",\\\"lp_method\\\":2,\\\"lp_method_switch\\\":-2,\\\"pricing_method\\\":\\\"furini\\\",\\\"restricted_root_time\\\":76.38,\\\"final_root_time\\\":\\\"NaN\\\",\\\"total_instance_time\\\":\\\"NaN\\\",\\\"final_pricing_time\\\":\\\"NaN\\\",\\\"iterated_pricing_time\\\":\\\"NaN\\\",\\\"restricted_pricing_time\\\":148.83753199400002,\\\"total_pricing_time\\\":\\\"NaN\\\",\\\"finished\\\":false},{\\\"instance_name\\\":\\\"STS4\\\",\\\"lp_method\\\":2,\\\"lp_method_switch\\\":-2,\\\"pricing_method\\\":\\\"none\\\",\\\"restricted_root_time\\\":\\\"NaN\\\",\\\"final_root_time\\\":43.77,\\\"total_instance_time\\\":59.019811323,\\\"final_pricing_time\\\":\\\"NaN\\\",\\\"iterated_pricing_time\\\":\\\"NaN\\\",\\\"restricted_pricing_time\\\":\\\"NaN\\\",\\\"total_pricing_time\\\":\\\"NaN\\\",\\\"finished\\\":true},{\\\"instance_name\\\":\\\"okp4\\\",\\\"lp_method\\\":2,\\\"lp_method_switch\\\":1,\\\"pricing_method\\\":\\\"furini\\\",\\\"restricted_root_time\\\":57.34,\\\"final_root_time\\\":0.02,\\\"total_instance_time\\\":219.452517589,\\\"final_pricing_time\\\":0.559741033,\\\"iterated_pricing_time\\\":75.896876184,\\\"restricted_pricing_time\\\":141.81748354500002,\\\"total_pricing_time\\\":218.308601879,\\\"finished\\\":true},{\\\"instance_name\\\":\\\"CU1\\\",\\\"lp_method\\\":1,\\\"lp_method_switch\\\":-2,\\\"pricing_method\\\":\\\"furini\\\",\\\"restricted_root_time\\\":0.02,\\\"final_root_time\\\":\\\"NaN\\\",\\\"total_instance_time\\\":83.158991638,\\\"final_pricing_time\\\":0.49642613500000005,\\\"iterated_pricing_time\\\":78.514196291,\\\"restricted_pricing_time\\\":3.131369089,\\\"total_pricing_time\\\":82.159259562,\\\"finished\\\":true},{\\\"instance_name\\\":\\\"STS4\\\",\\\"lp_method\\\":1,\\\"lp_method_switch\\\":-2,\\\"pricing_method\\\":\\\"none\\\",\\\"restricted_root_time\\\":\\\"NaN\\\",\\\"final_root_time\\\":120.36,\\\"total_instance_time\\\":132.012471442,\\\"final_pricing_time\\\":\\\"NaN\\\",\\\"iterated_pricing_time\\\":\\\"NaN\\\",\\\"restricted_pricing_time\\\":\\\"NaN\\\",\\\"total_pricing_time\\\":\\\"NaN\\\",\\\"finished\\\":true},{\\\"instance_name\\\":\\\"okp1\\\",\\\"lp_method\\\":2,\\\"lp_method_switch\\\":1,\\\"pricing_method\\\":\\\"furini\\\",\\\"restricted_root_time\\\":12.79,\\\"final_root_time\\\":0.71,\\\"total_instance_time\\\":53.754857833,\\\"final_pricing_time\\\":0.552366156,\\\"iterated_pricing_time\\\":17.990774878,\\\"restricted_pricing_time\\\":29.692220711,\\\"total_pricing_time\\\":48.373948639000005,\\\"finished\\\":true},{\\\"instance_name\\\":\\\"okp1\\\",\\\"lp_method\\\":2,\\\"lp_method_switch\\\":-2,\\\"pricing_method\\\":\\\"none\\\",\\\"restricted_root_time\\\":\\\"NaN\\\",\\\"final_root_time\\\":23.46,\\\"total_instance_time\\\":37.252553932,\\\"final_pricing_time\\\":\\\"NaN\\\",\\\"iterated_pricing_time\\\":\\\"NaN\\\",\\\"restricted_pricing_time\\\":\\\"NaN\\\",\\\"total_pricing_time\\\":\\\"NaN\\\",\\\"finished\\\":true},{\\\"instance_name\\\":\\\"CU1\\\",\\\"lp_method\\\":1,\\\"lp_method_switch\\\":-2,\\\"pricing_method\\\":\\\"none\\\",\\\"restricted_root_time\\\":\\\"NaN\\\",\\\"final_root_time\\\":38.9,\\\"total_instance_time\\\":41.559736888,\\\"final_pricing_time\\\":\\\"NaN\\\",\\\"iterated_pricing_time\\\":\\\"NaN\\\",\\\"restricted_pricing_time\\\":\\\"NaN\\\",\\\"total_pricing_time\\\":\\\"NaN\\\",\\\"finished\\\":true},{\\\"instance_name\\\":\\\"gcut9\\\",\\\"lp_method\\\":1,\\\"lp_method_switch\\\":-2,\\\"pricing_method\\\":\\\"furini\\\",\\\"restricted_root_time\\\":0.01,\\\"final_root_time\\\":0.29,\\\"total_instance_time\\\":21.347778379,\\\"final_pricing_time\\\":0.790987717,\\\"iterated_pricing_time\\\":16.069484401,\\\"restricted_pricing_time\\\":1.623962197,\\\"total_pricing_time\\\":18.691565584000003,\\\"finished\\\":true},{\\\"instance_name\\\":\\\"okp5\\\",\\\"lp_method\\\":1,\\\"lp_method_switch\\\":-2,\\\"pricing_method\\\":\\\"furini\\\",\\\"restricted_root_time\\\":87.01,\\\"final_root_time\\\":0.02,\\\"total_instance_time\\\":439.695742099,\\\"final_pricing_time\\\":0.8645583160000001,\\\"iterated_pricing_time\\\":245.830847067,\\\"restricted_pricing_time\\\":191.50711463500002,\\\"total_pricing_time\\\":438.27373937500005,\\\"finished\\\":true},{\\\"instance_name\\\":\\\"okp5\\\",\\\"lp_method\\\":2,\\\"lp_method_switch\\\":-2,\\\"pricing_method\\\":\\\"furini\\\",\\\"restricted_root_time\\\":41.83,\\\"final_root_time\\\":\\\"NaN\\\",\\\"total_instance_time\\\":\\\"NaN\\\",\\\"final_pricing_time\\\":\\\"NaN\\\",\\\"iterated_pricing_time\\\":\\\"NaN\\\",\\\"restricted_pricing_time\\\":90.878244769,\\\"total_pricing_time\\\":\\\"NaN\\\",\\\"finished\\\":false},{\\\"instance_name\\\":\\\"CU1\\\",\\\"lp_method\\\":2,\\\"lp_method_switch\\\":-2,\\\"pricing_method\\\":\\\"furini\\\",\\\"restricted_root_time\\\":0.03,\\\"final_root_time\\\":\\\"NaN\\\",\\\"total_instance_time\\\":3130.726005667,\\\"final_pricing_time\\\":0.48618548,\\\"iterated_pricing_time\\\":3126.0051824,\\\"restricted_pricing_time\\\":3.260951513,\\\"total_pricing_time\\\":3129.776960603,\\\"finished\\\":true},{\\\"instance_name\\\":\\\"okp1\\\",\\\"lp_method\\\":2,\\\"lp_method_switch\\\":-2,\\\"pricing_method\\\":\\\"furini\\\",\\\"restricted_root_time\\\":15.11,\\\"final_root_time\\\":\\\"NaN\\\",\\\"total_instance_time\\\":\\\"NaN\\\",\\\"final_pricing_time\\\":\\\"NaN\\\",\\\"iterated_pricing_time\\\":\\\"NaN\\\",\\\"restricted_pricing_time\\\":40.159267296,\\\"total_pricing_time\\\":\\\"NaN\\\",\\\"finished\\\":false},{\\\"instance_name\\\":\\\"STS4s\\\",\\\"lp_method\\\":2,\\\"lp_method_switch\\\":-2,\\\"pricing_method\\\":\\\"furini\\\",\\\"restricted_root_time\\\":6.89,\\\"final_root_time\\\":\\\"NaN\\\",\\\"total_instance_time\\\":\\\"NaN\\\",\\\"final_pricing_time\\\":\\\"NaN\\\",\\\"iterated_pricing_time\\\":\\\"NaN\\\",\\\"restricted_pricing_time\\\":19.281534637,\\\"total_pricing_time\\\":\\\"NaN\\\",\\\"finished\\\":false},{\\\"instance_name\\\":\\\"gcut9\\\",\\\"lp_method\\\":2,\\\"lp_method_switch\\\":1,\\\"pricing_method\\\":\\\"furini\\\",\\\"restricted_root_time\\\":0.01,\\\"final_root_time\\\":0.21,\\\"total_instance_time\\\":18.096798787,\\\"final_pricing_time\\\":0.6466350350000001,\\\"iterated_pricing_time\\\":13.524293625,\\\"restricted_pricing_time\\\":1.533558417,\\\"total_pricing_time\\\":15.889065446000002,\\\"finished\\\":true},{\\\"instance_name\\\":\\\"gcut9\\\",\\\"lp_method\\\":2,\\\"lp_method_switch\\\":-2,\\\"pricing_method\\\":\\\"none\\\",\\\"restricted_root_time\\\":\\\"NaN\\\",\\\"final_root_time\\\":40.39,\\\"total_instance_time\\\":51.814342033,\\\"final_pricing_time\\\":\\\"NaN\\\",\\\"iterated_pricing_time\\\":\\\"NaN\\\",\\\"restricted_pricing_time\\\":\\\"NaN\\\",\\\"total_pricing_time\\\":\\\"NaN\\\",\\\"finished\\\":true},{\\\"instance_name\\\":\\\"okp4\\\",\\\"lp_method\\\":2,\\\"lp_method_switch\\\":-2,\\\"pricing_method\\\":\\\"none\\\",\\\"restricted_root_time\\\":\\\"NaN\\\",\\\"final_root_time\\\":74.95,\\\"total_instance_time\\\":82.608981685,\\\"final_pricing_time\\\":\\\"NaN\\\",\\\"iterated_pricing_time\\\":\\\"NaN\\\",\\\"restricted_pricing_time\\\":\\\"NaN\\\",\\\"total_pricing_time\\\":\\\"NaN\\\",\\\"finished\\\":true},{\\\"instance_name\\\":\\\"okp5\\\",\\\"lp_method\\\":1,\\\"lp_method_switch\\\":-2,\\\"pricing_method\\\":\\\"none\\\",\\\"restricted_root_time\\\":\\\"NaN\\\",\\\"final_root_time\\\":264.11,\\\"total_instance_time\\\":319.24853378,\\\"final_pricing_time\\\":\\\"NaN\\\",\\\"iterated_pricing_time\\\":\\\"NaN\\\",\\\"restricted_pricing_time\\\":\\\"NaN\\\",\\\"total_pricing_time\\\":\\\"NaN\\\",\\\"finished\\\":true},{\\\"instance_name\\\":\\\"STS4s\\\",\\\"lp_method\\\":1,\\\"lp_method_switch\\\":-2,\\\"pricing_method\\\":\\\"furini\\\",\\\"restricted_root_time\\\":16.83,\\\"final_root_time\\\":\\\"NaN\\\",\\\"total_instance_time\\\":110.622899546,\\\"final_pricing_time\\\":0.647201142,\\\"iterated_pricing_time\\\":67.453341604,\\\"restricted_pricing_time\\\":41.13986018,\\\"total_pricing_time\\\":109.267101283,\\\"finished\\\":true},{\\\"instance_name\\\":\\\"STS4s\\\",\\\"lp_method\\\":2,\\\"lp_method_switch\\\":1,\\\"pricing_method\\\":\\\"furini\\\",\\\"restricted_root_time\\\":15.56,\\\"final_root_time\\\":\\\"NaN\\\",\\\"total_instance_time\\\":101.679829014,\\\"final_pricing_time\\\":0.6361518500000001,\\\"iterated_pricing_time\\\":61.914525960000006,\\\"restricted_pricing_time\\\":37.800186319000005,\\\"total_pricing_time\\\":100.376524472,\\\"finished\\\":true},{\\\"instance_name\\\":\\\"okp4\\\",\\\"lp_method\\\":1,\\\"lp_method_switch\\\":-2,\\\"pricing_method\\\":\\\"none\\\",\\\"restricted_root_time\\\":\\\"NaN\\\",\\\"final_root_time\\\":139.75,\\\"total_instance_time\\\":152.274576987,\\\"final_pricing_time\\\":\\\"NaN\\\",\\\"iterated_pricing_time\\\":\\\"NaN\\\",\\\"restricted_pricing_time\\\":\\\"NaN\\\",\\\"total_pricing_time\\\":\\\"NaN\\\",\\\"finished\\\":true},{\\\"instance_name\\\":\\\"STS4\\\",\\\"lp_method\\\":1,\\\"lp_method_switch\\\":-2,\\\"pricing_method\\\":\\\"furini\\\",\\\"restricted_root_time\\\":21.26,\\\"final_root_time\\\":0.32,\\\"total_instance_time\\\":106.761000566,\\\"final_pricing_time\\\":0.737674296,\\\"iterated_pricing_time\\\":65.602615333,\\\"restricted_pricing_time\\\":38.536990483000004,\\\"total_pricing_time\\\":104.93807025800001,\\\"finished\\\":true},{\\\"instance_name\\\":\\\"gcut9\\\",\\\"lp_method\\\":1,\\\"lp_method_switch\\\":-2,\\\"pricing_method\\\":\\\"none\\\",\\\"restricted_root_time\\\":\\\"NaN\\\",\\\"final_root_time\\\":205.28,\\\"total_instance_time\\\":253.672820233,\\\"final_pricing_time\\\":\\\"NaN\\\",\\\"iterated_pricing_time\\\":\\\"NaN\\\",\\\"restricted_pricing_time\\\":\\\"NaN\\\",\\\"total_pricing_time\\\":\\\"NaN\\\",\\\"finished\\\":true},{\\\"instance_name\\\":\\\"okp1\\\",\\\"lp_method\\\":1,\\\"lp_method_switch\\\":-2,\\\"pricing_method\\\":\\\"none\\\",\\\"restricted_root_time\\\":\\\"NaN\\\",\\\"final_root_time\\\":62.01,\\\"total_instance_time\\\":71.947082035,\\\"final_pricing_time\\\":\\\"NaN\\\",\\\"iterated_pricing_time\\\":\\\"NaN\\\",\\\"restricted_pricing_time\\\":\\\"NaN\\\",\\\"total_pricing_time\\\":\\\"NaN\\\",\\\"finished\\\":true},{\\\"instance_name\\\":\\\"STS4s\\\",\\\"lp_method\\\":2,\\\"lp_method_switch\\\":-2,\\\"pricing_method\\\":\\\"none\\\",\\\"restricted_root_time\\\":\\\"NaN\\\",\\\"final_root_time\\\":41.39,\\\"total_instance_time\\\":49.613297357,\\\"final_pricing_time\\\":\\\"NaN\\\",\\\"iterated_pricing_time\\\":\\\"NaN\\\",\\\"restricted_pricing_time\\\":\\\"NaN\\\",\\\"total_pricing_time\\\":\\\"NaN\\\",\\\"finished\\\":true},{\\\"instance_name\\\":\\\"okp5\\\",\\\"lp_method\\\":2,\\\"lp_method_switch\\\":1,\\\"pricing_method\\\":\\\"furini\\\",\\\"restricted_root_time\\\":81.87,\\\"final_root_time\\\":0.02,\\\"total_instance_time\\\":414.410032608,\\\"final_pricing_time\\\":0.8263597960000001,\\\"iterated_pricing_time\\\":232.079308604,\\\"restricted_pricing_time\\\":180.023592154,\\\"total_pricing_time\\\":412.998264065,\\\"finished\\\":true},{\\\"instance_name\\\":\\\"okp4\\\",\\\"lp_method\\\":1,\\\"lp_method_switch\\\":-2,\\\"pricing_method\\\":\\\"furini\\\",\\\"restricted_root_time\\\":61.3,\\\"final_root_time\\\":0.01,\\\"total_instance_time\\\":231.181829671,\\\"final_pricing_time\\\":0.601121715,\\\"iterated_pricing_time\\\":79.735008707,\\\"restricted_pricing_time\\\":149.662026685,\\\"total_pricing_time\\\":230.03435190300002,\\\"finished\\\":true}],\\\"onCellClicked\\\":(function (ev){var x={}; (ev.rowIndex!==undefined) ? (x[\\\"rowIndex\\\"]=(ev.rowIndex+1)) : undefined; (ev.colDef!==undefined) ? (x[\\\"column\\\"]=ev.colDef.headerName) : undefined; return WebIO.setval({\\\"name\\\":\\\"onCellClicked\\\",\\\"scope\\\":\\\"12450666974983348173\\\",\\\"id\\\":\\\"ob_01\\\",\\\"type\\\":\\\"observable\\\"},x)})}; var el=document.getElementById(\\\"grid-6418d54e\\\"); gridOptions.components={\\\"rowNumberRenderer\\\":RowNumberRenderer}; this.table=new agGrid.Grid(el,gridOptions); gridOptions.columnApi.autoSizeColumn(\\\"__row__\\\"); return gridOptions.columnApi.autoSizeColumns([\\\"instance_name\\\",\\\"lp_method\\\",\\\"lp_method_switch\\\",\\\"pricing_method\\\",\\\"restricted_root_time\\\",\\\"final_root_time\\\",\\\"total_instance_time\\\",\\\"final_pricing_time\\\",\\\"iterated_pricing_time\\\",\\\"restricted_pricing_time\\\",\\\"total_pricing_time\\\",\\\"finished\\\"])}));\\n    (WebIO.importBlock({\\\"data\\\":[{\\\"name\\\":null,\\\"type\\\":\\\"js\\\",\\\"url\\\":\\\"/assetserver/0590277e57f9dce38c944f556c3d3f3537505baf-rowNumberRenderer.js\\\"},{\\\"name\\\":null,\\\"type\\\":\\\"js\\\",\\\"url\\\":\\\"/assetserver/4c1301a0647c04ca15698ec91c7948d0d808ae4e-ag-grid.js\\\"},{\\\"name\\\":null,\\\"type\\\":\\\"css\\\",\\\"url\\\":\\\"/assetserver/2fc78d8695c17bdfaf311ef6969766c669cc3259-ag-grid.css\\\"},{\\\"name\\\":null,\\\"type\\\":\\\"css\\\",\\\"url\\\":\\\"/assetserver/5fc5fa256baa60ef6cfb2f781fbe8b1e3528c443-ag-grid-light.css\\\"},{\\\"name\\\":null,\\\"type\\\":\\\"css\\\",\\\"url\\\":\\\"/assetserver/885a5d8cdc6d7b90593d781d742de9279d70e324-ag-grid-dark.css\\\"}],\\\"type\\\":\\\"async_block\\\"})).then((imports) => handler.apply(this, imports));\\n}\\n\")])"
      ]
     },
     "execution_count": 5,
     "metadata": {
      "application/vnd.webio.node+json": {
       "kernelId": "fcb8707d-440e-4836-a44e-015236c59633"
      }
     },
     "output_type": "execute_result"
    }
   ],
   "source": [
    "# Shows the cleaned data.\n",
    "println(names(lp_method_df))\n",
    "showtable(lp_method_df)"
   ]
  },
  {
   "cell_type": "code",
   "execution_count": 6,
   "metadata": {
    "collapsed": true
   },
   "outputs": [
    {
     "data": {
      "text/html": [
       "<table class=\"data-frame\"><thead><tr><th></th><th>instance_name</th><th>lp_method</th><th>lp_method_switch</th><th>total_instance_time</th></tr><tr><th></th><th>String</th><th>Int64</th><th>Int64</th><th>Float64</th></tr></thead><tbody><p>5 rows × 4 columns</p><tr><th>1</th><td>STS4</td><td>2</td><td>-2</td><td>NaN</td></tr><tr><th>2</th><td>okp4</td><td>2</td><td>-2</td><td>NaN</td></tr><tr><th>3</th><td>okp5</td><td>2</td><td>-2</td><td>NaN</td></tr><tr><th>4</th><td>okp1</td><td>2</td><td>-2</td><td>NaN</td></tr><tr><th>5</th><td>STS4s</td><td>2</td><td>-2</td><td>NaN</td></tr></tbody></table>"
      ],
      "text/latex": [
       "\\begin{tabular}{r|cccc}\n",
       "\t& instance\\_name & lp\\_method & lp\\_method\\_switch & total\\_instance\\_time\\\\\n",
       "\t\\hline\n",
       "\t& String & Int64 & Int64 & Float64\\\\\n",
       "\t\\hline\n",
       "\t1 & STS4 & 2 & -2 & NaN \\\\\n",
       "\t2 & okp4 & 2 & -2 & NaN \\\\\n",
       "\t3 & okp5 & 2 & -2 & NaN \\\\\n",
       "\t4 & okp1 & 2 & -2 & NaN \\\\\n",
       "\t5 & STS4s & 2 & -2 & NaN \\\\\n",
       "\\end{tabular}\n"
      ],
      "text/plain": [
       "5×4 DataFrame\n",
       "│ Row │ instance_name │ lp_method │ lp_method_switch │ total_instance_time │\n",
       "│     │ \u001b[90mString\u001b[39m        │ \u001b[90mInt64\u001b[39m     │ \u001b[90mInt64\u001b[39m            │ \u001b[90mFloat64\u001b[39m             │\n",
       "├─────┼───────────────┼───────────┼──────────────────┼─────────────────────┤\n",
       "│ 1   │ STS4          │ 2         │ -2               │ NaN                 │\n",
       "│ 2   │ okp4          │ 2         │ -2               │ NaN                 │\n",
       "│ 3   │ okp5          │ 2         │ -2               │ NaN                 │\n",
       "│ 4   │ okp1          │ 2         │ -2               │ NaN                 │\n",
       "│ 5   │ STS4s         │ 2         │ -2               │ NaN                 │"
      ]
     },
     "execution_count": 6,
     "metadata": {},
     "output_type": "execute_result"
    }
   ],
   "source": [
    "@linq lp_method_df |>\n",
    "    where(:finished .== false) |>\n",
    "    select(:instance_name, :lp_method, :lp_method_switch, :total_instance_time)"
   ]
  },
  {
   "cell_type": "code",
   "execution_count": 7,
   "metadata": {},
   "outputs": [
    {
     "data": {
      "application/vnd.webio.node+json": {
       "children": [
        {
         "children": [
          {
           "children": [
            ""
           ],
           "instanceArgs": {
            "namespace": "html",
            "tag": "div"
           },
           "nodeType": "DOM",
           "props": {
            "style": {
             "background-color": "#F5F7F7",
             "color": "#1c1f20",
             "font-family": "-apple-system, BlinkMacSystemFont, \"Segoe UI\", Roboto, Oxygen-Sans, Ubuntu, Cantarell, \"Helvetica Neue\", sans-serif",
             "height": "0",
             "padding": "0"
            }
           },
           "type": "node"
          },
          {
           "children": [],
           "instanceArgs": {
            "namespace": "html",
            "tag": "div"
           },
           "nodeType": "DOM",
           "props": {
            "className": "ag-theme-balham",
            "id": "grid-6a1a78b4",
            "style": {
             "height": "500px",
             "width": "100%"
            }
           },
           "type": "node"
          }
         ],
         "instanceArgs": {
          "namespace": "html",
          "tag": "div"
         },
         "nodeType": "DOM",
         "props": {},
         "type": "node"
        }
       ],
       "instanceArgs": {
        "handlers": {},
        "id": "899256065267588505",
        "imports": {
         "data": [
          {
           "name": null,
           "type": "js",
           "url": "/assetserver/0590277e57f9dce38c944f556c3d3f3537505baf-rowNumberRenderer.js"
          },
          {
           "name": null,
           "type": "js",
           "url": "/assetserver/4c1301a0647c04ca15698ec91c7948d0d808ae4e-ag-grid.js"
          },
          {
           "name": null,
           "type": "css",
           "url": "/assetserver/2fc78d8695c17bdfaf311ef6969766c669cc3259-ag-grid.css"
          },
          {
           "name": null,
           "type": "css",
           "url": "/assetserver/5fc5fa256baa60ef6cfb2f781fbe8b1e3528c443-ag-grid-light.css"
          },
          {
           "name": null,
           "type": "css",
           "url": "/assetserver/885a5d8cdc6d7b90593d781d742de9279d70e324-ag-grid-dark.css"
          }
         ],
         "type": "async_block"
        },
        "mount_callbacks": [
         "function () {\n    var handler = ((function (RowNumberRenderer,agGrid){var gridOptions={\"onCellFocused\":(function (ev){var x={}; (ev.rowIndex!==undefined) ? (x[\"rowIndex\"]=(ev.rowIndex+1)) : undefined; (ev.colDef!==undefined) ? (x[\"column\"]=ev.colDef.headerName) : undefined; return WebIO.setval({\"name\":\"onCellFocused\",\"scope\":\"899256065267588505\",\"id\":\"ob_09\",\"type\":\"observable\"},x)}),\"onCellValueChanged\":(function (){return }),\"onCellDoubleClicked\":(function (ev){var x={}; (ev.rowIndex!==undefined) ? (x[\"rowIndex\"]=(ev.rowIndex+1)) : undefined; (ev.colDef!==undefined) ? (x[\"column\"]=ev.colDef.headerName) : undefined; return WebIO.setval({\"name\":\"onCellDoubleClicked\",\"scope\":\"899256065267588505\",\"id\":\"ob_07\",\"type\":\"observable\"},x)}),\"multiSortKey\":\"ctrl\",\"columnDefs\":[{\"filter\":false,\"editable\":false,\"headerTooltip\":\"\",\"field\":\"__row__\",\"headerName\":\"Row\",\"sortable\":true,\"type\":\"numericColumn\",\"cellRenderer\":\"rowNumberRenderer\",\"resizable\":true},{\"filter\":true,\"editable\":false,\"headerTooltip\":\"String\",\"field\":\"instance_name\",\"headerName\":\"instance_name\",\"sortable\":true,\"type\":null,\"resizable\":true},{\"filter\":true,\"editable\":false,\"headerTooltip\":\"String\",\"field\":\"params\",\"headerName\":\"params\",\"sortable\":true,\"type\":null,\"resizable\":true},{\"filter\":\"agNumberColumnFilter\",\"editable\":false,\"headerTooltip\":\"Float64\",\"field\":\"total_instance_time\",\"headerName\":\"total_instance_time\",\"sortable\":true,\"type\":\"numericColumn\",\"resizable\":true}],\"onRowClicked\":(function (ev){var x={}; (ev.rowIndex!==undefined) ? (x[\"rowIndex\"]=(ev.rowIndex+1)) : undefined; (ev.colDef!==undefined) ? (x[\"column\"]=ev.colDef.headerName) : undefined; return WebIO.setval({\"name\":\"onRowClicked\",\"scope\":\"899256065267588505\",\"id\":\"ob_08\",\"type\":\"observable\"},x)}),\"onCellKeyDown\":(function (ev){var x={}; (ev.rowIndex!==undefined) ? (x[\"rowIndex\"]=(ev.rowIndex+1)) : undefined; (ev.colDef!==undefined) ? (x[\"column\"]=ev.colDef.headerName) : undefined; return WebIO.setval({\"name\":\"onCellKeyDown\",\"scope\":\"899256065267588505\",\"id\":\"ob_10\",\"type\":\"observable\"},x)}),\"rowData\":[{\"instance_name\":\"okp5\",\"params\":\"barrier_keep_none\",\"total_instance_time\":81.866979826},{\"instance_name\":\"STS4\",\"params\":\"barrier_switch_furini\",\"total_instance_time\":97.243934477},{\"instance_name\":\"okp1\",\"params\":\"simplex_keep_furini\",\"total_instance_time\":54.803795417},{\"instance_name\":\"STS4\",\"params\":\"barrier_keep_furini\",\"total_instance_time\":\"NaN\"},{\"instance_name\":\"CU1\",\"params\":\"barrier_switch_furini\",\"total_instance_time\":77.968223289},{\"instance_name\":\"STS4s\",\"params\":\"simplex_keep_none\",\"total_instance_time\":139.399420118},{\"instance_name\":\"CU1\",\"params\":\"barrier_keep_none\",\"total_instance_time\":26.205211373},{\"instance_name\":\"gcut9\",\"params\":\"barrier_keep_furini\",\"total_instance_time\":2958.143454547},{\"instance_name\":\"okp4\",\"params\":\"barrier_keep_furini\",\"total_instance_time\":\"NaN\"},{\"instance_name\":\"STS4\",\"params\":\"barrier_keep_none\",\"total_instance_time\":59.019811323},{\"instance_name\":\"okp4\",\"params\":\"barrier_switch_furini\",\"total_instance_time\":219.452517589},{\"instance_name\":\"CU1\",\"params\":\"simplex_keep_furini\",\"total_instance_time\":83.158991638},{\"instance_name\":\"STS4\",\"params\":\"simplex_keep_none\",\"total_instance_time\":132.012471442},{\"instance_name\":\"okp1\",\"params\":\"barrier_switch_furini\",\"total_instance_time\":53.754857833},{\"instance_name\":\"okp1\",\"params\":\"barrier_keep_none\",\"total_instance_time\":37.252553932},{\"instance_name\":\"CU1\",\"params\":\"simplex_keep_none\",\"total_instance_time\":41.559736888},{\"instance_name\":\"gcut9\",\"params\":\"simplex_keep_furini\",\"total_instance_time\":21.347778379},{\"instance_name\":\"okp5\",\"params\":\"simplex_keep_furini\",\"total_instance_time\":439.695742099},{\"instance_name\":\"okp5\",\"params\":\"barrier_keep_furini\",\"total_instance_time\":\"NaN\"},{\"instance_name\":\"CU1\",\"params\":\"barrier_keep_furini\",\"total_instance_time\":3130.726005667},{\"instance_name\":\"okp1\",\"params\":\"barrier_keep_furini\",\"total_instance_time\":\"NaN\"},{\"instance_name\":\"STS4s\",\"params\":\"barrier_keep_furini\",\"total_instance_time\":\"NaN\"},{\"instance_name\":\"gcut9\",\"params\":\"barrier_switch_furini\",\"total_instance_time\":18.096798787},{\"instance_name\":\"gcut9\",\"params\":\"barrier_keep_none\",\"total_instance_time\":51.814342033},{\"instance_name\":\"okp4\",\"params\":\"barrier_keep_none\",\"total_instance_time\":82.608981685},{\"instance_name\":\"okp5\",\"params\":\"simplex_keep_none\",\"total_instance_time\":319.24853378},{\"instance_name\":\"STS4s\",\"params\":\"simplex_keep_furini\",\"total_instance_time\":110.622899546},{\"instance_name\":\"STS4s\",\"params\":\"barrier_switch_furini\",\"total_instance_time\":101.679829014},{\"instance_name\":\"okp4\",\"params\":\"simplex_keep_none\",\"total_instance_time\":152.274576987},{\"instance_name\":\"STS4\",\"params\":\"simplex_keep_furini\",\"total_instance_time\":106.761000566},{\"instance_name\":\"gcut9\",\"params\":\"simplex_keep_none\",\"total_instance_time\":253.672820233},{\"instance_name\":\"okp1\",\"params\":\"simplex_keep_none\",\"total_instance_time\":71.947082035},{\"instance_name\":\"STS4s\",\"params\":\"barrier_keep_none\",\"total_instance_time\":49.613297357},{\"instance_name\":\"okp5\",\"params\":\"barrier_switch_furini\",\"total_instance_time\":414.410032608},{\"instance_name\":\"okp4\",\"params\":\"simplex_keep_furini\",\"total_instance_time\":231.181829671}],\"onCellClicked\":(function (ev){var x={}; (ev.rowIndex!==undefined) ? (x[\"rowIndex\"]=(ev.rowIndex+1)) : undefined; (ev.colDef!==undefined) ? (x[\"column\"]=ev.colDef.headerName) : undefined; return WebIO.setval({\"name\":\"onCellClicked\",\"scope\":\"899256065267588505\",\"id\":\"ob_06\",\"type\":\"observable\"},x)})}; var el=document.getElementById(\"grid-6a1a78b4\"); gridOptions.components={\"rowNumberRenderer\":RowNumberRenderer}; this.table=new agGrid.Grid(el,gridOptions); gridOptions.columnApi.autoSizeColumn(\"__row__\"); return gridOptions.columnApi.autoSizeColumns([\"instance_name\",\"params\",\"total_instance_time\"])}));\n    (WebIO.importBlock({\"data\":[{\"name\":null,\"type\":\"js\",\"url\":\"/assetserver/0590277e57f9dce38c944f556c3d3f3537505baf-rowNumberRenderer.js\"},{\"name\":null,\"type\":\"js\",\"url\":\"/assetserver/4c1301a0647c04ca15698ec91c7948d0d808ae4e-ag-grid.js\"},{\"name\":null,\"type\":\"css\",\"url\":\"/assetserver/2fc78d8695c17bdfaf311ef6969766c669cc3259-ag-grid.css\"},{\"name\":null,\"type\":\"css\",\"url\":\"/assetserver/5fc5fa256baa60ef6cfb2f781fbe8b1e3528c443-ag-grid-light.css\"},{\"name\":null,\"type\":\"css\",\"url\":\"/assetserver/885a5d8cdc6d7b90593d781d742de9279d70e324-ag-grid-dark.css\"}],\"type\":\"async_block\"})).then((imports) => handler.apply(this, imports));\n}\n"
        ],
        "observables": {
         "onCellClicked": {
          "id": "ob_06",
          "sync": false,
          "value": null
         },
         "onCellDoubleClicked": {
          "id": "ob_07",
          "sync": false,
          "value": null
         },
         "onCellFocused": {
          "id": "ob_09",
          "sync": false,
          "value": null
         },
         "onCellKeyDown": {
          "id": "ob_10",
          "sync": false,
          "value": null
         },
         "onRowClicked": {
          "id": "ob_08",
          "sync": false,
          "value": null
         }
        },
        "systemjs_options": null
       },
       "nodeType": "Scope",
       "props": {},
       "type": "node"
      },
      "text/html": [
       "<div\n",
       "    class=\"webio-mountpoint\"\n",
       "    data-webio-mountpoint=\"6228222909635612369\"\n",
       ">\n",
       "    <script>\n",
       "    if (window.require && require.defined && require.defined(\"nbextensions/webio-jupyter-notebook\")) {\n",
       "        console.log(\"Jupyter WebIO extension detected, not mounting.\");\n",
       "    } else if (window.WebIO) {\n",
       "        WebIO.mount(\n",
       "            document.querySelector('[data-webio-mountpoint=\"6228222909635612369\"]'),\n",
       "            {\"props\":{},\"nodeType\":\"Scope\",\"type\":\"node\",\"instanceArgs\":{\"imports\":{\"data\":[{\"name\":null,\"type\":\"js\",\"url\":\"\\/assetserver\\/0590277e57f9dce38c944f556c3d3f3537505baf-rowNumberRenderer.js\"},{\"name\":null,\"type\":\"js\",\"url\":\"\\/assetserver\\/4c1301a0647c04ca15698ec91c7948d0d808ae4e-ag-grid.js\"},{\"name\":null,\"type\":\"css\",\"url\":\"\\/assetserver\\/2fc78d8695c17bdfaf311ef6969766c669cc3259-ag-grid.css\"},{\"name\":null,\"type\":\"css\",\"url\":\"\\/assetserver\\/5fc5fa256baa60ef6cfb2f781fbe8b1e3528c443-ag-grid-light.css\"},{\"name\":null,\"type\":\"css\",\"url\":\"\\/assetserver\\/885a5d8cdc6d7b90593d781d742de9279d70e324-ag-grid-dark.css\"}],\"type\":\"async_block\"},\"id\":\"899256065267588505\",\"handlers\":{},\"systemjs_options\":null,\"mount_callbacks\":[\"function () {\\n    var handler = ((function (RowNumberRenderer,agGrid){var gridOptions={\\\"onCellFocused\\\":(function (ev){var x={}; (ev.rowIndex!==undefined) ? (x[\\\"rowIndex\\\"]=(ev.rowIndex+1)) : undefined; (ev.colDef!==undefined) ? (x[\\\"column\\\"]=ev.colDef.headerName) : undefined; return WebIO.setval({\\\"name\\\":\\\"onCellFocused\\\",\\\"scope\\\":\\\"899256065267588505\\\",\\\"id\\\":\\\"ob_09\\\",\\\"type\\\":\\\"observable\\\"},x)}),\\\"onCellValueChanged\\\":(function (){return }),\\\"onCellDoubleClicked\\\":(function (ev){var x={}; (ev.rowIndex!==undefined) ? (x[\\\"rowIndex\\\"]=(ev.rowIndex+1)) : undefined; (ev.colDef!==undefined) ? (x[\\\"column\\\"]=ev.colDef.headerName) : undefined; return WebIO.setval({\\\"name\\\":\\\"onCellDoubleClicked\\\",\\\"scope\\\":\\\"899256065267588505\\\",\\\"id\\\":\\\"ob_07\\\",\\\"type\\\":\\\"observable\\\"},x)}),\\\"multiSortKey\\\":\\\"ctrl\\\",\\\"columnDefs\\\":[{\\\"filter\\\":false,\\\"editable\\\":false,\\\"headerTooltip\\\":\\\"\\\",\\\"field\\\":\\\"__row__\\\",\\\"headerName\\\":\\\"Row\\\",\\\"sortable\\\":true,\\\"type\\\":\\\"numericColumn\\\",\\\"cellRenderer\\\":\\\"rowNumberRenderer\\\",\\\"resizable\\\":true},{\\\"filter\\\":true,\\\"editable\\\":false,\\\"headerTooltip\\\":\\\"String\\\",\\\"field\\\":\\\"instance_name\\\",\\\"headerName\\\":\\\"instance_name\\\",\\\"sortable\\\":true,\\\"type\\\":null,\\\"resizable\\\":true},{\\\"filter\\\":true,\\\"editable\\\":false,\\\"headerTooltip\\\":\\\"String\\\",\\\"field\\\":\\\"params\\\",\\\"headerName\\\":\\\"params\\\",\\\"sortable\\\":true,\\\"type\\\":null,\\\"resizable\\\":true},{\\\"filter\\\":\\\"agNumberColumnFilter\\\",\\\"editable\\\":false,\\\"headerTooltip\\\":\\\"Float64\\\",\\\"field\\\":\\\"total_instance_time\\\",\\\"headerName\\\":\\\"total_instance_time\\\",\\\"sortable\\\":true,\\\"type\\\":\\\"numericColumn\\\",\\\"resizable\\\":true}],\\\"onRowClicked\\\":(function (ev){var x={}; (ev.rowIndex!==undefined) ? (x[\\\"rowIndex\\\"]=(ev.rowIndex+1)) : undefined; (ev.colDef!==undefined) ? (x[\\\"column\\\"]=ev.colDef.headerName) : undefined; return WebIO.setval({\\\"name\\\":\\\"onRowClicked\\\",\\\"scope\\\":\\\"899256065267588505\\\",\\\"id\\\":\\\"ob_08\\\",\\\"type\\\":\\\"observable\\\"},x)}),\\\"onCellKeyDown\\\":(function (ev){var x={}; (ev.rowIndex!==undefined) ? (x[\\\"rowIndex\\\"]=(ev.rowIndex+1)) : undefined; (ev.colDef!==undefined) ? (x[\\\"column\\\"]=ev.colDef.headerName) : undefined; return WebIO.setval({\\\"name\\\":\\\"onCellKeyDown\\\",\\\"scope\\\":\\\"899256065267588505\\\",\\\"id\\\":\\\"ob_10\\\",\\\"type\\\":\\\"observable\\\"},x)}),\\\"rowData\\\":[{\\\"instance_name\\\":\\\"okp5\\\",\\\"params\\\":\\\"barrier_keep_none\\\",\\\"total_instance_time\\\":81.866979826},{\\\"instance_name\\\":\\\"STS4\\\",\\\"params\\\":\\\"barrier_switch_furini\\\",\\\"total_instance_time\\\":97.243934477},{\\\"instance_name\\\":\\\"okp1\\\",\\\"params\\\":\\\"simplex_keep_furini\\\",\\\"total_instance_time\\\":54.803795417},{\\\"instance_name\\\":\\\"STS4\\\",\\\"params\\\":\\\"barrier_keep_furini\\\",\\\"total_instance_time\\\":\\\"NaN\\\"},{\\\"instance_name\\\":\\\"CU1\\\",\\\"params\\\":\\\"barrier_switch_furini\\\",\\\"total_instance_time\\\":77.968223289},{\\\"instance_name\\\":\\\"STS4s\\\",\\\"params\\\":\\\"simplex_keep_none\\\",\\\"total_instance_time\\\":139.399420118},{\\\"instance_name\\\":\\\"CU1\\\",\\\"params\\\":\\\"barrier_keep_none\\\",\\\"total_instance_time\\\":26.205211373},{\\\"instance_name\\\":\\\"gcut9\\\",\\\"params\\\":\\\"barrier_keep_furini\\\",\\\"total_instance_time\\\":2958.143454547},{\\\"instance_name\\\":\\\"okp4\\\",\\\"params\\\":\\\"barrier_keep_furini\\\",\\\"total_instance_time\\\":\\\"NaN\\\"},{\\\"instance_name\\\":\\\"STS4\\\",\\\"params\\\":\\\"barrier_keep_none\\\",\\\"total_instance_time\\\":59.019811323},{\\\"instance_name\\\":\\\"okp4\\\",\\\"params\\\":\\\"barrier_switch_furini\\\",\\\"total_instance_time\\\":219.452517589},{\\\"instance_name\\\":\\\"CU1\\\",\\\"params\\\":\\\"simplex_keep_furini\\\",\\\"total_instance_time\\\":83.158991638},{\\\"instance_name\\\":\\\"STS4\\\",\\\"params\\\":\\\"simplex_keep_none\\\",\\\"total_instance_time\\\":132.012471442},{\\\"instance_name\\\":\\\"okp1\\\",\\\"params\\\":\\\"barrier_switch_furini\\\",\\\"total_instance_time\\\":53.754857833},{\\\"instance_name\\\":\\\"okp1\\\",\\\"params\\\":\\\"barrier_keep_none\\\",\\\"total_instance_time\\\":37.252553932},{\\\"instance_name\\\":\\\"CU1\\\",\\\"params\\\":\\\"simplex_keep_none\\\",\\\"total_instance_time\\\":41.559736888},{\\\"instance_name\\\":\\\"gcut9\\\",\\\"params\\\":\\\"simplex_keep_furini\\\",\\\"total_instance_time\\\":21.347778379},{\\\"instance_name\\\":\\\"okp5\\\",\\\"params\\\":\\\"simplex_keep_furini\\\",\\\"total_instance_time\\\":439.695742099},{\\\"instance_name\\\":\\\"okp5\\\",\\\"params\\\":\\\"barrier_keep_furini\\\",\\\"total_instance_time\\\":\\\"NaN\\\"},{\\\"instance_name\\\":\\\"CU1\\\",\\\"params\\\":\\\"barrier_keep_furini\\\",\\\"total_instance_time\\\":3130.726005667},{\\\"instance_name\\\":\\\"okp1\\\",\\\"params\\\":\\\"barrier_keep_furini\\\",\\\"total_instance_time\\\":\\\"NaN\\\"},{\\\"instance_name\\\":\\\"STS4s\\\",\\\"params\\\":\\\"barrier_keep_furini\\\",\\\"total_instance_time\\\":\\\"NaN\\\"},{\\\"instance_name\\\":\\\"gcut9\\\",\\\"params\\\":\\\"barrier_switch_furini\\\",\\\"total_instance_time\\\":18.096798787},{\\\"instance_name\\\":\\\"gcut9\\\",\\\"params\\\":\\\"barrier_keep_none\\\",\\\"total_instance_time\\\":51.814342033},{\\\"instance_name\\\":\\\"okp4\\\",\\\"params\\\":\\\"barrier_keep_none\\\",\\\"total_instance_time\\\":82.608981685},{\\\"instance_name\\\":\\\"okp5\\\",\\\"params\\\":\\\"simplex_keep_none\\\",\\\"total_instance_time\\\":319.24853378},{\\\"instance_name\\\":\\\"STS4s\\\",\\\"params\\\":\\\"simplex_keep_furini\\\",\\\"total_instance_time\\\":110.622899546},{\\\"instance_name\\\":\\\"STS4s\\\",\\\"params\\\":\\\"barrier_switch_furini\\\",\\\"total_instance_time\\\":101.679829014},{\\\"instance_name\\\":\\\"okp4\\\",\\\"params\\\":\\\"simplex_keep_none\\\",\\\"total_instance_time\\\":152.274576987},{\\\"instance_name\\\":\\\"STS4\\\",\\\"params\\\":\\\"simplex_keep_furini\\\",\\\"total_instance_time\\\":106.761000566},{\\\"instance_name\\\":\\\"gcut9\\\",\\\"params\\\":\\\"simplex_keep_none\\\",\\\"total_instance_time\\\":253.672820233},{\\\"instance_name\\\":\\\"okp1\\\",\\\"params\\\":\\\"simplex_keep_none\\\",\\\"total_instance_time\\\":71.947082035},{\\\"instance_name\\\":\\\"STS4s\\\",\\\"params\\\":\\\"barrier_keep_none\\\",\\\"total_instance_time\\\":49.613297357},{\\\"instance_name\\\":\\\"okp5\\\",\\\"params\\\":\\\"barrier_switch_furini\\\",\\\"total_instance_time\\\":414.410032608},{\\\"instance_name\\\":\\\"okp4\\\",\\\"params\\\":\\\"simplex_keep_furini\\\",\\\"total_instance_time\\\":231.181829671}],\\\"onCellClicked\\\":(function (ev){var x={}; (ev.rowIndex!==undefined) ? (x[\\\"rowIndex\\\"]=(ev.rowIndex+1)) : undefined; (ev.colDef!==undefined) ? (x[\\\"column\\\"]=ev.colDef.headerName) : undefined; return WebIO.setval({\\\"name\\\":\\\"onCellClicked\\\",\\\"scope\\\":\\\"899256065267588505\\\",\\\"id\\\":\\\"ob_06\\\",\\\"type\\\":\\\"observable\\\"},x)})}; var el=document.getElementById(\\\"grid-6a1a78b4\\\"); gridOptions.components={\\\"rowNumberRenderer\\\":RowNumberRenderer}; this.table=new agGrid.Grid(el,gridOptions); gridOptions.columnApi.autoSizeColumn(\\\"__row__\\\"); return gridOptions.columnApi.autoSizeColumns([\\\"instance_name\\\",\\\"params\\\",\\\"total_instance_time\\\"])}));\\n    (WebIO.importBlock({\\\"data\\\":[{\\\"name\\\":null,\\\"type\\\":\\\"js\\\",\\\"url\\\":\\\"\\/assetserver\\/0590277e57f9dce38c944f556c3d3f3537505baf-rowNumberRenderer.js\\\"},{\\\"name\\\":null,\\\"type\\\":\\\"js\\\",\\\"url\\\":\\\"\\/assetserver\\/4c1301a0647c04ca15698ec91c7948d0d808ae4e-ag-grid.js\\\"},{\\\"name\\\":null,\\\"type\\\":\\\"css\\\",\\\"url\\\":\\\"\\/assetserver\\/2fc78d8695c17bdfaf311ef6969766c669cc3259-ag-grid.css\\\"},{\\\"name\\\":null,\\\"type\\\":\\\"css\\\",\\\"url\\\":\\\"\\/assetserver\\/5fc5fa256baa60ef6cfb2f781fbe8b1e3528c443-ag-grid-light.css\\\"},{\\\"name\\\":null,\\\"type\\\":\\\"css\\\",\\\"url\\\":\\\"\\/assetserver\\/885a5d8cdc6d7b90593d781d742de9279d70e324-ag-grid-dark.css\\\"}],\\\"type\\\":\\\"async_block\\\"})).then((imports) => handler.apply(this, imports));\\n}\\n\"],\"observables\":{\"onCellKeyDown\":{\"sync\":false,\"id\":\"ob_10\",\"value\":null},\"onRowClicked\":{\"sync\":false,\"id\":\"ob_08\",\"value\":null},\"onCellDoubleClicked\":{\"sync\":false,\"id\":\"ob_07\",\"value\":null},\"onCellClicked\":{\"sync\":false,\"id\":\"ob_06\",\"value\":null},\"onCellFocused\":{\"sync\":false,\"id\":\"ob_09\",\"value\":null}}},\"children\":[{\"props\":{},\"nodeType\":\"DOM\",\"type\":\"node\",\"instanceArgs\":{\"namespace\":\"html\",\"tag\":\"div\"},\"children\":[{\"props\":{\"style\":{\"height\":\"0\",\"padding\":\"0\",\"background-color\":\"#F5F7F7\",\"color\":\"#1c1f20\",\"font-family\":\"-apple-system, BlinkMacSystemFont, \\\"Segoe UI\\\", Roboto, Oxygen-Sans, Ubuntu, Cantarell, \\\"Helvetica Neue\\\", sans-serif\"}},\"nodeType\":\"DOM\",\"type\":\"node\",\"instanceArgs\":{\"namespace\":\"html\",\"tag\":\"div\"},\"children\":[\"\"]},{\"props\":{\"id\":\"grid-6a1a78b4\",\"className\":\"ag-theme-balham\",\"style\":{\"height\":\"500px\",\"width\":\"100%\"}},\"nodeType\":\"DOM\",\"type\":\"node\",\"instanceArgs\":{\"namespace\":\"html\",\"tag\":\"div\"},\"children\":[]}]}]},\n",
       "            window,\n",
       "        );\n",
       "    } else {\n",
       "        document\n",
       "            .querySelector('[data-webio-mountpoint=\"6228222909635612369\"]')\n",
       "            .innerHTML = (\n",
       "                '<div style=\"padding: 1em; background-color: #f8d6da; border: 1px solid #f5c6cb\">' +\n",
       "                '<p><strong>WebIO not detected.</strong></p>' +\n",
       "                '<p>Please read ' +\n",
       "                '<a href=\"https://juliagizmos.github.io/WebIO.jl/latest/troubleshooting/not-detected/\" target=\"_blank\">the troubleshooting guide</a> ' +\n",
       "                'for more information on how to resolve this issue.</p>' +\n",
       "                '<p><a href=\"https://juliagizmos.github.io/WebIO.jl/latest/troubleshooting/not-detected/\" target=\"_blank\">https://juliagizmos.github.io/WebIO.jl/latest/troubleshooting/not-detected/</a></p>' +\n",
       "                '</div>'\n",
       "            );\n",
       "    }\n",
       "    </script>\n",
       "</div>\n"
      ],
      "text/plain": [
       "Scope(Node{WebIO.DOM}(WebIO.DOM(:html, :div), Any[Node{WebIO.DOM}(WebIO.DOM(:html, :div), Any[\"\"], Dict{Symbol,Any}(:style => Dict(\"height\" => \"0\",\"padding\" => \"0\",\"background-color\" => \"#F5F7F7\",\"color\" => \"#1c1f20\",\"font-family\" => \"-apple-system, BlinkMacSystemFont, \\\"Segoe UI\\\", Roboto, Oxygen-Sans, Ubuntu, Cantarell, \\\"Helvetica Neue\\\", sans-serif\"))), Node{WebIO.DOM}(WebIO.DOM(:html, :div), Any[], Dict{Symbol,Any}(:id => \"grid-6a1a78b4\",:className => \"ag-theme-balham\",:style => Dict(\"height\" => \"500px\",\"width\" => \"100%\")))], Dict{Symbol,Any}()), Dict{String,Tuple{Observables.AbstractObservable,Union{Nothing, Bool}}}(\"onCellKeyDown\" => (Observable{Any} with 0 listeners. Value:\n",
       "nothing, nothing),\"onRowClicked\" => (Observable{Any} with 0 listeners. Value:\n",
       "nothing, nothing),\"onCellDoubleClicked\" => (Observable{Any} with 0 listeners. Value:\n",
       "nothing, nothing),\"onCellClicked\" => (Observable{Any} with 0 listeners. Value:\n",
       "nothing, nothing),\"onCellFocused\" => (Observable{Any} with 0 listeners. Value:\n",
       "nothing, nothing)), Set(String[]), nothing, Asset[Asset(\"js\", nothing, \"/home/henrique/.julia/packages/TableView/CxWLO/src/rowNumberRenderer.js\"), Asset(\"js\", nothing, \"/home/henrique/.julia/packages/TableView/CxWLO/deps/ag-grid-22.1.0/ag-grid.js\"), Asset(\"css\", nothing, \"/home/henrique/.julia/packages/TableView/CxWLO/deps/ag-grid-22.1.0/ag-grid.css\"), Asset(\"css\", nothing, \"/home/henrique/.julia/packages/TableView/CxWLO/deps/ag-grid-22.1.0/ag-grid-light.css\"), Asset(\"css\", nothing, \"/home/henrique/.julia/packages/TableView/CxWLO/deps/ag-grid-22.1.0/ag-grid-dark.css\")], Dict{Any,Any}(), WebIO.ConnectionPool(Channel{Any}(sz_max:32,sz_curr:0), Set(AbstractConnection[]), Base.GenericCondition{Base.AlwaysLockedST}(Base.InvasiveLinkedList{Task}(Task (runnable) @0x00007f783b30d870, Task (runnable) @0x00007f783b30d870), Base.AlwaysLockedST(1))), WebIO.JSString[WebIO.JSString(\"function () {\\n    var handler = ((function (RowNumberRenderer,agGrid){var gridOptions={\\\"onCellFocused\\\":(function (ev){var x={}; (ev.rowIndex!==undefined) ? (x[\\\"rowIndex\\\"]=(ev.rowIndex+1)) : undefined; (ev.colDef!==undefined) ? (x[\\\"column\\\"]=ev.colDef.headerName) : undefined; return WebIO.setval({\\\"name\\\":\\\"onCellFocused\\\",\\\"scope\\\":\\\"899256065267588505\\\",\\\"id\\\":\\\"ob_09\\\",\\\"type\\\":\\\"observable\\\"},x)}),\\\"onCellValueChanged\\\":(function (){return }),\\\"onCellDoubleClicked\\\":(function (ev){var x={}; (ev.rowIndex!==undefined) ? (x[\\\"rowIndex\\\"]=(ev.rowIndex+1)) : undefined; (ev.colDef!==undefined) ? (x[\\\"column\\\"]=ev.colDef.headerName) : undefined; return WebIO.setval({\\\"name\\\":\\\"onCellDoubleClicked\\\",\\\"scope\\\":\\\"899256065267588505\\\",\\\"id\\\":\\\"ob_07\\\",\\\"type\\\":\\\"observable\\\"},x)}),\\\"multiSortKey\\\":\\\"ctrl\\\",\\\"columnDefs\\\":[{\\\"filter\\\":false,\\\"editable\\\":false,\\\"headerTooltip\\\":\\\"\\\",\\\"field\\\":\\\"__row__\\\",\\\"headerName\\\":\\\"Row\\\",\\\"sortable\\\":true,\\\"type\\\":\\\"numericColumn\\\",\\\"cellRenderer\\\":\\\"rowNumberRenderer\\\",\\\"resizable\\\":true},{\\\"filter\\\":true,\\\"editable\\\":false,\\\"headerTooltip\\\":\\\"String\\\",\\\"field\\\":\\\"instance_name\\\",\\\"headerName\\\":\\\"instance_name\\\",\\\"sortable\\\":true,\\\"type\\\":null,\\\"resizable\\\":true},{\\\"filter\\\":true,\\\"editable\\\":false,\\\"headerTooltip\\\":\\\"String\\\",\\\"field\\\":\\\"params\\\",\\\"headerName\\\":\\\"params\\\",\\\"sortable\\\":true,\\\"type\\\":null,\\\"resizable\\\":true},{\\\"filter\\\":\\\"agNumberColumnFilter\\\",\\\"editable\\\":false,\\\"headerTooltip\\\":\\\"Float64\\\",\\\"field\\\":\\\"total_instance_time\\\",\\\"headerName\\\":\\\"total_instance_time\\\",\\\"sortable\\\":true,\\\"type\\\":\\\"numericColumn\\\",\\\"resizable\\\":true}],\\\"onRowClicked\\\":(function (ev){var x={}; (ev.rowIndex!==undefined) ? (x[\\\"rowIndex\\\"]=(ev.rowIndex+1)) : undefined; (ev.colDef!==undefined) ? (x[\\\"column\\\"]=ev.colDef.headerName) : undefined; return WebIO.setval({\\\"name\\\":\\\"onRowClicked\\\",\\\"scope\\\":\\\"899256065267588505\\\",\\\"id\\\":\\\"ob_08\\\",\\\"type\\\":\\\"observable\\\"},x)}),\\\"onCellKeyDown\\\":(function (ev){var x={}; (ev.rowIndex!==undefined) ? (x[\\\"rowIndex\\\"]=(ev.rowIndex+1)) : undefined; (ev.colDef!==undefined) ? (x[\\\"column\\\"]=ev.colDef.headerName) : undefined; return WebIO.setval({\\\"name\\\":\\\"onCellKeyDown\\\",\\\"scope\\\":\\\"899256065267588505\\\",\\\"id\\\":\\\"ob_10\\\",\\\"type\\\":\\\"observable\\\"},x)}),\\\"rowData\\\":[{\\\"instance_name\\\":\\\"okp5\\\",\\\"params\\\":\\\"barrier_keep_none\\\",\\\"total_instance_time\\\":81.866979826},{\\\"instance_name\\\":\\\"STS4\\\",\\\"params\\\":\\\"barrier_switch_furini\\\",\\\"total_instance_time\\\":97.243934477},{\\\"instance_name\\\":\\\"okp1\\\",\\\"params\\\":\\\"simplex_keep_furini\\\",\\\"total_instance_time\\\":54.803795417},{\\\"instance_name\\\":\\\"STS4\\\",\\\"params\\\":\\\"barrier_keep_furini\\\",\\\"total_instance_time\\\":\\\"NaN\\\"},{\\\"instance_name\\\":\\\"CU1\\\",\\\"params\\\":\\\"barrier_switch_furini\\\",\\\"total_instance_time\\\":77.968223289},{\\\"instance_name\\\":\\\"STS4s\\\",\\\"params\\\":\\\"simplex_keep_none\\\",\\\"total_instance_time\\\":139.399420118},{\\\"instance_name\\\":\\\"CU1\\\",\\\"params\\\":\\\"barrier_keep_none\\\",\\\"total_instance_time\\\":26.205211373},{\\\"instance_name\\\":\\\"gcut9\\\",\\\"params\\\":\\\"barrier_keep_furini\\\",\\\"total_instance_time\\\":2958.143454547},{\\\"instance_name\\\":\\\"okp4\\\",\\\"params\\\":\\\"barrier_keep_furini\\\",\\\"total_instance_time\\\":\\\"NaN\\\"},{\\\"instance_name\\\":\\\"STS4\\\",\\\"params\\\":\\\"barrier_keep_none\\\",\\\"total_instance_time\\\":59.019811323},{\\\"instance_name\\\":\\\"okp4\\\",\\\"params\\\":\\\"barrier_switch_furini\\\",\\\"total_instance_time\\\":219.452517589},{\\\"instance_name\\\":\\\"CU1\\\",\\\"params\\\":\\\"simplex_keep_furini\\\",\\\"total_instance_time\\\":83.158991638},{\\\"instance_name\\\":\\\"STS4\\\",\\\"params\\\":\\\"simplex_keep_none\\\",\\\"total_instance_time\\\":132.012471442},{\\\"instance_name\\\":\\\"okp1\\\",\\\"params\\\":\\\"barrier_switch_furini\\\",\\\"total_instance_time\\\":53.754857833},{\\\"instance_name\\\":\\\"okp1\\\",\\\"params\\\":\\\"barrier_keep_none\\\",\\\"total_instance_time\\\":37.252553932},{\\\"instance_name\\\":\\\"CU1\\\",\\\"params\\\":\\\"simplex_keep_none\\\",\\\"total_instance_time\\\":41.559736888},{\\\"instance_name\\\":\\\"gcut9\\\",\\\"params\\\":\\\"simplex_keep_furini\\\",\\\"total_instance_time\\\":21.347778379},{\\\"instance_name\\\":\\\"okp5\\\",\\\"params\\\":\\\"simplex_keep_furini\\\",\\\"total_instance_time\\\":439.695742099},{\\\"instance_name\\\":\\\"okp5\\\",\\\"params\\\":\\\"barrier_keep_furini\\\",\\\"total_instance_time\\\":\\\"NaN\\\"},{\\\"instance_name\\\":\\\"CU1\\\",\\\"params\\\":\\\"barrier_keep_furini\\\",\\\"total_instance_time\\\":3130.726005667},{\\\"instance_name\\\":\\\"okp1\\\",\\\"params\\\":\\\"barrier_keep_furini\\\",\\\"total_instance_time\\\":\\\"NaN\\\"},{\\\"instance_name\\\":\\\"STS4s\\\",\\\"params\\\":\\\"barrier_keep_furini\\\",\\\"total_instance_time\\\":\\\"NaN\\\"},{\\\"instance_name\\\":\\\"gcut9\\\",\\\"params\\\":\\\"barrier_switch_furini\\\",\\\"total_instance_time\\\":18.096798787},{\\\"instance_name\\\":\\\"gcut9\\\",\\\"params\\\":\\\"barrier_keep_none\\\",\\\"total_instance_time\\\":51.814342033},{\\\"instance_name\\\":\\\"okp4\\\",\\\"params\\\":\\\"barrier_keep_none\\\",\\\"total_instance_time\\\":82.608981685},{\\\"instance_name\\\":\\\"okp5\\\",\\\"params\\\":\\\"simplex_keep_none\\\",\\\"total_instance_time\\\":319.24853378},{\\\"instance_name\\\":\\\"STS4s\\\",\\\"params\\\":\\\"simplex_keep_furini\\\",\\\"total_instance_time\\\":110.622899546},{\\\"instance_name\\\":\\\"STS4s\\\",\\\"params\\\":\\\"barrier_switch_furini\\\",\\\"total_instance_time\\\":101.679829014},{\\\"instance_name\\\":\\\"okp4\\\",\\\"params\\\":\\\"simplex_keep_none\\\",\\\"total_instance_time\\\":152.274576987},{\\\"instance_name\\\":\\\"STS4\\\",\\\"params\\\":\\\"simplex_keep_furini\\\",\\\"total_instance_time\\\":106.761000566},{\\\"instance_name\\\":\\\"gcut9\\\",\\\"params\\\":\\\"simplex_keep_none\\\",\\\"total_instance_time\\\":253.672820233},{\\\"instance_name\\\":\\\"okp1\\\",\\\"params\\\":\\\"simplex_keep_none\\\",\\\"total_instance_time\\\":71.947082035},{\\\"instance_name\\\":\\\"STS4s\\\",\\\"params\\\":\\\"barrier_keep_none\\\",\\\"total_instance_time\\\":49.613297357},{\\\"instance_name\\\":\\\"okp5\\\",\\\"params\\\":\\\"barrier_switch_furini\\\",\\\"total_instance_time\\\":414.410032608},{\\\"instance_name\\\":\\\"okp4\\\",\\\"params\\\":\\\"simplex_keep_furini\\\",\\\"total_instance_time\\\":231.181829671}],\\\"onCellClicked\\\":(function (ev){var x={}; (ev.rowIndex!==undefined) ? (x[\\\"rowIndex\\\"]=(ev.rowIndex+1)) : undefined; (ev.colDef!==undefined) ? (x[\\\"column\\\"]=ev.colDef.headerName) : undefined; return WebIO.setval({\\\"name\\\":\\\"onCellClicked\\\",\\\"scope\\\":\\\"899256065267588505\\\",\\\"id\\\":\\\"ob_06\\\",\\\"type\\\":\\\"observable\\\"},x)})}; var el=document.getElementById(\\\"grid-6a1a78b4\\\"); gridOptions.components={\\\"rowNumberRenderer\\\":RowNumberRenderer}; this.table=new agGrid.Grid(el,gridOptions); gridOptions.columnApi.autoSizeColumn(\\\"__row__\\\"); return gridOptions.columnApi.autoSizeColumns([\\\"instance_name\\\",\\\"params\\\",\\\"total_instance_time\\\"])}));\\n    (WebIO.importBlock({\\\"data\\\":[{\\\"name\\\":null,\\\"type\\\":\\\"js\\\",\\\"url\\\":\\\"/assetserver/0590277e57f9dce38c944f556c3d3f3537505baf-rowNumberRenderer.js\\\"},{\\\"name\\\":null,\\\"type\\\":\\\"js\\\",\\\"url\\\":\\\"/assetserver/4c1301a0647c04ca15698ec91c7948d0d808ae4e-ag-grid.js\\\"},{\\\"name\\\":null,\\\"type\\\":\\\"css\\\",\\\"url\\\":\\\"/assetserver/2fc78d8695c17bdfaf311ef6969766c669cc3259-ag-grid.css\\\"},{\\\"name\\\":null,\\\"type\\\":\\\"css\\\",\\\"url\\\":\\\"/assetserver/5fc5fa256baa60ef6cfb2f781fbe8b1e3528c443-ag-grid-light.css\\\"},{\\\"name\\\":null,\\\"type\\\":\\\"css\\\",\\\"url\\\":\\\"/assetserver/885a5d8cdc6d7b90593d781d742de9279d70e324-ag-grid-dark.css\\\"}],\\\"type\\\":\\\"async_block\\\"})).then((imports) => handler.apply(this, imports));\\n}\\n\")])"
      ]
     },
     "execution_count": 7,
     "metadata": {
      "application/vnd.webio.node+json": {
       "kernelId": "fcb8707d-440e-4836-a44e-015236c59633"
      }
     },
     "output_type": "execute_result"
    }
   ],
   "source": [
    "sel_columns = [:instance_name, :lp_method, :lp_method_switch, :pricing_method, :total_instance_time]\n",
    "tt_df = select(lp_method_df, sel_columns)\n",
    "tt_df.params = join.(zip(ifelse.(tt_df.lp_method .== 1, \"simplex\", \"barrier\"), ifelse.(tt_df.lp_method_switch .== -2, \"keep\", \"switch\"), tt_df.pricing_method), (\"_\",))\n",
    "long_ttt = select(tt_df, :instance_name, :params, :total_instance_time)\n",
    "# Table with the total instance time for each instance (rows) and parameter combination (columns).\n",
    "showtable(long_ttt)"
   ]
  },
  {
   "cell_type": "code",
   "execution_count": 8,
   "metadata": {},
   "outputs": [
    {
     "data": {
      "application/vnd.webio.node+json": {
       "children": [
        {
         "children": [
          {
           "children": [
            ""
           ],
           "instanceArgs": {
            "namespace": "html",
            "tag": "div"
           },
           "nodeType": "DOM",
           "props": {
            "style": {
             "background-color": "#F5F7F7",
             "color": "#1c1f20",
             "font-family": "-apple-system, BlinkMacSystemFont, \"Segoe UI\", Roboto, Oxygen-Sans, Ubuntu, Cantarell, \"Helvetica Neue\", sans-serif",
             "height": "0",
             "padding": "0"
            }
           },
           "type": "node"
          },
          {
           "children": [],
           "instanceArgs": {
            "namespace": "html",
            "tag": "div"
           },
           "nodeType": "DOM",
           "props": {
            "className": "ag-theme-balham",
            "id": "grid-6b5938ee",
            "style": {
             "height": "246px",
             "width": "100%"
            }
           },
           "type": "node"
          }
         ],
         "instanceArgs": {
          "namespace": "html",
          "tag": "div"
         },
         "nodeType": "DOM",
         "props": {},
         "type": "node"
        }
       ],
       "instanceArgs": {
        "handlers": {},
        "id": "7994741893063925808",
        "imports": {
         "data": [
          {
           "name": null,
           "type": "js",
           "url": "/assetserver/0590277e57f9dce38c944f556c3d3f3537505baf-rowNumberRenderer.js"
          },
          {
           "name": null,
           "type": "js",
           "url": "/assetserver/4c1301a0647c04ca15698ec91c7948d0d808ae4e-ag-grid.js"
          },
          {
           "name": null,
           "type": "css",
           "url": "/assetserver/2fc78d8695c17bdfaf311ef6969766c669cc3259-ag-grid.css"
          },
          {
           "name": null,
           "type": "css",
           "url": "/assetserver/5fc5fa256baa60ef6cfb2f781fbe8b1e3528c443-ag-grid-light.css"
          },
          {
           "name": null,
           "type": "css",
           "url": "/assetserver/885a5d8cdc6d7b90593d781d742de9279d70e324-ag-grid-dark.css"
          }
         ],
         "type": "async_block"
        },
        "mount_callbacks": [
         "function () {\n    var handler = ((function (RowNumberRenderer,agGrid){var gridOptions={\"onCellFocused\":(function (ev){var x={}; (ev.rowIndex!==undefined) ? (x[\"rowIndex\"]=(ev.rowIndex+1)) : undefined; (ev.colDef!==undefined) ? (x[\"column\"]=ev.colDef.headerName) : undefined; return WebIO.setval({\"name\":\"onCellFocused\",\"scope\":\"7994741893063925808\",\"id\":\"ob_14\",\"type\":\"observable\"},x)}),\"onCellValueChanged\":(function (){return }),\"onCellDoubleClicked\":(function (ev){var x={}; (ev.rowIndex!==undefined) ? (x[\"rowIndex\"]=(ev.rowIndex+1)) : undefined; (ev.colDef!==undefined) ? (x[\"column\"]=ev.colDef.headerName) : undefined; return WebIO.setval({\"name\":\"onCellDoubleClicked\",\"scope\":\"7994741893063925808\",\"id\":\"ob_12\",\"type\":\"observable\"},x)}),\"multiSortKey\":\"ctrl\",\"columnDefs\":[{\"filter\":false,\"editable\":false,\"headerTooltip\":\"\",\"field\":\"__row__\",\"headerName\":\"Row\",\"sortable\":true,\"type\":\"numericColumn\",\"cellRenderer\":\"rowNumberRenderer\",\"resizable\":true},{\"filter\":true,\"editable\":false,\"headerTooltip\":\"String\",\"field\":\"instance_name\",\"headerName\":\"instance_name\",\"sortable\":true,\"type\":null,\"resizable\":true},{\"filter\":\"agNumberColumnFilter\",\"editable\":false,\"headerTooltip\":\"Union{Missing, Float64}\",\"field\":\"barrier_keep_furini\",\"headerName\":\"barrier_keep_furini\",\"sortable\":true,\"type\":\"numericColumn\",\"resizable\":true},{\"filter\":\"agNumberColumnFilter\",\"editable\":false,\"headerTooltip\":\"Union{Missing, Float64}\",\"field\":\"barrier_keep_none\",\"headerName\":\"barrier_keep_none\",\"sortable\":true,\"type\":\"numericColumn\",\"resizable\":true},{\"filter\":\"agNumberColumnFilter\",\"editable\":false,\"headerTooltip\":\"Union{Missing, Float64}\",\"field\":\"barrier_switch_furini\",\"headerName\":\"barrier_switch_furini\",\"sortable\":true,\"type\":\"numericColumn\",\"resizable\":true},{\"filter\":\"agNumberColumnFilter\",\"editable\":false,\"headerTooltip\":\"Union{Missing, Float64}\",\"field\":\"simplex_keep_furini\",\"headerName\":\"simplex_keep_furini\",\"sortable\":true,\"type\":\"numericColumn\",\"resizable\":true},{\"filter\":\"agNumberColumnFilter\",\"editable\":false,\"headerTooltip\":\"Union{Missing, Float64}\",\"field\":\"simplex_keep_none\",\"headerName\":\"simplex_keep_none\",\"sortable\":true,\"type\":\"numericColumn\",\"resizable\":true}],\"onRowClicked\":(function (ev){var x={}; (ev.rowIndex!==undefined) ? (x[\"rowIndex\"]=(ev.rowIndex+1)) : undefined; (ev.colDef!==undefined) ? (x[\"column\"]=ev.colDef.headerName) : undefined; return WebIO.setval({\"name\":\"onRowClicked\",\"scope\":\"7994741893063925808\",\"id\":\"ob_13\",\"type\":\"observable\"},x)}),\"onCellKeyDown\":(function (ev){var x={}; (ev.rowIndex!==undefined) ? (x[\"rowIndex\"]=(ev.rowIndex+1)) : undefined; (ev.colDef!==undefined) ? (x[\"column\"]=ev.colDef.headerName) : undefined; return WebIO.setval({\"name\":\"onCellKeyDown\",\"scope\":\"7994741893063925808\",\"id\":\"ob_15\",\"type\":\"observable\"},x)}),\"rowData\":[{\"instance_name\":\"CU1\",\"barrier_keep_furini\":3130.726005667,\"barrier_keep_none\":26.205211373,\"barrier_switch_furini\":77.968223289,\"simplex_keep_furini\":83.158991638,\"simplex_keep_none\":41.559736888},{\"instance_name\":\"STS4\",\"barrier_keep_furini\":\"NaN\",\"barrier_keep_none\":59.019811323,\"barrier_switch_furini\":97.243934477,\"simplex_keep_furini\":106.761000566,\"simplex_keep_none\":132.012471442},{\"instance_name\":\"STS4s\",\"barrier_keep_furini\":\"NaN\",\"barrier_keep_none\":49.613297357,\"barrier_switch_furini\":101.679829014,\"simplex_keep_furini\":110.622899546,\"simplex_keep_none\":139.399420118},{\"instance_name\":\"gcut9\",\"barrier_keep_furini\":2958.143454547,\"barrier_keep_none\":51.814342033,\"barrier_switch_furini\":18.096798787,\"simplex_keep_furini\":21.347778379,\"simplex_keep_none\":253.672820233},{\"instance_name\":\"okp1\",\"barrier_keep_furini\":\"NaN\",\"barrier_keep_none\":37.252553932,\"barrier_switch_furini\":53.754857833,\"simplex_keep_furini\":54.803795417,\"simplex_keep_none\":71.947082035},{\"instance_name\":\"okp4\",\"barrier_keep_furini\":\"NaN\",\"barrier_keep_none\":82.608981685,\"barrier_switch_furini\":219.452517589,\"simplex_keep_furini\":231.181829671,\"simplex_keep_none\":152.274576987},{\"instance_name\":\"okp5\",\"barrier_keep_furini\":\"NaN\",\"barrier_keep_none\":81.866979826,\"barrier_switch_furini\":414.410032608,\"simplex_keep_furini\":439.695742099,\"simplex_keep_none\":319.24853378}],\"onCellClicked\":(function (ev){var x={}; (ev.rowIndex!==undefined) ? (x[\"rowIndex\"]=(ev.rowIndex+1)) : undefined; (ev.colDef!==undefined) ? (x[\"column\"]=ev.colDef.headerName) : undefined; return WebIO.setval({\"name\":\"onCellClicked\",\"scope\":\"7994741893063925808\",\"id\":\"ob_11\",\"type\":\"observable\"},x)})}; var el=document.getElementById(\"grid-6b5938ee\"); gridOptions.components={\"rowNumberRenderer\":RowNumberRenderer}; this.table=new agGrid.Grid(el,gridOptions); gridOptions.columnApi.autoSizeColumn(\"__row__\"); return gridOptions.columnApi.autoSizeColumns([\"instance_name\",\"barrier_keep_furini\",\"barrier_keep_none\",\"barrier_switch_furini\",\"simplex_keep_furini\",\"simplex_keep_none\"])}));\n    (WebIO.importBlock({\"data\":[{\"name\":null,\"type\":\"js\",\"url\":\"/assetserver/0590277e57f9dce38c944f556c3d3f3537505baf-rowNumberRenderer.js\"},{\"name\":null,\"type\":\"js\",\"url\":\"/assetserver/4c1301a0647c04ca15698ec91c7948d0d808ae4e-ag-grid.js\"},{\"name\":null,\"type\":\"css\",\"url\":\"/assetserver/2fc78d8695c17bdfaf311ef6969766c669cc3259-ag-grid.css\"},{\"name\":null,\"type\":\"css\",\"url\":\"/assetserver/5fc5fa256baa60ef6cfb2f781fbe8b1e3528c443-ag-grid-light.css\"},{\"name\":null,\"type\":\"css\",\"url\":\"/assetserver/885a5d8cdc6d7b90593d781d742de9279d70e324-ag-grid-dark.css\"}],\"type\":\"async_block\"})).then((imports) => handler.apply(this, imports));\n}\n"
        ],
        "observables": {
         "onCellClicked": {
          "id": "ob_11",
          "sync": false,
          "value": null
         },
         "onCellDoubleClicked": {
          "id": "ob_12",
          "sync": false,
          "value": null
         },
         "onCellFocused": {
          "id": "ob_14",
          "sync": false,
          "value": null
         },
         "onCellKeyDown": {
          "id": "ob_15",
          "sync": false,
          "value": null
         },
         "onRowClicked": {
          "id": "ob_13",
          "sync": false,
          "value": null
         }
        },
        "systemjs_options": null
       },
       "nodeType": "Scope",
       "props": {},
       "type": "node"
      },
      "text/html": [
       "<div\n",
       "    class=\"webio-mountpoint\"\n",
       "    data-webio-mountpoint=\"8436827613192657550\"\n",
       ">\n",
       "    <script>\n",
       "    if (window.require && require.defined && require.defined(\"nbextensions/webio-jupyter-notebook\")) {\n",
       "        console.log(\"Jupyter WebIO extension detected, not mounting.\");\n",
       "    } else if (window.WebIO) {\n",
       "        WebIO.mount(\n",
       "            document.querySelector('[data-webio-mountpoint=\"8436827613192657550\"]'),\n",
       "            {\"props\":{},\"nodeType\":\"Scope\",\"type\":\"node\",\"instanceArgs\":{\"imports\":{\"data\":[{\"name\":null,\"type\":\"js\",\"url\":\"\\/assetserver\\/0590277e57f9dce38c944f556c3d3f3537505baf-rowNumberRenderer.js\"},{\"name\":null,\"type\":\"js\",\"url\":\"\\/assetserver\\/4c1301a0647c04ca15698ec91c7948d0d808ae4e-ag-grid.js\"},{\"name\":null,\"type\":\"css\",\"url\":\"\\/assetserver\\/2fc78d8695c17bdfaf311ef6969766c669cc3259-ag-grid.css\"},{\"name\":null,\"type\":\"css\",\"url\":\"\\/assetserver\\/5fc5fa256baa60ef6cfb2f781fbe8b1e3528c443-ag-grid-light.css\"},{\"name\":null,\"type\":\"css\",\"url\":\"\\/assetserver\\/885a5d8cdc6d7b90593d781d742de9279d70e324-ag-grid-dark.css\"}],\"type\":\"async_block\"},\"id\":\"7994741893063925808\",\"handlers\":{},\"systemjs_options\":null,\"mount_callbacks\":[\"function () {\\n    var handler = ((function (RowNumberRenderer,agGrid){var gridOptions={\\\"onCellFocused\\\":(function (ev){var x={}; (ev.rowIndex!==undefined) ? (x[\\\"rowIndex\\\"]=(ev.rowIndex+1)) : undefined; (ev.colDef!==undefined) ? (x[\\\"column\\\"]=ev.colDef.headerName) : undefined; return WebIO.setval({\\\"name\\\":\\\"onCellFocused\\\",\\\"scope\\\":\\\"7994741893063925808\\\",\\\"id\\\":\\\"ob_14\\\",\\\"type\\\":\\\"observable\\\"},x)}),\\\"onCellValueChanged\\\":(function (){return }),\\\"onCellDoubleClicked\\\":(function (ev){var x={}; (ev.rowIndex!==undefined) ? (x[\\\"rowIndex\\\"]=(ev.rowIndex+1)) : undefined; (ev.colDef!==undefined) ? (x[\\\"column\\\"]=ev.colDef.headerName) : undefined; return WebIO.setval({\\\"name\\\":\\\"onCellDoubleClicked\\\",\\\"scope\\\":\\\"7994741893063925808\\\",\\\"id\\\":\\\"ob_12\\\",\\\"type\\\":\\\"observable\\\"},x)}),\\\"multiSortKey\\\":\\\"ctrl\\\",\\\"columnDefs\\\":[{\\\"filter\\\":false,\\\"editable\\\":false,\\\"headerTooltip\\\":\\\"\\\",\\\"field\\\":\\\"__row__\\\",\\\"headerName\\\":\\\"Row\\\",\\\"sortable\\\":true,\\\"type\\\":\\\"numericColumn\\\",\\\"cellRenderer\\\":\\\"rowNumberRenderer\\\",\\\"resizable\\\":true},{\\\"filter\\\":true,\\\"editable\\\":false,\\\"headerTooltip\\\":\\\"String\\\",\\\"field\\\":\\\"instance_name\\\",\\\"headerName\\\":\\\"instance_name\\\",\\\"sortable\\\":true,\\\"type\\\":null,\\\"resizable\\\":true},{\\\"filter\\\":\\\"agNumberColumnFilter\\\",\\\"editable\\\":false,\\\"headerTooltip\\\":\\\"Union{Missing, Float64}\\\",\\\"field\\\":\\\"barrier_keep_furini\\\",\\\"headerName\\\":\\\"barrier_keep_furini\\\",\\\"sortable\\\":true,\\\"type\\\":\\\"numericColumn\\\",\\\"resizable\\\":true},{\\\"filter\\\":\\\"agNumberColumnFilter\\\",\\\"editable\\\":false,\\\"headerTooltip\\\":\\\"Union{Missing, Float64}\\\",\\\"field\\\":\\\"barrier_keep_none\\\",\\\"headerName\\\":\\\"barrier_keep_none\\\",\\\"sortable\\\":true,\\\"type\\\":\\\"numericColumn\\\",\\\"resizable\\\":true},{\\\"filter\\\":\\\"agNumberColumnFilter\\\",\\\"editable\\\":false,\\\"headerTooltip\\\":\\\"Union{Missing, Float64}\\\",\\\"field\\\":\\\"barrier_switch_furini\\\",\\\"headerName\\\":\\\"barrier_switch_furini\\\",\\\"sortable\\\":true,\\\"type\\\":\\\"numericColumn\\\",\\\"resizable\\\":true},{\\\"filter\\\":\\\"agNumberColumnFilter\\\",\\\"editable\\\":false,\\\"headerTooltip\\\":\\\"Union{Missing, Float64}\\\",\\\"field\\\":\\\"simplex_keep_furini\\\",\\\"headerName\\\":\\\"simplex_keep_furini\\\",\\\"sortable\\\":true,\\\"type\\\":\\\"numericColumn\\\",\\\"resizable\\\":true},{\\\"filter\\\":\\\"agNumberColumnFilter\\\",\\\"editable\\\":false,\\\"headerTooltip\\\":\\\"Union{Missing, Float64}\\\",\\\"field\\\":\\\"simplex_keep_none\\\",\\\"headerName\\\":\\\"simplex_keep_none\\\",\\\"sortable\\\":true,\\\"type\\\":\\\"numericColumn\\\",\\\"resizable\\\":true}],\\\"onRowClicked\\\":(function (ev){var x={}; (ev.rowIndex!==undefined) ? (x[\\\"rowIndex\\\"]=(ev.rowIndex+1)) : undefined; (ev.colDef!==undefined) ? (x[\\\"column\\\"]=ev.colDef.headerName) : undefined; return WebIO.setval({\\\"name\\\":\\\"onRowClicked\\\",\\\"scope\\\":\\\"7994741893063925808\\\",\\\"id\\\":\\\"ob_13\\\",\\\"type\\\":\\\"observable\\\"},x)}),\\\"onCellKeyDown\\\":(function (ev){var x={}; (ev.rowIndex!==undefined) ? (x[\\\"rowIndex\\\"]=(ev.rowIndex+1)) : undefined; (ev.colDef!==undefined) ? (x[\\\"column\\\"]=ev.colDef.headerName) : undefined; return WebIO.setval({\\\"name\\\":\\\"onCellKeyDown\\\",\\\"scope\\\":\\\"7994741893063925808\\\",\\\"id\\\":\\\"ob_15\\\",\\\"type\\\":\\\"observable\\\"},x)}),\\\"rowData\\\":[{\\\"instance_name\\\":\\\"CU1\\\",\\\"barrier_keep_furini\\\":3130.726005667,\\\"barrier_keep_none\\\":26.205211373,\\\"barrier_switch_furini\\\":77.968223289,\\\"simplex_keep_furini\\\":83.158991638,\\\"simplex_keep_none\\\":41.559736888},{\\\"instance_name\\\":\\\"STS4\\\",\\\"barrier_keep_furini\\\":\\\"NaN\\\",\\\"barrier_keep_none\\\":59.019811323,\\\"barrier_switch_furini\\\":97.243934477,\\\"simplex_keep_furini\\\":106.761000566,\\\"simplex_keep_none\\\":132.012471442},{\\\"instance_name\\\":\\\"STS4s\\\",\\\"barrier_keep_furini\\\":\\\"NaN\\\",\\\"barrier_keep_none\\\":49.613297357,\\\"barrier_switch_furini\\\":101.679829014,\\\"simplex_keep_furini\\\":110.622899546,\\\"simplex_keep_none\\\":139.399420118},{\\\"instance_name\\\":\\\"gcut9\\\",\\\"barrier_keep_furini\\\":2958.143454547,\\\"barrier_keep_none\\\":51.814342033,\\\"barrier_switch_furini\\\":18.096798787,\\\"simplex_keep_furini\\\":21.347778379,\\\"simplex_keep_none\\\":253.672820233},{\\\"instance_name\\\":\\\"okp1\\\",\\\"barrier_keep_furini\\\":\\\"NaN\\\",\\\"barrier_keep_none\\\":37.252553932,\\\"barrier_switch_furini\\\":53.754857833,\\\"simplex_keep_furini\\\":54.803795417,\\\"simplex_keep_none\\\":71.947082035},{\\\"instance_name\\\":\\\"okp4\\\",\\\"barrier_keep_furini\\\":\\\"NaN\\\",\\\"barrier_keep_none\\\":82.608981685,\\\"barrier_switch_furini\\\":219.452517589,\\\"simplex_keep_furini\\\":231.181829671,\\\"simplex_keep_none\\\":152.274576987},{\\\"instance_name\\\":\\\"okp5\\\",\\\"barrier_keep_furini\\\":\\\"NaN\\\",\\\"barrier_keep_none\\\":81.866979826,\\\"barrier_switch_furini\\\":414.410032608,\\\"simplex_keep_furini\\\":439.695742099,\\\"simplex_keep_none\\\":319.24853378}],\\\"onCellClicked\\\":(function (ev){var x={}; (ev.rowIndex!==undefined) ? (x[\\\"rowIndex\\\"]=(ev.rowIndex+1)) : undefined; (ev.colDef!==undefined) ? (x[\\\"column\\\"]=ev.colDef.headerName) : undefined; return WebIO.setval({\\\"name\\\":\\\"onCellClicked\\\",\\\"scope\\\":\\\"7994741893063925808\\\",\\\"id\\\":\\\"ob_11\\\",\\\"type\\\":\\\"observable\\\"},x)})}; var el=document.getElementById(\\\"grid-6b5938ee\\\"); gridOptions.components={\\\"rowNumberRenderer\\\":RowNumberRenderer}; this.table=new agGrid.Grid(el,gridOptions); gridOptions.columnApi.autoSizeColumn(\\\"__row__\\\"); return gridOptions.columnApi.autoSizeColumns([\\\"instance_name\\\",\\\"barrier_keep_furini\\\",\\\"barrier_keep_none\\\",\\\"barrier_switch_furini\\\",\\\"simplex_keep_furini\\\",\\\"simplex_keep_none\\\"])}));\\n    (WebIO.importBlock({\\\"data\\\":[{\\\"name\\\":null,\\\"type\\\":\\\"js\\\",\\\"url\\\":\\\"\\/assetserver\\/0590277e57f9dce38c944f556c3d3f3537505baf-rowNumberRenderer.js\\\"},{\\\"name\\\":null,\\\"type\\\":\\\"js\\\",\\\"url\\\":\\\"\\/assetserver\\/4c1301a0647c04ca15698ec91c7948d0d808ae4e-ag-grid.js\\\"},{\\\"name\\\":null,\\\"type\\\":\\\"css\\\",\\\"url\\\":\\\"\\/assetserver\\/2fc78d8695c17bdfaf311ef6969766c669cc3259-ag-grid.css\\\"},{\\\"name\\\":null,\\\"type\\\":\\\"css\\\",\\\"url\\\":\\\"\\/assetserver\\/5fc5fa256baa60ef6cfb2f781fbe8b1e3528c443-ag-grid-light.css\\\"},{\\\"name\\\":null,\\\"type\\\":\\\"css\\\",\\\"url\\\":\\\"\\/assetserver\\/885a5d8cdc6d7b90593d781d742de9279d70e324-ag-grid-dark.css\\\"}],\\\"type\\\":\\\"async_block\\\"})).then((imports) => handler.apply(this, imports));\\n}\\n\"],\"observables\":{\"onCellKeyDown\":{\"sync\":false,\"id\":\"ob_15\",\"value\":null},\"onRowClicked\":{\"sync\":false,\"id\":\"ob_13\",\"value\":null},\"onCellDoubleClicked\":{\"sync\":false,\"id\":\"ob_12\",\"value\":null},\"onCellClicked\":{\"sync\":false,\"id\":\"ob_11\",\"value\":null},\"onCellFocused\":{\"sync\":false,\"id\":\"ob_14\",\"value\":null}}},\"children\":[{\"props\":{},\"nodeType\":\"DOM\",\"type\":\"node\",\"instanceArgs\":{\"namespace\":\"html\",\"tag\":\"div\"},\"children\":[{\"props\":{\"style\":{\"height\":\"0\",\"padding\":\"0\",\"background-color\":\"#F5F7F7\",\"color\":\"#1c1f20\",\"font-family\":\"-apple-system, BlinkMacSystemFont, \\\"Segoe UI\\\", Roboto, Oxygen-Sans, Ubuntu, Cantarell, \\\"Helvetica Neue\\\", sans-serif\"}},\"nodeType\":\"DOM\",\"type\":\"node\",\"instanceArgs\":{\"namespace\":\"html\",\"tag\":\"div\"},\"children\":[\"\"]},{\"props\":{\"id\":\"grid-6b5938ee\",\"className\":\"ag-theme-balham\",\"style\":{\"height\":\"246px\",\"width\":\"100%\"}},\"nodeType\":\"DOM\",\"type\":\"node\",\"instanceArgs\":{\"namespace\":\"html\",\"tag\":\"div\"},\"children\":[]}]}]},\n",
       "            window,\n",
       "        );\n",
       "    } else {\n",
       "        document\n",
       "            .querySelector('[data-webio-mountpoint=\"8436827613192657550\"]')\n",
       "            .innerHTML = (\n",
       "                '<div style=\"padding: 1em; background-color: #f8d6da; border: 1px solid #f5c6cb\">' +\n",
       "                '<p><strong>WebIO not detected.</strong></p>' +\n",
       "                '<p>Please read ' +\n",
       "                '<a href=\"https://juliagizmos.github.io/WebIO.jl/latest/troubleshooting/not-detected/\" target=\"_blank\">the troubleshooting guide</a> ' +\n",
       "                'for more information on how to resolve this issue.</p>' +\n",
       "                '<p><a href=\"https://juliagizmos.github.io/WebIO.jl/latest/troubleshooting/not-detected/\" target=\"_blank\">https://juliagizmos.github.io/WebIO.jl/latest/troubleshooting/not-detected/</a></p>' +\n",
       "                '</div>'\n",
       "            );\n",
       "    }\n",
       "    </script>\n",
       "</div>\n"
      ],
      "text/plain": [
       "Scope(Node{WebIO.DOM}(WebIO.DOM(:html, :div), Any[Node{WebIO.DOM}(WebIO.DOM(:html, :div), Any[\"\"], Dict{Symbol,Any}(:style => Dict(\"height\" => \"0\",\"padding\" => \"0\",\"background-color\" => \"#F5F7F7\",\"color\" => \"#1c1f20\",\"font-family\" => \"-apple-system, BlinkMacSystemFont, \\\"Segoe UI\\\", Roboto, Oxygen-Sans, Ubuntu, Cantarell, \\\"Helvetica Neue\\\", sans-serif\"))), Node{WebIO.DOM}(WebIO.DOM(:html, :div), Any[], Dict{Symbol,Any}(:id => \"grid-6b5938ee\",:className => \"ag-theme-balham\",:style => Dict(\"height\" => \"246px\",\"width\" => \"100%\")))], Dict{Symbol,Any}()), Dict{String,Tuple{Observables.AbstractObservable,Union{Nothing, Bool}}}(\"onCellKeyDown\" => (Observable{Any} with 0 listeners. Value:\n",
       "nothing, nothing),\"onRowClicked\" => (Observable{Any} with 0 listeners. Value:\n",
       "nothing, nothing),\"onCellDoubleClicked\" => (Observable{Any} with 0 listeners. Value:\n",
       "nothing, nothing),\"onCellClicked\" => (Observable{Any} with 0 listeners. Value:\n",
       "nothing, nothing),\"onCellFocused\" => (Observable{Any} with 0 listeners. Value:\n",
       "nothing, nothing)), Set(String[]), nothing, Asset[Asset(\"js\", nothing, \"/home/henrique/.julia/packages/TableView/CxWLO/src/rowNumberRenderer.js\"), Asset(\"js\", nothing, \"/home/henrique/.julia/packages/TableView/CxWLO/deps/ag-grid-22.1.0/ag-grid.js\"), Asset(\"css\", nothing, \"/home/henrique/.julia/packages/TableView/CxWLO/deps/ag-grid-22.1.0/ag-grid.css\"), Asset(\"css\", nothing, \"/home/henrique/.julia/packages/TableView/CxWLO/deps/ag-grid-22.1.0/ag-grid-light.css\"), Asset(\"css\", nothing, \"/home/henrique/.julia/packages/TableView/CxWLO/deps/ag-grid-22.1.0/ag-grid-dark.css\")], Dict{Any,Any}(), WebIO.ConnectionPool(Channel{Any}(sz_max:32,sz_curr:0), Set(AbstractConnection[]), Base.GenericCondition{Base.AlwaysLockedST}(Base.InvasiveLinkedList{Task}(Task (runnable) @0x00007f783b30c9d0, Task (runnable) @0x00007f783b30c9d0), Base.AlwaysLockedST(1))), WebIO.JSString[WebIO.JSString(\"function () {\\n    var handler = ((function (RowNumberRenderer,agGrid){var gridOptions={\\\"onCellFocused\\\":(function (ev){var x={}; (ev.rowIndex!==undefined) ? (x[\\\"rowIndex\\\"]=(ev.rowIndex+1)) : undefined; (ev.colDef!==undefined) ? (x[\\\"column\\\"]=ev.colDef.headerName) : undefined; return WebIO.setval({\\\"name\\\":\\\"onCellFocused\\\",\\\"scope\\\":\\\"7994741893063925808\\\",\\\"id\\\":\\\"ob_14\\\",\\\"type\\\":\\\"observable\\\"},x)}),\\\"onCellValueChanged\\\":(function (){return }),\\\"onCellDoubleClicked\\\":(function (ev){var x={}; (ev.rowIndex!==undefined) ? (x[\\\"rowIndex\\\"]=(ev.rowIndex+1)) : undefined; (ev.colDef!==undefined) ? (x[\\\"column\\\"]=ev.colDef.headerName) : undefined; return WebIO.setval({\\\"name\\\":\\\"onCellDoubleClicked\\\",\\\"scope\\\":\\\"7994741893063925808\\\",\\\"id\\\":\\\"ob_12\\\",\\\"type\\\":\\\"observable\\\"},x)}),\\\"multiSortKey\\\":\\\"ctrl\\\",\\\"columnDefs\\\":[{\\\"filter\\\":false,\\\"editable\\\":false,\\\"headerTooltip\\\":\\\"\\\",\\\"field\\\":\\\"__row__\\\",\\\"headerName\\\":\\\"Row\\\",\\\"sortable\\\":true,\\\"type\\\":\\\"numericColumn\\\",\\\"cellRenderer\\\":\\\"rowNumberRenderer\\\",\\\"resizable\\\":true},{\\\"filter\\\":true,\\\"editable\\\":false,\\\"headerTooltip\\\":\\\"String\\\",\\\"field\\\":\\\"instance_name\\\",\\\"headerName\\\":\\\"instance_name\\\",\\\"sortable\\\":true,\\\"type\\\":null,\\\"resizable\\\":true},{\\\"filter\\\":\\\"agNumberColumnFilter\\\",\\\"editable\\\":false,\\\"headerTooltip\\\":\\\"Union{Missing, Float64}\\\",\\\"field\\\":\\\"barrier_keep_furini\\\",\\\"headerName\\\":\\\"barrier_keep_furini\\\",\\\"sortable\\\":true,\\\"type\\\":\\\"numericColumn\\\",\\\"resizable\\\":true},{\\\"filter\\\":\\\"agNumberColumnFilter\\\",\\\"editable\\\":false,\\\"headerTooltip\\\":\\\"Union{Missing, Float64}\\\",\\\"field\\\":\\\"barrier_keep_none\\\",\\\"headerName\\\":\\\"barrier_keep_none\\\",\\\"sortable\\\":true,\\\"type\\\":\\\"numericColumn\\\",\\\"resizable\\\":true},{\\\"filter\\\":\\\"agNumberColumnFilter\\\",\\\"editable\\\":false,\\\"headerTooltip\\\":\\\"Union{Missing, Float64}\\\",\\\"field\\\":\\\"barrier_switch_furini\\\",\\\"headerName\\\":\\\"barrier_switch_furini\\\",\\\"sortable\\\":true,\\\"type\\\":\\\"numericColumn\\\",\\\"resizable\\\":true},{\\\"filter\\\":\\\"agNumberColumnFilter\\\",\\\"editable\\\":false,\\\"headerTooltip\\\":\\\"Union{Missing, Float64}\\\",\\\"field\\\":\\\"simplex_keep_furini\\\",\\\"headerName\\\":\\\"simplex_keep_furini\\\",\\\"sortable\\\":true,\\\"type\\\":\\\"numericColumn\\\",\\\"resizable\\\":true},{\\\"filter\\\":\\\"agNumberColumnFilter\\\",\\\"editable\\\":false,\\\"headerTooltip\\\":\\\"Union{Missing, Float64}\\\",\\\"field\\\":\\\"simplex_keep_none\\\",\\\"headerName\\\":\\\"simplex_keep_none\\\",\\\"sortable\\\":true,\\\"type\\\":\\\"numericColumn\\\",\\\"resizable\\\":true}],\\\"onRowClicked\\\":(function (ev){var x={}; (ev.rowIndex!==undefined) ? (x[\\\"rowIndex\\\"]=(ev.rowIndex+1)) : undefined; (ev.colDef!==undefined) ? (x[\\\"column\\\"]=ev.colDef.headerName) : undefined; return WebIO.setval({\\\"name\\\":\\\"onRowClicked\\\",\\\"scope\\\":\\\"7994741893063925808\\\",\\\"id\\\":\\\"ob_13\\\",\\\"type\\\":\\\"observable\\\"},x)}),\\\"onCellKeyDown\\\":(function (ev){var x={}; (ev.rowIndex!==undefined) ? (x[\\\"rowIndex\\\"]=(ev.rowIndex+1)) : undefined; (ev.colDef!==undefined) ? (x[\\\"column\\\"]=ev.colDef.headerName) : undefined; return WebIO.setval({\\\"name\\\":\\\"onCellKeyDown\\\",\\\"scope\\\":\\\"7994741893063925808\\\",\\\"id\\\":\\\"ob_15\\\",\\\"type\\\":\\\"observable\\\"},x)}),\\\"rowData\\\":[{\\\"instance_name\\\":\\\"CU1\\\",\\\"barrier_keep_furini\\\":3130.726005667,\\\"barrier_keep_none\\\":26.205211373,\\\"barrier_switch_furini\\\":77.968223289,\\\"simplex_keep_furini\\\":83.158991638,\\\"simplex_keep_none\\\":41.559736888},{\\\"instance_name\\\":\\\"STS4\\\",\\\"barrier_keep_furini\\\":\\\"NaN\\\",\\\"barrier_keep_none\\\":59.019811323,\\\"barrier_switch_furini\\\":97.243934477,\\\"simplex_keep_furini\\\":106.761000566,\\\"simplex_keep_none\\\":132.012471442},{\\\"instance_name\\\":\\\"STS4s\\\",\\\"barrier_keep_furini\\\":\\\"NaN\\\",\\\"barrier_keep_none\\\":49.613297357,\\\"barrier_switch_furini\\\":101.679829014,\\\"simplex_keep_furini\\\":110.622899546,\\\"simplex_keep_none\\\":139.399420118},{\\\"instance_name\\\":\\\"gcut9\\\",\\\"barrier_keep_furini\\\":2958.143454547,\\\"barrier_keep_none\\\":51.814342033,\\\"barrier_switch_furini\\\":18.096798787,\\\"simplex_keep_furini\\\":21.347778379,\\\"simplex_keep_none\\\":253.672820233},{\\\"instance_name\\\":\\\"okp1\\\",\\\"barrier_keep_furini\\\":\\\"NaN\\\",\\\"barrier_keep_none\\\":37.252553932,\\\"barrier_switch_furini\\\":53.754857833,\\\"simplex_keep_furini\\\":54.803795417,\\\"simplex_keep_none\\\":71.947082035},{\\\"instance_name\\\":\\\"okp4\\\",\\\"barrier_keep_furini\\\":\\\"NaN\\\",\\\"barrier_keep_none\\\":82.608981685,\\\"barrier_switch_furini\\\":219.452517589,\\\"simplex_keep_furini\\\":231.181829671,\\\"simplex_keep_none\\\":152.274576987},{\\\"instance_name\\\":\\\"okp5\\\",\\\"barrier_keep_furini\\\":\\\"NaN\\\",\\\"barrier_keep_none\\\":81.866979826,\\\"barrier_switch_furini\\\":414.410032608,\\\"simplex_keep_furini\\\":439.695742099,\\\"simplex_keep_none\\\":319.24853378}],\\\"onCellClicked\\\":(function (ev){var x={}; (ev.rowIndex!==undefined) ? (x[\\\"rowIndex\\\"]=(ev.rowIndex+1)) : undefined; (ev.colDef!==undefined) ? (x[\\\"column\\\"]=ev.colDef.headerName) : undefined; return WebIO.setval({\\\"name\\\":\\\"onCellClicked\\\",\\\"scope\\\":\\\"7994741893063925808\\\",\\\"id\\\":\\\"ob_11\\\",\\\"type\\\":\\\"observable\\\"},x)})}; var el=document.getElementById(\\\"grid-6b5938ee\\\"); gridOptions.components={\\\"rowNumberRenderer\\\":RowNumberRenderer}; this.table=new agGrid.Grid(el,gridOptions); gridOptions.columnApi.autoSizeColumn(\\\"__row__\\\"); return gridOptions.columnApi.autoSizeColumns([\\\"instance_name\\\",\\\"barrier_keep_furini\\\",\\\"barrier_keep_none\\\",\\\"barrier_switch_furini\\\",\\\"simplex_keep_furini\\\",\\\"simplex_keep_none\\\"])}));\\n    (WebIO.importBlock({\\\"data\\\":[{\\\"name\\\":null,\\\"type\\\":\\\"js\\\",\\\"url\\\":\\\"/assetserver/0590277e57f9dce38c944f556c3d3f3537505baf-rowNumberRenderer.js\\\"},{\\\"name\\\":null,\\\"type\\\":\\\"js\\\",\\\"url\\\":\\\"/assetserver/4c1301a0647c04ca15698ec91c7948d0d808ae4e-ag-grid.js\\\"},{\\\"name\\\":null,\\\"type\\\":\\\"css\\\",\\\"url\\\":\\\"/assetserver/2fc78d8695c17bdfaf311ef6969766c669cc3259-ag-grid.css\\\"},{\\\"name\\\":null,\\\"type\\\":\\\"css\\\",\\\"url\\\":\\\"/assetserver/5fc5fa256baa60ef6cfb2f781fbe8b1e3528c443-ag-grid-light.css\\\"},{\\\"name\\\":null,\\\"type\\\":\\\"css\\\",\\\"url\\\":\\\"/assetserver/885a5d8cdc6d7b90593d781d742de9279d70e324-ag-grid-dark.css\\\"}],\\\"type\\\":\\\"async_block\\\"})).then((imports) => handler.apply(this, imports));\\n}\\n\")])"
      ]
     },
     "execution_count": 8,
     "metadata": {
      "application/vnd.webio.node+json": {
       "kernelId": "fcb8707d-440e-4836-a44e-015236c59633"
      }
     },
     "output_type": "execute_result"
    }
   ],
   "source": [
    "# Note this counts the theoretically unnecessary root node solving of the priced models.\n",
    "wide_ttt = unstack(tt_df, :instance_name, :params, :total_instance_time)\n",
    "showtable(wide_ttt)"
   ]
  }
 ],
 "metadata": {
  "@webio": {
   "lastCommId": "c3ca2c4ea49b4d82880fc0facba07995",
   "lastKernelId": "fcb8707d-440e-4836-a44e-015236c59633"
  },
  "kernelspec": {
   "display_name": "Julia 1.4.1",
   "language": "julia",
   "name": "julia-1.4"
  },
  "language_info": {
   "file_extension": ".jl",
   "mimetype": "application/julia",
   "name": "julia",
   "version": "1.4.1"
  },
  "widgets": {
   "application/vnd.jupyter.widget-state+json": {
    "state": {},
    "version_major": 2,
    "version_minor": 0
   }
  }
 },
 "nbformat": 4,
 "nbformat_minor": 2
}
